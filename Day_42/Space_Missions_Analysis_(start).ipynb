{
  "cells": [
    {
      "cell_type": "markdown",
      "metadata": {
        "id": "ka_FkvXBiABo"
      },
      "source": [
        "# Introduction"
      ]
    },
    {
      "cell_type": "markdown",
      "metadata": {
        "id": "AWaMmfxXa-p0",
        "papermill": {
          "duration": 0.035434,
          "end_time": "2020-10-20T21:34:01.886225",
          "exception": false,
          "start_time": "2020-10-20T21:34:01.850791",
          "status": "completed"
        },
        "tags": []
      },
      "source": [
        "<center><img src=\"https://i.imgur.com/9hLRsjZ.jpg\" height=400></center>\n",
        "\n",
        "This dataset was scraped from [nextspaceflight.com](https://nextspaceflight.com/launches/past/?page=1) and includes all the space missions since the beginning of Space Race between the USA and the Soviet Union in 1957!"
      ]
    },
    {
      "cell_type": "markdown",
      "metadata": {
        "id": "ufzKRKS3bV0r"
      },
      "source": [
        "### Install Package with Country Codes"
      ]
    },
    {
      "cell_type": "code",
      "execution_count": 1,
      "metadata": {
        "colab": {
          "base_uri": "https://localhost:8080/"
        },
        "id": "0HxV9o6dbRUE",
        "outputId": "35464d43-d601-4b8f-81fd-6dbd400167f5"
      },
      "outputs": [
        {
          "name": "stdout",
          "output_type": "stream",
          "text": [
            "Collecting iso3166\n",
            "  Downloading iso3166-2.0.2-py3-none-any.whl (8.5 kB)\n",
            "Installing collected packages: iso3166\n",
            "Successfully installed iso3166-2.0.2\n",
            "\u001b[33mWARNING: You are using pip version 20.2.3; however, version 22.0.4 is available.\n",
            "You should consider upgrading via the '/usr/local/bin/python3 -m pip install --upgrade pip' command.\u001b[0m\n",
            "Note: you may need to restart the kernel to use updated packages.\n"
          ]
        }
      ],
      "source": [
        "%pip install iso3166"
      ]
    },
    {
      "cell_type": "markdown",
      "metadata": {
        "id": "sghkhFoLbof8"
      },
      "source": [
        "### Upgrade Plotly\n",
        "\n",
        "Run the cell below if you are working with Google Colab."
      ]
    },
    {
      "cell_type": "markdown",
      "metadata": {
        "id": "ErFDBihUi1jN"
      },
      "source": [
        "### Import Statements"
      ]
    },
    {
      "cell_type": "code",
      "execution_count": 1,
      "metadata": {
        "_cell_guid": "b1076dfc-b9ad-4769-8c92-a6c4dae69d19",
        "_kg_hide-input": true,
        "_kg_hide-output": true,
        "_uuid": "8f2839f25d086af736a60e9eeb907d3b93b6e0e5",
        "colab": {
          "base_uri": "https://localhost:8080/"
        },
        "execution": {
          "iopub.execute_input": "2020-10-20T21:34:02.101551Z",
          "iopub.status.busy": "2020-10-20T21:34:02.101085Z",
          "iopub.status.idle": "2020-10-20T21:34:03.726868Z",
          "shell.execute_reply": "2020-10-20T21:34:03.725783Z"
        },
        "id": "xdolY0-Sa-p1",
        "outputId": "7142dedb-82e9-457d-db44-cea4e121bdfe",
        "papermill": {
          "duration": 1.665326,
          "end_time": "2020-10-20T21:34:03.726995",
          "exception": false,
          "start_time": "2020-10-20T21:34:02.061669",
          "status": "completed"
        },
        "tags": []
      },
      "outputs": [],
      "source": [
        "import numpy as np\n",
        "import pandas as pd\n",
        "import plotly.express as px\n",
        "import matplotlib.pyplot as plt\n",
        "import seaborn as sns\n",
        "\n",
        "# These might be helpful:\n",
        "from iso3166 import countries\n",
        "from datetime import datetime, timedelta"
      ]
    },
    {
      "cell_type": "markdown",
      "metadata": {
        "id": "lovGPRgKxIgo"
      },
      "source": [
        "### Notebook Presentation"
      ]
    },
    {
      "cell_type": "code",
      "execution_count": 2,
      "metadata": {
        "id": "DHEULCOjxIIm"
      },
      "outputs": [],
      "source": [
        "pd.options.display.float_format = '{:,.2f}'.format"
      ]
    },
    {
      "cell_type": "markdown",
      "metadata": {
        "id": "yaT3QbjEa-p4",
        "papermill": {
          "duration": 0.034606,
          "end_time": "2020-10-20T21:34:03.798396",
          "exception": false,
          "start_time": "2020-10-20T21:34:03.763790",
          "status": "completed"
        },
        "tags": []
      },
      "source": [
        "### Load the Data"
      ]
    },
    {
      "cell_type": "code",
      "execution_count": 3,
      "metadata": {
        "_cell_guid": "79c7e3d0-c299-4dcb-8224-4455121ee9b0",
        "_kg_hide-input": true,
        "_uuid": "d629ff2d2480ee46fbb7e2d37f6b5fab8052498a",
        "execution": {
          "iopub.execute_input": "2020-10-20T21:34:03.874195Z",
          "iopub.status.busy": "2020-10-20T21:34:03.873775Z",
          "iopub.status.idle": "2020-10-20T21:34:03.921919Z",
          "shell.execute_reply": "2020-10-20T21:34:03.921418Z"
        },
        "id": "0lDOu8aka-p4",
        "papermill": {
          "duration": 0.08876,
          "end_time": "2020-10-20T21:34:03.922028",
          "exception": false,
          "start_time": "2020-10-20T21:34:03.833268",
          "status": "completed"
        },
        "tags": []
      },
      "outputs": [],
      "source": [
        "df_data = pd.read_csv('mission_launches.csv')"
      ]
    },
    {
      "cell_type": "markdown",
      "metadata": {
        "id": "jAnMiVcVjuKB"
      },
      "source": [
        "# Preliminary Data Exploration\n",
        "\n",
        "* What is the shape of `df_data`? \n",
        "* How many rows and columns does it have?\n",
        "* What are the column names?\n",
        "* Are there any NaN values or duplicates?"
      ]
    },
    {
      "cell_type": "code",
      "execution_count": 4,
      "metadata": {
        "id": "0tIuYcYNlPFQ"
      },
      "outputs": [
        {
          "data": {
            "text/plain": [
              "(4324, 9)"
            ]
          },
          "execution_count": 4,
          "metadata": {},
          "output_type": "execute_result"
        }
      ],
      "source": [
        "df_data.shape"
      ]
    },
    {
      "cell_type": "code",
      "execution_count": 5,
      "metadata": {},
      "outputs": [
        {
          "data": {
            "text/plain": [
              "Index(['Unnamed: 0.1', 'Unnamed: 0', 'Organisation', 'Location', 'Date',\n",
              "       'Detail', 'Rocket_Status', 'Price', 'Mission_Status'],\n",
              "      dtype='object')"
            ]
          },
          "execution_count": 5,
          "metadata": {},
          "output_type": "execute_result"
        }
      ],
      "source": [
        "df_data.columns"
      ]
    },
    {
      "cell_type": "code",
      "execution_count": 6,
      "metadata": {
        "id": "0dw2hd9UlPmP"
      },
      "outputs": [
        {
          "data": {
            "text/plain": [
              "Unnamed: 0.1      False\n",
              "Unnamed: 0        False\n",
              "Organisation      False\n",
              "Location          False\n",
              "Date              False\n",
              "Detail            False\n",
              "Rocket_Status     False\n",
              "Price              True\n",
              "Mission_Status    False\n",
              "dtype: bool"
            ]
          },
          "execution_count": 6,
          "metadata": {},
          "output_type": "execute_result"
        }
      ],
      "source": [
        "df_data.isna().any()"
      ]
    },
    {
      "cell_type": "markdown",
      "metadata": {
        "id": "KUN30y6ja-p9",
        "papermill": {
          "duration": 0.05406,
          "end_time": "2020-10-20T21:34:04.149973",
          "exception": false,
          "start_time": "2020-10-20T21:34:04.095913",
          "status": "completed"
        },
        "tags": []
      },
      "source": [
        "## Data Cleaning - Check for Missing Values and Duplicates\n",
        "\n",
        "Consider removing columns containing junk data. "
      ]
    },
    {
      "cell_type": "code",
      "execution_count": 10,
      "metadata": {
        "id": "wWQvnJb0k2Ig"
      },
      "outputs": [
        {
          "name": "stderr",
          "output_type": "stream",
          "text": [
            "/var/folders/96/xt6vg1d14yn8wz_b2vvjzwb00000gn/T/ipykernel_11111/620094194.py:1: FutureWarning: In a future version of pandas all arguments of DataFrame.drop except for the argument 'labels' will be keyword-only.\n",
            "  df_data.drop([\"Unnamed: 0.1\", \"Unnamed: 0\"], 1, inplace=True)\n"
          ]
        },
        {
          "ename": "KeyError",
          "evalue": "\"['Unnamed: 0.1', 'Unnamed: 0'] not found in axis\"",
          "output_type": "error",
          "traceback": [
            "\u001b[0;31m---------------------------------------------------------------------------\u001b[0m",
            "\u001b[0;31mKeyError\u001b[0m                                  Traceback (most recent call last)",
            "\u001b[1;32m/Users/karatatiwantsinghsidhu/Google Drive/Code/100_days_of_Code/Day_42/Space_Missions_Analysis_(start).ipynb Cell 17'\u001b[0m in \u001b[0;36m<module>\u001b[0;34m\u001b[0m\n\u001b[0;32m----> <a href='vscode-notebook-cell:/Users/karatatiwantsinghsidhu/Google%20Drive/Code/100_days_of_Code/Day_42/Space_Missions_Analysis_%28start%29.ipynb#ch0000016?line=0'>1</a>\u001b[0m df_data\u001b[39m.\u001b[39;49mdrop([\u001b[39m\"\u001b[39;49m\u001b[39mUnnamed: 0.1\u001b[39;49m\u001b[39m\"\u001b[39;49m, \u001b[39m\"\u001b[39;49m\u001b[39mUnnamed: 0\u001b[39;49m\u001b[39m\"\u001b[39;49m], \u001b[39m1\u001b[39;49m, inplace\u001b[39m=\u001b[39;49m\u001b[39mTrue\u001b[39;49;00m)\n",
            "File \u001b[0;32m/Library/Frameworks/Python.framework/Versions/3.9/lib/python3.9/site-packages/pandas/util/_decorators.py:311\u001b[0m, in \u001b[0;36mdeprecate_nonkeyword_arguments.<locals>.decorate.<locals>.wrapper\u001b[0;34m(*args, **kwargs)\u001b[0m\n\u001b[1;32m    <a href='file:///Library/Frameworks/Python.framework/Versions/3.9/lib/python3.9/site-packages/pandas/util/_decorators.py?line=304'>305</a>\u001b[0m \u001b[39mif\u001b[39;00m \u001b[39mlen\u001b[39m(args) \u001b[39m>\u001b[39m num_allow_args:\n\u001b[1;32m    <a href='file:///Library/Frameworks/Python.framework/Versions/3.9/lib/python3.9/site-packages/pandas/util/_decorators.py?line=305'>306</a>\u001b[0m     warnings\u001b[39m.\u001b[39mwarn(\n\u001b[1;32m    <a href='file:///Library/Frameworks/Python.framework/Versions/3.9/lib/python3.9/site-packages/pandas/util/_decorators.py?line=306'>307</a>\u001b[0m         msg\u001b[39m.\u001b[39mformat(arguments\u001b[39m=\u001b[39marguments),\n\u001b[1;32m    <a href='file:///Library/Frameworks/Python.framework/Versions/3.9/lib/python3.9/site-packages/pandas/util/_decorators.py?line=307'>308</a>\u001b[0m         \u001b[39mFutureWarning\u001b[39;00m,\n\u001b[1;32m    <a href='file:///Library/Frameworks/Python.framework/Versions/3.9/lib/python3.9/site-packages/pandas/util/_decorators.py?line=308'>309</a>\u001b[0m         stacklevel\u001b[39m=\u001b[39mstacklevel,\n\u001b[1;32m    <a href='file:///Library/Frameworks/Python.framework/Versions/3.9/lib/python3.9/site-packages/pandas/util/_decorators.py?line=309'>310</a>\u001b[0m     )\n\u001b[0;32m--> <a href='file:///Library/Frameworks/Python.framework/Versions/3.9/lib/python3.9/site-packages/pandas/util/_decorators.py?line=310'>311</a>\u001b[0m \u001b[39mreturn\u001b[39;00m func(\u001b[39m*\u001b[39;49margs, \u001b[39m*\u001b[39;49m\u001b[39m*\u001b[39;49mkwargs)\n",
            "File \u001b[0;32m/Library/Frameworks/Python.framework/Versions/3.9/lib/python3.9/site-packages/pandas/core/frame.py:4948\u001b[0m, in \u001b[0;36mDataFrame.drop\u001b[0;34m(self, labels, axis, index, columns, level, inplace, errors)\u001b[0m\n\u001b[1;32m   <a href='file:///Library/Frameworks/Python.framework/Versions/3.9/lib/python3.9/site-packages/pandas/core/frame.py?line=4799'>4800</a>\u001b[0m \u001b[39m@deprecate_nonkeyword_arguments\u001b[39m(version\u001b[39m=\u001b[39m\u001b[39mNone\u001b[39;00m, allowed_args\u001b[39m=\u001b[39m[\u001b[39m\"\u001b[39m\u001b[39mself\u001b[39m\u001b[39m\"\u001b[39m, \u001b[39m\"\u001b[39m\u001b[39mlabels\u001b[39m\u001b[39m\"\u001b[39m])\n\u001b[1;32m   <a href='file:///Library/Frameworks/Python.framework/Versions/3.9/lib/python3.9/site-packages/pandas/core/frame.py?line=4800'>4801</a>\u001b[0m \u001b[39mdef\u001b[39;00m \u001b[39mdrop\u001b[39m(\n\u001b[1;32m   <a href='file:///Library/Frameworks/Python.framework/Versions/3.9/lib/python3.9/site-packages/pandas/core/frame.py?line=4801'>4802</a>\u001b[0m     \u001b[39mself\u001b[39m,\n\u001b[0;32m   (...)\u001b[0m\n\u001b[1;32m   <a href='file:///Library/Frameworks/Python.framework/Versions/3.9/lib/python3.9/site-packages/pandas/core/frame.py?line=4808'>4809</a>\u001b[0m     errors: \u001b[39mstr\u001b[39m \u001b[39m=\u001b[39m \u001b[39m\"\u001b[39m\u001b[39mraise\u001b[39m\u001b[39m\"\u001b[39m,\n\u001b[1;32m   <a href='file:///Library/Frameworks/Python.framework/Versions/3.9/lib/python3.9/site-packages/pandas/core/frame.py?line=4809'>4810</a>\u001b[0m ):\n\u001b[1;32m   <a href='file:///Library/Frameworks/Python.framework/Versions/3.9/lib/python3.9/site-packages/pandas/core/frame.py?line=4810'>4811</a>\u001b[0m     \u001b[39m\"\"\"\u001b[39;00m\n\u001b[1;32m   <a href='file:///Library/Frameworks/Python.framework/Versions/3.9/lib/python3.9/site-packages/pandas/core/frame.py?line=4811'>4812</a>\u001b[0m \u001b[39m    Drop specified labels from rows or columns.\u001b[39;00m\n\u001b[1;32m   <a href='file:///Library/Frameworks/Python.framework/Versions/3.9/lib/python3.9/site-packages/pandas/core/frame.py?line=4812'>4813</a>\u001b[0m \n\u001b[0;32m   (...)\u001b[0m\n\u001b[1;32m   <a href='file:///Library/Frameworks/Python.framework/Versions/3.9/lib/python3.9/site-packages/pandas/core/frame.py?line=4945'>4946</a>\u001b[0m \u001b[39m            weight  1.0     0.8\u001b[39;00m\n\u001b[1;32m   <a href='file:///Library/Frameworks/Python.framework/Versions/3.9/lib/python3.9/site-packages/pandas/core/frame.py?line=4946'>4947</a>\u001b[0m \u001b[39m    \"\"\"\u001b[39;00m\n\u001b[0;32m-> <a href='file:///Library/Frameworks/Python.framework/Versions/3.9/lib/python3.9/site-packages/pandas/core/frame.py?line=4947'>4948</a>\u001b[0m     \u001b[39mreturn\u001b[39;00m \u001b[39msuper\u001b[39;49m()\u001b[39m.\u001b[39;49mdrop(\n\u001b[1;32m   <a href='file:///Library/Frameworks/Python.framework/Versions/3.9/lib/python3.9/site-packages/pandas/core/frame.py?line=4948'>4949</a>\u001b[0m         labels\u001b[39m=\u001b[39;49mlabels,\n\u001b[1;32m   <a href='file:///Library/Frameworks/Python.framework/Versions/3.9/lib/python3.9/site-packages/pandas/core/frame.py?line=4949'>4950</a>\u001b[0m         axis\u001b[39m=\u001b[39;49maxis,\n\u001b[1;32m   <a href='file:///Library/Frameworks/Python.framework/Versions/3.9/lib/python3.9/site-packages/pandas/core/frame.py?line=4950'>4951</a>\u001b[0m         index\u001b[39m=\u001b[39;49mindex,\n\u001b[1;32m   <a href='file:///Library/Frameworks/Python.framework/Versions/3.9/lib/python3.9/site-packages/pandas/core/frame.py?line=4951'>4952</a>\u001b[0m         columns\u001b[39m=\u001b[39;49mcolumns,\n\u001b[1;32m   <a href='file:///Library/Frameworks/Python.framework/Versions/3.9/lib/python3.9/site-packages/pandas/core/frame.py?line=4952'>4953</a>\u001b[0m         level\u001b[39m=\u001b[39;49mlevel,\n\u001b[1;32m   <a href='file:///Library/Frameworks/Python.framework/Versions/3.9/lib/python3.9/site-packages/pandas/core/frame.py?line=4953'>4954</a>\u001b[0m         inplace\u001b[39m=\u001b[39;49minplace,\n\u001b[1;32m   <a href='file:///Library/Frameworks/Python.framework/Versions/3.9/lib/python3.9/site-packages/pandas/core/frame.py?line=4954'>4955</a>\u001b[0m         errors\u001b[39m=\u001b[39;49merrors,\n\u001b[1;32m   <a href='file:///Library/Frameworks/Python.framework/Versions/3.9/lib/python3.9/site-packages/pandas/core/frame.py?line=4955'>4956</a>\u001b[0m     )\n",
            "File \u001b[0;32m/Library/Frameworks/Python.framework/Versions/3.9/lib/python3.9/site-packages/pandas/core/generic.py:4279\u001b[0m, in \u001b[0;36mNDFrame.drop\u001b[0;34m(self, labels, axis, index, columns, level, inplace, errors)\u001b[0m\n\u001b[1;32m   <a href='file:///Library/Frameworks/Python.framework/Versions/3.9/lib/python3.9/site-packages/pandas/core/generic.py?line=4276'>4277</a>\u001b[0m \u001b[39mfor\u001b[39;00m axis, labels \u001b[39min\u001b[39;00m axes\u001b[39m.\u001b[39mitems():\n\u001b[1;32m   <a href='file:///Library/Frameworks/Python.framework/Versions/3.9/lib/python3.9/site-packages/pandas/core/generic.py?line=4277'>4278</a>\u001b[0m     \u001b[39mif\u001b[39;00m labels \u001b[39mis\u001b[39;00m \u001b[39mnot\u001b[39;00m \u001b[39mNone\u001b[39;00m:\n\u001b[0;32m-> <a href='file:///Library/Frameworks/Python.framework/Versions/3.9/lib/python3.9/site-packages/pandas/core/generic.py?line=4278'>4279</a>\u001b[0m         obj \u001b[39m=\u001b[39m obj\u001b[39m.\u001b[39;49m_drop_axis(labels, axis, level\u001b[39m=\u001b[39;49mlevel, errors\u001b[39m=\u001b[39;49merrors)\n\u001b[1;32m   <a href='file:///Library/Frameworks/Python.framework/Versions/3.9/lib/python3.9/site-packages/pandas/core/generic.py?line=4280'>4281</a>\u001b[0m \u001b[39mif\u001b[39;00m inplace:\n\u001b[1;32m   <a href='file:///Library/Frameworks/Python.framework/Versions/3.9/lib/python3.9/site-packages/pandas/core/generic.py?line=4281'>4282</a>\u001b[0m     \u001b[39mself\u001b[39m\u001b[39m.\u001b[39m_update_inplace(obj)\n",
            "File \u001b[0;32m/Library/Frameworks/Python.framework/Versions/3.9/lib/python3.9/site-packages/pandas/core/generic.py:4323\u001b[0m, in \u001b[0;36mNDFrame._drop_axis\u001b[0;34m(self, labels, axis, level, errors, consolidate, only_slice)\u001b[0m\n\u001b[1;32m   <a href='file:///Library/Frameworks/Python.framework/Versions/3.9/lib/python3.9/site-packages/pandas/core/generic.py?line=4320'>4321</a>\u001b[0m         new_axis \u001b[39m=\u001b[39m axis\u001b[39m.\u001b[39mdrop(labels, level\u001b[39m=\u001b[39mlevel, errors\u001b[39m=\u001b[39merrors)\n\u001b[1;32m   <a href='file:///Library/Frameworks/Python.framework/Versions/3.9/lib/python3.9/site-packages/pandas/core/generic.py?line=4321'>4322</a>\u001b[0m     \u001b[39melse\u001b[39;00m:\n\u001b[0;32m-> <a href='file:///Library/Frameworks/Python.framework/Versions/3.9/lib/python3.9/site-packages/pandas/core/generic.py?line=4322'>4323</a>\u001b[0m         new_axis \u001b[39m=\u001b[39m axis\u001b[39m.\u001b[39;49mdrop(labels, errors\u001b[39m=\u001b[39;49merrors)\n\u001b[1;32m   <a href='file:///Library/Frameworks/Python.framework/Versions/3.9/lib/python3.9/site-packages/pandas/core/generic.py?line=4323'>4324</a>\u001b[0m     indexer \u001b[39m=\u001b[39m axis\u001b[39m.\u001b[39mget_indexer(new_axis)\n\u001b[1;32m   <a href='file:///Library/Frameworks/Python.framework/Versions/3.9/lib/python3.9/site-packages/pandas/core/generic.py?line=4325'>4326</a>\u001b[0m \u001b[39m# Case for non-unique axis\u001b[39;00m\n\u001b[1;32m   <a href='file:///Library/Frameworks/Python.framework/Versions/3.9/lib/python3.9/site-packages/pandas/core/generic.py?line=4326'>4327</a>\u001b[0m \u001b[39melse\u001b[39;00m:\n",
            "File \u001b[0;32m/Library/Frameworks/Python.framework/Versions/3.9/lib/python3.9/site-packages/pandas/core/indexes/base.py:6644\u001b[0m, in \u001b[0;36mIndex.drop\u001b[0;34m(self, labels, errors)\u001b[0m\n\u001b[1;32m   <a href='file:///Library/Frameworks/Python.framework/Versions/3.9/lib/python3.9/site-packages/pandas/core/indexes/base.py?line=6641'>6642</a>\u001b[0m \u001b[39mif\u001b[39;00m mask\u001b[39m.\u001b[39many():\n\u001b[1;32m   <a href='file:///Library/Frameworks/Python.framework/Versions/3.9/lib/python3.9/site-packages/pandas/core/indexes/base.py?line=6642'>6643</a>\u001b[0m     \u001b[39mif\u001b[39;00m errors \u001b[39m!=\u001b[39m \u001b[39m\"\u001b[39m\u001b[39mignore\u001b[39m\u001b[39m\"\u001b[39m:\n\u001b[0;32m-> <a href='file:///Library/Frameworks/Python.framework/Versions/3.9/lib/python3.9/site-packages/pandas/core/indexes/base.py?line=6643'>6644</a>\u001b[0m         \u001b[39mraise\u001b[39;00m \u001b[39mKeyError\u001b[39;00m(\u001b[39mf\u001b[39m\u001b[39m\"\u001b[39m\u001b[39m{\u001b[39;00m\u001b[39mlist\u001b[39m(labels[mask])\u001b[39m}\u001b[39;00m\u001b[39m not found in axis\u001b[39m\u001b[39m\"\u001b[39m)\n\u001b[1;32m   <a href='file:///Library/Frameworks/Python.framework/Versions/3.9/lib/python3.9/site-packages/pandas/core/indexes/base.py?line=6644'>6645</a>\u001b[0m     indexer \u001b[39m=\u001b[39m indexer[\u001b[39m~\u001b[39mmask]\n\u001b[1;32m   <a href='file:///Library/Frameworks/Python.framework/Versions/3.9/lib/python3.9/site-packages/pandas/core/indexes/base.py?line=6645'>6646</a>\u001b[0m \u001b[39mreturn\u001b[39;00m \u001b[39mself\u001b[39m\u001b[39m.\u001b[39mdelete(indexer)\n",
            "\u001b[0;31mKeyError\u001b[0m: \"['Unnamed: 0.1', 'Unnamed: 0'] not found in axis\""
          ]
        }
      ],
      "source": [
        "df_data.drop([\"Unnamed: 0.1\", \"Unnamed: 0\"], 1, inplace=True)"
      ]
    },
    {
      "cell_type": "code",
      "execution_count": 11,
      "metadata": {
        "id": "SfxVooCYk2As"
      },
      "outputs": [
        {
          "data": {
            "text/html": [
              "<div>\n",
              "<style scoped>\n",
              "    .dataframe tbody tr th:only-of-type {\n",
              "        vertical-align: middle;\n",
              "    }\n",
              "\n",
              "    .dataframe tbody tr th {\n",
              "        vertical-align: top;\n",
              "    }\n",
              "\n",
              "    .dataframe thead th {\n",
              "        text-align: right;\n",
              "    }\n",
              "</style>\n",
              "<table border=\"1\" class=\"dataframe\">\n",
              "  <thead>\n",
              "    <tr style=\"text-align: right;\">\n",
              "      <th></th>\n",
              "      <th>Organisation</th>\n",
              "      <th>Location</th>\n",
              "      <th>Date</th>\n",
              "      <th>Detail</th>\n",
              "      <th>Rocket_Status</th>\n",
              "      <th>Price</th>\n",
              "      <th>Mission_Status</th>\n",
              "    </tr>\n",
              "  </thead>\n",
              "  <tbody>\n",
              "    <tr>\n",
              "      <th>0</th>\n",
              "      <td>SpaceX</td>\n",
              "      <td>LC-39A, Kennedy Space Center, Florida, USA</td>\n",
              "      <td>Fri Aug 07, 2020 05:12 UTC</td>\n",
              "      <td>Falcon 9 Block 5 | Starlink V1 L9 &amp; BlackSky</td>\n",
              "      <td>StatusActive</td>\n",
              "      <td>50.0</td>\n",
              "      <td>Success</td>\n",
              "    </tr>\n",
              "    <tr>\n",
              "      <th>1</th>\n",
              "      <td>CASC</td>\n",
              "      <td>Site 9401 (SLS-2), Jiuquan Satellite Launch Ce...</td>\n",
              "      <td>Thu Aug 06, 2020 04:01 UTC</td>\n",
              "      <td>Long March 2D | Gaofen-9 04 &amp; Q-SAT</td>\n",
              "      <td>StatusActive</td>\n",
              "      <td>29.75</td>\n",
              "      <td>Success</td>\n",
              "    </tr>\n",
              "    <tr>\n",
              "      <th>2</th>\n",
              "      <td>SpaceX</td>\n",
              "      <td>Pad A, Boca Chica, Texas, USA</td>\n",
              "      <td>Tue Aug 04, 2020 23:57 UTC</td>\n",
              "      <td>Starship Prototype | 150 Meter Hop</td>\n",
              "      <td>StatusActive</td>\n",
              "      <td>NaN</td>\n",
              "      <td>Success</td>\n",
              "    </tr>\n",
              "    <tr>\n",
              "      <th>3</th>\n",
              "      <td>Roscosmos</td>\n",
              "      <td>Site 200/39, Baikonur Cosmodrome, Kazakhstan</td>\n",
              "      <td>Thu Jul 30, 2020 21:25 UTC</td>\n",
              "      <td>Proton-M/Briz-M | Ekspress-80 &amp; Ekspress-103</td>\n",
              "      <td>StatusActive</td>\n",
              "      <td>65.0</td>\n",
              "      <td>Success</td>\n",
              "    </tr>\n",
              "    <tr>\n",
              "      <th>4</th>\n",
              "      <td>ULA</td>\n",
              "      <td>SLC-41, Cape Canaveral AFS, Florida, USA</td>\n",
              "      <td>Thu Jul 30, 2020 11:50 UTC</td>\n",
              "      <td>Atlas V 541 | Perseverance</td>\n",
              "      <td>StatusActive</td>\n",
              "      <td>145.0</td>\n",
              "      <td>Success</td>\n",
              "    </tr>\n",
              "    <tr>\n",
              "      <th>...</th>\n",
              "      <td>...</td>\n",
              "      <td>...</td>\n",
              "      <td>...</td>\n",
              "      <td>...</td>\n",
              "      <td>...</td>\n",
              "      <td>...</td>\n",
              "      <td>...</td>\n",
              "    </tr>\n",
              "    <tr>\n",
              "      <th>4319</th>\n",
              "      <td>US Navy</td>\n",
              "      <td>LC-18A, Cape Canaveral AFS, Florida, USA</td>\n",
              "      <td>Wed Feb 05, 1958 07:33 UTC</td>\n",
              "      <td>Vanguard | Vanguard TV3BU</td>\n",
              "      <td>StatusRetired</td>\n",
              "      <td>NaN</td>\n",
              "      <td>Failure</td>\n",
              "    </tr>\n",
              "    <tr>\n",
              "      <th>4320</th>\n",
              "      <td>AMBA</td>\n",
              "      <td>LC-26A, Cape Canaveral AFS, Florida, USA</td>\n",
              "      <td>Sat Feb 01, 1958 03:48 UTC</td>\n",
              "      <td>Juno I | Explorer 1</td>\n",
              "      <td>StatusRetired</td>\n",
              "      <td>NaN</td>\n",
              "      <td>Success</td>\n",
              "    </tr>\n",
              "    <tr>\n",
              "      <th>4321</th>\n",
              "      <td>US Navy</td>\n",
              "      <td>LC-18A, Cape Canaveral AFS, Florida, USA</td>\n",
              "      <td>Fri Dec 06, 1957 16:44 UTC</td>\n",
              "      <td>Vanguard | Vanguard TV3</td>\n",
              "      <td>StatusRetired</td>\n",
              "      <td>NaN</td>\n",
              "      <td>Failure</td>\n",
              "    </tr>\n",
              "    <tr>\n",
              "      <th>4322</th>\n",
              "      <td>RVSN USSR</td>\n",
              "      <td>Site 1/5, Baikonur Cosmodrome, Kazakhstan</td>\n",
              "      <td>Sun Nov 03, 1957 02:30 UTC</td>\n",
              "      <td>Sputnik 8K71PS | Sputnik-2</td>\n",
              "      <td>StatusRetired</td>\n",
              "      <td>NaN</td>\n",
              "      <td>Success</td>\n",
              "    </tr>\n",
              "    <tr>\n",
              "      <th>4323</th>\n",
              "      <td>RVSN USSR</td>\n",
              "      <td>Site 1/5, Baikonur Cosmodrome, Kazakhstan</td>\n",
              "      <td>Fri Oct 04, 1957 19:28 UTC</td>\n",
              "      <td>Sputnik 8K71PS | Sputnik-1</td>\n",
              "      <td>StatusRetired</td>\n",
              "      <td>NaN</td>\n",
              "      <td>Success</td>\n",
              "    </tr>\n",
              "  </tbody>\n",
              "</table>\n",
              "<p>4324 rows × 7 columns</p>\n",
              "</div>"
            ],
            "text/plain": [
              "     Organisation                                           Location  \\\n",
              "0          SpaceX         LC-39A, Kennedy Space Center, Florida, USA   \n",
              "1            CASC  Site 9401 (SLS-2), Jiuquan Satellite Launch Ce...   \n",
              "2          SpaceX                      Pad A, Boca Chica, Texas, USA   \n",
              "3       Roscosmos       Site 200/39, Baikonur Cosmodrome, Kazakhstan   \n",
              "4             ULA           SLC-41, Cape Canaveral AFS, Florida, USA   \n",
              "...           ...                                                ...   \n",
              "4319      US Navy           LC-18A, Cape Canaveral AFS, Florida, USA   \n",
              "4320         AMBA           LC-26A, Cape Canaveral AFS, Florida, USA   \n",
              "4321      US Navy           LC-18A, Cape Canaveral AFS, Florida, USA   \n",
              "4322    RVSN USSR          Site 1/5, Baikonur Cosmodrome, Kazakhstan   \n",
              "4323    RVSN USSR          Site 1/5, Baikonur Cosmodrome, Kazakhstan   \n",
              "\n",
              "                            Date  \\\n",
              "0     Fri Aug 07, 2020 05:12 UTC   \n",
              "1     Thu Aug 06, 2020 04:01 UTC   \n",
              "2     Tue Aug 04, 2020 23:57 UTC   \n",
              "3     Thu Jul 30, 2020 21:25 UTC   \n",
              "4     Thu Jul 30, 2020 11:50 UTC   \n",
              "...                          ...   \n",
              "4319  Wed Feb 05, 1958 07:33 UTC   \n",
              "4320  Sat Feb 01, 1958 03:48 UTC   \n",
              "4321  Fri Dec 06, 1957 16:44 UTC   \n",
              "4322  Sun Nov 03, 1957 02:30 UTC   \n",
              "4323  Fri Oct 04, 1957 19:28 UTC   \n",
              "\n",
              "                                            Detail  Rocket_Status  Price  \\\n",
              "0     Falcon 9 Block 5 | Starlink V1 L9 & BlackSky   StatusActive   50.0   \n",
              "1              Long March 2D | Gaofen-9 04 & Q-SAT   StatusActive  29.75   \n",
              "2               Starship Prototype | 150 Meter Hop   StatusActive    NaN   \n",
              "3     Proton-M/Briz-M | Ekspress-80 & Ekspress-103   StatusActive   65.0   \n",
              "4                       Atlas V 541 | Perseverance   StatusActive  145.0   \n",
              "...                                            ...            ...    ...   \n",
              "4319                     Vanguard | Vanguard TV3BU  StatusRetired    NaN   \n",
              "4320                           Juno I | Explorer 1  StatusRetired    NaN   \n",
              "4321                       Vanguard | Vanguard TV3  StatusRetired    NaN   \n",
              "4322                    Sputnik 8K71PS | Sputnik-2  StatusRetired    NaN   \n",
              "4323                    Sputnik 8K71PS | Sputnik-1  StatusRetired    NaN   \n",
              "\n",
              "     Mission_Status  \n",
              "0           Success  \n",
              "1           Success  \n",
              "2           Success  \n",
              "3           Success  \n",
              "4           Success  \n",
              "...             ...  \n",
              "4319        Failure  \n",
              "4320        Success  \n",
              "4321        Failure  \n",
              "4322        Success  \n",
              "4323        Success  \n",
              "\n",
              "[4324 rows x 7 columns]"
            ]
          },
          "execution_count": 11,
          "metadata": {},
          "output_type": "execute_result"
        }
      ],
      "source": [
        "df_data"
      ]
    },
    {
      "cell_type": "markdown",
      "metadata": {
        "id": "QHon_T5sa-p_",
        "papermill": {
          "duration": 0.036712,
          "end_time": "2020-10-20T21:34:05.227032",
          "exception": false,
          "start_time": "2020-10-20T21:34:05.190320",
          "status": "completed"
        },
        "tags": []
      },
      "source": [
        "## Descriptive Statistics"
      ]
    },
    {
      "cell_type": "code",
      "execution_count": 12,
      "metadata": {
        "id": "Fh1-libjkJIK"
      },
      "outputs": [
        {
          "data": {
            "text/html": [
              "<div>\n",
              "<style scoped>\n",
              "    .dataframe tbody tr th:only-of-type {\n",
              "        vertical-align: middle;\n",
              "    }\n",
              "\n",
              "    .dataframe tbody tr th {\n",
              "        vertical-align: top;\n",
              "    }\n",
              "\n",
              "    .dataframe thead th {\n",
              "        text-align: right;\n",
              "    }\n",
              "</style>\n",
              "<table border=\"1\" class=\"dataframe\">\n",
              "  <thead>\n",
              "    <tr style=\"text-align: right;\">\n",
              "      <th></th>\n",
              "      <th>Organisation</th>\n",
              "      <th>Location</th>\n",
              "      <th>Date</th>\n",
              "      <th>Detail</th>\n",
              "      <th>Rocket_Status</th>\n",
              "      <th>Price</th>\n",
              "      <th>Mission_Status</th>\n",
              "    </tr>\n",
              "  </thead>\n",
              "  <tbody>\n",
              "    <tr>\n",
              "      <th>count</th>\n",
              "      <td>4324</td>\n",
              "      <td>4324</td>\n",
              "      <td>4324</td>\n",
              "      <td>4324</td>\n",
              "      <td>4324</td>\n",
              "      <td>964</td>\n",
              "      <td>4324</td>\n",
              "    </tr>\n",
              "    <tr>\n",
              "      <th>unique</th>\n",
              "      <td>56</td>\n",
              "      <td>137</td>\n",
              "      <td>4319</td>\n",
              "      <td>4278</td>\n",
              "      <td>2</td>\n",
              "      <td>56</td>\n",
              "      <td>4</td>\n",
              "    </tr>\n",
              "    <tr>\n",
              "      <th>top</th>\n",
              "      <td>RVSN USSR</td>\n",
              "      <td>Site 31/6, Baikonur Cosmodrome, Kazakhstan</td>\n",
              "      <td>Wed Nov 05, 2008 00:15 UTC</td>\n",
              "      <td>Cosmos-3MRB (65MRB) | BOR-5 Shuttle</td>\n",
              "      <td>StatusRetired</td>\n",
              "      <td>450.0</td>\n",
              "      <td>Success</td>\n",
              "    </tr>\n",
              "    <tr>\n",
              "      <th>freq</th>\n",
              "      <td>1777</td>\n",
              "      <td>235</td>\n",
              "      <td>2</td>\n",
              "      <td>6</td>\n",
              "      <td>3534</td>\n",
              "      <td>136</td>\n",
              "      <td>3879</td>\n",
              "    </tr>\n",
              "  </tbody>\n",
              "</table>\n",
              "</div>"
            ],
            "text/plain": [
              "       Organisation                                    Location  \\\n",
              "count          4324                                        4324   \n",
              "unique           56                                         137   \n",
              "top       RVSN USSR  Site 31/6, Baikonur Cosmodrome, Kazakhstan   \n",
              "freq           1777                                         235   \n",
              "\n",
              "                              Date                               Detail  \\\n",
              "count                         4324                                 4324   \n",
              "unique                        4319                                 4278   \n",
              "top     Wed Nov 05, 2008 00:15 UTC  Cosmos-3MRB (65MRB) | BOR-5 Shuttle   \n",
              "freq                             2                                    6   \n",
              "\n",
              "        Rocket_Status  Price Mission_Status  \n",
              "count            4324    964           4324  \n",
              "unique              2     56              4  \n",
              "top     StatusRetired  450.0        Success  \n",
              "freq             3534    136           3879  "
            ]
          },
          "execution_count": 12,
          "metadata": {},
          "output_type": "execute_result"
        }
      ],
      "source": [
        "df_data.describe()"
      ]
    },
    {
      "cell_type": "markdown",
      "metadata": {
        "id": "cgCjcpeUkKPW"
      },
      "source": [
        "# Number of Launches per Company\n",
        "\n",
        "Create a chart that shows the number of space mission launches by organisation."
      ]
    },
    {
      "cell_type": "code",
      "execution_count": 38,
      "metadata": {
        "id": "rxvcIrtskxYB"
      },
      "outputs": [
        {
          "data": {
            "text/plain": [
              "<AxesSubplot:xlabel='Organization', ylabel='Number of Launches'>"
            ]
          },
          "execution_count": 38,
          "metadata": {},
          "output_type": "execute_result"
        },
        {
          "data": {
            "image/png": "[encoded data removed]",
            "text/plain": [
              "<Figure size 1440x576 with 1 Axes>"
            ]
          },
          "metadata": {
            "needs_background": "light"
          },
          "output_type": "display_data"
        }
      ],
      "source": [
        "plt.figure(figsize=(20,8))\n",
        "plt.xlabel(xlabel=\"Organization\", fontsize = 20 )\n",
        "plt.ylabel(ylabel=\"Number of Launches\", fontsize = 20)\n",
        "df_data['Organisation'].value_counts().plot(kind='bar')\n"
      ]
    },
    {
      "cell_type": "code",
      "execution_count": 26,
      "metadata": {
        "id": "qgneHUbWkw5v"
      },
      "outputs": [
        {
          "data": {
            "text/plain": [
              "RVSN USSR           1777\n",
              "Arianespace          279\n",
              "CASC                 251\n",
              "General Dynamics     251\n",
              "NASA                 203\n",
              "VKS RF               201\n",
              "US Air Force         161\n",
              "ULA                  140\n",
              "Boeing               136\n",
              "Martin Marietta      114\n",
              "SpaceX               100\n",
              "MHI                   84\n",
              "Northrop              83\n",
              "Lockheed              79\n",
              "ISRO                  76\n",
              "Roscosmos             55\n",
              "ILS                   46\n",
              "Sea Launch            36\n",
              "ISAS                  30\n",
              "Kosmotras             22\n",
              "US Navy               17\n",
              "ISA                   13\n",
              "Rocket Lab            13\n",
              "Eurockot              13\n",
              "ESA                   13\n",
              "Blue Origin           12\n",
              "IAI                   11\n",
              "ExPace                10\n",
              "ASI                    9\n",
              "CNES                   8\n",
              "AMBA                   8\n",
              "MITT                   7\n",
              "JAXA                   7\n",
              "Land Launch            7\n",
              "UT                     5\n",
              "KCST                   5\n",
              "CASIC                  5\n",
              "Exos                   4\n",
              "CECLES                 4\n",
              "Arm??e de l'Air        4\n",
              "KARI                   3\n",
              "SRC                    3\n",
              "AEB                    3\n",
              "RAE                    2\n",
              "OKB-586                2\n",
              "Yuzhmash               2\n",
              "Landspace              1\n",
              "Douglas                1\n",
              "EER                    1\n",
              "Starsem                1\n",
              "Virgin Orbit           1\n",
              "IRGC                   1\n",
              "i-Space                1\n",
              "OneSpace               1\n",
              "Sandia                 1\n",
              "Khrunichev             1\n",
              "Name: Organisation, dtype: int64"
            ]
          },
          "execution_count": 26,
          "metadata": {},
          "output_type": "execute_result"
        }
      ],
      "source": [
        "df_data.Organisation.value_counts()"
      ]
    },
    {
      "cell_type": "markdown",
      "metadata": {
        "id": "7Gwteht2kR_h"
      },
      "source": [
        "# Number of Active versus Retired Rockets\n",
        "\n",
        "How many rockets are active compared to those that are decomissioned? "
      ]
    },
    {
      "cell_type": "code",
      "execution_count": 77,
      "metadata": {
        "id": "SxmOWS9cmTq6"
      },
      "outputs": [],
      "source": [
        "df_orgs = df_data.groupby(\"Rocket_Status\").value_counts(\"Organisation\")"
      ]
    },
    {
      "cell_type": "code",
      "execution_count": 78,
      "metadata": {
        "id": "ydj0-OZ6mToH"
      },
      "outputs": [
        {
          "name": "stdout",
          "output_type": "stream",
          "text": [
            "Rocket_Status  Organisation  Location                                                   Date                        Detail                                      Price  Mission_Status\n",
            "StatusActive   CASC          Site 9401 (SLS-2), Jiuquan Satellite Launch Center, China  Wed Nov 05, 2008 00:15 UTC  Long March 2D | Shiyan-3 & Chuangxin-1(02)  29.75  Success           2\n",
            "               Arianespace   ELA-3, Guiana Space Centre, French Guiana, France          Fri Apr 18, 2008 22:17 UTC  Ariane 5 ECA | Star One C2 & Vinasat-1      200.0  Success           1\n",
            "               ULA           SLC-41, Cape Canaveral AFS, Florida, USA                   Fri Mar 13, 2015 02:44 UTC  Atlas V 421 | MMS                           123.0  Success           1\n",
            "                                                                                        Fri May 04, 2012 18:42 UTC  Atlas V 531 | AEHF-2                        140.0  Success           1\n",
            "                                                                                        Fri Oct 02, 2015 10:28 UTC  Atlas V 421 | Morelos-3                     123.0  Success           1\n",
            "                                                                                                                                                                                        ..\n",
            "StatusRetired  NASA          LC-39B, Kennedy Space Center, Florida, USA                 Thu May 27, 1999 10:49 UTC  Space Shuttle Discovery | STS-96            450.0  Success           1\n",
            "                                                                                        Thu Nov 03, 1994 16:59 UTC  Space Shuttle Atlantis | STS-66             450.0  Success           1\n",
            "                                                                                        Thu Nov 23, 1989 00:23 UTC  Space Shuttle Discovery | STS-33R           450.0  Success           1\n",
            "                                                                                        Thu Nov 30, 2000 03:06 UTC  Space Shuttle Endeavour | STS-97            450.0  Success           1\n",
            "               VKS RF        Site 133/3, Plesetsk Cosmodrome, Russia                    Wed Sep 23, 2015 21:59 UTC  Rokot/Briz KM | Cosmos 2507 to 2509         41.8   Success           1\n",
            "Length: 963, dtype: int64\n"
          ]
        }
      ],
      "source": [
        "print(df_orgs)"
      ]
    },
    {
      "cell_type": "markdown",
      "metadata": {
        "id": "y9WtP5xWkYkp"
      },
      "source": [
        "# Distribution of Mission Status\n",
        "\n",
        "How many missions were successful?\n",
        "How many missions failed?"
      ]
    },
    {
      "cell_type": "code",
      "execution_count": 82,
      "metadata": {
        "id": "83kY1alqmUhb"
      },
      "outputs": [
        {
          "data": {
            "text/plain": [
              "Success              3879\n",
              "Failure               339\n",
              "Partial Failure       102\n",
              "Prelaunch Failure       4\n",
              "Name: Mission_Status, dtype: int64"
            ]
          },
          "execution_count": 82,
          "metadata": {},
          "output_type": "execute_result"
        }
      ],
      "source": [
        "df_data.Mission_Status.value_counts()"
      ]
    },
    {
      "cell_type": "code",
      "execution_count": 83,
      "metadata": {
        "id": "bdmXcaopmUeZ"
      },
      "outputs": [
        {
          "data": {
            "text/plain": [
              "<AxesSubplot:>"
            ]
          },
          "execution_count": 83,
          "metadata": {},
          "output_type": "execute_result"
        },
        {
          "data": {
            "image/png": "[encoded data removed]",
            "text/plain": [
              "<Figure size 432x288 with 1 Axes>"
            ]
          },
          "metadata": {
            "needs_background": "light"
          },
          "output_type": "display_data"
        }
      ],
      "source": [
        "df_data.Mission_Status.value_counts().plot(kind=\"bar\")"
      ]
    },
    {
      "cell_type": "markdown",
      "metadata": {
        "id": "jgTCihuoa-qH",
        "papermill": {
          "duration": 0.03854,
          "end_time": "2020-10-20T21:34:05.968626",
          "exception": false,
          "start_time": "2020-10-20T21:34:05.930086",
          "status": "completed"
        },
        "tags": []
      },
      "source": [
        "# How Expensive are the Launches? \n",
        "\n",
        "Create a histogram and visualise the distribution. The price column is given in USD millions (careful of missing values). "
      ]
    },
    {
      "cell_type": "code",
      "execution_count": 107,
      "metadata": {},
      "outputs": [],
      "source": [
        "df_data[\"Price\"] = pd.to_numeric((df_data.Price), errors=\"coerce\")"
      ]
    },
    {
      "cell_type": "code",
      "execution_count": 108,
      "metadata": {
        "id": "PLOMhzZFnSCO"
      },
      "outputs": [],
      "source": [
        "df_cleaned_data = df_data.dropna().sort_values(by=\"Price\")"
      ]
    },
    {
      "cell_type": "code",
      "execution_count": 114,
      "metadata": {
        "id": "ru0IcY4nnSFU"
      },
      "outputs": [
        {
          "data": {
            "text/plain": [
              "<AxesSubplot:xlabel='Price', ylabel='Count'>"
            ]
          },
          "execution_count": 114,
          "metadata": {},
          "output_type": "execute_result"
        },
        {
          "data": {
            "image/png": "[encoded data removed]",
            "text/plain": [
              "<Figure size 1440x576 with 1 Axes>"
            ]
          },
          "metadata": {
            "needs_background": "light"
          },
          "output_type": "display_data"
        }
      ],
      "source": [
        "plt.figure(figsize=(20,8))\n",
        "plt.xticks(rotation=45)\n",
        "sns.histplot(df_cleaned_data, x=\"Price\", binwidth=15, kde=True, hue=\"Rocket_Status\")"
      ]
    },
    {
      "cell_type": "markdown",
      "metadata": {
        "id": "QiNtigQDne3E"
      },
      "source": [
        "# Use a Choropleth Map to Show the Number of Launches by Country\n",
        "\n",
        "* Create a choropleth map using [the plotly documentation](https://plotly.com/python/choropleth-maps/)\n",
        "* Experiment with [plotly's available colours](https://plotly.com/python/builtin-colorscales/). I quite like the sequential colour `matter` on this map. \n",
        "* You'll need to extract a `country` feature as well as change the country names that no longer exist.\n",
        "\n",
        "Wrangle the Country Names\n",
        "\n",
        "You'll need to use a 3 letter country code for each country. You might have to change some country names.\n",
        "\n",
        "* Russia is the Russian Federation\n",
        "* New Mexico should be USA\n",
        "* Yellow Sea refers to China\n",
        "* Shahrud Missile Test Site should be Iran\n",
        "* Pacific Missile Range Facility should be USA\n",
        "* Barents Sea should be Russian Federation\n",
        "* Gran Canaria should be USA\n",
        "\n",
        "\n",
        "You can use the iso3166 package to convert the country names to Alpha3 format."
      ]
    },
    {
      "cell_type": "code",
      "execution_count": null,
      "metadata": {
        "id": "Y46-4GHrozhF"
      },
      "outputs": [],
      "source": []
    },
    {
      "cell_type": "code",
      "execution_count": null,
      "metadata": {
        "id": "ESGRWiX6ozZG"
      },
      "outputs": [],
      "source": []
    },
    {
      "cell_type": "markdown",
      "metadata": {
        "id": "F3pwYSUlo_AK"
      },
      "source": [
        "# Use a Choropleth Map to Show the Number of Failures by Country\n"
      ]
    },
    {
      "cell_type": "code",
      "execution_count": null,
      "metadata": {
        "id": "8BH4ICtro9I0"
      },
      "outputs": [],
      "source": []
    },
    {
      "cell_type": "code",
      "execution_count": null,
      "metadata": {
        "id": "sfw-q7Obo9GM"
      },
      "outputs": [],
      "source": []
    },
    {
      "cell_type": "markdown",
      "metadata": {
        "id": "9LqcqSrKa-qN",
        "papermill": {
          "duration": 0.039343,
          "end_time": "2020-10-20T21:34:06.591694",
          "exception": false,
          "start_time": "2020-10-20T21:34:06.552351",
          "status": "completed"
        },
        "tags": []
      },
      "source": [
        "# Create a Plotly Sunburst Chart of the countries, organisations, and mission status. "
      ]
    },
    {
      "cell_type": "code",
      "execution_count": 119,
      "metadata": {
        "id": "MwUfpoByo3_J"
      },
      "outputs": [
        {
          "data": {
            "application/vnd.plotly.v1+json": {
              "config": {
                "plotlyServerURL": "https://plot.ly"
              },
              "data": [
                {
                  "domain": {
                    "x": [
                      0,
                      1
                    ],
                    "y": [
                      0,
                      1
                    ]
                  },
                  "hovertemplate": "Mission_Status=%{label}<br>Rocket_Status=%{value}<br>Organisation=%{parent}<extra></extra>",
                  "labels": [
                    "Success",
                    "Success",
                    "Success",
                    "Success",
                    "Success",
                    "Success",
                    "Success",
                    "Success",
                    "Success",
                    "Failure",
                    "Success",
                    "Failure",
                    "Success",
                    "Failure",
                    "Success",
                    "Success",
                    "Success",
                    "Success",
                    "Success",
                    "Success",
                    "Failure",
                    "Success",
                    "Success",
                    "Success",
                    "Success",
                    "Success",
                    "Failure",
                    "Success",
                    "Failure",
                    "Failure",
                    "Failure",
                    "Success",
                    "Success",
                    "Success",
                    "Success",
                    "Success",
                    "Success",
                    "Success",
                    "Success",
                    "Success",
                    "Success",
                    "Success",
                    "Success",
                    "Success",
                    "Success",
                    "Success",
                    "Success",
                    "Success",
                    "Success",
                    "Success",
                    "Success",
                    "Success",
                    "Success",
                    "Success",
                    "Success",
                    "Partial Failure",
                    "Success",
                    "Success",
                    "Failure",
                    "Success",
                    "Failure",
                    "Success",
                    "Success",
                    "Success",
                    "Success",
                    "Success",
                    "Success",
                    "Success",
                    "Success",
                    "Success",
                    "Success",
                    "Success",
                    "Success",
                    "Success",
                    "Success",
                    "Success",
                    "Success",
                    "Success",
                    "Success",
                    "Success",
                    "Failure",
                    "Success",
                    "Success",
                    "Success",
                    "Success",
                    "Success",
                    "Success",
                    "Success",
                    "Success",
                    "Success",
                    "Success",
                    "Success",
                    "Success",
                    "Success",
                    "Success",
                    "Success",
                    "Success",
                    "Success",
                    "Success",
                    "Failure",
                    "Success",
                    "Success",
                    "Success",
                    "Success",
                    "Success",
                    "Partial Failure",
                    "Success",
                    "Success",
                    "Success",
                    "Success",
                    "Success",
                    "Success",
                    "Success",
                    "Success",
                    "Success",
                    "Success",
                    "Success",
                    "Success",
                    "Success",
                    "Success",
                    "Success",
                    "Success",
                    "Success",
                    "Success",
                    "Success",
                    "Success",
                    "Partial Failure",
                    "Success",
                    "Success",
                    "Success",
                    "Success",
                    "Success",
                    "Success",
                    "Success",
                    "Success",
                    "Success",
                    "Success",
                    "Success",
                    "Success",
                    "Success",
                    "Success",
                    "Success",
                    "Success",
                    "Success",
                    "Success",
                    "Success",
                    "Success",
                    "Success",
                    "Success",
                    "Success",
                    "Success",
                    "Success",
                    "Success",
                    "Success",
                    "Success",
                    "Success",
                    "Success",
                    "Success",
                    "Success",
                    "Success",
                    "Success",
                    "Success",
                    "Success",
                    "Success",
                    "Success",
                    "Success",
                    "Success",
                    "Success",
                    "Success",
                    "Success",
                    "Success",
                    "Success",
                    "Success",
                    "Success",
                    "Success",
                    "Success",
                    "Success",
                    "Success",
                    "Success",
                    "Success",
                    "Success",
                    "Success",
                    "Success",
                    "Success",
                    "Success",
                    "Success",
                    "Failure",
                    "Success",
                    "Success",
                    "Success",
                    "Success",
                    "Success",
                    "Success",
                    "Success",
                    "Success",
                    "Success",
                    "Success",
                    "Success",
                    "Success",
                    "Success",
                    "Success",
                    "Success",
                    "Success",
                    "Failure",
                    "Success",
                    "Success",
                    "Success",
                    "Success",
                    "Success",
                    "Success",
                    "Success",
                    "Success",
                    "Success",
                    "Success",
                    "Success",
                    "Success",
                    "Success",
                    "Success",
                    "Success",
                    "Success",
                    "Success",
                    "Success",
                    "Success",
                    "Success",
                    "Success",
                    "Success",
                    "Success",
                    "Success",
                    "Success",
                    "Success",
                    "Success",
                    "Failure",
                    "Success",
                    "Success",
                    "Success",
                    "Partial Failure",
                    "Success",
                    "Success",
                    "Success",
                    "Failure",
                    "Success",
                    "Success",
                    "Success",
                    "Success",
                    "Success",
                    "Success",
                    "Success",
                    "Success",
                    "Success",
                    "Failure",
                    "Success",
                    "Success",
                    "Success",
                    "Success",
                    "Success",
                    "Success",
                    "Success",
                    "Success",
                    "Success",
                    "Success",
                    "Success",
                    "Success",
                    "Partial Failure",
                    "Success",
                    "Success",
                    "Success",
                    "Success",
                    "Success",
                    "Success",
                    "Success",
                    "Success",
                    "Success",
                    "Success",
                    "Success",
                    "Success",
                    "Success",
                    "Success",
                    "Success",
                    "Success",
                    "Success",
                    "Success",
                    "Success",
                    "Success",
                    "Success",
                    "Success",
                    "Failure",
                    "Success",
                    "Success",
                    "Success",
                    "Success",
                    "Success",
                    "Success",
                    "Success",
                    "Success",
                    "Success",
                    "Success",
                    "Success",
                    "Success",
                    "Success",
                    "Success",
                    "Success",
                    "Success",
                    "Partial Failure",
                    "Success",
                    "Success",
                    "Success",
                    "Success",
                    "Success",
                    "Failure",
                    "Success",
                    "Success",
                    "Success",
                    "Success",
                    "Success",
                    "Success",
                    "Success",
                    "Success",
                    "Partial Failure",
                    "Success",
                    "Success",
                    "Success",
                    "Success",
                    "Success",
                    "Success",
                    "Success",
                    "Failure",
                    "Failure",
                    "Success",
                    "Success",
                    "Failure",
                    "Success",
                    "Success",
                    "Success",
                    "Success",
                    "Success",
                    "Success",
                    "Partial Failure",
                    "Success",
                    "Success",
                    "Success",
                    "Failure",
                    "Success",
                    "Success",
                    "Failure",
                    "Partial Failure",
                    "Failure",
                    "Success",
                    "Success",
                    "Success",
                    "Success",
                    "Success",
                    "Success",
                    "Success",
                    "Success",
                    "Success",
                    "Success",
                    "Success",
                    "Success",
                    "Success",
                    "Success",
                    "Success",
                    "Success",
                    "Success",
                    "Success",
                    "Success",
                    "Success",
                    "Success",
                    "Partial Failure",
                    "Success",
                    "Success",
                    "Success",
                    "Success",
                    "Success",
                    "Success",
                    "Success",
                    "Success",
                    "Success",
                    "Success",
                    "Success",
                    "Success",
                    "Success",
                    "Success",
                    "Success",
                    "Success",
                    "Success",
                    "Success",
                    "Success",
                    "Success",
                    "Success",
                    "Success",
                    "Success",
                    "Success",
                    "Success",
                    "Success",
                    "Success",
                    "Success",
                    "Success",
                    "Success",
                    "Success",
                    "Success",
                    "Success",
                    "Success",
                    "Success",
                    "Success",
                    "Success",
                    "Success",
                    "Success",
                    "Success",
                    "Success",
                    "Success",
                    "Success",
                    "Success",
                    "Success",
                    "Success",
                    "Success",
                    "Failure",
                    "Success",
                    "Success",
                    "Success",
                    "Success",
                    "Success",
                    "Success",
                    "Success",
                    "Success",
                    "Success",
                    "Success",
                    "Success",
                    "Success",
                    "Partial Failure",
                    "Success",
                    "Failure",
                    "Success",
                    "Success",
                    "Success",
                    "Success",
                    "Success",
                    "Success",
                    "Success",
                    "Success",
                    "Success",
                    "Success",
                    "Success",
                    "Success",
                    "Success",
                    "Success",
                    "Success",
                    "Success",
                    "Partial Failure",
                    "Success",
                    "Success",
                    "Success",
                    "Success",
                    "Success",
                    "Success",
                    "Success",
                    "Success",
                    "Success",
                    "Success",
                    "Success",
                    "Success",
                    "Success",
                    "Success",
                    "Success",
                    "Success",
                    "Success",
                    "Success",
                    "Success",
                    "Success",
                    "Success",
                    "Success",
                    "Success",
                    "Success",
                    "Success",
                    "Success",
                    "Success",
                    "Success",
                    "Success",
                    "Success",
                    "Success",
                    "Prelaunch Failure",
                    "Success",
                    "Success",
                    "Success",
                    "Success",
                    "Success",
                    "Success",
                    "Success",
                    "Success",
                    "Success",
                    "Success",
                    "Success",
                    "Success",
                    "Success",
                    "Success",
                    "Failure",
                    "Success",
                    "Success",
                    "Success",
                    "Success",
                    "Success",
                    "Success",
                    "Success",
                    "Success",
                    "Success",
                    "Success",
                    "Success",
                    "Success",
                    "Success",
                    "Success",
                    "Success",
                    "Success",
                    "Success",
                    "Success",
                    "Success",
                    "Success",
                    "Success",
                    "Failure",
                    "Success",
                    "Success",
                    "Success",
                    "Success",
                    "Failure",
                    "Success",
                    "Success",
                    "Success",
                    "Success",
                    "Success",
                    "Success",
                    "Success",
                    "Success",
                    "Success",
                    "Success",
                    "Success",
                    "Success",
                    "Success",
                    "Success",
                    "Success",
                    "Success",
                    "Success",
                    "Failure",
                    "Success",
                    "Success",
                    "Success",
                    "Success",
                    "Success",
                    "Success",
                    "Partial Failure",
                    "Success",
                    "Success",
                    "Success",
                    "Success",
                    "Success",
                    "Success",
                    "Success",
                    "Success",
                    "Success",
                    "Success",
                    "Success",
                    "Success",
                    "Success",
                    "Success",
                    "Success",
                    "Success",
                    "Success",
                    "Success",
                    "Success",
                    "Success",
                    "Success",
                    "Success",
                    "Failure",
                    "Success",
                    "Success",
                    "Success",
                    "Success",
                    "Success",
                    "Success",
                    "Success",
                    "Success",
                    "Success",
                    "Success",
                    "Success",
                    "Success",
                    "Success",
                    "Success",
                    "Success",
                    "Success",
                    "Success",
                    "Success",
                    "Success",
                    "Success",
                    "Success",
                    "Success",
                    "Success",
                    "Success",
                    "Success",
                    "Success",
                    "Success",
                    "Success",
                    "Success",
                    "Success",
                    "Success",
                    "Success",
                    "Success",
                    "Success",
                    "Success",
                    "Success",
                    "Success",
                    "Success",
                    "Success",
                    "Success",
                    "Success",
                    "Success",
                    "Success",
                    "Success",
                    "Success",
                    "Success",
                    "Success",
                    "Success",
                    "Success",
                    "Success",
                    "Success",
                    "Success",
                    "Success",
                    "Success",
                    "Success",
                    "Success",
                    "Success",
                    "Success",
                    "Success",
                    "Success",
                    "Success",
                    "Success",
                    "Success",
                    "Success",
                    "Success",
                    "Success",
                    "Success",
                    "Success",
                    "Success",
                    "Success",
                    "Partial Failure",
                    "Success",
                    "Success",
                    "Success",
                    "Success",
                    "Success",
                    "Success",
                    "Success",
                    "Success",
                    "Success",
                    "Success",
                    "Success",
                    "Success",
                    "Success",
                    "Success",
                    "Success",
                    "Success",
                    "Success",
                    "Success",
                    "Success",
                    "Success",
                    "Success",
                    "Success",
                    "Success",
                    "Success",
                    "Success",
                    "Success",
                    "Success",
                    "Success",
                    "Success",
                    "Success",
                    "Success",
                    "Success",
                    "Success",
                    "Success",
                    "Success",
                    "Success",
                    "Success",
                    "Success",
                    "Success",
                    "Success",
                    "Success",
                    "Success",
                    "Success",
                    "Success",
                    "Success",
                    "Failure",
                    "Success",
                    "Success",
                    "Success",
                    "Success",
                    "Success",
                    "Success",
                    "Success",
                    "Success",
                    "Success",
                    "Success",
                    "Success",
                    "Success",
                    "Success",
                    "Success",
                    "Success",
                    "Success",
                    "Success",
                    "Success",
                    "Success",
                    "Success",
                    "Success",
                    "Success",
                    "Success",
                    "Success",
                    "Success",
                    "Success",
                    "Success",
                    "Success",
                    "Success",
                    "Success",
                    "Success",
                    "Success",
                    "Success",
                    "Success",
                    "Success",
                    "Success",
                    "Success",
                    "Success",
                    "Success",
                    "Success",
                    "Success",
                    "Success",
                    "Success",
                    "Success",
                    "Success",
                    "Success",
                    "Success",
                    "Success",
                    "Success",
                    "Success",
                    "Success",
                    "Success",
                    "Success",
                    "Success",
                    "Success",
                    "Success",
                    "Success",
                    "Success",
                    "Success",
                    "Success",
                    "Success",
                    "Success",
                    "Partial Failure",
                    "Success",
                    "Success",
                    "Success",
                    "Success",
                    "Success",
                    "Success",
                    "Success",
                    "Success",
                    "Success",
                    "Success",
                    "Success",
                    "Success",
                    "Success",
                    "Success",
                    "Success",
                    "Success",
                    "Success",
                    "Success",
                    "Success",
                    "Success",
                    "Success",
                    "Success",
                    "Success",
                    "Success",
                    "Success",
                    "Success",
                    "Success",
                    "Success",
                    "Success",
                    "Success",
                    "Failure",
                    "Success",
                    "Success",
                    "Success",
                    "Success",
                    "Success",
                    "Success",
                    "Success",
                    "Success",
                    "Success",
                    "Success",
                    "Success",
                    "Success",
                    "Success",
                    "Success",
                    "Success",
                    "Success",
                    "Success",
                    "Success",
                    "Success",
                    "Success",
                    "Success",
                    "Success",
                    "Success",
                    "Success",
                    "Success",
                    "Success",
                    "Success",
                    "Partial Failure",
                    "Success",
                    "Success",
                    "Success",
                    "Success",
                    "Success",
                    "Success",
                    "Success",
                    "Success",
                    "Success",
                    "Success",
                    "Success",
                    "Success",
                    "Success",
                    "Success",
                    "Success",
                    "Success",
                    "Success",
                    "Success",
                    "Success",
                    "Success",
                    "Success",
                    "Success",
                    "Success",
                    "Success",
                    "Success",
                    "Success",
                    "Success",
                    "Success",
                    "Success",
                    "Success",
                    "Success",
                    "Success",
                    "Success",
                    "Success",
                    "Success",
                    "Success",
                    "Success",
                    "Success",
                    "Success",
                    "Success",
                    "Success",
                    "Failure",
                    "Success",
                    "Success",
                    "Success",
                    "Success",
                    "Success",
                    "Success",
                    "Success",
                    "Success",
                    "Success",
                    "Success",
                    "Success",
                    "Success",
                    "Success",
                    "Success",
                    "Success",
                    "Success",
                    "Success",
                    "Success",
                    "Success",
                    "Success",
                    "Success",
                    "Success",
                    "Success",
                    "Success",
                    "Success",
                    "Success",
                    "Success",
                    "Success",
                    "Success",
                    "Success",
                    "Success",
                    "Success",
                    "Success",
                    "Success",
                    "Success",
                    "Success",
                    "Success",
                    "Success",
                    "Failure",
                    "Success",
                    "Success",
                    "Success",
                    "Success",
                    "Success",
                    "Success",
                    "Success",
                    "Success",
                    "Success",
                    "Success",
                    "Success",
                    "Success",
                    "Success",
                    "Success",
                    "Success",
                    "Success",
                    "Success",
                    "Success",
                    "Success",
                    "Success",
                    "Success",
                    "Success",
                    "Success",
                    "Success",
                    "Success",
                    "Success",
                    "Success",
                    "Success",
                    "Success",
                    "Success",
                    "Success",
                    "Success",
                    "Success",
                    "Success",
                    "Success",
                    "Success",
                    "Success",
                    "Success",
                    "Success",
                    "Success",
                    "Success",
                    "Success",
                    "Success",
                    "Success",
                    "Success",
                    "Success",
                    "Success",
                    "Success",
                    "Success",
                    "Success",
                    "Success",
                    "Success",
                    "Success",
                    "Success",
                    "Success",
                    "Success",
                    "Success",
                    "Success",
                    "Success"
                  ],
                  "name": "",
                  "parents": [
                    "CASC",
                    "CASC",
                    "CASC",
                    "CASC",
                    "CASC",
                    "CASC",
                    "CASC",
                    "CASC",
                    "CASC",
                    "SpaceX",
                    "SpaceX",
                    "SpaceX",
                    "SpaceX",
                    "SpaceX",
                    "Rocket Lab",
                    "Rocket Lab",
                    "Rocket Lab",
                    "Rocket Lab",
                    "Rocket Lab",
                    "Rocket Lab",
                    "Rocket Lab",
                    "Rocket Lab",
                    "CASC",
                    "Rocket Lab",
                    "Rocket Lab",
                    "Rocket Lab",
                    "Rocket Lab",
                    "Rocket Lab",
                    "Virgin Orbit",
                    "Sandia",
                    "EER",
                    "CASC",
                    "ISRO",
                    "ISRO",
                    "ISRO",
                    "ISRO",
                    "ISRO",
                    "ISRO",
                    "ISRO",
                    "ISRO",
                    "ISRO",
                    "ISRO",
                    "ISRO",
                    "ISRO",
                    "ISRO",
                    "ISRO",
                    "ISRO",
                    "ISRO",
                    "ISRO",
                    "ISRO",
                    "ISRO",
                    "ISRO",
                    "ISRO",
                    "ISRO",
                    "ISRO",
                    "ISRO",
                    "ISRO",
                    "ISRO",
                    "ISRO",
                    "ISRO",
                    "ExPace",
                    "Kosmotras",
                    "Kosmotras",
                    "Kosmotras",
                    "Kosmotras",
                    "Kosmotras",
                    "Kosmotras",
                    "Kosmotras",
                    "Kosmotras",
                    "Kosmotras",
                    "Kosmotras",
                    "Kosmotras",
                    "Kosmotras",
                    "Kosmotras",
                    "Kosmotras",
                    "Kosmotras",
                    "Kosmotras",
                    "Kosmotras",
                    "Kosmotras",
                    "Kosmotras",
                    "Kosmotras",
                    "Kosmotras",
                    "Kosmotras",
                    "CASC",
                    "CASC",
                    "CASC",
                    "CASC",
                    "CASC",
                    "CASC",
                    "CASC",
                    "CASC",
                    "CASC",
                    "CASC",
                    "CASC",
                    "CASC",
                    "CASC",
                    "CASC",
                    "CASC",
                    "CASC",
                    "CASC",
                    "CASC",
                    "CASC",
                    "CASC",
                    "CASC",
                    "CASC",
                    "CASC",
                    "CASC",
                    "CASC",
                    "CASC",
                    "CASC",
                    "CASC",
                    "CASC",
                    "CASC",
                    "CASC",
                    "CASC",
                    "CASC",
                    "CASC",
                    "CASC",
                    "CASC",
                    "CASC",
                    "CASC",
                    "CASC",
                    "CASC",
                    "CASC",
                    "CASC",
                    "CASC",
                    "CASC",
                    "CASC",
                    "CASC",
                    "CASC",
                    "CASC",
                    "CASC",
                    "CASC",
                    "CASC",
                    "CASC",
                    "CASC",
                    "CASC",
                    "CASC",
                    "CASC",
                    "CASC",
                    "CASC",
                    "CASC",
                    "CASC",
                    "CASC",
                    "CASC",
                    "CASC",
                    "CASC",
                    "CASC",
                    "CASC",
                    "CASC",
                    "CASC",
                    "CASC",
                    "CASC",
                    "CASC",
                    "CASC",
                    "CASC",
                    "CASC",
                    "CASC",
                    "CASC",
                    "CASC",
                    "CASC",
                    "CASC",
                    "CASC",
                    "CASC",
                    "CASC",
                    "CASC",
                    "CASC",
                    "CASC",
                    "CASC",
                    "CASC",
                    "CASC",
                    "CASC",
                    "CASC",
                    "CASC",
                    "CASC",
                    "CASC",
                    "CASC",
                    "CASC",
                    "CASC",
                    "ISRO",
                    "ISRO",
                    "ISRO",
                    "ISRO",
                    "ISRO",
                    "ISRO",
                    "ISRO",
                    "ISRO",
                    "ISRO",
                    "ISRO",
                    "ISRO",
                    "ISRO",
                    "ISRO",
                    "ISRO",
                    "ISRO",
                    "ISRO",
                    "ISRO",
                    "ISRO",
                    "ISRO",
                    "ISRO",
                    "ISRO",
                    "ISRO",
                    "Martin Marietta",
                    "Lockheed",
                    "Martin Marietta",
                    "VKS RF",
                    "Roscosmos",
                    "Roscosmos",
                    "Lockheed",
                    "Lockheed",
                    "Martin Marietta",
                    "Lockheed",
                    "Lockheed",
                    "Lockheed",
                    "Lockheed",
                    "Martin Marietta",
                    "Lockheed",
                    "Martin Marietta",
                    "Arianespace",
                    "Arianespace",
                    "Arianespace",
                    "Arianespace",
                    "Arianespace",
                    "Arianespace",
                    "Arianespace",
                    "Arianespace",
                    "ESA",
                    "Arianespace",
                    "Arianespace",
                    "Arianespace",
                    "Arianespace",
                    "Arianespace",
                    "Arianespace",
                    "JAXA",
                    "JAXA",
                    "Northrop",
                    "Northrop",
                    "Northrop",
                    "Northrop",
                    "Northrop",
                    "Northrop",
                    "Northrop",
                    "Northrop",
                    "Northrop",
                    "Northrop",
                    "Northrop",
                    "Northrop",
                    "Northrop",
                    "Northrop",
                    "Northrop",
                    "Northrop",
                    "Northrop",
                    "Northrop",
                    "Northrop",
                    "Northrop",
                    "Northrop",
                    "Northrop",
                    "Northrop",
                    "Northrop",
                    "Northrop",
                    "Northrop",
                    "Northrop",
                    "Northrop",
                    "Northrop",
                    "Northrop",
                    "Northrop",
                    "Northrop",
                    "Northrop",
                    "Northrop",
                    "Northrop",
                    "Northrop",
                    "Northrop",
                    "Northrop",
                    "Northrop",
                    "Northrop",
                    "Northrop",
                    "Northrop",
                    "Northrop",
                    "Northrop",
                    "Northrop",
                    "Northrop",
                    "Northrop",
                    "Northrop",
                    "Northrop",
                    "Northrop",
                    "Northrop",
                    "Northrop",
                    "Northrop",
                    "Northrop",
                    "Northrop",
                    "VKS RF",
                    "VKS RF",
                    "VKS RF",
                    "VKS RF",
                    "Eurockot",
                    "VKS RF",
                    "Eurockot",
                    "Eurockot",
                    "VKS RF",
                    "VKS RF",
                    "Eurockot",
                    "VKS RF",
                    "VKS RF",
                    "VKS RF",
                    "VKS RF",
                    "VKS RF",
                    "VKS RF",
                    "Eurockot",
                    "Eurockot",
                    "Eurockot",
                    "VKS RF",
                    "VKS RF",
                    "Eurockot",
                    "VKS RF",
                    "Eurockot",
                    "VKS RF",
                    "Eurockot",
                    "Eurockot",
                    "VKS RF",
                    "Eurockot",
                    "Eurockot",
                    "Northrop",
                    "Northrop",
                    "Northrop",
                    "Northrop",
                    "Northrop",
                    "Northrop",
                    "Northrop",
                    "Northrop",
                    "Northrop",
                    "Northrop",
                    "Northrop",
                    "Northrop",
                    "Northrop",
                    "Northrop",
                    "Northrop",
                    "ISRO",
                    "ISRO",
                    "ISRO",
                    "ISRO",
                    "ISRO",
                    "ISRO",
                    "ISRO",
                    "ISRO",
                    "ISRO",
                    "ISRO",
                    "ISRO",
                    "ISRO",
                    "ISRO",
                    "VKS RF",
                    "VKS RF",
                    "Roscosmos",
                    "Roscosmos",
                    "Roscosmos",
                    "VKS RF",
                    "VKS RF",
                    "Roscosmos",
                    "VKS RF",
                    "VKS RF",
                    "Roscosmos",
                    "Arianespace",
                    "Roscosmos",
                    "Roscosmos",
                    "Roscosmos",
                    "VKS RF",
                    "Roscosmos",
                    "Roscosmos",
                    "VKS RF",
                    "Roscosmos",
                    "VKS RF",
                    "Arianespace",
                    "Roscosmos",
                    "Roscosmos",
                    "Roscosmos",
                    "Roscosmos",
                    "SpaceX",
                    "SpaceX",
                    "SpaceX",
                    "SpaceX",
                    "SpaceX",
                    "SpaceX",
                    "SpaceX",
                    "SpaceX",
                    "SpaceX",
                    "SpaceX",
                    "SpaceX",
                    "SpaceX",
                    "SpaceX",
                    "SpaceX",
                    "SpaceX",
                    "SpaceX",
                    "SpaceX",
                    "SpaceX",
                    "SpaceX",
                    "SpaceX",
                    "SpaceX",
                    "SpaceX",
                    "SpaceX",
                    "SpaceX",
                    "SpaceX",
                    "SpaceX",
                    "SpaceX",
                    "SpaceX",
                    "SpaceX",
                    "SpaceX",
                    "SpaceX",
                    "SpaceX",
                    "SpaceX",
                    "SpaceX",
                    "Northrop",
                    "SpaceX",
                    "SpaceX",
                    "SpaceX",
                    "SpaceX",
                    "SpaceX",
                    "SpaceX",
                    "SpaceX",
                    "SpaceX",
                    "SpaceX",
                    "SpaceX",
                    "SpaceX",
                    "SpaceX",
                    "SpaceX",
                    "SpaceX",
                    "SpaceX",
                    "US Air Force",
                    "US Air Force",
                    "US Air Force",
                    "US Air Force",
                    "US Air Force",
                    "US Air Force",
                    "US Air Force",
                    "US Air Force",
                    "US Air Force",
                    "US Air Force",
                    "US Air Force",
                    "US Air Force",
                    "US Air Force",
                    "US Air Force",
                    "US Air Force",
                    "US Air Force",
                    "US Air Force",
                    "US Air Force",
                    "US Air Force",
                    "US Air Force",
                    "US Air Force",
                    "US Air Force",
                    "SpaceX",
                    "SpaceX",
                    "SpaceX",
                    "SpaceX",
                    "SpaceX",
                    "SpaceX",
                    "SpaceX",
                    "SpaceX",
                    "SpaceX",
                    "ISRO",
                    "SpaceX",
                    "SpaceX",
                    "SpaceX",
                    "SpaceX",
                    "SpaceX",
                    "SpaceX",
                    "SpaceX",
                    "SpaceX",
                    "SpaceX",
                    "SpaceX",
                    "SpaceX",
                    "ISRO",
                    "SpaceX",
                    "SpaceX",
                    "SpaceX",
                    "ISRO",
                    "SpaceX",
                    "SpaceX",
                    "SpaceX",
                    "SpaceX",
                    "SpaceX",
                    "SpaceX",
                    "SpaceX",
                    "SpaceX",
                    "SpaceX",
                    "SpaceX",
                    "SpaceX",
                    "SpaceX",
                    "SpaceX",
                    "SpaceX",
                    "SpaceX",
                    "ISRO",
                    "SpaceX",
                    "SpaceX",
                    "SpaceX",
                    "SpaceX",
                    "US Air Force",
                    "US Air Force",
                    "US Air Force",
                    "US Air Force",
                    "CASC",
                    "CASC",
                    "CASC",
                    "CASC",
                    "CASC",
                    "CASC",
                    "CASC",
                    "CASC",
                    "CASC",
                    "CASC",
                    "CASC",
                    "CASC",
                    "CASC",
                    "CASC",
                    "CASC",
                    "CASC",
                    "CASC",
                    "CASC",
                    "CASC",
                    "CASC",
                    "CASC",
                    "CASC",
                    "CASC",
                    "CASC",
                    "CASC",
                    "CASC",
                    "CASC",
                    "CASC",
                    "CASC",
                    "CASC",
                    "CASC",
                    "CASC",
                    "CASC",
                    "CASC",
                    "ILS",
                    "Roscosmos",
                    "Roscosmos",
                    "ILS",
                    "Roscosmos",
                    "VKS RF",
                    "ILS",
                    "ILS",
                    "VKS RF",
                    "VKS RF",
                    "Roscosmos",
                    "VKS RF",
                    "Roscosmos",
                    "ILS",
                    "Roscosmos",
                    "VKS RF",
                    "CASC",
                    "CASC",
                    "CASC",
                    "CASC",
                    "CASC",
                    "CASC",
                    "CASC",
                    "CASC",
                    "CASC",
                    "CASC",
                    "CASC",
                    "CASC",
                    "CASC",
                    "CASC",
                    "CASC",
                    "CASC",
                    "CASC",
                    "Arianespace",
                    "Northrop",
                    "Northrop",
                    "Arianespace",
                    "Northrop",
                    "Northrop",
                    "Northrop",
                    "Northrop",
                    "Northrop",
                    "Northrop",
                    "Northrop",
                    "Northrop",
                    "Northrop",
                    "Northrop",
                    "MHI",
                    "MHI",
                    "MHI",
                    "MHI",
                    "MHI",
                    "SpaceX",
                    "SpaceX",
                    "MHI",
                    "MHI",
                    "MHI",
                    "MHI",
                    "MHI",
                    "MHI",
                    "MHI",
                    "MHI",
                    "MHI",
                    "MHI",
                    "MHI",
                    "MHI",
                    "MHI",
                    "MHI",
                    "MHI",
                    "MHI",
                    "MHI",
                    "MHI",
                    "JAXA",
                    "SpaceX",
                    "MHI",
                    "MHI",
                    "MHI",
                    "MHI",
                    "MHI",
                    "ULA",
                    "ULA",
                    "ULA",
                    "ULA",
                    "ULA",
                    "ULA",
                    "ULA",
                    "ULA",
                    "ULA",
                    "ULA",
                    "ULA",
                    "ULA",
                    "ULA",
                    "ULA",
                    "ULA",
                    "ULA",
                    "ULA",
                    "ILS",
                    "ILS",
                    "ULA",
                    "ILS",
                    "ULA",
                    "ULA",
                    "ULA",
                    "ULA",
                    "ULA",
                    "ULA",
                    "ULA",
                    "ULA",
                    "ULA",
                    "ULA",
                    "ULA",
                    "ULA",
                    "ULA",
                    "ULA",
                    "ULA",
                    "ULA",
                    "MHI",
                    "MHI",
                    "MHI",
                    "MHI",
                    "MHI",
                    "MHI",
                    "MHI",
                    "MHI",
                    "MHI",
                    "ULA",
                    "ULA",
                    "ULA",
                    "ULA",
                    "ILS",
                    "ULA",
                    "ULA",
                    "ULA",
                    "ULA",
                    "ULA",
                    "ULA",
                    "ULA",
                    "ULA",
                    "ULA",
                    "ULA",
                    "ULA",
                    "ULA",
                    "ULA",
                    "ULA",
                    "ULA",
                    "ULA",
                    "ULA",
                    "ULA",
                    "ILS",
                    "Boeing",
                    "Boeing",
                    "Boeing",
                    "ILS",
                    "ILS",
                    "Martin Marietta",
                    "Martin Marietta",
                    "Martin Marietta",
                    "Martin Marietta",
                    "ULA",
                    "ULA",
                    "ULA",
                    "ULA",
                    "ULA",
                    "ULA",
                    "ULA",
                    "ULA",
                    "ULA",
                    "ULA",
                    "ILS",
                    "ULA",
                    "ULA",
                    "ULA",
                    "ULA",
                    "ULA",
                    "ULA",
                    "ULA",
                    "ULA",
                    "ULA",
                    "ULA",
                    "ULA",
                    "ULA",
                    "ULA",
                    "Boeing",
                    "Boeing",
                    "ULA",
                    "ULA",
                    "ULA",
                    "ULA",
                    "ULA",
                    "ULA",
                    "ULA",
                    "ULA",
                    "Boeing",
                    "ULA",
                    "Arianespace",
                    "Arianespace",
                    "Arianespace",
                    "Arianespace",
                    "Arianespace",
                    "Arianespace",
                    "Arianespace",
                    "Arianespace",
                    "Arianespace",
                    "Arianespace",
                    "Arianespace",
                    "Arianespace",
                    "Arianespace",
                    "Arianespace",
                    "Arianespace",
                    "Arianespace",
                    "Arianespace",
                    "Arianespace",
                    "Arianespace",
                    "Arianespace",
                    "Arianespace",
                    "Arianespace",
                    "Arianespace",
                    "Arianespace",
                    "Arianespace",
                    "Arianespace",
                    "Arianespace",
                    "Arianespace",
                    "Arianespace",
                    "Arianespace",
                    "Arianespace",
                    "Arianespace",
                    "Arianespace",
                    "Arianespace",
                    "Arianespace",
                    "Arianespace",
                    "Arianespace",
                    "Arianespace",
                    "Arianespace",
                    "Arianespace",
                    "Arianespace",
                    "Arianespace",
                    "Arianespace",
                    "Arianespace",
                    "Arianespace",
                    "Arianespace",
                    "Arianespace",
                    "Arianespace",
                    "Arianespace",
                    "Arianespace",
                    "Arianespace",
                    "Arianespace",
                    "Arianespace",
                    "Arianespace",
                    "Arianespace",
                    "Arianespace",
                    "Arianespace",
                    "Arianespace",
                    "Arianespace",
                    "Arianespace",
                    "Arianespace",
                    "Arianespace",
                    "Arianespace",
                    "Arianespace",
                    "Arianespace",
                    "Arianespace",
                    "Arianespace",
                    "Arianespace",
                    "Arianespace",
                    "Arianespace",
                    "Arianespace",
                    "Arianespace",
                    "Arianespace",
                    "Arianespace",
                    "Arianespace",
                    "Arianespace",
                    "Arianespace",
                    "Arianespace",
                    "ULA",
                    "ULA",
                    "ULA",
                    "ULA",
                    "ULA",
                    "ULA",
                    "Boeing",
                    "ULA",
                    "ULA",
                    "ULA",
                    "ULA",
                    "NASA",
                    "NASA",
                    "NASA",
                    "NASA",
                    "NASA",
                    "NASA",
                    "NASA",
                    "NASA",
                    "NASA",
                    "NASA",
                    "NASA",
                    "NASA",
                    "NASA",
                    "NASA",
                    "NASA",
                    "NASA",
                    "NASA",
                    "NASA",
                    "NASA",
                    "NASA",
                    "NASA",
                    "NASA",
                    "NASA",
                    "NASA",
                    "NASA",
                    "NASA",
                    "NASA",
                    "NASA",
                    "NASA",
                    "NASA",
                    "NASA",
                    "NASA",
                    "NASA",
                    "NASA",
                    "NASA",
                    "NASA",
                    "NASA",
                    "NASA",
                    "NASA",
                    "NASA",
                    "NASA",
                    "NASA",
                    "NASA",
                    "NASA",
                    "NASA",
                    "NASA",
                    "NASA",
                    "NASA",
                    "NASA",
                    "NASA",
                    "NASA",
                    "NASA",
                    "NASA",
                    "NASA",
                    "NASA",
                    "NASA",
                    "NASA",
                    "NASA",
                    "NASA",
                    "NASA",
                    "NASA",
                    "NASA",
                    "NASA",
                    "NASA",
                    "NASA",
                    "NASA",
                    "NASA",
                    "NASA",
                    "NASA",
                    "NASA",
                    "NASA",
                    "NASA",
                    "NASA",
                    "NASA",
                    "NASA",
                    "NASA",
                    "NASA",
                    "NASA",
                    "NASA",
                    "NASA",
                    "NASA",
                    "NASA",
                    "NASA",
                    "NASA",
                    "NASA",
                    "NASA",
                    "NASA",
                    "NASA",
                    "NASA",
                    "NASA",
                    "NASA",
                    "NASA",
                    "NASA",
                    "NASA",
                    "NASA",
                    "NASA",
                    "NASA",
                    "NASA",
                    "NASA",
                    "NASA",
                    "NASA",
                    "NASA",
                    "NASA",
                    "NASA",
                    "NASA",
                    "NASA",
                    "NASA",
                    "NASA",
                    "NASA",
                    "NASA",
                    "NASA",
                    "NASA",
                    "NASA",
                    "NASA",
                    "NASA",
                    "NASA",
                    "NASA",
                    "NASA",
                    "NASA",
                    "NASA",
                    "NASA",
                    "NASA",
                    "NASA",
                    "NASA",
                    "NASA",
                    "NASA",
                    "NASA",
                    "NASA",
                    "NASA",
                    "NASA",
                    "NASA",
                    "NASA",
                    "NASA",
                    "NASA",
                    "NASA",
                    "NASA"
                  ],
                  "type": "sunburst",
                  "values": [
                    "StatusActive",
                    "StatusActive",
                    "StatusActive",
                    "StatusActive",
                    "StatusActive",
                    "StatusActive",
                    "StatusActive",
                    "StatusActive",
                    "StatusActive",
                    "StatusRetired",
                    "StatusRetired",
                    "StatusRetired",
                    "StatusRetired",
                    "StatusRetired",
                    "StatusActive",
                    "StatusActive",
                    "StatusActive",
                    "StatusActive",
                    "StatusActive",
                    "StatusActive",
                    "StatusActive",
                    "StatusActive",
                    "StatusActive",
                    "StatusActive",
                    "StatusActive",
                    "StatusActive",
                    "StatusActive",
                    "StatusActive",
                    "StatusActive",
                    "StatusActive",
                    "StatusRetired",
                    "StatusActive",
                    "StatusActive",
                    "StatusActive",
                    "StatusActive",
                    "StatusActive",
                    "StatusActive",
                    "StatusActive",
                    "StatusActive",
                    "StatusActive",
                    "StatusActive",
                    "StatusActive",
                    "StatusActive",
                    "StatusActive",
                    "StatusActive",
                    "StatusActive",
                    "StatusActive",
                    "StatusActive",
                    "StatusRetired",
                    "StatusRetired",
                    "StatusRetired",
                    "StatusRetired",
                    "StatusRetired",
                    "StatusRetired",
                    "StatusRetired",
                    "StatusRetired",
                    "StatusRetired",
                    "StatusRetired",
                    "StatusRetired",
                    "StatusRetired",
                    "StatusActive",
                    "StatusRetired",
                    "StatusRetired",
                    "StatusRetired",
                    "StatusRetired",
                    "StatusRetired",
                    "StatusRetired",
                    "StatusRetired",
                    "StatusRetired",
                    "StatusRetired",
                    "StatusRetired",
                    "StatusRetired",
                    "StatusRetired",
                    "StatusRetired",
                    "StatusRetired",
                    "StatusRetired",
                    "StatusRetired",
                    "StatusRetired",
                    "StatusRetired",
                    "StatusRetired",
                    "StatusRetired",
                    "StatusRetired",
                    "StatusRetired",
                    "StatusActive",
                    "StatusActive",
                    "StatusActive",
                    "StatusActive",
                    "StatusActive",
                    "StatusActive",
                    "StatusActive",
                    "StatusActive",
                    "StatusActive",
                    "StatusActive",
                    "StatusActive",
                    "StatusActive",
                    "StatusActive",
                    "StatusActive",
                    "StatusActive",
                    "StatusActive",
                    "StatusActive",
                    "StatusActive",
                    "StatusActive",
                    "StatusActive",
                    "StatusActive",
                    "StatusActive",
                    "StatusActive",
                    "StatusActive",
                    "StatusActive",
                    "StatusActive",
                    "StatusActive",
                    "StatusActive",
                    "StatusActive",
                    "StatusActive",
                    "StatusActive",
                    "StatusActive",
                    "StatusActive",
                    "StatusActive",
                    "StatusActive",
                    "StatusActive",
                    "StatusActive",
                    "StatusActive",
                    "StatusActive",
                    "StatusActive",
                    "StatusActive",
                    "StatusActive",
                    "StatusActive",
                    "StatusActive",
                    "StatusActive",
                    "StatusActive",
                    "StatusActive",
                    "StatusActive",
                    "StatusActive",
                    "StatusActive",
                    "StatusActive",
                    "StatusActive",
                    "StatusActive",
                    "StatusActive",
                    "StatusActive",
                    "StatusActive",
                    "StatusActive",
                    "StatusActive",
                    "StatusActive",
                    "StatusActive",
                    "StatusActive",
                    "StatusActive",
                    "StatusActive",
                    "StatusActive",
                    "StatusActive",
                    "StatusActive",
                    "StatusActive",
                    "StatusActive",
                    "StatusActive",
                    "StatusActive",
                    "StatusActive",
                    "StatusActive",
                    "StatusActive",
                    "StatusActive",
                    "StatusActive",
                    "StatusActive",
                    "StatusActive",
                    "StatusActive",
                    "StatusActive",
                    "StatusActive",
                    "StatusActive",
                    "StatusActive",
                    "StatusActive",
                    "StatusActive",
                    "StatusActive",
                    "StatusActive",
                    "StatusActive",
                    "StatusActive",
                    "StatusActive",
                    "StatusActive",
                    "StatusActive",
                    "StatusActive",
                    "StatusActive",
                    "StatusActive",
                    "StatusActive",
                    "StatusActive",
                    "StatusActive",
                    "StatusActive",
                    "StatusActive",
                    "StatusActive",
                    "StatusActive",
                    "StatusActive",
                    "StatusActive",
                    "StatusActive",
                    "StatusActive",
                    "StatusActive",
                    "StatusActive",
                    "StatusActive",
                    "StatusActive",
                    "StatusActive",
                    "StatusActive",
                    "StatusActive",
                    "StatusActive",
                    "StatusActive",
                    "StatusActive",
                    "StatusActive",
                    "StatusActive",
                    "StatusActive",
                    "StatusRetired",
                    "StatusRetired",
                    "StatusRetired",
                    "StatusActive",
                    "StatusActive",
                    "StatusActive",
                    "StatusRetired",
                    "StatusRetired",
                    "StatusRetired",
                    "StatusRetired",
                    "StatusRetired",
                    "StatusRetired",
                    "StatusRetired",
                    "StatusRetired",
                    "StatusRetired",
                    "StatusRetired",
                    "StatusActive",
                    "StatusActive",
                    "StatusActive",
                    "StatusActive",
                    "StatusActive",
                    "StatusActive",
                    "StatusActive",
                    "StatusActive",
                    "StatusActive",
                    "StatusActive",
                    "StatusActive",
                    "StatusActive",
                    "StatusActive",
                    "StatusActive",
                    "StatusActive",
                    "StatusActive",
                    "StatusActive",
                    "StatusActive",
                    "StatusRetired",
                    "StatusActive",
                    "StatusActive",
                    "StatusActive",
                    "StatusActive",
                    "StatusActive",
                    "StatusActive",
                    "StatusActive",
                    "StatusRetired",
                    "StatusActive",
                    "StatusActive",
                    "StatusRetired",
                    "StatusRetired",
                    "StatusActive",
                    "StatusActive",
                    "StatusActive",
                    "StatusActive",
                    "StatusActive",
                    "StatusRetired",
                    "StatusActive",
                    "StatusActive",
                    "StatusActive",
                    "StatusActive",
                    "StatusActive",
                    "StatusActive",
                    "StatusRetired",
                    "StatusActive",
                    "StatusRetired",
                    "StatusActive",
                    "StatusActive",
                    "StatusActive",
                    "StatusActive",
                    "StatusActive",
                    "StatusActive",
                    "StatusRetired",
                    "StatusActive",
                    "StatusActive",
                    "StatusActive",
                    "StatusRetired",
                    "StatusActive",
                    "StatusActive",
                    "StatusActive",
                    "StatusActive",
                    "StatusActive",
                    "StatusActive",
                    "StatusRetired",
                    "StatusActive",
                    "StatusActive",
                    "StatusActive",
                    "StatusActive",
                    "StatusActive",
                    "StatusActive",
                    "StatusActive",
                    "StatusActive",
                    "StatusRetired",
                    "StatusRetired",
                    "StatusRetired",
                    "StatusRetired",
                    "StatusRetired",
                    "StatusRetired",
                    "StatusRetired",
                    "StatusRetired",
                    "StatusRetired",
                    "StatusRetired",
                    "StatusRetired",
                    "StatusRetired",
                    "StatusRetired",
                    "StatusRetired",
                    "StatusRetired",
                    "StatusRetired",
                    "StatusRetired",
                    "StatusRetired",
                    "StatusRetired",
                    "StatusRetired",
                    "StatusRetired",
                    "StatusRetired",
                    "StatusRetired",
                    "StatusRetired",
                    "StatusRetired",
                    "StatusRetired",
                    "StatusRetired",
                    "StatusRetired",
                    "StatusRetired",
                    "StatusRetired",
                    "StatusRetired",
                    "StatusActive",
                    "StatusActive",
                    "StatusActive",
                    "StatusActive",
                    "StatusActive",
                    "StatusActive",
                    "StatusActive",
                    "StatusActive",
                    "StatusActive",
                    "StatusActive",
                    "StatusActive",
                    "StatusActive",
                    "StatusActive",
                    "StatusActive",
                    "StatusActive",
                    "StatusActive",
                    "StatusRetired",
                    "StatusActive",
                    "StatusRetired",
                    "StatusRetired",
                    "StatusRetired",
                    "StatusActive",
                    "StatusActive",
                    "StatusRetired",
                    "StatusRetired",
                    "StatusActive",
                    "StatusActive",
                    "StatusActive",
                    "StatusActive",
                    "StatusActive",
                    "StatusActive",
                    "StatusActive",
                    "StatusActive",
                    "StatusActive",
                    "StatusActive",
                    "StatusActive",
                    "StatusActive",
                    "StatusActive",
                    "StatusActive",
                    "StatusActive",
                    "StatusActive",
                    "StatusActive",
                    "StatusActive",
                    "StatusActive",
                    "StatusActive",
                    "StatusActive",
                    "StatusActive",
                    "StatusActive",
                    "StatusActive",
                    "StatusActive",
                    "StatusActive",
                    "StatusActive",
                    "StatusActive",
                    "StatusActive",
                    "StatusActive",
                    "StatusActive",
                    "StatusActive",
                    "StatusActive",
                    "StatusActive",
                    "StatusActive",
                    "StatusActive",
                    "StatusActive",
                    "StatusActive",
                    "StatusActive",
                    "StatusActive",
                    "StatusActive",
                    "StatusActive",
                    "StatusActive",
                    "StatusActive",
                    "StatusActive",
                    "StatusActive",
                    "StatusActive",
                    "StatusActive",
                    "StatusActive",
                    "StatusActive",
                    "StatusActive",
                    "StatusActive",
                    "StatusActive",
                    "StatusActive",
                    "StatusActive",
                    "StatusActive",
                    "StatusActive",
                    "StatusActive",
                    "StatusActive",
                    "StatusActive",
                    "StatusActive",
                    "StatusActive",
                    "StatusActive",
                    "StatusActive",
                    "StatusRetired",
                    "StatusRetired",
                    "StatusRetired",
                    "StatusRetired",
                    "StatusRetired",
                    "StatusRetired",
                    "StatusRetired",
                    "StatusRetired",
                    "StatusRetired",
                    "StatusRetired",
                    "StatusRetired",
                    "StatusRetired",
                    "StatusRetired",
                    "StatusRetired",
                    "StatusRetired",
                    "StatusRetired",
                    "StatusRetired",
                    "StatusRetired",
                    "StatusRetired",
                    "StatusRetired",
                    "StatusRetired",
                    "StatusRetired",
                    "StatusRetired",
                    "StatusRetired",
                    "StatusRetired",
                    "StatusRetired",
                    "StatusRetired",
                    "StatusRetired",
                    "StatusRetired",
                    "StatusRetired",
                    "StatusRetired",
                    "StatusRetired",
                    "StatusRetired",
                    "StatusRetired",
                    "StatusRetired",
                    "StatusRetired",
                    "StatusRetired",
                    "StatusRetired",
                    "StatusRetired",
                    "StatusRetired",
                    "StatusRetired",
                    "StatusRetired",
                    "StatusRetired",
                    "StatusRetired",
                    "StatusRetired",
                    "StatusRetired",
                    "StatusActive",
                    "StatusRetired",
                    "StatusRetired",
                    "StatusRetired",
                    "StatusRetired",
                    "StatusRetired",
                    "StatusRetired",
                    "StatusRetired",
                    "StatusRetired",
                    "StatusRetired",
                    "StatusRetired",
                    "StatusRetired",
                    "StatusActive",
                    "StatusRetired",
                    "StatusRetired",
                    "StatusRetired",
                    "StatusActive",
                    "StatusRetired",
                    "StatusRetired",
                    "StatusRetired",
                    "StatusRetired",
                    "StatusRetired",
                    "StatusRetired",
                    "StatusRetired",
                    "StatusRetired",
                    "StatusRetired",
                    "StatusRetired",
                    "StatusRetired",
                    "StatusRetired",
                    "StatusRetired",
                    "StatusRetired",
                    "StatusRetired",
                    "StatusActive",
                    "StatusRetired",
                    "StatusRetired",
                    "StatusRetired",
                    "StatusRetired",
                    "StatusRetired",
                    "StatusRetired",
                    "StatusRetired",
                    "StatusRetired",
                    "StatusActive",
                    "StatusActive",
                    "StatusActive",
                    "StatusActive",
                    "StatusActive",
                    "StatusActive",
                    "StatusActive",
                    "StatusActive",
                    "StatusActive",
                    "StatusActive",
                    "StatusActive",
                    "StatusActive",
                    "StatusActive",
                    "StatusActive",
                    "StatusActive",
                    "StatusActive",
                    "StatusActive",
                    "StatusActive",
                    "StatusActive",
                    "StatusActive",
                    "StatusActive",
                    "StatusActive",
                    "StatusActive",
                    "StatusActive",
                    "StatusActive",
                    "StatusActive",
                    "StatusActive",
                    "StatusActive",
                    "StatusActive",
                    "StatusActive",
                    "StatusActive",
                    "StatusActive",
                    "StatusActive",
                    "StatusActive",
                    "StatusActive",
                    "StatusActive",
                    "StatusActive",
                    "StatusActive",
                    "StatusActive",
                    "StatusActive",
                    "StatusActive",
                    "StatusActive",
                    "StatusActive",
                    "StatusActive",
                    "StatusActive",
                    "StatusActive",
                    "StatusActive",
                    "StatusActive",
                    "StatusActive",
                    "StatusActive",
                    "StatusActive",
                    "StatusActive",
                    "StatusActive",
                    "StatusActive",
                    "StatusActive",
                    "StatusActive",
                    "StatusActive",
                    "StatusActive",
                    "StatusActive",
                    "StatusActive",
                    "StatusActive",
                    "StatusActive",
                    "StatusActive",
                    "StatusActive",
                    "StatusActive",
                    "StatusActive",
                    "StatusActive",
                    "StatusActive",
                    "StatusRetired",
                    "StatusRetired",
                    "StatusActive",
                    "StatusRetired",
                    "StatusRetired",
                    "StatusRetired",
                    "StatusRetired",
                    "StatusRetired",
                    "StatusActive",
                    "StatusActive",
                    "StatusRetired",
                    "StatusRetired",
                    "StatusRetired",
                    "StatusActive",
                    "StatusActive",
                    "StatusActive",
                    "StatusActive",
                    "StatusActive",
                    "StatusActive",
                    "StatusActive",
                    "StatusActive",
                    "StatusActive",
                    "StatusActive",
                    "StatusActive",
                    "StatusActive",
                    "StatusActive",
                    "StatusActive",
                    "StatusActive",
                    "StatusActive",
                    "StatusActive",
                    "StatusActive",
                    "StatusActive",
                    "StatusActive",
                    "StatusActive",
                    "StatusActive",
                    "StatusActive",
                    "StatusActive",
                    "StatusActive",
                    "StatusActive",
                    "StatusActive",
                    "StatusActive",
                    "StatusActive",
                    "StatusActive",
                    "StatusActive",
                    "StatusActive",
                    "StatusActive",
                    "StatusActive",
                    "StatusActive",
                    "StatusActive",
                    "StatusActive",
                    "StatusActive",
                    "StatusActive",
                    "StatusActive",
                    "StatusActive",
                    "StatusActive",
                    "StatusActive",
                    "StatusActive",
                    "StatusActive",
                    "StatusActive",
                    "StatusActive",
                    "StatusActive",
                    "StatusActive",
                    "StatusActive",
                    "StatusActive",
                    "StatusActive",
                    "StatusActive",
                    "StatusActive",
                    "StatusActive",
                    "StatusActive",
                    "StatusActive",
                    "StatusActive",
                    "StatusActive",
                    "StatusActive",
                    "StatusActive",
                    "StatusActive",
                    "StatusActive",
                    "StatusActive",
                    "StatusActive",
                    "StatusActive",
                    "StatusActive",
                    "StatusActive",
                    "StatusActive",
                    "StatusRetired",
                    "StatusRetired",
                    "StatusRetired",
                    "StatusRetired",
                    "StatusRetired",
                    "StatusRetired",
                    "StatusRetired",
                    "StatusRetired",
                    "StatusRetired",
                    "StatusActive",
                    "StatusActive",
                    "StatusActive",
                    "StatusActive",
                    "StatusActive",
                    "StatusActive",
                    "StatusActive",
                    "StatusActive",
                    "StatusActive",
                    "StatusActive",
                    "StatusActive",
                    "StatusActive",
                    "StatusActive",
                    "StatusActive",
                    "StatusActive",
                    "StatusActive",
                    "StatusActive",
                    "StatusActive",
                    "StatusActive",
                    "StatusActive",
                    "StatusActive",
                    "StatusActive",
                    "StatusActive",
                    "StatusActive",
                    "StatusRetired",
                    "StatusRetired",
                    "StatusRetired",
                    "StatusActive",
                    "StatusActive",
                    "StatusRetired",
                    "StatusRetired",
                    "StatusRetired",
                    "StatusRetired",
                    "StatusActive",
                    "StatusActive",
                    "StatusActive",
                    "StatusActive",
                    "StatusActive",
                    "StatusActive",
                    "StatusActive",
                    "StatusActive",
                    "StatusActive",
                    "StatusActive",
                    "StatusActive",
                    "StatusActive",
                    "StatusActive",
                    "StatusActive",
                    "StatusActive",
                    "StatusActive",
                    "StatusActive",
                    "StatusActive",
                    "StatusActive",
                    "StatusActive",
                    "StatusActive",
                    "StatusRetired",
                    "StatusRetired",
                    "StatusRetired",
                    "StatusRetired",
                    "StatusRetired",
                    "StatusRetired",
                    "StatusRetired",
                    "StatusRetired",
                    "StatusRetired",
                    "StatusRetired",
                    "StatusRetired",
                    "StatusRetired",
                    "StatusRetired",
                    "StatusRetired",
                    "StatusRetired",
                    "StatusRetired",
                    "StatusRetired",
                    "StatusRetired",
                    "StatusActive",
                    "StatusActive",
                    "StatusActive",
                    "StatusActive",
                    "StatusActive",
                    "StatusActive",
                    "StatusActive",
                    "StatusActive",
                    "StatusActive",
                    "StatusActive",
                    "StatusActive",
                    "StatusActive",
                    "StatusActive",
                    "StatusActive",
                    "StatusActive",
                    "StatusActive",
                    "StatusActive",
                    "StatusActive",
                    "StatusActive",
                    "StatusActive",
                    "StatusActive",
                    "StatusActive",
                    "StatusActive",
                    "StatusActive",
                    "StatusActive",
                    "StatusActive",
                    "StatusActive",
                    "StatusActive",
                    "StatusActive",
                    "StatusActive",
                    "StatusActive",
                    "StatusActive",
                    "StatusActive",
                    "StatusActive",
                    "StatusActive",
                    "StatusActive",
                    "StatusActive",
                    "StatusActive",
                    "StatusActive",
                    "StatusActive",
                    "StatusActive",
                    "StatusActive",
                    "StatusActive",
                    "StatusActive",
                    "StatusActive",
                    "StatusActive",
                    "StatusActive",
                    "StatusActive",
                    "StatusActive",
                    "StatusActive",
                    "StatusActive",
                    "StatusActive",
                    "StatusActive",
                    "StatusActive",
                    "StatusActive",
                    "StatusActive",
                    "StatusActive",
                    "StatusActive",
                    "StatusActive",
                    "StatusActive",
                    "StatusActive",
                    "StatusActive",
                    "StatusActive",
                    "StatusActive",
                    "StatusActive",
                    "StatusActive",
                    "StatusActive",
                    "StatusActive",
                    "StatusActive",
                    "StatusActive",
                    "StatusActive",
                    "StatusActive",
                    "StatusActive",
                    "StatusActive",
                    "StatusActive",
                    "StatusActive",
                    "StatusActive",
                    "StatusActive",
                    "StatusActive",
                    "StatusActive",
                    "StatusActive",
                    "StatusActive",
                    "StatusActive",
                    "StatusActive",
                    "StatusActive",
                    "StatusActive",
                    "StatusRetired",
                    "StatusRetired",
                    "StatusRetired",
                    "StatusRetired",
                    "StatusRetired",
                    "StatusRetired",
                    "StatusRetired",
                    "StatusRetired",
                    "StatusRetired",
                    "StatusRetired",
                    "StatusRetired",
                    "StatusRetired",
                    "StatusRetired",
                    "StatusRetired",
                    "StatusRetired",
                    "StatusRetired",
                    "StatusRetired",
                    "StatusRetired",
                    "StatusRetired",
                    "StatusRetired",
                    "StatusRetired",
                    "StatusRetired",
                    "StatusRetired",
                    "StatusRetired",
                    "StatusRetired",
                    "StatusRetired",
                    "StatusRetired",
                    "StatusRetired",
                    "StatusRetired",
                    "StatusRetired",
                    "StatusRetired",
                    "StatusRetired",
                    "StatusRetired",
                    "StatusRetired",
                    "StatusRetired",
                    "StatusRetired",
                    "StatusRetired",
                    "StatusRetired",
                    "StatusRetired",
                    "StatusRetired",
                    "StatusRetired",
                    "StatusRetired",
                    "StatusRetired",
                    "StatusRetired",
                    "StatusRetired",
                    "StatusRetired",
                    "StatusRetired",
                    "StatusRetired",
                    "StatusRetired",
                    "StatusRetired",
                    "StatusRetired",
                    "StatusRetired",
                    "StatusRetired",
                    "StatusRetired",
                    "StatusRetired",
                    "StatusRetired",
                    "StatusRetired",
                    "StatusRetired",
                    "StatusRetired",
                    "StatusRetired",
                    "StatusRetired",
                    "StatusRetired",
                    "StatusRetired",
                    "StatusRetired",
                    "StatusRetired",
                    "StatusRetired",
                    "StatusRetired",
                    "StatusRetired",
                    "StatusRetired",
                    "StatusRetired",
                    "StatusRetired",
                    "StatusRetired",
                    "StatusRetired",
                    "StatusRetired",
                    "StatusRetired",
                    "StatusRetired",
                    "StatusRetired",
                    "StatusRetired",
                    "StatusRetired",
                    "StatusRetired",
                    "StatusRetired",
                    "StatusRetired",
                    "StatusRetired",
                    "StatusRetired",
                    "StatusRetired",
                    "StatusRetired",
                    "StatusRetired",
                    "StatusRetired",
                    "StatusRetired",
                    "StatusRetired",
                    "StatusRetired",
                    "StatusRetired",
                    "StatusRetired",
                    "StatusRetired",
                    "StatusRetired",
                    "StatusRetired",
                    "StatusRetired",
                    "StatusRetired",
                    "StatusRetired",
                    "StatusRetired",
                    "StatusRetired",
                    "StatusRetired",
                    "StatusRetired",
                    "StatusRetired",
                    "StatusRetired",
                    "StatusRetired",
                    "StatusRetired",
                    "StatusRetired",
                    "StatusRetired",
                    "StatusRetired",
                    "StatusRetired",
                    "StatusRetired",
                    "StatusRetired",
                    "StatusRetired",
                    "StatusRetired",
                    "StatusRetired",
                    "StatusRetired",
                    "StatusRetired",
                    "StatusRetired",
                    "StatusRetired",
                    "StatusRetired",
                    "StatusRetired",
                    "StatusRetired",
                    "StatusRetired",
                    "StatusRetired",
                    "StatusRetired",
                    "StatusRetired",
                    "StatusRetired",
                    "StatusRetired",
                    "StatusRetired",
                    "StatusRetired",
                    "StatusRetired",
                    "StatusRetired",
                    "StatusRetired",
                    "StatusRetired",
                    "StatusRetired"
                  ]
                }
              ],
              "layout": {
                "legend": {
                  "tracegroupgap": 0
                },
                "margin": {
                  "t": 60
                },
                "template": {
                  "data": {
                    "bar": [
                      {
                        "error_x": {
                          "color": "#2a3f5f"
                        },
                        "error_y": {
                          "color": "#2a3f5f"
                        },
                        "marker": {
                          "line": {
                            "color": "#E5ECF6",
                            "width": 0.5
                          },
                          "pattern": {
                            "fillmode": "overlay",
                            "size": 10,
                            "solidity": 0.2
                          }
                        },
                        "type": "bar"
                      }
                    ],
                    "barpolar": [
                      {
                        "marker": {
                          "line": {
                            "color": "#E5ECF6",
                            "width": 0.5
                          },
                          "pattern": {
                            "fillmode": "overlay",
                            "size": 10,
                            "solidity": 0.2
                          }
                        },
                        "type": "barpolar"
                      }
                    ],
                    "carpet": [
                      {
                        "aaxis": {
                          "endlinecolor": "#2a3f5f",
                          "gridcolor": "white",
                          "linecolor": "white",
                          "minorgridcolor": "white",
                          "startlinecolor": "#2a3f5f"
                        },
                        "baxis": {
                          "endlinecolor": "#2a3f5f",
                          "gridcolor": "white",
                          "linecolor": "white",
                          "minorgridcolor": "white",
                          "startlinecolor": "#2a3f5f"
                        },
                        "type": "carpet"
                      }
                    ],
                    "choropleth": [
                      {
                        "colorbar": {
                          "outlinewidth": 0,
                          "ticks": ""
                        },
                        "type": "choropleth"
                      }
                    ],
                    "contour": [
                      {
                        "colorbar": {
                          "outlinewidth": 0,
                          "ticks": ""
                        },
                        "colorscale": [
                          [
                            0,
                            "#0d0887"
                          ],
                          [
                            0.1111111111111111,
                            "#46039f"
                          ],
                          [
                            0.2222222222222222,
                            "#7201a8"
                          ],
                          [
                            0.3333333333333333,
                            "#9c179e"
                          ],
                          [
                            0.4444444444444444,
                            "#bd3786"
                          ],
                          [
                            0.5555555555555556,
                            "#d8576b"
                          ],
                          [
                            0.6666666666666666,
                            "#ed7953"
                          ],
                          [
                            0.7777777777777778,
                            "#fb9f3a"
                          ],
                          [
                            0.8888888888888888,
                            "#fdca26"
                          ],
                          [
                            1,
                            "#f0f921"
                          ]
                        ],
                        "type": "contour"
                      }
                    ],
                    "contourcarpet": [
                      {
                        "colorbar": {
                          "outlinewidth": 0,
                          "ticks": ""
                        },
                        "type": "contourcarpet"
                      }
                    ],
                    "heatmap": [
                      {
                        "colorbar": {
                          "outlinewidth": 0,
                          "ticks": ""
                        },
                        "colorscale": [
                          [
                            0,
                            "#0d0887"
                          ],
                          [
                            0.1111111111111111,
                            "#46039f"
                          ],
                          [
                            0.2222222222222222,
                            "#7201a8"
                          ],
                          [
                            0.3333333333333333,
                            "#9c179e"
                          ],
                          [
                            0.4444444444444444,
                            "#bd3786"
                          ],
                          [
                            0.5555555555555556,
                            "#d8576b"
                          ],
                          [
                            0.6666666666666666,
                            "#ed7953"
                          ],
                          [
                            0.7777777777777778,
                            "#fb9f3a"
                          ],
                          [
                            0.8888888888888888,
                            "#fdca26"
                          ],
                          [
                            1,
                            "#f0f921"
                          ]
                        ],
                        "type": "heatmap"
                      }
                    ],
                    "heatmapgl": [
                      {
                        "colorbar": {
                          "outlinewidth": 0,
                          "ticks": ""
                        },
                        "colorscale": [
                          [
                            0,
                            "#0d0887"
                          ],
                          [
                            0.1111111111111111,
                            "#46039f"
                          ],
                          [
                            0.2222222222222222,
                            "#7201a8"
                          ],
                          [
                            0.3333333333333333,
                            "#9c179e"
                          ],
                          [
                            0.4444444444444444,
                            "#bd3786"
                          ],
                          [
                            0.5555555555555556,
                            "#d8576b"
                          ],
                          [
                            0.6666666666666666,
                            "#ed7953"
                          ],
                          [
                            0.7777777777777778,
                            "#fb9f3a"
                          ],
                          [
                            0.8888888888888888,
                            "#fdca26"
                          ],
                          [
                            1,
                            "#f0f921"
                          ]
                        ],
                        "type": "heatmapgl"
                      }
                    ],
                    "histogram": [
                      {
                        "marker": {
                          "pattern": {
                            "fillmode": "overlay",
                            "size": 10,
                            "solidity": 0.2
                          }
                        },
                        "type": "histogram"
                      }
                    ],
                    "histogram2d": [
                      {
                        "colorbar": {
                          "outlinewidth": 0,
                          "ticks": ""
                        },
                        "colorscale": [
                          [
                            0,
                            "#0d0887"
                          ],
                          [
                            0.1111111111111111,
                            "#46039f"
                          ],
                          [
                            0.2222222222222222,
                            "#7201a8"
                          ],
                          [
                            0.3333333333333333,
                            "#9c179e"
                          ],
                          [
                            0.4444444444444444,
                            "#bd3786"
                          ],
                          [
                            0.5555555555555556,
                            "#d8576b"
                          ],
                          [
                            0.6666666666666666,
                            "#ed7953"
                          ],
                          [
                            0.7777777777777778,
                            "#fb9f3a"
                          ],
                          [
                            0.8888888888888888,
                            "#fdca26"
                          ],
                          [
                            1,
                            "#f0f921"
                          ]
                        ],
                        "type": "histogram2d"
                      }
                    ],
                    "histogram2dcontour": [
                      {
                        "colorbar": {
                          "outlinewidth": 0,
                          "ticks": ""
                        },
                        "colorscale": [
                          [
                            0,
                            "#0d0887"
                          ],
                          [
                            0.1111111111111111,
                            "#46039f"
                          ],
                          [
                            0.2222222222222222,
                            "#7201a8"
                          ],
                          [
                            0.3333333333333333,
                            "#9c179e"
                          ],
                          [
                            0.4444444444444444,
                            "#bd3786"
                          ],
                          [
                            0.5555555555555556,
                            "#d8576b"
                          ],
                          [
                            0.6666666666666666,
                            "#ed7953"
                          ],
                          [
                            0.7777777777777778,
                            "#fb9f3a"
                          ],
                          [
                            0.8888888888888888,
                            "#fdca26"
                          ],
                          [
                            1,
                            "#f0f921"
                          ]
                        ],
                        "type": "histogram2dcontour"
                      }
                    ],
                    "mesh3d": [
                      {
                        "colorbar": {
                          "outlinewidth": 0,
                          "ticks": ""
                        },
                        "type": "mesh3d"
                      }
                    ],
                    "parcoords": [
                      {
                        "line": {
                          "colorbar": {
                            "outlinewidth": 0,
                            "ticks": ""
                          }
                        },
                        "type": "parcoords"
                      }
                    ],
                    "pie": [
                      {
                        "automargin": true,
                        "type": "pie"
                      }
                    ],
                    "scatter": [
                      {
                        "marker": {
                          "colorbar": {
                            "outlinewidth": 0,
                            "ticks": ""
                          }
                        },
                        "type": "scatter"
                      }
                    ],
                    "scatter3d": [
                      {
                        "line": {
                          "colorbar": {
                            "outlinewidth": 0,
                            "ticks": ""
                          }
                        },
                        "marker": {
                          "colorbar": {
                            "outlinewidth": 0,
                            "ticks": ""
                          }
                        },
                        "type": "scatter3d"
                      }
                    ],
                    "scattercarpet": [
                      {
                        "marker": {
                          "colorbar": {
                            "outlinewidth": 0,
                            "ticks": ""
                          }
                        },
                        "type": "scattercarpet"
                      }
                    ],
                    "scattergeo": [
                      {
                        "marker": {
                          "colorbar": {
                            "outlinewidth": 0,
                            "ticks": ""
                          }
                        },
                        "type": "scattergeo"
                      }
                    ],
                    "scattergl": [
                      {
                        "marker": {
                          "colorbar": {
                            "outlinewidth": 0,
                            "ticks": ""
                          }
                        },
                        "type": "scattergl"
                      }
                    ],
                    "scattermapbox": [
                      {
                        "marker": {
                          "colorbar": {
                            "outlinewidth": 0,
                            "ticks": ""
                          }
                        },
                        "type": "scattermapbox"
                      }
                    ],
                    "scatterpolar": [
                      {
                        "marker": {
                          "colorbar": {
                            "outlinewidth": 0,
                            "ticks": ""
                          }
                        },
                        "type": "scatterpolar"
                      }
                    ],
                    "scatterpolargl": [
                      {
                        "marker": {
                          "colorbar": {
                            "outlinewidth": 0,
                            "ticks": ""
                          }
                        },
                        "type": "scatterpolargl"
                      }
                    ],
                    "scatterternary": [
                      {
                        "marker": {
                          "colorbar": {
                            "outlinewidth": 0,
                            "ticks": ""
                          }
                        },
                        "type": "scatterternary"
                      }
                    ],
                    "surface": [
                      {
                        "colorbar": {
                          "outlinewidth": 0,
                          "ticks": ""
                        },
                        "colorscale": [
                          [
                            0,
                            "#0d0887"
                          ],
                          [
                            0.1111111111111111,
                            "#46039f"
                          ],
                          [
                            0.2222222222222222,
                            "#7201a8"
                          ],
                          [
                            0.3333333333333333,
                            "#9c179e"
                          ],
                          [
                            0.4444444444444444,
                            "#bd3786"
                          ],
                          [
                            0.5555555555555556,
                            "#d8576b"
                          ],
                          [
                            0.6666666666666666,
                            "#ed7953"
                          ],
                          [
                            0.7777777777777778,
                            "#fb9f3a"
                          ],
                          [
                            0.8888888888888888,
                            "#fdca26"
                          ],
                          [
                            1,
                            "#f0f921"
                          ]
                        ],
                        "type": "surface"
                      }
                    ],
                    "table": [
                      {
                        "cells": {
                          "fill": {
                            "color": "#EBF0F8"
                          },
                          "line": {
                            "color": "white"
                          }
                        },
                        "header": {
                          "fill": {
                            "color": "#C8D4E3"
                          },
                          "line": {
                            "color": "white"
                          }
                        },
                        "type": "table"
                      }
                    ]
                  },
                  "layout": {
                    "annotationdefaults": {
                      "arrowcolor": "#2a3f5f",
                      "arrowhead": 0,
                      "arrowwidth": 1
                    },
                    "autotypenumbers": "strict",
                    "coloraxis": {
                      "colorbar": {
                        "outlinewidth": 0,
                        "ticks": ""
                      }
                    },
                    "colorscale": {
                      "diverging": [
                        [
                          0,
                          "#8e0152"
                        ],
                        [
                          0.1,
                          "#c51b7d"
                        ],
                        [
                          0.2,
                          "#de77ae"
                        ],
                        [
                          0.3,
                          "#f1b6da"
                        ],
                        [
                          0.4,
                          "#fde0ef"
                        ],
                        [
                          0.5,
                          "#f7f7f7"
                        ],
                        [
                          0.6,
                          "#e6f5d0"
                        ],
                        [
                          0.7,
                          "#b8e186"
                        ],
                        [
                          0.8,
                          "#7fbc41"
                        ],
                        [
                          0.9,
                          "#4d9221"
                        ],
                        [
                          1,
                          "#276419"
                        ]
                      ],
                      "sequential": [
                        [
                          0,
                          "#0d0887"
                        ],
                        [
                          0.1111111111111111,
                          "#46039f"
                        ],
                        [
                          0.2222222222222222,
                          "#7201a8"
                        ],
                        [
                          0.3333333333333333,
                          "#9c179e"
                        ],
                        [
                          0.4444444444444444,
                          "#bd3786"
                        ],
                        [
                          0.5555555555555556,
                          "#d8576b"
                        ],
                        [
                          0.6666666666666666,
                          "#ed7953"
                        ],
                        [
                          0.7777777777777778,
                          "#fb9f3a"
                        ],
                        [
                          0.8888888888888888,
                          "#fdca26"
                        ],
                        [
                          1,
                          "#f0f921"
                        ]
                      ],
                      "sequentialminus": [
                        [
                          0,
                          "#0d0887"
                        ],
                        [
                          0.1111111111111111,
                          "#46039f"
                        ],
                        [
                          0.2222222222222222,
                          "#7201a8"
                        ],
                        [
                          0.3333333333333333,
                          "#9c179e"
                        ],
                        [
                          0.4444444444444444,
                          "#bd3786"
                        ],
                        [
                          0.5555555555555556,
                          "#d8576b"
                        ],
                        [
                          0.6666666666666666,
                          "#ed7953"
                        ],
                        [
                          0.7777777777777778,
                          "#fb9f3a"
                        ],
                        [
                          0.8888888888888888,
                          "#fdca26"
                        ],
                        [
                          1,
                          "#f0f921"
                        ]
                      ]
                    },
                    "colorway": [
                      "#636efa",
                      "#EF553B",
                      "#00cc96",
                      "#ab63fa",
                      "#FFA15A",
                      "#19d3f3",
                      "#FF6692",
                      "#B6E880",
                      "#FF97FF",
                      "#FECB52"
                    ],
                    "font": {
                      "color": "#2a3f5f"
                    },
                    "geo": {
                      "bgcolor": "white",
                      "lakecolor": "white",
                      "landcolor": "#E5ECF6",
                      "showlakes": true,
                      "showland": true,
                      "subunitcolor": "white"
                    },
                    "hoverlabel": {
                      "align": "left"
                    },
                    "hovermode": "closest",
                    "mapbox": {
                      "style": "light"
                    },
                    "paper_bgcolor": "white",
                    "plot_bgcolor": "#E5ECF6",
                    "polar": {
                      "angularaxis": {
                        "gridcolor": "white",
                        "linecolor": "white",
                        "ticks": ""
                      },
                      "bgcolor": "#E5ECF6",
                      "radialaxis": {
                        "gridcolor": "white",
                        "linecolor": "white",
                        "ticks": ""
                      }
                    },
                    "scene": {
                      "xaxis": {
                        "backgroundcolor": "#E5ECF6",
                        "gridcolor": "white",
                        "gridwidth": 2,
                        "linecolor": "white",
                        "showbackground": true,
                        "ticks": "",
                        "zerolinecolor": "white"
                      },
                      "yaxis": {
                        "backgroundcolor": "#E5ECF6",
                        "gridcolor": "white",
                        "gridwidth": 2,
                        "linecolor": "white",
                        "showbackground": true,
                        "ticks": "",
                        "zerolinecolor": "white"
                      },
                      "zaxis": {
                        "backgroundcolor": "#E5ECF6",
                        "gridcolor": "white",
                        "gridwidth": 2,
                        "linecolor": "white",
                        "showbackground": true,
                        "ticks": "",
                        "zerolinecolor": "white"
                      }
                    },
                    "shapedefaults": {
                      "line": {
                        "color": "#2a3f5f"
                      }
                    },
                    "ternary": {
                      "aaxis": {
                        "gridcolor": "white",
                        "linecolor": "white",
                        "ticks": ""
                      },
                      "baxis": {
                        "gridcolor": "white",
                        "linecolor": "white",
                        "ticks": ""
                      },
                      "bgcolor": "#E5ECF6",
                      "caxis": {
                        "gridcolor": "white",
                        "linecolor": "white",
                        "ticks": ""
                      }
                    },
                    "title": {
                      "x": 0.05
                    },
                    "xaxis": {
                      "automargin": true,
                      "gridcolor": "white",
                      "linecolor": "white",
                      "ticks": "",
                      "title": {
                        "standoff": 15
                      },
                      "zerolinecolor": "white",
                      "zerolinewidth": 2
                    },
                    "yaxis": {
                      "automargin": true,
                      "gridcolor": "white",
                      "linecolor": "white",
                      "ticks": "",
                      "title": {
                        "standoff": 15
                      },
                      "zerolinecolor": "white",
                      "zerolinewidth": 2
                    }
                  }
                }
              }
            }
          },
          "metadata": {},
          "output_type": "display_data"
        }
      ],
      "source": [
        "fig = px.sunburst(\n",
        "    df_cleaned_data,\n",
        "    names='Mission_Status',\n",
        "    parents='Organisation',\n",
        "    values='Rocket_Status',\n",
        ")\n",
        "fig.show()"
      ]
    },
    {
      "cell_type": "code",
      "execution_count": null,
      "metadata": {
        "id": "-ZwZkx1ro4X9"
      },
      "outputs": [],
      "source": []
    },
    {
      "cell_type": "code",
      "execution_count": null,
      "metadata": {
        "id": "VfTGp2hLo4Ok"
      },
      "outputs": [],
      "source": []
    },
    {
      "cell_type": "markdown",
      "metadata": {
        "id": "70pG1BCZa-qY",
        "papermill": {
          "duration": 0.062712,
          "end_time": "2020-10-20T21:34:07.951200",
          "exception": false,
          "start_time": "2020-10-20T21:34:07.888488",
          "status": "completed"
        },
        "tags": []
      },
      "source": [
        "# Analyse the Total Amount of Money Spent by Organisation on Space Missions"
      ]
    },
    {
      "cell_type": "code",
      "execution_count": null,
      "metadata": {
        "id": "IaJYxwEVpKHy"
      },
      "outputs": [],
      "source": []
    },
    {
      "cell_type": "code",
      "execution_count": null,
      "metadata": {
        "id": "orIFf-appPDL"
      },
      "outputs": [],
      "source": []
    },
    {
      "cell_type": "code",
      "execution_count": null,
      "metadata": {
        "id": "86OMPfpEpO7R"
      },
      "outputs": [],
      "source": []
    },
    {
      "cell_type": "markdown",
      "metadata": {
        "id": "DpsWkPxzpPXs"
      },
      "source": [
        "# Analyse the Amount of Money Spent by Organisation per Launch"
      ]
    },
    {
      "cell_type": "code",
      "execution_count": null,
      "metadata": {
        "id": "opYJ6GiRpTk5"
      },
      "outputs": [],
      "source": []
    },
    {
      "cell_type": "code",
      "execution_count": null,
      "metadata": {
        "id": "VEkHzAk2pTvj"
      },
      "outputs": [],
      "source": []
    },
    {
      "cell_type": "code",
      "execution_count": null,
      "metadata": {
        "id": "R5rFf501pKXD"
      },
      "outputs": [],
      "source": []
    },
    {
      "cell_type": "markdown",
      "metadata": {
        "id": "yRa1BbPoa-qf",
        "papermill": {
          "duration": 0.042662,
          "end_time": "2020-10-20T21:34:09.943196",
          "exception": false,
          "start_time": "2020-10-20T21:34:09.900534",
          "status": "completed"
        },
        "tags": []
      },
      "source": [
        "# Chart the Number of Launches per Year"
      ]
    },
    {
      "cell_type": "code",
      "execution_count": null,
      "metadata": {
        "id": "_9FohVh3pcAJ"
      },
      "outputs": [],
      "source": []
    },
    {
      "cell_type": "code",
      "execution_count": null,
      "metadata": {
        "id": "b2pggcZBpb4x"
      },
      "outputs": [],
      "source": []
    },
    {
      "cell_type": "markdown",
      "metadata": {
        "id": "NomJVLi3tIaM"
      },
      "source": [
        "# Chart the Number of Launches Month-on-Month until the Present\n",
        "\n",
        "Which month has seen the highest number of launches in all time? Superimpose a rolling average on the month on month time series chart. "
      ]
    },
    {
      "cell_type": "code",
      "execution_count": null,
      "metadata": {
        "id": "H1N2aBs5tH9z"
      },
      "outputs": [],
      "source": []
    },
    {
      "cell_type": "code",
      "execution_count": null,
      "metadata": {
        "id": "pfw0aX1lpdRv"
      },
      "outputs": [],
      "source": []
    },
    {
      "cell_type": "markdown",
      "metadata": {
        "id": "t-avMIZoa-qh",
        "papermill": {
          "duration": 0.044409,
          "end_time": "2020-10-20T21:34:10.162592",
          "exception": false,
          "start_time": "2020-10-20T21:34:10.118183",
          "status": "completed"
        },
        "tags": []
      },
      "source": [
        "# Launches per Month: Which months are most popular and least popular for launches?\n",
        "\n",
        "Some months have better weather than others. Which time of year seems to be best for space missions?"
      ]
    },
    {
      "cell_type": "code",
      "execution_count": null,
      "metadata": {
        "id": "zmtp5uBHppFG"
      },
      "outputs": [],
      "source": []
    },
    {
      "cell_type": "code",
      "execution_count": null,
      "metadata": {
        "id": "fnk2m_cpppJo"
      },
      "outputs": [],
      "source": []
    },
    {
      "cell_type": "markdown",
      "metadata": {
        "id": "dPQ_N_sfa-qo",
        "papermill": {
          "duration": 0.067915,
          "end_time": "2020-10-20T21:34:11.122539",
          "exception": false,
          "start_time": "2020-10-20T21:34:11.054624",
          "status": "completed"
        },
        "tags": []
      },
      "source": [
        "# How has the Launch Price varied Over Time? \n",
        "\n",
        "Create a line chart that shows the average price of rocket launches over time. "
      ]
    },
    {
      "cell_type": "code",
      "execution_count": null,
      "metadata": {
        "id": "hFc-2M5-qCrv"
      },
      "outputs": [],
      "source": []
    },
    {
      "cell_type": "code",
      "execution_count": null,
      "metadata": {
        "id": "ggYFiAsEqC6J"
      },
      "outputs": [],
      "source": []
    },
    {
      "cell_type": "markdown",
      "metadata": {
        "id": "8OYrWyiOa-qs",
        "papermill": {
          "duration": 0.047152,
          "end_time": "2020-10-20T21:34:11.681371",
          "exception": false,
          "start_time": "2020-10-20T21:34:11.634219",
          "status": "completed"
        },
        "tags": []
      },
      "source": [
        "# Chart the Number of Launches over Time by the Top 10 Organisations. \n",
        "\n",
        "How has the dominance of launches changed over time between the different players? "
      ]
    },
    {
      "cell_type": "code",
      "execution_count": null,
      "metadata": {
        "id": "RcsrPPpAqVFj"
      },
      "outputs": [],
      "source": []
    },
    {
      "cell_type": "code",
      "execution_count": null,
      "metadata": {
        "id": "1IgfafiyqWEe"
      },
      "outputs": [],
      "source": []
    },
    {
      "cell_type": "code",
      "execution_count": null,
      "metadata": {
        "id": "akCDKT8CqVjG"
      },
      "outputs": [],
      "source": []
    },
    {
      "cell_type": "markdown",
      "metadata": {
        "id": "6Cm8_ch6a-q7",
        "papermill": {
          "duration": 0.052399,
          "end_time": "2020-10-20T21:34:13.756781",
          "exception": false,
          "start_time": "2020-10-20T21:34:13.704382",
          "status": "completed"
        },
        "tags": []
      },
      "source": [
        "# Cold War Space Race: USA vs USSR\n",
        "\n",
        "The cold war lasted from the start of the dataset up until 1991. "
      ]
    },
    {
      "cell_type": "code",
      "execution_count": null,
      "metadata": {
        "id": "AcE_U8csrICL"
      },
      "outputs": [],
      "source": []
    },
    {
      "cell_type": "code",
      "execution_count": null,
      "metadata": {
        "id": "cOe_t4OmrHr9"
      },
      "outputs": [],
      "source": []
    },
    {
      "cell_type": "markdown",
      "metadata": {
        "id": "Os-3A5vLa-q9",
        "papermill": {
          "duration": 0.054318,
          "end_time": "2020-10-20T21:34:14.089604",
          "exception": false,
          "start_time": "2020-10-20T21:34:14.035286",
          "status": "completed"
        },
        "tags": []
      },
      "source": [
        "## Create a Plotly Pie Chart comparing the total number of launches of the USSR and the USA\n",
        "\n",
        "Hint: Remember to include former Soviet Republics like Kazakhstan when analysing the total number of launches. "
      ]
    },
    {
      "cell_type": "code",
      "execution_count": null,
      "metadata": {
        "id": "1irc6_W9rD59"
      },
      "outputs": [],
      "source": []
    },
    {
      "cell_type": "code",
      "execution_count": null,
      "metadata": {
        "id": "OhhuLQycrEE-"
      },
      "outputs": [],
      "source": []
    },
    {
      "cell_type": "markdown",
      "metadata": {
        "id": "0C29Zz4xa-rA",
        "papermill": {
          "duration": 0.052921,
          "end_time": "2020-10-20T21:34:14.340085",
          "exception": false,
          "start_time": "2020-10-20T21:34:14.287164",
          "status": "completed"
        },
        "tags": []
      },
      "source": [
        "## Create a Chart that Shows the Total Number of Launches Year-On-Year by the Two Superpowers"
      ]
    },
    {
      "cell_type": "code",
      "execution_count": null,
      "metadata": {
        "id": "9ISKvOiCrS73"
      },
      "outputs": [],
      "source": []
    },
    {
      "cell_type": "code",
      "execution_count": null,
      "metadata": {
        "id": "oCc7VTzGrTK-"
      },
      "outputs": [],
      "source": []
    },
    {
      "cell_type": "markdown",
      "metadata": {
        "id": "eWv4iZmra-rE",
        "papermill": {
          "duration": 0.079311,
          "end_time": "2020-10-20T21:34:14.933058",
          "exception": false,
          "start_time": "2020-10-20T21:34:14.853747",
          "status": "completed"
        },
        "tags": []
      },
      "source": [
        "## Chart the Total Number of Mission Failures Year on Year."
      ]
    },
    {
      "cell_type": "code",
      "execution_count": null,
      "metadata": {
        "id": "I-Zss5-Mre-4"
      },
      "outputs": [],
      "source": []
    },
    {
      "cell_type": "code",
      "execution_count": null,
      "metadata": {
        "id": "7Ps9Iq_crfYl"
      },
      "outputs": [],
      "source": []
    },
    {
      "cell_type": "markdown",
      "metadata": {
        "id": "XNp-NkrJriEF"
      },
      "source": [
        "## Chart the Percentage of Failures over Time\n",
        "\n",
        "Did failures go up or down over time? Did the countries get better at minimising risk and improving their chances of success over time? "
      ]
    },
    {
      "cell_type": "code",
      "execution_count": null,
      "metadata": {
        "id": "Kj3-zsI0rhOS"
      },
      "outputs": [],
      "source": []
    },
    {
      "cell_type": "code",
      "execution_count": null,
      "metadata": {
        "id": "nxnnzx89rwvH"
      },
      "outputs": [],
      "source": []
    },
    {
      "cell_type": "code",
      "execution_count": null,
      "metadata": {
        "id": "_TPWaaJ5r1Fz"
      },
      "outputs": [],
      "source": []
    },
    {
      "cell_type": "markdown",
      "metadata": {
        "id": "S5aOC7bGr2OX"
      },
      "source": [
        "# For Every Year Show which Country was in the Lead in terms of Total Number of Launches up to and including including 2020)\n",
        "\n",
        "Do the results change if we only look at the number of successful launches? "
      ]
    },
    {
      "cell_type": "code",
      "execution_count": null,
      "metadata": {
        "id": "_h0grIXKsOz_"
      },
      "outputs": [],
      "source": []
    },
    {
      "cell_type": "code",
      "execution_count": null,
      "metadata": {
        "id": "zgVysedmsOp4"
      },
      "outputs": [],
      "source": []
    },
    {
      "cell_type": "markdown",
      "metadata": {
        "id": "jQcqBfJ8serG"
      },
      "source": [
        "# Create a Year-on-Year Chart Showing the Organisation Doing the Most Number of Launches\n",
        "\n",
        "Which organisation was dominant in the 1970s and 1980s? Which organisation was dominant in 2018, 2019 and 2020? "
      ]
    },
    {
      "cell_type": "code",
      "execution_count": null,
      "metadata": {
        "id": "jc9ImQEWsztG"
      },
      "outputs": [],
      "source": []
    },
    {
      "cell_type": "code",
      "execution_count": null,
      "metadata": {
        "id": "r5frxzwlsz5W"
      },
      "outputs": [],
      "source": []
    },
    {
      "cell_type": "code",
      "execution_count": null,
      "metadata": {
        "id": "8vHKpuc5a-rc",
        "papermill": {
          "duration": 0.092403,
          "end_time": "2020-10-20T21:34:26.709168",
          "exception": false,
          "start_time": "2020-10-20T21:34:26.616765",
          "status": "completed"
        },
        "tags": []
      },
      "outputs": [],
      "source": []
    }
  ],
  "metadata": {
    "colab": {
      "name": "Space Missions Analysis (start).ipynb",
      "provenance": []
    },
    "kernelspec": {
      "display_name": "Python 3",
      "language": "python",
      "name": "python3"
    },
    "language_info": {
      "codemirror_mode": {
        "name": "ipython",
        "version": 3
      },
      "file_extension": ".py",
      "mimetype": "text/x-python",
      "name": "python",
      "nbconvert_exporter": "python",
      "pygments_lexer": "ipython3",
      "version": "3.9.2"
    },
    "papermill": {
      "duration": 28.468597,
      "end_time": "2020-10-20T21:34:26.910951",
      "environment_variables": {},
      "exception": null,
      "input_path": "__notebook__.ipynb",
      "output_path": "__notebook__.ipynb",
      "parameters": {},
      "start_time": "2020-10-20T21:33:58.442354",
      "version": "2.1.0"
    }
  },
  "nbformat": 4,
  "nbformat_minor": 0
}
