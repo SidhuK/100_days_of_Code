{
 "cells": [
  {
   "cell_type": "markdown",
   "metadata": {
    "pycharm": {
     "name": "#%% md\n"
    }
   },
   "source": [
    "# Unicorn Companies Data Analysis"
   ]
  },
  {
   "cell_type": "code",
   "execution_count": 1,
   "metadata": {
    "pycharm": {
     "name": "#%%\n"
    }
   },
   "outputs": [],
   "source": [
    "import pandas as pd\n",
    "import seaborn as sns\n",
    "from sklearn.linear_model import LinearRegression\n",
    "import numpy as np\n",
    "import matplotlib.pyplot as plt\n",
    "import plotly.express as px"
   ]
  },
  {
   "cell_type": "code",
   "execution_count": 2,
   "metadata": {
    "pycharm": {
     "name": "#%%\n"
    }
   },
   "outputs": [
    {
     "data": {
      "text/html": [
       "<div>\n",
       "<style scoped>\n",
       "    .dataframe tbody tr th:only-of-type {\n",
       "        vertical-align: middle;\n",
       "    }\n",
       "\n",
       "    .dataframe tbody tr th {\n",
       "        vertical-align: top;\n",
       "    }\n",
       "\n",
       "    .dataframe thead th {\n",
       "        text-align: right;\n",
       "    }\n",
       "</style>\n",
       "<table border=\"1\" class=\"dataframe\">\n",
       "  <thead>\n",
       "    <tr style=\"text-align: right;\">\n",
       "      <th></th>\n",
       "      <th>Company</th>\n",
       "      <th>Valuation ($B)</th>\n",
       "      <th>Date Joined</th>\n",
       "      <th>Country</th>\n",
       "      <th>City</th>\n",
       "      <th>Industry</th>\n",
       "      <th>Select Inverstors</th>\n",
       "      <th>Founded Year</th>\n",
       "      <th>Total Raised</th>\n",
       "      <th>Financial Stage</th>\n",
       "      <th>Investors Count</th>\n",
       "      <th>Deal Terms</th>\n",
       "      <th>Portfolio Exits</th>\n",
       "    </tr>\n",
       "  </thead>\n",
       "  <tbody>\n",
       "    <tr>\n",
       "      <th>0</th>\n",
       "      <td>Bytedance</td>\n",
       "      <td>$140</td>\n",
       "      <td>4/7/2017</td>\n",
       "      <td>China</td>\n",
       "      <td>Beijing</td>\n",
       "      <td>Artificial intelligence</td>\n",
       "      <td>Sequoia Capital China, SIG Asia Investments, S...</td>\n",
       "      <td>2012</td>\n",
       "      <td>$7.44B</td>\n",
       "      <td>IPO</td>\n",
       "      <td>28</td>\n",
       "      <td>8</td>\n",
       "      <td>5</td>\n",
       "    </tr>\n",
       "    <tr>\n",
       "      <th>1</th>\n",
       "      <td>SpaceX</td>\n",
       "      <td>$100.3</td>\n",
       "      <td>12/1/2012</td>\n",
       "      <td>United States</td>\n",
       "      <td>Hawthorne</td>\n",
       "      <td>Other</td>\n",
       "      <td>Founders Fund, Draper Fisher Jurvetson, Rothen...</td>\n",
       "      <td>2002</td>\n",
       "      <td>$6.874B</td>\n",
       "      <td>None</td>\n",
       "      <td>29</td>\n",
       "      <td>12</td>\n",
       "      <td>None</td>\n",
       "    </tr>\n",
       "    <tr>\n",
       "      <th>2</th>\n",
       "      <td>Stripe</td>\n",
       "      <td>$95</td>\n",
       "      <td>1/23/2014</td>\n",
       "      <td>United States</td>\n",
       "      <td>San Francisco</td>\n",
       "      <td>Fintech</td>\n",
       "      <td>Khosla Ventures, LowercaseCapital, capitalG</td>\n",
       "      <td>2010</td>\n",
       "      <td>$2.901B</td>\n",
       "      <td>Asset</td>\n",
       "      <td>39</td>\n",
       "      <td>12</td>\n",
       "      <td>1</td>\n",
       "    </tr>\n",
       "  </tbody>\n",
       "</table>\n",
       "</div>"
      ],
      "text/plain": [
       "     Company Valuation ($B) Date Joined        Country           City  \\\n",
       "0  Bytedance           $140    4/7/2017          China        Beijing   \n",
       "1     SpaceX         $100.3   12/1/2012  United States      Hawthorne   \n",
       "2     Stripe            $95   1/23/2014  United States  San Francisco   \n",
       "\n",
       "                  Industry                                  Select Inverstors  \\\n",
       "0  Artificial intelligence  Sequoia Capital China, SIG Asia Investments, S...   \n",
       "1                    Other  Founders Fund, Draper Fisher Jurvetson, Rothen...   \n",
       "2                  Fintech        Khosla Ventures, LowercaseCapital, capitalG   \n",
       "\n",
       "  Founded Year Total Raised Financial Stage Investors Count Deal Terms  \\\n",
       "0         2012       $7.44B             IPO              28          8   \n",
       "1         2002      $6.874B            None              29         12   \n",
       "2         2010      $2.901B           Asset              39         12   \n",
       "\n",
       "  Portfolio Exits  \n",
       "0               5  \n",
       "1            None  \n",
       "2               1  "
      ]
     },
     "execution_count": 2,
     "metadata": {},
     "output_type": "execute_result"
    }
   ],
   "source": [
    "unicorn_master = pd.read_csv(\"Unicorn_Companies.csv\")\n",
    "unicorn_master.head(3)"
   ]
  },
  {
   "cell_type": "code",
   "execution_count": 3,
   "metadata": {
    "pycharm": {
     "name": "#%%\n"
    }
   },
   "outputs": [
    {
     "name": "stdout",
     "output_type": "stream",
     "text": [
      "Shape of the dataset is (1037, 13)\n",
      "The dataset has the following datatypes for the corresponding columns\n",
      " Company              object\n",
      "Valuation ($B)       object\n",
      "Date Joined          object\n",
      "Country              object\n",
      "City                 object\n",
      "Industry             object\n",
      "Select Inverstors    object\n",
      "Founded Year         object\n",
      "Total Raised         object\n",
      "Financial Stage      object\n",
      "Investors Count      object\n",
      "Deal Terms           object\n",
      "Portfolio Exits      object\n",
      "dtype: object\n"
     ]
    },
    {
     "data": {
      "text/html": [
       "<div>\n",
       "<style scoped>\n",
       "    .dataframe tbody tr th:only-of-type {\n",
       "        vertical-align: middle;\n",
       "    }\n",
       "\n",
       "    .dataframe tbody tr th {\n",
       "        vertical-align: top;\n",
       "    }\n",
       "\n",
       "    .dataframe thead th {\n",
       "        text-align: right;\n",
       "    }\n",
       "</style>\n",
       "<table border=\"1\" class=\"dataframe\">\n",
       "  <thead>\n",
       "    <tr style=\"text-align: right;\">\n",
       "      <th></th>\n",
       "      <th>Company</th>\n",
       "      <th>Valuation ($B)</th>\n",
       "      <th>Date Joined</th>\n",
       "      <th>Country</th>\n",
       "      <th>City</th>\n",
       "      <th>Industry</th>\n",
       "      <th>Select Inverstors</th>\n",
       "      <th>Founded Year</th>\n",
       "      <th>Total Raised</th>\n",
       "      <th>Financial Stage</th>\n",
       "      <th>Investors Count</th>\n",
       "      <th>Deal Terms</th>\n",
       "      <th>Portfolio Exits</th>\n",
       "    </tr>\n",
       "  </thead>\n",
       "  <tbody>\n",
       "    <tr>\n",
       "      <th>count</th>\n",
       "      <td>1037</td>\n",
       "      <td>1037</td>\n",
       "      <td>1037</td>\n",
       "      <td>1037</td>\n",
       "      <td>1037</td>\n",
       "      <td>1037</td>\n",
       "      <td>1037</td>\n",
       "      <td>1037</td>\n",
       "      <td>1037</td>\n",
       "      <td>1037</td>\n",
       "      <td>1037</td>\n",
       "      <td>1037</td>\n",
       "      <td>1037</td>\n",
       "    </tr>\n",
       "    <tr>\n",
       "      <th>unique</th>\n",
       "      <td>1035</td>\n",
       "      <td>200</td>\n",
       "      <td>623</td>\n",
       "      <td>46</td>\n",
       "      <td>256</td>\n",
       "      <td>33</td>\n",
       "      <td>1006</td>\n",
       "      <td>37</td>\n",
       "      <td>914</td>\n",
       "      <td>10</td>\n",
       "      <td>54</td>\n",
       "      <td>16</td>\n",
       "      <td>5</td>\n",
       "    </tr>\n",
       "    <tr>\n",
       "      <th>top</th>\n",
       "      <td>Bolt</td>\n",
       "      <td>$1</td>\n",
       "      <td>7/13/2021</td>\n",
       "      <td>United States</td>\n",
       "      <td>San Francisco</td>\n",
       "      <td>Fintech</td>\n",
       "      <td>None</td>\n",
       "      <td>2015</td>\n",
       "      <td>None</td>\n",
       "      <td>None</td>\n",
       "      <td>10</td>\n",
       "      <td>1</td>\n",
       "      <td>None</td>\n",
       "    </tr>\n",
       "    <tr>\n",
       "      <th>freq</th>\n",
       "      <td>2</td>\n",
       "      <td>244</td>\n",
       "      <td>9</td>\n",
       "      <td>536</td>\n",
       "      <td>145</td>\n",
       "      <td>205</td>\n",
       "      <td>17</td>\n",
       "      <td>144</td>\n",
       "      <td>24</td>\n",
       "      <td>988</td>\n",
       "      <td>69</td>\n",
       "      <td>280</td>\n",
       "      <td>988</td>\n",
       "    </tr>\n",
       "  </tbody>\n",
       "</table>\n",
       "</div>"
      ],
      "text/plain": [
       "       Company Valuation ($B) Date Joined        Country           City  \\\n",
       "count     1037           1037        1037           1037           1037   \n",
       "unique    1035            200         623             46            256   \n",
       "top       Bolt             $1   7/13/2021  United States  San Francisco   \n",
       "freq         2            244           9            536            145   \n",
       "\n",
       "       Industry Select Inverstors Founded Year Total Raised Financial Stage  \\\n",
       "count      1037              1037         1037         1037            1037   \n",
       "unique       33              1006           37          914              10   \n",
       "top     Fintech              None         2015         None            None   \n",
       "freq        205                17          144           24             988   \n",
       "\n",
       "       Investors Count Deal Terms Portfolio Exits  \n",
       "count             1037       1037            1037  \n",
       "unique              54         16               5  \n",
       "top                 10          1            None  \n",
       "freq                69        280             988  "
      ]
     },
     "execution_count": 3,
     "metadata": {},
     "output_type": "execute_result"
    }
   ],
   "source": [
    "print(f\"Shape of the dataset is {unicorn_master.shape}\")\n",
    "print(f\"The dataset has the following datatypes for the corresponding columns\\n {unicorn_master.dtypes}\")\n",
    "unicorn_master.describe()"
   ]
  },
  {
   "cell_type": "code",
   "execution_count": 4,
   "metadata": {
    "pycharm": {
     "name": "#%%\n"
    }
   },
   "outputs": [],
   "source": [
    "# Converting Valuation\n",
    "unicorn_master[\"Valuation ($B)\"] = unicorn_master[\"Valuation ($B)\"].replace({\"\\$\": \"\"}, regex=True)\n",
    "unicorn_master[\"Valuation ($B)\"] = unicorn_master[\"Valuation ($B)\"].astype(float)"
   ]
  },
  {
   "cell_type": "code",
   "execution_count": 5,
   "metadata": {
    "pycharm": {
     "name": "#%%\n"
    }
   },
   "outputs": [
    {
     "name": "stderr",
     "output_type": "stream",
     "text": [
      "/Library/Frameworks/Python.framework/Versions/3.9/lib/python3.9/site-packages/plotly/express/_core.py:1637: FutureWarning: The frame.append method is deprecated and will be removed from pandas in a future version. Use pandas.concat instead.\n",
      "  df_all_trees = df_all_trees.append(df_tree, ignore_index=True)\n",
      "/Library/Frameworks/Python.framework/Versions/3.9/lib/python3.9/site-packages/plotly/express/_core.py:1637: FutureWarning: The frame.append method is deprecated and will be removed from pandas in a future version. Use pandas.concat instead.\n",
      "  df_all_trees = df_all_trees.append(df_tree, ignore_index=True)\n",
      "/Library/Frameworks/Python.framework/Versions/3.9/lib/python3.9/site-packages/plotly/express/_core.py:1637: FutureWarning: The frame.append method is deprecated and will be removed from pandas in a future version. Use pandas.concat instead.\n",
      "  df_all_trees = df_all_trees.append(df_tree, ignore_index=True)\n"
     ]
    },
    {
     "data": {
      "application/vnd.plotly.v1+json": {
       "config": {
        "plotlyServerURL": "https://plot.ly"
       },
       "data": [
        {
         "branchvalues": "total",
         "domain": {
          "x": [
           0,
           1
          ],
          "y": [
           0,
           1
          ]
         },
         "hovertemplate": "labels=%{label}<br>Valuation ($B)=%{value}<br>parent=%{parent}<br>id=%{id}<extra></extra>",
         "ids": [
          "United States/Internet software & services/1047 Games",
          "China/Hardware/1KMXC",
          "Canada/Cybersecurity/1Password",
          "China/Artificial intelligence/4Paradigm",
          "China/Supply chain, logistics, & delivery/56PINGTAI",
          "China/Internet software & services/58 Daojia",
          "United States/Artificial intelligence/6Sense",
          "United States/Other/ABL Space Systems",
          "China/Auto & transportation/AIWAYS",
          "United States/Artificial intelligence/ASAPP",
          "United Kingdom/Other/Accelerant",
          "India/Fintech/Acko General Insurance",
          "Switzerland/Cybersecurity/Acronis",
          "United States/Internet software & services/ActiveCampaign",
          "Canada/Artificial intelligence/Ada Support",
          "United States/Fintech/Addepar",
          "Singapore/Vision Plus Capital, GSR Ventures, ZhenFund/Advance Intelligence Group",
          "Bermuda/Artificial intelligence/Afiniti",
          "United States/Edtech/Age of Learning",
          "United States/Fintech/AgentSync",
          "Germany/Hardware/Agile Robots",
          "China/Artificial intelligence/Aibee",
          "United States/Internet software & services/Airbyte",
          "United States/Internet software & services/Aircall",
          "United States/Internet software & services/Airtable",
          "Australia/Fintech/Airwallex",
          "Finland/Internet software & services/Aiven",
          "Indonesia/Fintech/Ajaib",
          "Indonesia/E-commerce & direct-to-consumer/Akulaku",
          "France/Fintech/Alan",
          "United States/Internet software & services/Alation",
          "United States/Fintech/Alchemy",
          "United States/Health/Aledade",
          "United States/Cybersecurity/Aleo",
          "United States/Internet software & services/Algolia",
          "United States/Fintech/Alloy",
          "United States/Health/Alto Pharmacy",
          "United States/Health/Alzheon",
          "Hong Kong/Tiger Global Management, Tiger Brokers, DCM Ventures/Amber Group",
          "United States/Fintech/Amount",
          "United States/Artificial intelligence/Amperity",
          "United States/Fintech/Anchorage Digital",
          "United States/Internet software & services/Andela",
          "United States/Artificial intelligence/Anduril",
          "France/E-commerce & direct-to-consumer/Ankorstore",
          "United States/Artificial Intelligence/Anyscale",
          "United States/Other/Apeel Sciences",
          "United States/E-commerce & direct-to-consumer/AppDirect",
          "United States/Data management & analytics/Applied Intuition",
          "Canada/Edtech/ApplyBoard",
          "United States/Mobile & telecommunications/AppsFlyer",
          "South Korea/Health/Aprogen",
          "China/Mobile & telecommunications/Apus Group",
          "Israel/Cybersecurity/Aqua Security",
          "United States/Cybersecurity/Arctic Wolf Networks",
          "United States/Artificial intelligence/Argo AI",
          "China/Health/Arrail Dental",
          "United States/Edtech/Articulate",
          "Thailand/Fintech/Ascend Money",
          "United States/Internet software & services/Assembly",
          "Canada/Supply chain, logistics, & delivery/Assent Compliance",
          "United States/Mobile & telecommunications/Astranis Space Technologies",
          "United States/Fintech/At-Bay",
          "United States/Health/Athelas",
          "United States/Health/Athletic Greens",
          "United States/Mobile & telecommunications/Attentive",
          "United States/Artificial intelligence/Augury",
          "United States/Cybersecurity/Aura",
          "United States/Internet software & services/Aurora Solar",
          "United States/Artificial intelligence/Automation Anywhere",
          "United States/Internet software & services/Automattic",
          "United States/Artificial intelligence/Avant",
          "United States/Internet software & services/Aviatrix",
          "United States/E-commerce & direct-to-consumer/Away",
          "Canada/Internet software & services/Axelar",
          "United States/Other/Axiom Space",
          "United States/Cybersecurity/Axonius",
          "United States/Data management & analytics/Axtria",
          "United Kingdom/Fintech/BGL Group",
          "India/Edtech/BYJU's",
          "China/Auto & transportation/BYTON",
          "France/E-commerce & direct-to-consumer/Back Market",
          "China/Fintech/Baiwang",
          "China/Auto & transportation/Banma Network Technologies",
          "China/E-commerce & direct-to-consumer/BeiBei",
          "China/Internet software & services/Beisen",
          "United States/Internet software & services/Benchling",
          "United Kingdom/Artificial intelligence/BenevolentAI",
          "Germany/E-commerce & direct-to-consumer/Berlin Brands Group",
          "United States/Fintech/Better.com",
          "United States/Internet software & services/BetterUp",
          "Chile/Artificial intelligence/Betterfly",
          "United States/Fintech/Betterment",
          "United States/Cybersecurity/Beyond Identity",
          "India/Fintech/BharatPe",
          "United States/Cybersecurity/BigID",
          "United States/Artificial intelligence/BigPanda",
          "United States/Health/Biosplice Therapeutics",
          "China/Hardware/Biren Technology",
          "Netherlands/Hardware/BitFury",
          "Austria/Fintech/BitPanda",
          "United States/Cybersecurity/BitSight Technologies",
          "China/Hardware/Bitmain Technologies",
          "Mexico/Fintech/Bitso",
          "France/Auto & transportation/BlaBlaCar",
          "China/Artificial intelligence/Black Sesame Technologies",
          "United States/Other/Black Unicorn Factory",
          "India/Supply chain, logistics, & delivery/BlackBuck",
          "India/Supply chain, logistics, & delivery/Blinkit",
          "United States/Fintech/BlockDaemon",
          "United States/Fintech/BlockFi",
          "United Kingdom/Fintech/Blockchain.com",
          "Canada/Fintech/Blockstream",
          "United States/Artificial intelligence/BloomReach",
          "United States/Cybersecurity/BlueVoyant",
          "United States/Artificial intelligence/Bluecore",
          "Estonia/Auto & transportation/Bolt",
          "United States/Fintech/Bolt",
          "United States/Other/Boom Supersonic",
          "China/Auto & transportation/Bordrin Motors",
          "United Kingdom/Fintech/Bought By Many",
          "United States/Other/Bowery Farming",
          "United States/Mobile & telecommunications/Branch",
          "United Kingdom/Consumer & retail/BrewDog",
          "United States/Fintech/Brex",
          "Israel/Supply chain, logistics, & delivery/Bringg",
          "Ireland/Internet software & services/BrowserStack",
          "United States/Internet software & services/Built",
          "Netherlands/Fintech/Bunq",
          "China/Artificial intelligence/Bytedance",
          "United States/Fintech/C2FO",
          "Brazil/Fintech/C6 Bank",
          "United States/Fintech/CAIS",
          "United States/Fintech/CFGI",
          "United States/Cybersecurity/CHEQ",
          "United Kingdom/Health/CMR Surgical",
          "India/Fintech/CRED",
          "Spain/Auto & transportation/Cabify",
          "United States/Health/Cadence",
          "United States/Internet software & services/Calendly",
          "United States/Consumer & retail/Calm",
          "United States/Mobile & telecommunications/Cambridge Mobile Telematics",
          "United States/Internet software & services/Cameo",
          "Australia/Internet software & services/Canva",
          "China/Auto & transportation/Cao Cao Mobility",
          "United States/Health/Capsule",
          "United States/Fintech/CaptivateIQ",
          "India/E-commerce & direct-to-consumer/CarDekho",
          "United States/Hardware/Carbon",
          "United States/Health/Carbon Health",
          "Brazil/Supply chain, logistics, & delivery/CargoX",
          "United States/Health/Caris Life Sciences",
          "Singapore/500 Global, Rakuten Ventures, Golden Gate Ventures/Carousell",
          "Singapore/SingTel Innov8, Alpha JWC Ventures, Golden Gate Ventures/Carro",
          "India/E-commerce & direct-to-consumer/Cars24",
          "Malaysia/E-commerce & direct-to-consumer/Carsome",
          "United States/Fintech/Carson Group",
          "United States/Fintech/Carta",
          "China/E-commerce & direct-to-consumer/Carzone",
          "Israel/Cybersecurity/Cato Networks",
          "United States/Other/Cava Group",
          "United States/Fintech/Cedar",
          "South Africa/Mobile & telecommunications/Cell C",
          "Germany/Data management & analytics/Celonis",
          "United States/Fintech/Celsius Network",
          "United States/Health/Cerebral",
          "United States/Hardware/Cerebras Systems",
          "China/Fintech/Cgtz",
          "United States/Fintech/Chainalysis",
          "China/Edtech/Changingedu",
          "United States/Fintech/ChargeBee Technologies",
          "United Kingdom/Fintech/Checkout.com",
          "United States/Internet software & services/Checkr",
          "China/E-commerce & direct-to-consumer/Chehaoduo",
          "United States/Fintech/Chime",
          "China/Hardware/China Cloud",
          "China/Hardware/Chipone",
          "United States/Fintech/Chipper Cash",
          "United States/Data management & analytics/Chronosphere",
          "Hong Kong/Andreessen Horowitz, DST Global, IDG Capital/Cider",
          "United States/Fintech/Circle",
          "United States/Internet software & services/CircleCI",
          "United States/Health/Cityblock Health",
          "Mexico/Fintech/Clara",
          "United States/Internet software & services/Clari",
          "United States/Cybersecurity/Claroty",
          "Canada/Fintech/Clearco",
          "United States/Fintech/Clearcover",
          "United States/Data management & analytics/ClickHouse",
          "United States/Internet software & services/ClickUp",
          "Canada/Internet software & services/Clio",
          "Mexico/Fintech/Clip",
          "United States/Data management & analytics/CloudBees",
          "Brazil/Fintech/CloudWalk",
          "United States/Internet software & services/Cloudinary",
          "China/Artificial intelligence/Cloudwalk",
          "United States/Mobile & telecommunications/Clubhouse",
          "United States/Cybersecurity/Coalition",
          "United States/Data management & analytics/Cockroach Labs",
          "United States/Internet software & services/Coda",
          "Norway/Data management & analytics/Cognite",
          "United States/Data management & analytics/Cohesity",
          "India/Fintech/CoinDCX",
          "United States/Fintech/CoinList",
          "India/Fintech/CoinSwitch Kuber",
          "United States/Fintech/CoinTracker",
          "United States/Fintech/Collective Health",
          "Belgium/Data management & analytics/Collibra",
          "United States/Health/Color",
          "United States/Internet software & services/Commure",
          "United States/Fintech/ConsenSys",
          "France/Internet software & services/ContentSquare",
          "Germany/Internet software & services/Contentful",
          "United States/Cybersecurity/Contrast Security",
          "United States/Supply chain, logistics, & delivery/Convoy",
          "China/Hardware/Coocaa",
          "United States/Data management & analytics/Copado",
          "United States/Edtech/Course Hero",
          "Brazil/Fintech/Creditas",
          "Australia/Internet software & services/Culture Amp",
          "India/Health/CureFit",
          "United States/Fintech/Current",
          "United States/Cybersecurity/Cybereason",
          "China/Hardware/DJI Innovations",
          "China/Data management & analytics/DT Dream",
          "China/Other/Dadi Cinema",
          "United States/E-commerce & direct-to-consumer/Daily Harvest",
          "India/Internet software & services/DailyHunt",
          "United States/Fintech/DailyPay",
          "Canada/Fintech/Dapper Labs",
          "India/Internet software & services/Darwinbox",
          "United States/Artificial intelligence/DataRobot",
          "United States/Data management & analytics/Databricks",
          "United States/Internet software & services/Dataiku",
          "United States/Artificial intelligence/Dataminr",
          "India/E-commerce & direct-to-consumer/DealShare",
          "United States/Fintech/Deel",
          "China/Artificial intelligence/DeepBlue Technology",
          "France/Internet software & services/Deezer",
          "United States/Edtech/Degreed",
          "India/Supply chain, logistics, & delivery/Delhivery",
          "Belgium/Fintech/Deliverect",
          "United States/Supply chain, logistics, & delivery/Deliverr",
          "United States/Hardware/Density",
          "France/Health/Dental Monitoring",
          "United States/Data management & analytics/Devo",
          "United States/Health/Devoted Health",
          "United States/Internet software & services/Dialpad",
          "United States/Other/Diamond Foundry",
          "China/E-commerce & direct-to-consumer/DianRong",
          "India/Fintech/Digit Insurance",
          "United States/Finttech/Digital Currency Group",
          "United States/Internet software & services/Discord",
          "United States/Health/DispatchHealth",
          "United States/Internet software & services/DistroKid",
          "United States/Fintech/Divvy Homes",
          "France/Health/Doctolib",
          "United States/Internet software & services/Domestika",
          "United States/Cybersecurity/Dragos",
          "United States/Cybersecurity/Drata",
          "Turkey/Mobile & telecommunications/Dream Games",
          "India/Internet software & services/Dream11",
          "United States/Data management & analytics/Dremio",
          "Israel/Internet software & services/DriveNets",
          "United States/Fintech/DriveWealth",
          "United States/Data management & analytics/Druva",
          "South Korea/Fintech/Dunamu",
          "Norway/Data management & analytics/Dune Analytics",
          "United States/E-commerce & direct-to-consumer/Dutchie",
          "China/Health/Dxy.cn",
          "Brazil/Fintech/EBANX",
          "China/Auto & transportation/ECARX",
          "China/Auto & transportation/ENOVATE",
          "United States/Health/EQRx",
          "Israel/Fintech/Earnix",
          "China/Consumer & retail/Easyhome",
          "United States/Consumer & retail/Eat Just",
          "China/Hardware/EcoFlow",
          "United States/Internet software & services/Eightfold.ai",
          "Sweden/Auto & transportation/Einride",
          "India/Supply chain, logistics, & delivery/ElasticRun",
          "United States/Health/Elemy",
          "United Arab Emirates/Other/Emerging Markets Property Group",
          "China/Hardware/Enflame",
          "Germany/Internet software & services/Enpal",
          "United States/Internet software & services/Envoy",
          "United States/Other/Epic Games",
          "Sweden/Internet software & services/Epidemic Sound",
          "United States/Other/Epirus",
          "India/Edtech/Eruditus Executive Education",
          "United States/Fintech/Esusu",
          "United States/Fintech/Ethos",
          "United States/Internet software & services/Everlaw",
          "United States/E-commerce & direct-to-consumer/Everly Health",
          "United States/Health/Evidation",
          "United States/Cybersecurity/Exabeam",
          "France/Hardware/Exotec",
          "United States/Cybersecurity/Expel",
          "United States/Fintech/Extend",
          "Bahamas/Sequoia Capital, Thoma Bravo, Softbank/FTX",
          "China/Mobile & telecommunications/FXiaoKe",
          "United States/E-commerce & direct-to-consumer/Fabric",
          "United States/Supply chain, logistics, & delivery/Fabric",
          "United States/Auto & transportation/Fair",
          "United States/Artificial intelligence/Faire",
          "United States/Fintech/FalconX",
          "United States/E-commerce & direct-to-consumer/Fanatics",
          "United States/Other/Farmers Business Network",
          "United States/Artificial intelligence/Feedzai",
          "China/Edtech/Fenbi Education",
          "United States/E-commerce & direct-to-consumer/Fetch Rewards",
          "United States/Internet software & services/Fever Labs",
          "United States/Internet software & services/Figma",
          "Canada/Internet software & services/Figment",
          "United States/Fintech/Fireblocks",
          "Israel/Data management & analytics/Firebolt",
          "United States/Other/Firefly Aerospace",
          "India/E-commerce & direct-to-consumer/FirstCry",
          "China/Health/Fiture",
          "India/Other/Five Star Business Finance",
          "United States/Data management & analytics/FiveTran",
          "Thailand/Supply chain, logistics, & delivery/Flash Express",
          "China/Supply chain, logistics, & delivery/FlashEx",
          "United States/Supply chain, logistics, & delivery/Flexport",
          "Germany/E-commerce & direct-to-consumer/Flink",
          "United States/Internet software & services/Flipboard",
          "Ireland/Internet software & services/Flipdish",
          "Germany/Auto & transportation/FlixMobility",
          "United States/Fintech/FloQast",
          "United States/Supply chain, logistics, & delivery/Flock Freight",
          "United States/Hardware/Flock Safety",
          "United States/Fintech/Flutterwave",
          "United States/Hardware/Formlabs",
          "United States/Fintech/Forte Labs",
          "United States/Cybersecurity/Forter",
          "Germany/Supply chain, logistics, & delivery/Forto",
          "India/Data management & analytics/Fractal Analytics",
          "Canada/Fintech/Freshbooks",
          "United States/Internet software & services/FullStory",
          "United States/Fintech/Fundbox",
          "United States/Internet software & services/G2",
          "China/Supply chain, logistics, & delivery/G7 Networks",
          "Australia/Internet software & services/GO1",
          "United States/E-commerce & direct-to-consumer/GOAT",
          "South Korea/Other/GPclub",
          "China/Mobile & telecommunications/GalaxySpace",
          "China/Hardware/Gaussian Robotics",
          "China/Hardware/Geek+",
          "Norway/E-commerce & direct-to-consumer/Gelato",
          "United States/Internet software & services/Gem",
          "United States/Fintech/Gemini",
          "Germany/Travel/GetYourGuide",
          "Turkey/E-commerce & direct-to-consumer/Getir",
          "United Kingdom/Auto & transportation/Gett",
          "United Kingdom/Hardware/Global Switch",
          "India/E-commerce & direct-to-consumer/GlobalBees",
          "United States/Artificial intelligence/Globality",
          "United States/Internet software & services/Globalization Partners",
          "United States/Consumer & retail/Glossier",
          "United Kingdom/Fintech/GoCardless",
          "Austria/Edtech/GoStudent",
          "United States/Artificial intelligence/Gong",
          "United States/Internet software & services/GoodLeap",
          "Germany/E-commerce & direct-to-consumer/Gorillas",
          "United Kingdom/Supply chain, logistics, & delivery/Gousto",
          "United States/Internet software & services/Grafana Labs",
          "United States/Internet software & services/Grammarly",
          "United Kingdom/Artificial intelligence/Graphcore",
          "United States/Fintech/Greenlight",
          "United Kingdom/Fintech/Greensill",
          "United States/Artificial intelligence/Groq",
          "United States/E-commerce & direct-to-consumer/Grove Collaborative",
          "India/Fintech/Groww",
          "United States/E-commerce & direct-to-consumer/GrubMarket",
          "United States/Fintech/Guideline",
          "United States/Internet software & services/Guild Education",
          "China/Consumer & retail/Guoquan Shihui",
          "United States/Internet software & services/GupShup",
          "United States/Fintech/Gusto",
          "United States/Internet software & services/Gympass",
          "United Kingdom/E-commerce & direct-to-consumer/Gymshark",
          "United States/Artificial intelligence/H2O.ai",
          "China/Consumer & retail/HAYDON",
          "China/Other/HEYTEA",
          "Finland/Mobile & telecommunications/HMD Global",
          "Israel/Artificial intelligence/Hailo",
          "United States/Internet software & services/Handshake",
          "China/Artificial Intelligence/Haomao.AI",
          "United States/Fintech/Happy Money",
          "United States/Artificial intelligence/Harness",
          "United States/Consumer & retail/Harry's",
          "India/Internet software & services/Hasura",
          "United States/Health/HeartFlow",
          "United States/Internet software & services/Helium Systems",
          "China/Auto & transportation/Hello TransTech",
          "China/Artificial intelligence/Hesai Tech",
          "United States/E-commerce & direct-to-consumer/Heyday",
          "Israel/Internet software & services/Hibob",
          "United States/Fintech/HighRadius",
          "United States/Internet software & services/Highspot",
          "United States/Health/Hinge Health",
          "United States/Artificial intelligence/Hive",
          "China/Supply chain, logistics, & delivery/Hive Box",
          "United States/Fintech/HomeLight",
          "United States/Internet software & services/HoneyBook",
          "United States/Internet software & services/Honor Technology",
          "United Kingdom/Internet software & services/Hopin",
          "Canada/Travel/Hopper",
          "China/Artificial intelligence/Horizon Robotics",
          "China/E-commerce & direct-to-consumer/Hosjoy",
          "Netherlands/E-commerce & direct-to-consumer/Hotmart",
          "United States/E-commerce & direct-to-consumer/Houzz",
          "United Kingdom/Other/Howden Group Holdings",
          "China/Auto & transportation/Hozon Auto",
          "China/Edtech/HuJiang",
          "China/Mobile & telecommunications/Huaqin Telecom Technology",
          "China/E-commerce & direct-to-consumer/HuiMin",
          "China/Edtech/Huike Group",
          "China/Fintech/Huisuanzhang",
          "United States/Fintech/Human Interest",
          "Singapore/Kuang-Chi/HyalRoute",
          "China/Fintech/Hyperchain",
          "United States/Cybersecurity/ID.me",
          "United States/Internet software & services/IRL",
          "United States/Supply chain, logistics, & delivery/ISN",
          "United States/Fintech/Ibotta",
          "United States/Artificial intelligence/Icertis",
          "United States/E-commerce & direct-to-consumer/Il Makiage",
          "United States/Cybersecurity/Illumio",
          "China/Hardware/Iluvatar CoreX",
          "United States/Internet software & services/Impact",
          "United States/Consumer & retail/Impossible Foods",
          "United Kingdom/Other/Improbable",
          "Germany/Other/InFarm",
          "India/Mobile & telecommunications/InMobi",
          "Israel/Health/InSightec",
          "United States/Internet software & services/InVision",
          "United States/Other/Inari",
          "United States/Cybersecurity/Incode Technologies",
          "United States/Artificial intelligence/Indigo Ag",
          "United States/Hardware/Infinidat",
          "Croatia/Mobile & telecommunications/Infobip",
          "India/E-commerce & direct-to-consumer/Infra.Market",
          "United States/Fintech/Injective Protocol",
          "United States/Health/Innovaccer",
          "Turkey/Internet software & services/Insider",
          "United States/Data management & analytics/Instabase",
          "United States/Supply chain, logistics, & delivery/Instacart",
          "United States/Health/Intarcia Therapeutics",
          "China/Artificial intelligence/Intellifusion",
          "United States/Internet software & services/Intercom",
          "United States/Fintech/Interos",
          "United States/Fintech/Inxeption",
          "United States/Data management & analytics/Iodine Software",
          "United States/Internet software & services/Ironclad",
          "United States/Internet software & services/Iterable",
          "United States/Fintech/Ivalua",
          "Indonesia/Supply chain, logistics, & delivery/J&T Express",
          "China/E-commerce & direct-to-consumer/JOLLY Information Technology",
          "United States/Consumer & retail/JUUL Labs",
          "China/Fintech/JimuBox",
          "China/E-commerce & direct-to-consumer/Jiuxian",
          "Spain/Internet software & services/Jobandtalent",
          "United States/E-commerce & direct-to-consumer/Jokr",
          "Israel/Edtech/JoyTunes",
          "China/E-commerce & direct-to-consumer/Juanpi",
          "China/Supply chain, logistics, & delivery/Juma Peisong",
          "United States/Data management & analytics/JumpCloud",
          "China/Data management & analytics/Jusfoun Big Data",
          "United States/Internet software & services/Justworks",
          "United States/Health/K Health",
          "China/E-commerce & direct-to-consumer/KK Group",
          "Sweden/Health/KRY",
          "United States/Internet software & services/Kajabi",
          "United States/Internet software & services/Karat",
          "United States/Cybersecurity/Kaseya",
          "Mexico/E-commerce & direct-to-consumer/Kavak",
          "China/Supply chain, logistics, & delivery/Keenon Robotics",
          "China/Mobile & telecommunications/Keep",
          "United States/Supply chain, logistics, & delivery/KeepTruckin",
          "United States/Consumer & retail/Kendra Scott",
          "United Arab Emirates/Supply chain, logistics, & delivery/Kitopi",
          "Sweden/Fintech/Klarna",
          "United States/Internet software & services/Klaviyo",
          "Hong Kong/Travel/Klook",
          "China/Edtech/KnowBox",
          "United States/Health/Komodo Health",
          "Mexico/Fintech/Konfio",
          "United States/Internet software & services/Kong",
          "Indonesia/Consumer & retail/Kopi Kenangan",
          "China/E-commerce & direct-to-consumer/Koudai",
          "United States/Fintech/Kraken",
          "China/Supply chain, logistics, & delivery/Kuaigou Dache",
          "China/Internet software & services/Kuaikan Manhua",
          "China/Internet software & services/Kujiale",
          "South Korea/Supply chain, logistics, & delivery/Kurly",
          "South Korea/Consumer & retail/L&P Cosmetic",
          "India/Edtech/LEAD School",
          "United States/Internet software & services/LTK",
          "United States/Cybersecurity/Lacework",
          "Hong Kong/Supply chain, logistics, & delivery/Lalamove",
          "China/E-commerce & direct-to-consumer/Lamabang",
          "United States/Internet software & services/Lattice",
          "United States/Internet software & services/LaunchDarkly",
          "China/Auto & transportation/Leap Motor",
          "France/Hardware/Ledger",
          "India/E-commerce & direct-to-consumer/Lenskart",
          "United States/Internet software & services/Lessen",
          "Ireland/Health/LetsGetChecked",
          "China/E-commerce & direct-to-consumer/Lianjia",
          "India/E-commerce & direct-to-consumer/Licious",
          "Colombia/Other/LifeMiles",
          "Israel/Artificial intelligence/Lightricks",
          "China/Health/LinkDoc Technology",
          "China/Mobile & telecommunications/LinkSure Network",
          "Japan/Fintech/Liquid",
          "India/E-commerce & direct-to-consumer/LivSpace",
          "United States/Supply chain, logistics, & delivery/Loadsmart",
          "United States/Hardware/Locus Robotics",
          "Brazil/E-commerce & direct-to-consumer/Loft",
          "Brazil/Supply chain, logistics, & delivery/Loggi",
          "United States/Cybersecurity/Lookout",
          "United States/Internet software & services/Loom",
          "United States/Internet software & services/Lucid Software",
          "United States/Fintech/Lukka",
          "Denmark/Fintech/Lunar",
          "China/Edtech/Luoji Siwei",
          "United States/Internet software & services/Lusha",
          "France/Fintech/Lydia",
          "United States/Health/Lyra Health",
          "United States/Fintech/M1 Finance",
          "China/Artificial intelligence/MEGVII",
          "United States/Artificial intelligence/MOLOCO",
          "United States/Internet software & services/MURAL",
          "South Korea/E-commerce & direct-to-consumer/MUSINSA",
          "United States/Fintech/MX Technologies",
          "Brazil/E-commerce & direct-to-consumer/MadeiraMadeira",
          "China/Travel/Mafengwo",
          "United States/Hardware/Magic Leap",
          "China/Mobile & telecommunications/Maimai",
          "India/E-commerce & direct-to-consumer/Mamaearth",
          "Netherlands/Fintech/Mambu",
          "United States/Health/Mammoth Biosciences",
          "China/Other/Manner",
          "France/E-commerce & direct-to-consumer/ManoMano",
          "United Kingdom/Fintech/Marshmallow",
          "United States/Edtech/MasterClass",
          "United States/Fintech/Masterworks",
          "United Kingdom/Data management & analytics/Matillion",
          "Singapore/Dragonfly Captial, Qiming Venture Partners, DST Global/Matrixport",
          "United States/Health/Maven Clinic",
          "United States/Internet software & services/Medable",
          "United States/Internet software & services/MediaMath",
          "China/Health/Medlinker",
          "France/Artificial intelligence/Meero",
          "India/Internet software & services/Meesho",
          "China/Mobile & telecommunications/Meicai",
          "China/Hardware/Meizu Technology",
          "United States/Fintech/Melio",
          "India/Other/Mensa Brands",
          "Mexico/E-commerce & direct-to-consumer/Merama",
          "United States/Fintech/Mercury",
          "Netherlands/Mobile & telecommunications/MessageBird",
          "China/E-commerce & direct-to-consumer/Mia.com",
          "China/E-commerce & direct-to-consumer/Miaoshou Doctor",
          "Switzerland/Health/MindMaze",
          "United States/Internet software & services/MindTickle",
          "China/Artificial intelligence/Mininglamp Technology",
          "United States/Data management & analytics/Minio",
          "France/E-commerce & direct-to-consumer/Mirakl",
          "United States/Internet software & services/Miro",
          "United States/E-commerce & direct-to-consumer/Misfits Market",
          "United States/Internet software & services/Mixpanel",
          "Vietnam/Fintech/MoMo",
          "India/Fintech/MobiKwik",
          "India/Internet software & services/Mobile Premier League",
          "United States/Fintech/MobileCoin",
          "China/Consumer & retail/Mobvoi",
          "United States/Health/Modern Health",
          "United States/Fintech/Modern Treasury",
          "United States/Health/Modernizing Medicine",
          "China/E-commerce & direct-to-consumer/Mofang Living",
          "Singapore/Jungle Ventures, Accel, Venture Highway/Moglix",
          "China/Internet software & services/Moka",
          "Netherlands/Fintech/Mollie",
          "China/Artificial intelligence/Momenta",
          "United Kingdom/Fintech/Monzo",
          "Israel/Mobile & telecommunications/Moon Active",
          "United States/Fintech/MoonPay",
          "United States/Internet software & services/Morning Consult",
          "United Kingdom/E-commerce & direct-to-consumer/Motorway",
          "United States/Artificial intelligence/Moveworks",
          "Brazil/Mobile & telecommunications/Movile",
          "United States/Data management & analytics/Mu Sigma",
          "United States/Internet software & services/Mux",
          "India/E-commerce & direct-to-consumer/MyGlamm",
          "Philippines/Fintech/Mynt",
          "United States/Internet software & services/Mythical Games",
          "Germany/Fintech/N26",
          "Singapore/Vertex Ventures SE Asia, Global Founders Capital, Visa Ventures/NIUM",
          "India/Fintech/National Stock Exchange of India",
          "United States/Other/Nature's Fynd",
          "United States/Data management & analytics/Neo4j",
          "Brazil/Fintech/Neon",
          "United States/Internet software & services/Netlify",
          "United States/Cybersecurity/Netskope",
          "China/E-commerce & direct-to-consumer/Newlink Group",
          "United States/Internet software & services/News Break",
          "United States/Internet software & services/Newsela",
          "Canada/Other/Nexii",
          "United States/Fintech/Next Insurance",
          "Israel/Hardware/Next Silicon",
          "Switzerland/Data management & analytics/Nexthink",
          "United States/Internet software & services/Nextiva",
          "United States/Mobile & telecommunications/Niantic",
          "Singapore/B Capital Group, Monk's Hill Ventures, Dynamic Parcel Distribution/Ninja Van",
          "India/Internet software & services/NoBroker",
          "United States/Cybersecurity/Noname Security",
          "United States/Health/Noom",
          "Sweden/Other/Northvolt",
          "Chile/Artificial Intelligence/NotCo",
          "United States/Internet software & services/Notion Labs",
          "Germany/Other/NuCom Group",
          "Switzerland/Fintech/Numbrs",
          "United States/Auto & transportation/Nuro",
          "Brazil/E-commerce & direct-to-consumer/Nuvemshop",
          "China/Internet software & services/Nxin",
          "Luxembourg/Other/OCSiAl",
          "Singapore/Temasek, Guggenheim Investments, Qatar Investment Authority/ONE",
          "France/Other/OVH",
          "United Kingdom/Other/OVO Energy",
          "India/Travel/OYO Rooms",
          "United Kingdom/Fintech/OakNorth Bank",
          "Norway/E-commerce & direct-to-consumer/Oda",
          "Belgium/Internet software & services/Odoo",
          "India/E-commerce & direct-to-consumer/OfBusiness",
          "United States/Internet software & services/Offchain Labs",
          "India/Auto & transportation/Ola Cabs",
          "India/Auto & transportation/Ola Electric Mobility",
          "Brazil/E-commerce & direct-to-consumer/Olist",
          "United States/Internet software & services/Olive",
          "United States/Health/Omada Health",
          "Germany/Travel/Omio",
          "United States/Internet software & services/OneTrust",
          "Nigeria/Fintech/Opay",
          "United States/Artificial intelligence/OpenAI",
          "United States/E-commerce & direct-to-consumer/OpenSea",
          "United States/Internet software & services/OpenWeb",
          "United States/Hardware/Opentrons",
          "Israel/Artificial intelligence/OrCam Technologies",
          "China/Hardware/Orbbec Technology",
          "United States/Health/Orca Bio",
          "United States/Cybersecurity/Orca Security",
          "United States/Fintech/Orchard",
          "Germany/Health/Otto Bock HealthCare",
          "United States/Internet software & services/OutSystems",
          "United States/Internet software & services/Outreach",
          "United States/Edtech/Outschool",
          "China/Internet software & services/Ouyeel",
          "Indonesia/Fintech/Ovo",
          "United States/Artificial Intelligence/Owkin",
          "United States/Data management & analytics/OwnBackup",
          "United States/Consumer & retail/PAX",
          "United States/Internet software & services/PLACE",
          "United Kingdom/Fintech/PPRO",
          "United States/Fintech/Pacaso",
          "Israel/Fintech/Pagaya",
          "United States/Internet software & services/PandaDoc",
          "United States/Internet software & services/Pantheon Systems",
          "United States/Cybersecurity/Panther Labs",
          "United States/Health/Papa",
          "United States/Internet software & services/Papaya Global",
          "United States/Internet software & services/Paradox",
          "United States/Consumer & retail/Pat McGrath Labs",
          "Singapore/Sequoia Capital China, Shunwei Capital Partners, Qualgro/PatSnap",
          "United States/Internet software & services/Patreon",
          "United States/Internet software & services/Pattern",
          "United States/Fintech/Paxos",
          "United Kingdom/Fintech/PayFit",
          "United Kingdom/Fintech/Payhawk",
          "United States/Internet software & services/Pendo",
          "Israel/Cybersecurity/Pentera",
          "United States/Internet software & services/People.ai",
          "United States/Cybersecurity/Persona",
          "Germany/Internet software & services/Personio",
          "Australia/E-commerce & direct-to-consumer/Pet Circle",
          "United States/Fintech/Phantom",
          "United States/E-commerce & direct-to-consumer/Pharmapacks",
          "United States/Internet software & services/Phenom People",
          "United States/Mobile & telecommunications/PicsArt",
          "United States/Fintech/Pilot.com",
          "India/Fintech/Pine Labs",
          "China/Edtech/Pipa Coding",
          "United States/Fintech/Pipe",
          "United States/Artificial intelligence/Placer.ai",
          "United States/Fintech/Plaid",
          "Japan/Other/Playco",
          "Denmark/Fintech/Pleo",
          "United States/Internet software & services/Plume",
          "United States/Internet software & services/Podium",
          "Canada/Internet software & services/PointClickCare",
          "China/Mobile & telecommunications/Poizon",
          "India/Fintech/PolicyBazaar",
          "United States/Artificial intelligence/Pony.ai",
          "United States/Internet software & services/Postman",
          "Japan/Artificial intelligence/Preferred Networks",
          "United States/Health/Prime Medicine",
          "United States/Other/Printful",
          "India/Health/Pristyn Care",
          "United States/Internet software & services/Productboard",
          "United States/Supply chain, logistics, & delivery/Project44",
          "South Africa/Consumer & retail/Promasidor Holdings",
          "United States/Hardware/PsiQuantum",
          "United States/Fintech/Public",
          "China/Internet software & services/Qingting FM",
          "France/Fintech/Qonto",
          "United States/Fintech/Qualia",
          "United States/Data management & analytics/Quantum Metric",
          "Brazil/E-commerce & direct-to-consumer/QuintoAndar",
          "United States/Edtech/Quizlet",
          "United States/Data management & analytics/Qumulo",
          "United States/Internet software & services/Quora",
          "United States/Supply chain, logistics, & delivery/REEF Technology",
          "Finland/Supply chain, logistics, & delivery/RELEX Solutions",
          "South Korea/E-commerce & direct-to-consumer/RIDI",
          "United States/Health/Radiology Partners",
          "United Kingdom/Fintech/Radius Payment Solutions",
          "United States/Fintech/Ramp",
          "Colombia/Supply chain, logistics, & delivery/Rappi",
          "United Kingdom/Fintech/Rapyd",
          "Germany/Consumer & retail/Razor",
          "India/Fintech/Razorpay",
          "United States/Fintech/ReCharge",
          "India/E-commerce & direct-to-consumer/Rebel Foods",
          "United States/Artificial intelligence/Rebellion Defense",
          "United States/Internet software & services/Rec Room",
          "United States/Other/Red Ventures",
          "United States/Data management & analytics/Redis Labs",
          "United States/Other/Redwood Materials",
          "United States/Health/Reify Health",
          "United States/Internet software & services/Relativity",
          "United States/Other/Relativity Space",
          "United States/Cybersecurity/ReliaQuest",
          "United States/Data management & analytics/Reltio",
          "United States/Fintech/Remote",
          "United States/Internet software & services/Retool",
          "United Kingdom/Fintech/Revolut",
          "Philippines/Other/Revolution Precrafted",
          "United States/Health/Rightway",
          "United States/Fintech/Ripple",
          "United States/Internet software & services/Rippling",
          "India/Supply chain, logistics, & delivery/Rivigo",
          "United States/Health/Ro",
          "Czech Republic/Supply chain, logistics, & delivery/Rohlik",
          "United States/Internet software & services/Rokt",
          "United States/Consumer & retail/Rothy's",
          "United States/Supply chain, logistics, & delivery/Route",
          "China/Hardware/Royole Corporation",
          "United States/Other/Rubicon",
          "United States/Data management & analytics/Rubrik",
          "China/E-commerce & direct-to-consumer/SHEIN",
          "China/Other/SITECH DEV",
          "United States/Internet software & services/SMS Assist",
          "Canada/E-commerce & direct-to-consumer/SSENSE",
          "United States/Supply chain, logistics, & delivery/STORD",
          "China/Auto & transportation/SVOLT",
          "United States/Health/SWORD Health",
          "Australia/Internet software & services/SafetyCulture",
          "United States/Cybersecurity/Salt Security",
          "United Kingdom/Fintech/SaltPay",
          "United States/Data management & analytics/SambaNova Systems",
          "United States/E-commerce & direct-to-consumer/Savage X Fenty",
          "Germany/Fintech/Scalable Capital",
          "Italy/Fintech/Scalapay",
          "United States/Artificial intelligence/Scale AI",
          "Switzerland/Supply chain, logistics, & delivery/Scandit",
          "United States/Mobile & telecommunications/Scopely",
          "United States/Internet software & services/SeekOut",
          "United States/Internet software & services/Seismic",
          "Germany/E-commerce & direct-to-consumer/SellerX",
          "United States/Mobile & telecommunications/Sendbird",
          "Germany/Supply chain, logistics, & delivery/Sennder",
          "United States/Other/Sentry",
          "United States/Internet software & services/ServiceTitan",
          "India/Internet software & services/ShareChat",
          "United States/Artificial intelligence/Shield AI",
          "France/Artificial intelligence/Shift Technology",
          "United States/Supply chain, logistics, & delivery/ShipBob",
          "United States/Supply chain, logistics, & delivery/Shippo",
          "United States/Internet software & services/Side",
          "United States/Fintech/Sidecar Health",
          "United States/Artificial intelligence/Sift",
          "United States/Fintech/Signifyd",
          "United States/Other/Sila Nanotechnologies",
          "United States/Data management & analytics/Sisense",
          "United States/E-commerce & direct-to-consumer/Skims",
          "Vietnam/Internet software & services/Sky Mavis",
          "United States/Other/Skydance Media",
          "United States/Supply chain, logistics, & delivery/Skydio",
          "India/Fintech/Slice",
          "United States/Fintech/SmartAsset",
          "Japan/Fintech/SmartHR",
          "China/Artificial Intelligence/SmartMore",
          "Japan/Mobile & telecommunications/SmartNews",
          "United States/Internet software & services/SmartRecruiters",
          "United States/Internet software & services/SnapLogic",
          "India/E-commerce & direct-to-consumer/Snapdeal",
          "United States/Fintech/Snapdocs",
          "United States/Artificial intelligence/Snorkel AI",
          "United States/Cybersecurity/Snyk",
          "South Korea/Auto & transportation/Socar",
          "United States/Cybersecurity/Socure",
          "United States/Internet software & services/Solo.io",
          "United States/Other/Solugen",
          "United States/Health/Somatus",
          "United States/Health/SonderMind",
          "France/E-commerce & direct-to-consumer/Sorare",
          "China/E-commerce & direct-to-consumer/SouChe Holdings",
          "United States/Artificial intelligence/SoundHound",
          "United States/Internet software & services/Sourcegraph",
          "United States/Other/SpaceX",
          "United States/Artificial intelligence/SparkCognition",
          "France/Fintech/Spendesk",
          "Japan/Other/Spiber",
          "India/E-commerce & direct-to-consumer/Spinny",
          "United States/Internet software & services/Splashtop",
          "United States/Fintech/SpotOn",
          "United States/Fintech/Spotter",
          "United States/Health/Spring Health",
          "United States/Artificial intelligence/Standard",
          "China/Auto & transportation/Star Charge",
          "United States/Data management & analytics/Starburst",
          "Israel/Cybersecurity/StarkWare",
          "United Kingdom/Fintech/Starling Bank",
          "United States/Mobile & telecommunications/Starry",
          "United States/Fintech/Stash",
          "United States/E-commerce & direct-to-consumer/StockX",
          "Israel/Other/StoreDot",
          "United States/Internet software & services/Strava",
          "United States/Fintech/Stripe",
          "United States/Cybersecurity/Stytch",
          "United Kingdom/Fintech/SumUp",
          "United States/Fintech/Sunbit",
          "India/Supply chain, logistics, & delivery/Swiggy",
          "France/Fintech/Swile",
          "United States/Fintech/Symphony",
          "United States/Cybersecurity/Sysdig",
          "China/Fintech/TELD",
          "China/Hardware/TERMINUS Technology",
          "China/Artificial Intelligence/TUNGEE",
          "United States/Internet software & services/Tackle.io",
          "United States/Internet software & services/Talkdesk",
          "China/Mobile & telecommunications/TalkingData",
          "United States/Mobile & telecommunications/TangoMe",
          "United States/Cybersecurity/Tanium",
          "United States/Fintech/TaxBit",
          "United States/Internet software & services/Tealium",
          "United States/E-commerce & direct-to-consumer/TechStyle Fashion Group",
          "United States/Internet software & services/Tekion",
          "United States/Internet software & services/Temporal",
          "United States/Health/Tempus",
          "Canada/Artificial intelligence/TensTorrent",
          "China/Internet software & services/Tezign",
          "United Kingdom/Fintech/The Bank of London",
          "United States/E-commerce & direct-to-consumer/The Zebra",
          "United States/Health/Thirty Madison",
          "United Kingdom/Fintech/Thought Machine",
          "United States/Internet software & services/ThoughtSpot",
          "United States/Other/Thrasio",
          "United States/E-commerce & direct-to-consumer/Thumbtack",
          "Germany/Travel/Tier",
          "United States/Internet software & services/Timescale",
          "United States/Fintech/Tipalti",
          "United States/E-commerce & direct-to-consumer/Tonal",
          "China/Cybersecurity/Tongdun Technology",
          "South Korea/Fintech/Toss",
          "United Kingdom/Artificial intelligence/Tractable",
          "Germany/Fintech/Trade Republic",
          "United States/Other/Trader Interactive",
          "United States/Fintech/Tradeshift",
          "United States/Fintech/TradingView",
          "United States/Health/Transcarent",
          "Israel/Cybersecurity/Transmit Security",
          "Spain/Travel/TravelPerk",
          "Indonesia/Travel/Traveloka",
          "Singapore/Hopu Investment Management, Boyu Capital, DC Thomson Ventures/Trax",
          "Hong Kong/Consumer & retail/Trendy Group International",
          "United States/Fintech/Tresata",
          "United States/Health/TrialSpark",
          "United States/Travel/TripActions",
          "United Kingdom/Mobile & telecommunications/Tripledot Studios",
          "United Kingdom/Fintech/TrueLayer",
          "United States/Health/Truepill",
          "Canada/Cybersecurity/Trulioo",
          "United States/Fintech/Trumid",
          "China/Travel/TuJia",
          "China/E-commerce & direct-to-consumer/Tubatu.com",
          "China/Auto & transportation/Tuhu",
          "United States/Internet software & services/Turing",
          "China/Hardware/UBTECH Robotics",
          "China/Supply chain, logistics, & delivery/UISEE Technology",
          "Argentina/Fintech/Uala",
          "India/Supply chain, logistics, & delivery/Udaan",
          "India/Edtech/Unacademy",
          "Brazil/Artificial intelligence/Unico",
          "United States/Artificial Intelligence/Uniphore",
          "China/Artificial intelligence/Unisound",
          "United States/Health/Unite Us",
          "China/Health/United Imaging Healthcare",
          "United States/Fintech/Unqork",
          "India/Edtech/UpGrad",
          "United States/Fintech/Upgrade",
          "United States/Other/Uplight",
          "India/Fintech/Upstox",
          "United States/Artificial intelligence/Uptake",
          "India/E-commerce & direct-to-consumer/Urban Company",
          "United States/Data management & analytics/VAST Data",
          "China/Edtech/VIPKid",
          "Sweden/Travel/VOI",
          "United States/Internet software & services/VTS",
          "United States/Internet software & services/Vagaro",
          "United States/Fintech/Varo Bank",
          "United States/Artificial intelligence/Vectra Networks",
          "India/Edtech/Vedantu",
          "France/E-commerce & direct-to-consumer/Veepee",
          "United States/Internet software & services/Veev",
          "United States/Supply chain, logistics, & delivery/Veho",
          "United States/Cybersecurity/Venafi",
          "United States/Artificial intelligence/VerbIT",
          "United States/Internet software & services/Vercel",
          "Estonia/Artificial intelligence/Veriff",
          "United States/Cybersecurity/Verkada",
          "France/E-commerce & direct-to-consumer/Vestiaire Collective",
          "United States/Auto & transportation/Via",
          "United States/Internet software & services/Vice Media",
          "United States/Internet software & services/VideoAmp",
          "Lithuania/E-commerce & direct-to-consumer/Vinted",
          "United States/Health/Virta Health",
          "United States/Fintech/Vise",
          "Canada/Internet software & services/Visier",
          "United Arab Emirates/Other/Vista Global",
          "France/Other/Voodoo",
          "United States/Internet software & services/Vox Media",
          "United States/E-commerce & direct-to-consumer/Vuori",
          "South Korea/E-commerce & direct-to-consumer/WEMAKEPRICE",
          "China/Auto & transportation/WM Motor",
          "China/Internet software & services/WTOIP",
          "China/Mobile & telecommunications/Wacai",
          "United States/Internet software & services/Watershed",
          "Senegal/Fintech/Wave",
          "Ireland/Fintech/Wayflyer",
          "China/Health/We Doctor",
          "China/Fintech/WeBull",
          "Hong Kong/Sequoia Capital China, ING, Alibaba Entrepreneurs Fund/WeLab",
          "China/Auto & transportation/WeRide",
          "United States/Internet software & services/Webflow",
          "United States/Supply chain, logistics, & delivery/Weee!",
          "China/Consumer & retail/Weilong",
          "China/Other/Wenheyou",
          "United States/E-commerce & direct-to-consumer/Whatnot",
          "United States/E-commerce & direct-to-consumer/Whoop",
          "Brazil/Other/Wildlife Studios",
          "Israel/Cybersecurity/Wiz",
          "China/E-commerce & direct-to-consumer/Womai",
          "United States/Internet software & services/Workato",
          "Ireland/Internet software & services/Workhuman",
          "United States/Internet software & services/Workrise",
          "United States/Fintech/Wrapbook",
          "China/Internet software & services/XForcePlus",
          "Indonesia/Fintech/Xendit",
          "China/Travel/XiaoZhu",
          "China/Fintech/Xiaobing",
          "China/E-commerce & direct-to-consumer/Xiaohongshu",
          "China/Mobile & telecommunications/Ximalaya FM",
          "China/Internet software & services/Xinchao Media",
          "China/E-commerce & direct-to-consumer/Xingsheng Selected",
          "China/E-commerce & direct-to-consumer/Xingyun Group",
          "India/Supply chain, logistics, & delivery/Xpressbees",
          "China/Artificial intelligence/XtalPi",
          "China/Supply chain, logistics, & delivery/YH Global",
          "China/Artificial intelligence/YITU Technology",
          "South Korea/Travel/Yanolja",
          "China/Health/Yaoshibang",
          "South Korea/Mobile & telecommunications/Yello Mobile",
          "China/Mobile & telecommunications/Yidian Zixun",
          "China/Supply chain, logistics, & delivery/Yiguo",
          "China/Consumer & retail/Yijiupi",
          "China/Supply chain, logistics, & delivery/Yimidida",
          "China/E-commerce & direct-to-consumer/Yipin Shengxian",
          "United States/Internet software & services/YipitData",
          "China/Mobile & telecommunications/Yixia",
          "France/Other/Ynsect",
          "United States/Internet software & services/Yotpo",
          "United States/Other/You & Mr Jones",
          "China/Auto & transportation/Youxia Motors",
          "China/Edtech/Yuanfudao",
          "China/Consumer & retail/Yuanqi Senlin",
          "United States/Data management & analytics/YugaByte",
          "China/Supply chain, logistics, & delivery/YunQuNa",
          "China/Edtech/Yunxuetang",
          "United Kingdom/Fintech/ZEPZ",
          "United States/Internet software & services/Zapier",
          "United Kingdom/Fintech/Zego",
          "United States/Fintech/ZenBusiness",
          "United States/Internet software & services/Zenoti",
          "United States/Fintech/Zeta",
          "India/Internet software & services/Zetwerk",
          "China/E-commerce & direct-to-consumer/Zhaogang",
          "China/E-commerce & direct-to-consumer/Zhuan Zhuan",
          "China/Internet software & services/Zhubajie",
          "China/Consumer & retail/Zihaiguo",
          "United Kingdom/Fintech/Zilch",
          "United States/Supply chain, logistics, & delivery/Zipline",
          "China/E-commerce & direct-to-consumer/Ziroom",
          "United States/Health/ZocDoc",
          "China/Auto & transportation/ZongMu Technology",
          "United Kingdom/Fintech/Zopa",
          "United States/Consumer & retail/Zume",
          "China/Edtech/Zuoyebang",
          "United States/E-commerce & direct-to-consumer/Zwift",
          "India/Internet software & services/apna",
          "Singapore/Mundi Ventures, Doqling Capital Partners, Activant Capital/bolttech",
          "United States/Fintech/candy.com",
          "United States/Data management & analytics/dbt Labs",
          "China/E-commerce & direct-to-consumer/eDaili",
          "Canada/Cybersecurity/eSentire",
          "United States/Supply chain, logistics, & delivery/ezCater",
          "United States/E-commerce & direct-to-consumer/goPuff",
          "United States/Fintech/iCapital Network",
          "China/Artificial intelligence/iCarbonX",
          "Brazil/Supply chain, logistics, & delivery/iFood",
          "United States/Fintech/iTrustCapital",
          "China/Edtech/iTutorGroup",
          "United States/Artificial intelligence/o9 Solutions",
          "United States/Internet software & services/reddit",
          "Germany/Fintech/solarisBank",
          "Germany/Fintech/wefox",
          "Singapore/500 Global, Rakuten Ventures, Golden Gate Ventures",
          "Hong Kong/Andreessen Horowitz, DST Global, IDG Capital",
          "Chile/Artificial Intelligence",
          "China/Artificial Intelligence",
          "United States/Artificial Intelligence",
          "Bermuda/Artificial intelligence",
          "Brazil/Artificial intelligence",
          "Canada/Artificial intelligence",
          "Chile/Artificial intelligence",
          "China/Artificial intelligence",
          "Estonia/Artificial intelligence",
          "France/Artificial intelligence",
          "Israel/Artificial intelligence",
          "Japan/Artificial intelligence",
          "United Kingdom/Artificial intelligence",
          "United States/Artificial intelligence",
          "China/Auto & transportation",
          "Estonia/Auto & transportation",
          "France/Auto & transportation",
          "Germany/Auto & transportation",
          "India/Auto & transportation",
          "South Korea/Auto & transportation",
          "Spain/Auto & transportation",
          "Sweden/Auto & transportation",
          "United Kingdom/Auto & transportation",
          "United States/Auto & transportation",
          "Singapore/B Capital Group, Monk's Hill Ventures, Dynamic Parcel Distribution",
          "China/Consumer & retail",
          "Germany/Consumer & retail",
          "Hong Kong/Consumer & retail",
          "Indonesia/Consumer & retail",
          "South Africa/Consumer & retail",
          "South Korea/Consumer & retail",
          "United Kingdom/Consumer & retail",
          "United States/Consumer & retail",
          "Canada/Cybersecurity",
          "China/Cybersecurity",
          "Israel/Cybersecurity",
          "Switzerland/Cybersecurity",
          "United States/Cybersecurity",
          "Belgium/Data management & analytics",
          "China/Data management & analytics",
          "Germany/Data management & analytics",
          "India/Data management & analytics",
          "Israel/Data management & analytics",
          "Norway/Data management & analytics",
          "Switzerland/Data management & analytics",
          "United Kingdom/Data management & analytics",
          "United States/Data management & analytics",
          "Singapore/Dragonfly Captial, Qiming Venture Partners, DST Global",
          "Australia/E-commerce & direct-to-consumer",
          "Brazil/E-commerce & direct-to-consumer",
          "Canada/E-commerce & direct-to-consumer",
          "China/E-commerce & direct-to-consumer",
          "France/E-commerce & direct-to-consumer",
          "Germany/E-commerce & direct-to-consumer",
          "India/E-commerce & direct-to-consumer",
          "Indonesia/E-commerce & direct-to-consumer",
          "Lithuania/E-commerce & direct-to-consumer",
          "Malaysia/E-commerce & direct-to-consumer",
          "Mexico/E-commerce & direct-to-consumer",
          "Netherlands/E-commerce & direct-to-consumer",
          "Norway/E-commerce & direct-to-consumer",
          "South Korea/E-commerce & direct-to-consumer",
          "Turkey/E-commerce & direct-to-consumer",
          "United Kingdom/E-commerce & direct-to-consumer",
          "United States/E-commerce & direct-to-consumer",
          "Austria/Edtech",
          "Canada/Edtech",
          "China/Edtech",
          "India/Edtech",
          "Israel/Edtech",
          "United States/Edtech",
          "Argentina/Fintech",
          "Australia/Fintech",
          "Austria/Fintech",
          "Belgium/Fintech",
          "Brazil/Fintech",
          "Canada/Fintech",
          "China/Fintech",
          "Denmark/Fintech",
          "France/Fintech",
          "Germany/Fintech",
          "India/Fintech",
          "Indonesia/Fintech",
          "Ireland/Fintech",
          "Israel/Fintech",
          "Italy/Fintech",
          "Japan/Fintech",
          "Mexico/Fintech",
          "Netherlands/Fintech",
          "Nigeria/Fintech",
          "Philippines/Fintech",
          "Senegal/Fintech",
          "South Korea/Fintech",
          "Sweden/Fintech",
          "Switzerland/Fintech",
          "Thailand/Fintech",
          "United Kingdom/Fintech",
          "United States/Fintech",
          "Vietnam/Fintech",
          "United States/Finttech",
          "China/Hardware",
          "France/Hardware",
          "Germany/Hardware",
          "Israel/Hardware",
          "Netherlands/Hardware",
          "United Kingdom/Hardware",
          "United States/Hardware",
          "China/Health",
          "France/Health",
          "Germany/Health",
          "India/Health",
          "Ireland/Health",
          "Israel/Health",
          "South Korea/Health",
          "Sweden/Health",
          "Switzerland/Health",
          "United Kingdom/Health",
          "United States/Health",
          "Singapore/Hopu Investment Management, Boyu Capital, DC Thomson Ventures",
          "Australia/Internet software & services",
          "Belgium/Internet software & services",
          "Canada/Internet software & services",
          "China/Internet software & services",
          "Finland/Internet software & services",
          "France/Internet software & services",
          "Germany/Internet software & services",
          "India/Internet software & services",
          "Ireland/Internet software & services",
          "Israel/Internet software & services",
          "Spain/Internet software & services",
          "Sweden/Internet software & services",
          "Turkey/Internet software & services",
          "United Kingdom/Internet software & services",
          "United States/Internet software & services",
          "Vietnam/Internet software & services",
          "Singapore/Jungle Ventures, Accel, Venture Highway",
          "Singapore/Kuang-Chi",
          "Brazil/Mobile & telecommunications",
          "China/Mobile & telecommunications",
          "Croatia/Mobile & telecommunications",
          "Finland/Mobile & telecommunications",
          "India/Mobile & telecommunications",
          "Israel/Mobile & telecommunications",
          "Japan/Mobile & telecommunications",
          "Netherlands/Mobile & telecommunications",
          "South Africa/Mobile & telecommunications",
          "South Korea/Mobile & telecommunications",
          "Turkey/Mobile & telecommunications",
          "United Kingdom/Mobile & telecommunications",
          "United States/Mobile & telecommunications",
          "Singapore/Mundi Ventures, Doqling Capital Partners, Activant Capital",
          "Brazil/Other",
          "Canada/Other",
          "China/Other",
          "Colombia/Other",
          "France/Other",
          "Germany/Other",
          "India/Other",
          "Israel/Other",
          "Japan/Other",
          "Luxembourg/Other",
          "Philippines/Other",
          "South Korea/Other",
          "Sweden/Other",
          "United Arab Emirates/Other",
          "United Kingdom/Other",
          "United States/Other",
          "Hong Kong/Sequoia Capital China, ING, Alibaba Entrepreneurs Fund",
          "Singapore/Sequoia Capital China, Shunwei Capital Partners, Qualgro",
          "Bahamas/Sequoia Capital, Thoma Bravo, Softbank",
          "Singapore/SingTel Innov8, Alpha JWC Ventures, Golden Gate Ventures",
          "Brazil/Supply chain, logistics, & delivery",
          "Canada/Supply chain, logistics, & delivery",
          "China/Supply chain, logistics, & delivery",
          "Colombia/Supply chain, logistics, & delivery",
          "Czech Republic/Supply chain, logistics, & delivery",
          "Finland/Supply chain, logistics, & delivery",
          "Germany/Supply chain, logistics, & delivery",
          "Hong Kong/Supply chain, logistics, & delivery",
          "India/Supply chain, logistics, & delivery",
          "Indonesia/Supply chain, logistics, & delivery",
          "Israel/Supply chain, logistics, & delivery",
          "South Korea/Supply chain, logistics, & delivery",
          "Switzerland/Supply chain, logistics, & delivery",
          "Thailand/Supply chain, logistics, & delivery",
          "United Arab Emirates/Supply chain, logistics, & delivery",
          "United Kingdom/Supply chain, logistics, & delivery",
          "United States/Supply chain, logistics, & delivery",
          "Singapore/Temasek, Guggenheim Investments, Qatar Investment Authority",
          "Hong Kong/Tiger Global Management, Tiger Brokers, DCM Ventures",
          "Canada/Travel",
          "China/Travel",
          "Germany/Travel",
          "Hong Kong/Travel",
          "India/Travel",
          "Indonesia/Travel",
          "South Korea/Travel",
          "Spain/Travel",
          "Sweden/Travel",
          "United States/Travel",
          "Singapore/Vertex Ventures SE Asia, Global Founders Capital, Visa Ventures",
          "Singapore/Vision Plus Capital, GSR Ventures, ZhenFund",
          "Argentina",
          "Australia",
          "Austria",
          "Bahamas",
          "Belgium",
          "Bermuda",
          "Brazil",
          "Canada",
          "Chile",
          "China",
          "Colombia",
          "Croatia",
          "Czech Republic",
          "Denmark",
          "Estonia",
          "Finland",
          "France",
          "Germany",
          "Hong Kong",
          "India",
          "Indonesia",
          "Ireland",
          "Israel",
          "Italy",
          "Japan",
          "Lithuania",
          "Luxembourg",
          "Malaysia",
          "Mexico",
          "Netherlands",
          "Nigeria",
          "Norway",
          "Philippines",
          "Senegal",
          "Singapore",
          "South Africa",
          "South Korea",
          "Spain",
          "Sweden",
          "Switzerland",
          "Thailand",
          "Turkey",
          "United Arab Emirates",
          "United Kingdom",
          "United States",
          "Vietnam"
         ],
         "labels": [
          "1047 Games",
          "1KMXC",
          "1Password",
          "4Paradigm",
          "56PINGTAI",
          "58 Daojia",
          "6Sense",
          "ABL Space Systems",
          "AIWAYS",
          "ASAPP",
          "Accelerant",
          "Acko General Insurance",
          "Acronis",
          "ActiveCampaign",
          "Ada Support",
          "Addepar",
          "Advance Intelligence Group",
          "Afiniti",
          "Age of Learning",
          "AgentSync",
          "Agile Robots",
          "Aibee",
          "Airbyte",
          "Aircall",
          "Airtable",
          "Airwallex",
          "Aiven",
          "Ajaib",
          "Akulaku",
          "Alan",
          "Alation",
          "Alchemy",
          "Aledade",
          "Aleo",
          "Algolia",
          "Alloy",
          "Alto Pharmacy",
          "Alzheon",
          "Amber Group",
          "Amount",
          "Amperity",
          "Anchorage Digital",
          "Andela",
          "Anduril",
          "Ankorstore",
          "Anyscale",
          "Apeel Sciences",
          "AppDirect",
          "Applied Intuition",
          "ApplyBoard",
          "AppsFlyer",
          "Aprogen",
          "Apus Group",
          "Aqua Security",
          "Arctic Wolf Networks",
          "Argo AI",
          "Arrail Dental",
          "Articulate",
          "Ascend Money",
          "Assembly",
          "Assent Compliance",
          "Astranis Space Technologies",
          "At-Bay",
          "Athelas",
          "Athletic Greens",
          "Attentive",
          "Augury",
          "Aura",
          "Aurora Solar",
          "Automation Anywhere",
          "Automattic",
          "Avant",
          "Aviatrix",
          "Away",
          "Axelar",
          "Axiom Space",
          "Axonius",
          "Axtria",
          "BGL Group",
          "BYJU's",
          "BYTON",
          "Back Market",
          "Baiwang",
          "Banma Network Technologies",
          "BeiBei",
          "Beisen",
          "Benchling",
          "BenevolentAI",
          "Berlin Brands Group",
          "Better.com",
          "BetterUp",
          "Betterfly",
          "Betterment",
          "Beyond Identity",
          "BharatPe",
          "BigID",
          "BigPanda",
          "Biosplice Therapeutics",
          "Biren Technology",
          "BitFury",
          "BitPanda",
          "BitSight Technologies",
          "Bitmain Technologies",
          "Bitso",
          "BlaBlaCar",
          "Black Sesame Technologies",
          "Black Unicorn Factory",
          "BlackBuck",
          "Blinkit",
          "BlockDaemon",
          "BlockFi",
          "Blockchain.com",
          "Blockstream",
          "BloomReach",
          "BlueVoyant",
          "Bluecore",
          "Bolt",
          "Bolt",
          "Boom Supersonic",
          "Bordrin Motors",
          "Bought By Many",
          "Bowery Farming",
          "Branch",
          "BrewDog",
          "Brex",
          "Bringg",
          "BrowserStack",
          "Built",
          "Bunq",
          "Bytedance",
          "C2FO",
          "C6 Bank",
          "CAIS",
          "CFGI",
          "CHEQ",
          "CMR Surgical",
          "CRED",
          "Cabify",
          "Cadence",
          "Calendly",
          "Calm",
          "Cambridge Mobile Telematics",
          "Cameo",
          "Canva",
          "Cao Cao Mobility",
          "Capsule",
          "CaptivateIQ",
          "CarDekho",
          "Carbon",
          "Carbon Health",
          "CargoX",
          "Caris Life Sciences",
          "Carousell",
          "Carro",
          "Cars24",
          "Carsome",
          "Carson Group",
          "Carta",
          "Carzone",
          "Cato Networks",
          "Cava Group",
          "Cedar",
          "Cell C",
          "Celonis",
          "Celsius Network",
          "Cerebral",
          "Cerebras Systems",
          "Cgtz",
          "Chainalysis",
          "Changingedu",
          "ChargeBee Technologies",
          "Checkout.com",
          "Checkr",
          "Chehaoduo",
          "Chime",
          "China Cloud",
          "Chipone",
          "Chipper Cash",
          "Chronosphere",
          "Cider",
          "Circle",
          "CircleCI",
          "Cityblock Health",
          "Clara",
          "Clari",
          "Claroty",
          "Clearco",
          "Clearcover",
          "ClickHouse",
          "ClickUp",
          "Clio",
          "Clip",
          "CloudBees",
          "CloudWalk",
          "Cloudinary",
          "Cloudwalk",
          "Clubhouse",
          "Coalition",
          "Cockroach Labs",
          "Coda",
          "Cognite",
          "Cohesity",
          "CoinDCX",
          "CoinList",
          "CoinSwitch Kuber",
          "CoinTracker",
          "Collective Health",
          "Collibra",
          "Color",
          "Commure",
          "ConsenSys",
          "ContentSquare",
          "Contentful",
          "Contrast Security",
          "Convoy",
          "Coocaa",
          "Copado",
          "Course Hero",
          "Creditas",
          "Culture Amp",
          "CureFit",
          "Current",
          "Cybereason",
          "DJI Innovations",
          "DT Dream",
          "Dadi Cinema",
          "Daily Harvest",
          "DailyHunt",
          "DailyPay",
          "Dapper Labs",
          "Darwinbox",
          "DataRobot",
          "Databricks",
          "Dataiku",
          "Dataminr",
          "DealShare",
          "Deel",
          "DeepBlue Technology",
          "Deezer",
          "Degreed",
          "Delhivery",
          "Deliverect",
          "Deliverr",
          "Density",
          "Dental Monitoring",
          "Devo",
          "Devoted Health",
          "Dialpad",
          "Diamond Foundry",
          "DianRong",
          "Digit Insurance",
          "Digital Currency Group",
          "Discord",
          "DispatchHealth",
          "DistroKid",
          "Divvy Homes",
          "Doctolib",
          "Domestika",
          "Dragos",
          "Drata",
          "Dream Games",
          "Dream11",
          "Dremio",
          "DriveNets",
          "DriveWealth",
          "Druva",
          "Dunamu",
          "Dune Analytics",
          "Dutchie",
          "Dxy.cn",
          "EBANX",
          "ECARX",
          "ENOVATE",
          "EQRx",
          "Earnix",
          "Easyhome",
          "Eat Just",
          "EcoFlow",
          "Eightfold.ai",
          "Einride",
          "ElasticRun",
          "Elemy",
          "Emerging Markets Property Group",
          "Enflame",
          "Enpal",
          "Envoy",
          "Epic Games",
          "Epidemic Sound",
          "Epirus",
          "Eruditus Executive Education",
          "Esusu",
          "Ethos",
          "Everlaw",
          "Everly Health",
          "Evidation",
          "Exabeam",
          "Exotec",
          "Expel",
          "Extend",
          "FTX",
          "FXiaoKe",
          "Fabric",
          "Fabric",
          "Fair",
          "Faire",
          "FalconX",
          "Fanatics",
          "Farmers Business Network",
          "Feedzai",
          "Fenbi Education",
          "Fetch Rewards",
          "Fever Labs",
          "Figma",
          "Figment",
          "Fireblocks",
          "Firebolt",
          "Firefly Aerospace",
          "FirstCry",
          "Fiture",
          "Five Star Business Finance",
          "FiveTran",
          "Flash Express",
          "FlashEx",
          "Flexport",
          "Flink",
          "Flipboard",
          "Flipdish",
          "FlixMobility",
          "FloQast",
          "Flock Freight",
          "Flock Safety",
          "Flutterwave",
          "Formlabs",
          "Forte Labs",
          "Forter",
          "Forto",
          "Fractal Analytics",
          "Freshbooks",
          "FullStory",
          "Fundbox",
          "G2",
          "G7 Networks",
          "GO1",
          "GOAT",
          "GPclub",
          "GalaxySpace",
          "Gaussian Robotics",
          "Geek+",
          "Gelato",
          "Gem",
          "Gemini",
          "GetYourGuide",
          "Getir",
          "Gett",
          "Global Switch",
          "GlobalBees",
          "Globality",
          "Globalization Partners",
          "Glossier",
          "GoCardless",
          "GoStudent",
          "Gong",
          "GoodLeap",
          "Gorillas",
          "Gousto",
          "Grafana Labs",
          "Grammarly",
          "Graphcore",
          "Greenlight",
          "Greensill",
          "Groq",
          "Grove Collaborative",
          "Groww",
          "GrubMarket",
          "Guideline",
          "Guild Education",
          "Guoquan Shihui",
          "GupShup",
          "Gusto",
          "Gympass",
          "Gymshark",
          "H2O.ai",
          "HAYDON",
          "HEYTEA",
          "HMD Global",
          "Hailo",
          "Handshake",
          "Haomao.AI",
          "Happy Money",
          "Harness",
          "Harry's",
          "Hasura",
          "HeartFlow",
          "Helium Systems",
          "Hello TransTech",
          "Hesai Tech",
          "Heyday",
          "Hibob",
          "HighRadius",
          "Highspot",
          "Hinge Health",
          "Hive",
          "Hive Box",
          "HomeLight",
          "HoneyBook",
          "Honor Technology",
          "Hopin",
          "Hopper",
          "Horizon Robotics",
          "Hosjoy",
          "Hotmart",
          "Houzz",
          "Howden Group Holdings",
          "Hozon Auto",
          "HuJiang",
          "Huaqin Telecom Technology",
          "HuiMin",
          "Huike Group",
          "Huisuanzhang",
          "Human Interest",
          "HyalRoute",
          "Hyperchain",
          "ID.me",
          "IRL",
          "ISN",
          "Ibotta",
          "Icertis",
          "Il Makiage",
          "Illumio",
          "Iluvatar CoreX",
          "Impact",
          "Impossible Foods",
          "Improbable",
          "InFarm",
          "InMobi",
          "InSightec",
          "InVision",
          "Inari",
          "Incode Technologies",
          "Indigo Ag",
          "Infinidat",
          "Infobip",
          "Infra.Market",
          "Injective Protocol",
          "Innovaccer",
          "Insider",
          "Instabase",
          "Instacart",
          "Intarcia Therapeutics",
          "Intellifusion",
          "Intercom",
          "Interos",
          "Inxeption",
          "Iodine Software",
          "Ironclad",
          "Iterable",
          "Ivalua",
          "J&T Express",
          "JOLLY Information Technology",
          "JUUL Labs",
          "JimuBox",
          "Jiuxian",
          "Jobandtalent",
          "Jokr",
          "JoyTunes",
          "Juanpi",
          "Juma Peisong",
          "JumpCloud",
          "Jusfoun Big Data",
          "Justworks",
          "K Health",
          "KK Group",
          "KRY",
          "Kajabi",
          "Karat",
          "Kaseya",
          "Kavak",
          "Keenon Robotics",
          "Keep",
          "KeepTruckin",
          "Kendra Scott",
          "Kitopi",
          "Klarna",
          "Klaviyo",
          "Klook",
          "KnowBox",
          "Komodo Health",
          "Konfio",
          "Kong",
          "Kopi Kenangan",
          "Koudai",
          "Kraken",
          "Kuaigou Dache",
          "Kuaikan Manhua",
          "Kujiale",
          "Kurly",
          "L&P Cosmetic",
          "LEAD School",
          "LTK",
          "Lacework",
          "Lalamove",
          "Lamabang",
          "Lattice",
          "LaunchDarkly",
          "Leap Motor",
          "Ledger",
          "Lenskart",
          "Lessen",
          "LetsGetChecked",
          "Lianjia",
          "Licious",
          "LifeMiles",
          "Lightricks",
          "LinkDoc Technology",
          "LinkSure Network",
          "Liquid",
          "LivSpace",
          "Loadsmart",
          "Locus Robotics",
          "Loft",
          "Loggi",
          "Lookout",
          "Loom",
          "Lucid Software",
          "Lukka",
          "Lunar",
          "Luoji Siwei",
          "Lusha",
          "Lydia",
          "Lyra Health",
          "M1 Finance",
          "MEGVII",
          "MOLOCO",
          "MURAL",
          "MUSINSA",
          "MX Technologies",
          "MadeiraMadeira",
          "Mafengwo",
          "Magic Leap",
          "Maimai",
          "Mamaearth",
          "Mambu",
          "Mammoth Biosciences",
          "Manner",
          "ManoMano",
          "Marshmallow",
          "MasterClass",
          "Masterworks",
          "Matillion",
          "Matrixport",
          "Maven Clinic",
          "Medable",
          "MediaMath",
          "Medlinker",
          "Meero",
          "Meesho",
          "Meicai",
          "Meizu Technology",
          "Melio",
          "Mensa Brands",
          "Merama",
          "Mercury",
          "MessageBird",
          "Mia.com",
          "Miaoshou Doctor",
          "MindMaze",
          "MindTickle",
          "Mininglamp Technology",
          "Minio",
          "Mirakl",
          "Miro",
          "Misfits Market",
          "Mixpanel",
          "MoMo",
          "MobiKwik",
          "Mobile Premier League",
          "MobileCoin",
          "Mobvoi",
          "Modern Health",
          "Modern Treasury",
          "Modernizing Medicine",
          "Mofang Living",
          "Moglix",
          "Moka",
          "Mollie",
          "Momenta",
          "Monzo",
          "Moon Active",
          "MoonPay",
          "Morning Consult",
          "Motorway",
          "Moveworks",
          "Movile",
          "Mu Sigma",
          "Mux",
          "MyGlamm",
          "Mynt",
          "Mythical Games",
          "N26",
          "NIUM",
          "National Stock Exchange of India",
          "Nature's Fynd",
          "Neo4j",
          "Neon",
          "Netlify",
          "Netskope",
          "Newlink Group",
          "News Break",
          "Newsela",
          "Nexii",
          "Next Insurance",
          "Next Silicon",
          "Nexthink",
          "Nextiva",
          "Niantic",
          "Ninja Van",
          "NoBroker",
          "Noname Security",
          "Noom",
          "Northvolt",
          "NotCo",
          "Notion Labs",
          "NuCom Group",
          "Numbrs",
          "Nuro",
          "Nuvemshop",
          "Nxin",
          "OCSiAl",
          "ONE",
          "OVH",
          "OVO Energy",
          "OYO Rooms",
          "OakNorth Bank",
          "Oda",
          "Odoo",
          "OfBusiness",
          "Offchain Labs",
          "Ola Cabs",
          "Ola Electric Mobility",
          "Olist",
          "Olive",
          "Omada Health",
          "Omio",
          "OneTrust",
          "Opay",
          "OpenAI",
          "OpenSea",
          "OpenWeb",
          "Opentrons",
          "OrCam Technologies",
          "Orbbec Technology",
          "Orca Bio",
          "Orca Security",
          "Orchard",
          "Otto Bock HealthCare",
          "OutSystems",
          "Outreach",
          "Outschool",
          "Ouyeel",
          "Ovo",
          "Owkin",
          "OwnBackup",
          "PAX",
          "PLACE",
          "PPRO",
          "Pacaso",
          "Pagaya",
          "PandaDoc",
          "Pantheon Systems",
          "Panther Labs",
          "Papa",
          "Papaya Global",
          "Paradox",
          "Pat McGrath Labs",
          "PatSnap",
          "Patreon",
          "Pattern",
          "Paxos",
          "PayFit",
          "Payhawk",
          "Pendo",
          "Pentera",
          "People.ai",
          "Persona",
          "Personio",
          "Pet Circle",
          "Phantom",
          "Pharmapacks",
          "Phenom People",
          "PicsArt",
          "Pilot.com",
          "Pine Labs",
          "Pipa Coding",
          "Pipe",
          "Placer.ai",
          "Plaid",
          "Playco",
          "Pleo",
          "Plume",
          "Podium",
          "PointClickCare",
          "Poizon",
          "PolicyBazaar",
          "Pony.ai",
          "Postman",
          "Preferred Networks",
          "Prime Medicine",
          "Printful",
          "Pristyn Care",
          "Productboard",
          "Project44",
          "Promasidor Holdings",
          "PsiQuantum",
          "Public",
          "Qingting FM",
          "Qonto",
          "Qualia",
          "Quantum Metric",
          "QuintoAndar",
          "Quizlet",
          "Qumulo",
          "Quora",
          "REEF Technology",
          "RELEX Solutions",
          "RIDI",
          "Radiology Partners",
          "Radius Payment Solutions",
          "Ramp",
          "Rappi",
          "Rapyd",
          "Razor",
          "Razorpay",
          "ReCharge",
          "Rebel Foods",
          "Rebellion Defense",
          "Rec Room",
          "Red Ventures",
          "Redis Labs",
          "Redwood Materials",
          "Reify Health",
          "Relativity",
          "Relativity Space",
          "ReliaQuest",
          "Reltio",
          "Remote",
          "Retool",
          "Revolut",
          "Revolution Precrafted",
          "Rightway",
          "Ripple",
          "Rippling",
          "Rivigo",
          "Ro",
          "Rohlik",
          "Rokt",
          "Rothy's",
          "Route",
          "Royole Corporation",
          "Rubicon",
          "Rubrik",
          "SHEIN",
          "SITECH DEV",
          "SMS Assist",
          "SSENSE",
          "STORD",
          "SVOLT",
          "SWORD Health",
          "SafetyCulture",
          "Salt Security",
          "SaltPay",
          "SambaNova Systems",
          "Savage X Fenty",
          "Scalable Capital",
          "Scalapay",
          "Scale AI",
          "Scandit",
          "Scopely",
          "SeekOut",
          "Seismic",
          "SellerX",
          "Sendbird",
          "Sennder",
          "Sentry",
          "ServiceTitan",
          "ShareChat",
          "Shield AI",
          "Shift Technology",
          "ShipBob",
          "Shippo",
          "Side",
          "Sidecar Health",
          "Sift",
          "Signifyd",
          "Sila Nanotechnologies",
          "Sisense",
          "Skims",
          "Sky Mavis",
          "Skydance Media",
          "Skydio",
          "Slice",
          "SmartAsset",
          "SmartHR",
          "SmartMore",
          "SmartNews",
          "SmartRecruiters",
          "SnapLogic",
          "Snapdeal",
          "Snapdocs",
          "Snorkel AI",
          "Snyk",
          "Socar",
          "Socure",
          "Solo.io",
          "Solugen",
          "Somatus",
          "SonderMind",
          "Sorare",
          "SouChe Holdings",
          "SoundHound",
          "Sourcegraph",
          "SpaceX",
          "SparkCognition",
          "Spendesk",
          "Spiber",
          "Spinny",
          "Splashtop",
          "SpotOn",
          "Spotter",
          "Spring Health",
          "Standard",
          "Star Charge",
          "Starburst",
          "StarkWare",
          "Starling Bank",
          "Starry",
          "Stash",
          "StockX",
          "StoreDot",
          "Strava",
          "Stripe",
          "Stytch",
          "SumUp",
          "Sunbit",
          "Swiggy",
          "Swile",
          "Symphony",
          "Sysdig",
          "TELD",
          "TERMINUS Technology",
          "TUNGEE",
          "Tackle.io",
          "Talkdesk",
          "TalkingData",
          "TangoMe",
          "Tanium",
          "TaxBit",
          "Tealium",
          "TechStyle Fashion Group",
          "Tekion",
          "Temporal",
          "Tempus",
          "TensTorrent",
          "Tezign",
          "The Bank of London",
          "The Zebra",
          "Thirty Madison",
          "Thought Machine",
          "ThoughtSpot",
          "Thrasio",
          "Thumbtack",
          "Tier",
          "Timescale",
          "Tipalti",
          "Tonal",
          "Tongdun Technology",
          "Toss",
          "Tractable",
          "Trade Republic",
          "Trader Interactive",
          "Tradeshift",
          "TradingView",
          "Transcarent",
          "Transmit Security",
          "TravelPerk",
          "Traveloka",
          "Trax",
          "Trendy Group International",
          "Tresata",
          "TrialSpark",
          "TripActions",
          "Tripledot Studios",
          "TrueLayer",
          "Truepill",
          "Trulioo",
          "Trumid",
          "TuJia",
          "Tubatu.com",
          "Tuhu",
          "Turing",
          "UBTECH Robotics",
          "UISEE Technology",
          "Uala",
          "Udaan",
          "Unacademy",
          "Unico",
          "Uniphore",
          "Unisound",
          "Unite Us",
          "United Imaging Healthcare",
          "Unqork",
          "UpGrad",
          "Upgrade",
          "Uplight",
          "Upstox",
          "Uptake",
          "Urban Company",
          "VAST Data",
          "VIPKid",
          "VOI",
          "VTS",
          "Vagaro",
          "Varo Bank",
          "Vectra Networks",
          "Vedantu",
          "Veepee",
          "Veev",
          "Veho",
          "Venafi",
          "VerbIT",
          "Vercel",
          "Veriff",
          "Verkada",
          "Vestiaire Collective",
          "Via",
          "Vice Media",
          "VideoAmp",
          "Vinted",
          "Virta Health",
          "Vise",
          "Visier",
          "Vista Global",
          "Voodoo",
          "Vox Media",
          "Vuori",
          "WEMAKEPRICE",
          "WM Motor",
          "WTOIP",
          "Wacai",
          "Watershed",
          "Wave",
          "Wayflyer",
          "We Doctor",
          "WeBull",
          "WeLab",
          "WeRide",
          "Webflow",
          "Weee!",
          "Weilong",
          "Wenheyou",
          "Whatnot",
          "Whoop",
          "Wildlife Studios",
          "Wiz",
          "Womai",
          "Workato",
          "Workhuman",
          "Workrise",
          "Wrapbook",
          "XForcePlus",
          "Xendit",
          "XiaoZhu",
          "Xiaobing",
          "Xiaohongshu",
          "Ximalaya FM",
          "Xinchao Media",
          "Xingsheng Selected",
          "Xingyun Group",
          "Xpressbees",
          "XtalPi",
          "YH Global",
          "YITU Technology",
          "Yanolja",
          "Yaoshibang",
          "Yello Mobile",
          "Yidian Zixun",
          "Yiguo",
          "Yijiupi",
          "Yimidida",
          "Yipin Shengxian",
          "YipitData",
          "Yixia",
          "Ynsect",
          "Yotpo",
          "You & Mr Jones",
          "Youxia Motors",
          "Yuanfudao",
          "Yuanqi Senlin",
          "YugaByte",
          "YunQuNa",
          "Yunxuetang",
          "ZEPZ",
          "Zapier",
          "Zego",
          "ZenBusiness",
          "Zenoti",
          "Zeta",
          "Zetwerk",
          "Zhaogang",
          "Zhuan Zhuan",
          "Zhubajie",
          "Zihaiguo",
          "Zilch",
          "Zipline",
          "Ziroom",
          "ZocDoc",
          "ZongMu Technology",
          "Zopa",
          "Zume",
          "Zuoyebang",
          "Zwift",
          "apna",
          "bolttech",
          "candy.com",
          "dbt Labs",
          "eDaili",
          "eSentire",
          "ezCater",
          "goPuff",
          "iCapital Network",
          "iCarbonX",
          "iFood",
          "iTrustCapital",
          "iTutorGroup",
          "o9 Solutions",
          "reddit",
          "solarisBank",
          "wefox",
          "500 Global, Rakuten Ventures, Golden Gate Ventures",
          "Andreessen Horowitz, DST Global, IDG Capital",
          "Artificial Intelligence",
          "Artificial Intelligence",
          "Artificial Intelligence",
          "Artificial intelligence",
          "Artificial intelligence",
          "Artificial intelligence",
          "Artificial intelligence",
          "Artificial intelligence",
          "Artificial intelligence",
          "Artificial intelligence",
          "Artificial intelligence",
          "Artificial intelligence",
          "Artificial intelligence",
          "Artificial intelligence",
          "Auto & transportation",
          "Auto & transportation",
          "Auto & transportation",
          "Auto & transportation",
          "Auto & transportation",
          "Auto & transportation",
          "Auto & transportation",
          "Auto & transportation",
          "Auto & transportation",
          "Auto & transportation",
          "B Capital Group, Monk's Hill Ventures, Dynamic Parcel Distribution",
          "Consumer & retail",
          "Consumer & retail",
          "Consumer & retail",
          "Consumer & retail",
          "Consumer & retail",
          "Consumer & retail",
          "Consumer & retail",
          "Consumer & retail",
          "Cybersecurity",
          "Cybersecurity",
          "Cybersecurity",
          "Cybersecurity",
          "Cybersecurity",
          "Data management & analytics",
          "Data management & analytics",
          "Data management & analytics",
          "Data management & analytics",
          "Data management & analytics",
          "Data management & analytics",
          "Data management & analytics",
          "Data management & analytics",
          "Data management & analytics",
          "Dragonfly Captial, Qiming Venture Partners, DST Global",
          "E-commerce & direct-to-consumer",
          "E-commerce & direct-to-consumer",
          "E-commerce & direct-to-consumer",
          "E-commerce & direct-to-consumer",
          "E-commerce & direct-to-consumer",
          "E-commerce & direct-to-consumer",
          "E-commerce & direct-to-consumer",
          "E-commerce & direct-to-consumer",
          "E-commerce & direct-to-consumer",
          "E-commerce & direct-to-consumer",
          "E-commerce & direct-to-consumer",
          "E-commerce & direct-to-consumer",
          "E-commerce & direct-to-consumer",
          "E-commerce & direct-to-consumer",
          "E-commerce & direct-to-consumer",
          "E-commerce & direct-to-consumer",
          "E-commerce & direct-to-consumer",
          "Edtech",
          "Edtech",
          "Edtech",
          "Edtech",
          "Edtech",
          "Edtech",
          "Fintech",
          "Fintech",
          "Fintech",
          "Fintech",
          "Fintech",
          "Fintech",
          "Fintech",
          "Fintech",
          "Fintech",
          "Fintech",
          "Fintech",
          "Fintech",
          "Fintech",
          "Fintech",
          "Fintech",
          "Fintech",
          "Fintech",
          "Fintech",
          "Fintech",
          "Fintech",
          "Fintech",
          "Fintech",
          "Fintech",
          "Fintech",
          "Fintech",
          "Fintech",
          "Fintech",
          "Fintech",
          "Finttech",
          "Hardware",
          "Hardware",
          "Hardware",
          "Hardware",
          "Hardware",
          "Hardware",
          "Hardware",
          "Health",
          "Health",
          "Health",
          "Health",
          "Health",
          "Health",
          "Health",
          "Health",
          "Health",
          "Health",
          "Health",
          "Hopu Investment Management, Boyu Capital, DC Thomson Ventures",
          "Internet software & services",
          "Internet software & services",
          "Internet software & services",
          "Internet software & services",
          "Internet software & services",
          "Internet software & services",
          "Internet software & services",
          "Internet software & services",
          "Internet software & services",
          "Internet software & services",
          "Internet software & services",
          "Internet software & services",
          "Internet software & services",
          "Internet software & services",
          "Internet software & services",
          "Internet software & services",
          "Jungle Ventures, Accel, Venture Highway",
          "Kuang-Chi",
          "Mobile & telecommunications",
          "Mobile & telecommunications",
          "Mobile & telecommunications",
          "Mobile & telecommunications",
          "Mobile & telecommunications",
          "Mobile & telecommunications",
          "Mobile & telecommunications",
          "Mobile & telecommunications",
          "Mobile & telecommunications",
          "Mobile & telecommunications",
          "Mobile & telecommunications",
          "Mobile & telecommunications",
          "Mobile & telecommunications",
          "Mundi Ventures, Doqling Capital Partners, Activant Capital",
          "Other",
          "Other",
          "Other",
          "Other",
          "Other",
          "Other",
          "Other",
          "Other",
          "Other",
          "Other",
          "Other",
          "Other",
          "Other",
          "Other",
          "Other",
          "Other",
          "Sequoia Capital China, ING, Alibaba Entrepreneurs Fund",
          "Sequoia Capital China, Shunwei Capital Partners, Qualgro",
          "Sequoia Capital, Thoma Bravo, Softbank",
          "SingTel Innov8, Alpha JWC Ventures, Golden Gate Ventures",
          "Supply chain, logistics, & delivery",
          "Supply chain, logistics, & delivery",
          "Supply chain, logistics, & delivery",
          "Supply chain, logistics, & delivery",
          "Supply chain, logistics, & delivery",
          "Supply chain, logistics, & delivery",
          "Supply chain, logistics, & delivery",
          "Supply chain, logistics, & delivery",
          "Supply chain, logistics, & delivery",
          "Supply chain, logistics, & delivery",
          "Supply chain, logistics, & delivery",
          "Supply chain, logistics, & delivery",
          "Supply chain, logistics, & delivery",
          "Supply chain, logistics, & delivery",
          "Supply chain, logistics, & delivery",
          "Supply chain, logistics, & delivery",
          "Supply chain, logistics, & delivery",
          "Temasek, Guggenheim Investments, Qatar Investment Authority",
          "Tiger Global Management, Tiger Brokers, DCM Ventures",
          "Travel",
          "Travel",
          "Travel",
          "Travel",
          "Travel",
          "Travel",
          "Travel",
          "Travel",
          "Travel",
          "Travel",
          "Vertex Ventures SE Asia, Global Founders Capital, Visa Ventures",
          "Vision Plus Capital, GSR Ventures, ZhenFund",
          "Argentina",
          "Australia",
          "Austria",
          "Bahamas",
          "Belgium",
          "Bermuda",
          "Brazil",
          "Canada",
          "Chile",
          "China",
          "Colombia",
          "Croatia",
          "Czech Republic",
          "Denmark",
          "Estonia",
          "Finland",
          "France",
          "Germany",
          "Hong Kong",
          "India",
          "Indonesia",
          "Ireland",
          "Israel",
          "Italy",
          "Japan",
          "Lithuania",
          "Luxembourg",
          "Malaysia",
          "Mexico",
          "Netherlands",
          "Nigeria",
          "Norway",
          "Philippines",
          "Senegal",
          "Singapore",
          "South Africa",
          "South Korea",
          "Spain",
          "Sweden",
          "Switzerland",
          "Thailand",
          "Turkey",
          "United Arab Emirates",
          "United Kingdom",
          "United States",
          "Vietnam"
         ],
         "name": "",
         "parents": [
          "United States/Internet software & services",
          "China/Hardware",
          "Canada/Cybersecurity",
          "China/Artificial intelligence",
          "China/Supply chain, logistics, & delivery",
          "China/Internet software & services",
          "United States/Artificial intelligence",
          "United States/Other",
          "China/Auto & transportation",
          "United States/Artificial intelligence",
          "United Kingdom/Other",
          "India/Fintech",
          "Switzerland/Cybersecurity",
          "United States/Internet software & services",
          "Canada/Artificial intelligence",
          "United States/Fintech",
          "Singapore/Vision Plus Capital, GSR Ventures, ZhenFund",
          "Bermuda/Artificial intelligence",
          "United States/Edtech",
          "United States/Fintech",
          "Germany/Hardware",
          "China/Artificial intelligence",
          "United States/Internet software & services",
          "United States/Internet software & services",
          "United States/Internet software & services",
          "Australia/Fintech",
          "Finland/Internet software & services",
          "Indonesia/Fintech",
          "Indonesia/E-commerce & direct-to-consumer",
          "France/Fintech",
          "United States/Internet software & services",
          "United States/Fintech",
          "United States/Health",
          "United States/Cybersecurity",
          "United States/Internet software & services",
          "United States/Fintech",
          "United States/Health",
          "United States/Health",
          "Hong Kong/Tiger Global Management, Tiger Brokers, DCM Ventures",
          "United States/Fintech",
          "United States/Artificial intelligence",
          "United States/Fintech",
          "United States/Internet software & services",
          "United States/Artificial intelligence",
          "France/E-commerce & direct-to-consumer",
          "United States/Artificial Intelligence",
          "United States/Other",
          "United States/E-commerce & direct-to-consumer",
          "United States/Data management & analytics",
          "Canada/Edtech",
          "United States/Mobile & telecommunications",
          "South Korea/Health",
          "China/Mobile & telecommunications",
          "Israel/Cybersecurity",
          "United States/Cybersecurity",
          "United States/Artificial intelligence",
          "China/Health",
          "United States/Edtech",
          "Thailand/Fintech",
          "United States/Internet software & services",
          "Canada/Supply chain, logistics, & delivery",
          "United States/Mobile & telecommunications",
          "United States/Fintech",
          "United States/Health",
          "United States/Health",
          "United States/Mobile & telecommunications",
          "United States/Artificial intelligence",
          "United States/Cybersecurity",
          "United States/Internet software & services",
          "United States/Artificial intelligence",
          "United States/Internet software & services",
          "United States/Artificial intelligence",
          "United States/Internet software & services",
          "United States/E-commerce & direct-to-consumer",
          "Canada/Internet software & services",
          "United States/Other",
          "United States/Cybersecurity",
          "United States/Data management & analytics",
          "United Kingdom/Fintech",
          "India/Edtech",
          "China/Auto & transportation",
          "France/E-commerce & direct-to-consumer",
          "China/Fintech",
          "China/Auto & transportation",
          "China/E-commerce & direct-to-consumer",
          "China/Internet software & services",
          "United States/Internet software & services",
          "United Kingdom/Artificial intelligence",
          "Germany/E-commerce & direct-to-consumer",
          "United States/Fintech",
          "United States/Internet software & services",
          "Chile/Artificial intelligence",
          "United States/Fintech",
          "United States/Cybersecurity",
          "India/Fintech",
          "United States/Cybersecurity",
          "United States/Artificial intelligence",
          "United States/Health",
          "China/Hardware",
          "Netherlands/Hardware",
          "Austria/Fintech",
          "United States/Cybersecurity",
          "China/Hardware",
          "Mexico/Fintech",
          "France/Auto & transportation",
          "China/Artificial intelligence",
          "United States/Other",
          "India/Supply chain, logistics, & delivery",
          "India/Supply chain, logistics, & delivery",
          "United States/Fintech",
          "United States/Fintech",
          "United Kingdom/Fintech",
          "Canada/Fintech",
          "United States/Artificial intelligence",
          "United States/Cybersecurity",
          "United States/Artificial intelligence",
          "Estonia/Auto & transportation",
          "United States/Fintech",
          "United States/Other",
          "China/Auto & transportation",
          "United Kingdom/Fintech",
          "United States/Other",
          "United States/Mobile & telecommunications",
          "United Kingdom/Consumer & retail",
          "United States/Fintech",
          "Israel/Supply chain, logistics, & delivery",
          "Ireland/Internet software & services",
          "United States/Internet software & services",
          "Netherlands/Fintech",
          "China/Artificial intelligence",
          "United States/Fintech",
          "Brazil/Fintech",
          "United States/Fintech",
          "United States/Fintech",
          "United States/Cybersecurity",
          "United Kingdom/Health",
          "India/Fintech",
          "Spain/Auto & transportation",
          "United States/Health",
          "United States/Internet software & services",
          "United States/Consumer & retail",
          "United States/Mobile & telecommunications",
          "United States/Internet software & services",
          "Australia/Internet software & services",
          "China/Auto & transportation",
          "United States/Health",
          "United States/Fintech",
          "India/E-commerce & direct-to-consumer",
          "United States/Hardware",
          "United States/Health",
          "Brazil/Supply chain, logistics, & delivery",
          "United States/Health",
          "Singapore/500 Global, Rakuten Ventures, Golden Gate Ventures",
          "Singapore/SingTel Innov8, Alpha JWC Ventures, Golden Gate Ventures",
          "India/E-commerce & direct-to-consumer",
          "Malaysia/E-commerce & direct-to-consumer",
          "United States/Fintech",
          "United States/Fintech",
          "China/E-commerce & direct-to-consumer",
          "Israel/Cybersecurity",
          "United States/Other",
          "United States/Fintech",
          "South Africa/Mobile & telecommunications",
          "Germany/Data management & analytics",
          "United States/Fintech",
          "United States/Health",
          "United States/Hardware",
          "China/Fintech",
          "United States/Fintech",
          "China/Edtech",
          "United States/Fintech",
          "United Kingdom/Fintech",
          "United States/Internet software & services",
          "China/E-commerce & direct-to-consumer",
          "United States/Fintech",
          "China/Hardware",
          "China/Hardware",
          "United States/Fintech",
          "United States/Data management & analytics",
          "Hong Kong/Andreessen Horowitz, DST Global, IDG Capital",
          "United States/Fintech",
          "United States/Internet software & services",
          "United States/Health",
          "Mexico/Fintech",
          "United States/Internet software & services",
          "United States/Cybersecurity",
          "Canada/Fintech",
          "United States/Fintech",
          "United States/Data management & analytics",
          "United States/Internet software & services",
          "Canada/Internet software & services",
          "Mexico/Fintech",
          "United States/Data management & analytics",
          "Brazil/Fintech",
          "United States/Internet software & services",
          "China/Artificial intelligence",
          "United States/Mobile & telecommunications",
          "United States/Cybersecurity",
          "United States/Data management & analytics",
          "United States/Internet software & services",
          "Norway/Data management & analytics",
          "United States/Data management & analytics",
          "India/Fintech",
          "United States/Fintech",
          "India/Fintech",
          "United States/Fintech",
          "United States/Fintech",
          "Belgium/Data management & analytics",
          "United States/Health",
          "United States/Internet software & services",
          "United States/Fintech",
          "France/Internet software & services",
          "Germany/Internet software & services",
          "United States/Cybersecurity",
          "United States/Supply chain, logistics, & delivery",
          "China/Hardware",
          "United States/Data management & analytics",
          "United States/Edtech",
          "Brazil/Fintech",
          "Australia/Internet software & services",
          "India/Health",
          "United States/Fintech",
          "United States/Cybersecurity",
          "China/Hardware",
          "China/Data management & analytics",
          "China/Other",
          "United States/E-commerce & direct-to-consumer",
          "India/Internet software & services",
          "United States/Fintech",
          "Canada/Fintech",
          "India/Internet software & services",
          "United States/Artificial intelligence",
          "United States/Data management & analytics",
          "United States/Internet software & services",
          "United States/Artificial intelligence",
          "India/E-commerce & direct-to-consumer",
          "United States/Fintech",
          "China/Artificial intelligence",
          "France/Internet software & services",
          "United States/Edtech",
          "India/Supply chain, logistics, & delivery",
          "Belgium/Fintech",
          "United States/Supply chain, logistics, & delivery",
          "United States/Hardware",
          "France/Health",
          "United States/Data management & analytics",
          "United States/Health",
          "United States/Internet software & services",
          "United States/Other",
          "China/E-commerce & direct-to-consumer",
          "India/Fintech",
          "United States/Finttech",
          "United States/Internet software & services",
          "United States/Health",
          "United States/Internet software & services",
          "United States/Fintech",
          "France/Health",
          "United States/Internet software & services",
          "United States/Cybersecurity",
          "United States/Cybersecurity",
          "Turkey/Mobile & telecommunications",
          "India/Internet software & services",
          "United States/Data management & analytics",
          "Israel/Internet software & services",
          "United States/Fintech",
          "United States/Data management & analytics",
          "South Korea/Fintech",
          "Norway/Data management & analytics",
          "United States/E-commerce & direct-to-consumer",
          "China/Health",
          "Brazil/Fintech",
          "China/Auto & transportation",
          "China/Auto & transportation",
          "United States/Health",
          "Israel/Fintech",
          "China/Consumer & retail",
          "United States/Consumer & retail",
          "China/Hardware",
          "United States/Internet software & services",
          "Sweden/Auto & transportation",
          "India/Supply chain, logistics, & delivery",
          "United States/Health",
          "United Arab Emirates/Other",
          "China/Hardware",
          "Germany/Internet software & services",
          "United States/Internet software & services",
          "United States/Other",
          "Sweden/Internet software & services",
          "United States/Other",
          "India/Edtech",
          "United States/Fintech",
          "United States/Fintech",
          "United States/Internet software & services",
          "United States/E-commerce & direct-to-consumer",
          "United States/Health",
          "United States/Cybersecurity",
          "France/Hardware",
          "United States/Cybersecurity",
          "United States/Fintech",
          "Bahamas/Sequoia Capital, Thoma Bravo, Softbank",
          "China/Mobile & telecommunications",
          "United States/E-commerce & direct-to-consumer",
          "United States/Supply chain, logistics, & delivery",
          "United States/Auto & transportation",
          "United States/Artificial intelligence",
          "United States/Fintech",
          "United States/E-commerce & direct-to-consumer",
          "United States/Other",
          "United States/Artificial intelligence",
          "China/Edtech",
          "United States/E-commerce & direct-to-consumer",
          "United States/Internet software & services",
          "United States/Internet software & services",
          "Canada/Internet software & services",
          "United States/Fintech",
          "Israel/Data management & analytics",
          "United States/Other",
          "India/E-commerce & direct-to-consumer",
          "China/Health",
          "India/Other",
          "United States/Data management & analytics",
          "Thailand/Supply chain, logistics, & delivery",
          "China/Supply chain, logistics, & delivery",
          "United States/Supply chain, logistics, & delivery",
          "Germany/E-commerce & direct-to-consumer",
          "United States/Internet software & services",
          "Ireland/Internet software & services",
          "Germany/Auto & transportation",
          "United States/Fintech",
          "United States/Supply chain, logistics, & delivery",
          "United States/Hardware",
          "United States/Fintech",
          "United States/Hardware",
          "United States/Fintech",
          "United States/Cybersecurity",
          "Germany/Supply chain, logistics, & delivery",
          "India/Data management & analytics",
          "Canada/Fintech",
          "United States/Internet software & services",
          "United States/Fintech",
          "United States/Internet software & services",
          "China/Supply chain, logistics, & delivery",
          "Australia/Internet software & services",
          "United States/E-commerce & direct-to-consumer",
          "South Korea/Other",
          "China/Mobile & telecommunications",
          "China/Hardware",
          "China/Hardware",
          "Norway/E-commerce & direct-to-consumer",
          "United States/Internet software & services",
          "United States/Fintech",
          "Germany/Travel",
          "Turkey/E-commerce & direct-to-consumer",
          "United Kingdom/Auto & transportation",
          "United Kingdom/Hardware",
          "India/E-commerce & direct-to-consumer",
          "United States/Artificial intelligence",
          "United States/Internet software & services",
          "United States/Consumer & retail",
          "United Kingdom/Fintech",
          "Austria/Edtech",
          "United States/Artificial intelligence",
          "United States/Internet software & services",
          "Germany/E-commerce & direct-to-consumer",
          "United Kingdom/Supply chain, logistics, & delivery",
          "United States/Internet software & services",
          "United States/Internet software & services",
          "United Kingdom/Artificial intelligence",
          "United States/Fintech",
          "United Kingdom/Fintech",
          "United States/Artificial intelligence",
          "United States/E-commerce & direct-to-consumer",
          "India/Fintech",
          "United States/E-commerce & direct-to-consumer",
          "United States/Fintech",
          "United States/Internet software & services",
          "China/Consumer & retail",
          "United States/Internet software & services",
          "United States/Fintech",
          "United States/Internet software & services",
          "United Kingdom/E-commerce & direct-to-consumer",
          "United States/Artificial intelligence",
          "China/Consumer & retail",
          "China/Other",
          "Finland/Mobile & telecommunications",
          "Israel/Artificial intelligence",
          "United States/Internet software & services",
          "China/Artificial Intelligence",
          "United States/Fintech",
          "United States/Artificial intelligence",
          "United States/Consumer & retail",
          "India/Internet software & services",
          "United States/Health",
          "United States/Internet software & services",
          "China/Auto & transportation",
          "China/Artificial intelligence",
          "United States/E-commerce & direct-to-consumer",
          "Israel/Internet software & services",
          "United States/Fintech",
          "United States/Internet software & services",
          "United States/Health",
          "United States/Artificial intelligence",
          "China/Supply chain, logistics, & delivery",
          "United States/Fintech",
          "United States/Internet software & services",
          "United States/Internet software & services",
          "United Kingdom/Internet software & services",
          "Canada/Travel",
          "China/Artificial intelligence",
          "China/E-commerce & direct-to-consumer",
          "Netherlands/E-commerce & direct-to-consumer",
          "United States/E-commerce & direct-to-consumer",
          "United Kingdom/Other",
          "China/Auto & transportation",
          "China/Edtech",
          "China/Mobile & telecommunications",
          "China/E-commerce & direct-to-consumer",
          "China/Edtech",
          "China/Fintech",
          "United States/Fintech",
          "Singapore/Kuang-Chi",
          "China/Fintech",
          "United States/Cybersecurity",
          "United States/Internet software & services",
          "United States/Supply chain, logistics, & delivery",
          "United States/Fintech",
          "United States/Artificial intelligence",
          "United States/E-commerce & direct-to-consumer",
          "United States/Cybersecurity",
          "China/Hardware",
          "United States/Internet software & services",
          "United States/Consumer & retail",
          "United Kingdom/Other",
          "Germany/Other",
          "India/Mobile & telecommunications",
          "Israel/Health",
          "United States/Internet software & services",
          "United States/Other",
          "United States/Cybersecurity",
          "United States/Artificial intelligence",
          "United States/Hardware",
          "Croatia/Mobile & telecommunications",
          "India/E-commerce & direct-to-consumer",
          "United States/Fintech",
          "United States/Health",
          "Turkey/Internet software & services",
          "United States/Data management & analytics",
          "United States/Supply chain, logistics, & delivery",
          "United States/Health",
          "China/Artificial intelligence",
          "United States/Internet software & services",
          "United States/Fintech",
          "United States/Fintech",
          "United States/Data management & analytics",
          "United States/Internet software & services",
          "United States/Internet software & services",
          "United States/Fintech",
          "Indonesia/Supply chain, logistics, & delivery",
          "China/E-commerce & direct-to-consumer",
          "United States/Consumer & retail",
          "China/Fintech",
          "China/E-commerce & direct-to-consumer",
          "Spain/Internet software & services",
          "United States/E-commerce & direct-to-consumer",
          "Israel/Edtech",
          "China/E-commerce & direct-to-consumer",
          "China/Supply chain, logistics, & delivery",
          "United States/Data management & analytics",
          "China/Data management & analytics",
          "United States/Internet software & services",
          "United States/Health",
          "China/E-commerce & direct-to-consumer",
          "Sweden/Health",
          "United States/Internet software & services",
          "United States/Internet software & services",
          "United States/Cybersecurity",
          "Mexico/E-commerce & direct-to-consumer",
          "China/Supply chain, logistics, & delivery",
          "China/Mobile & telecommunications",
          "United States/Supply chain, logistics, & delivery",
          "United States/Consumer & retail",
          "United Arab Emirates/Supply chain, logistics, & delivery",
          "Sweden/Fintech",
          "United States/Internet software & services",
          "Hong Kong/Travel",
          "China/Edtech",
          "United States/Health",
          "Mexico/Fintech",
          "United States/Internet software & services",
          "Indonesia/Consumer & retail",
          "China/E-commerce & direct-to-consumer",
          "United States/Fintech",
          "China/Supply chain, logistics, & delivery",
          "China/Internet software & services",
          "China/Internet software & services",
          "South Korea/Supply chain, logistics, & delivery",
          "South Korea/Consumer & retail",
          "India/Edtech",
          "United States/Internet software & services",
          "United States/Cybersecurity",
          "Hong Kong/Supply chain, logistics, & delivery",
          "China/E-commerce & direct-to-consumer",
          "United States/Internet software & services",
          "United States/Internet software & services",
          "China/Auto & transportation",
          "France/Hardware",
          "India/E-commerce & direct-to-consumer",
          "United States/Internet software & services",
          "Ireland/Health",
          "China/E-commerce & direct-to-consumer",
          "India/E-commerce & direct-to-consumer",
          "Colombia/Other",
          "Israel/Artificial intelligence",
          "China/Health",
          "China/Mobile & telecommunications",
          "Japan/Fintech",
          "India/E-commerce & direct-to-consumer",
          "United States/Supply chain, logistics, & delivery",
          "United States/Hardware",
          "Brazil/E-commerce & direct-to-consumer",
          "Brazil/Supply chain, logistics, & delivery",
          "United States/Cybersecurity",
          "United States/Internet software & services",
          "United States/Internet software & services",
          "United States/Fintech",
          "Denmark/Fintech",
          "China/Edtech",
          "United States/Internet software & services",
          "France/Fintech",
          "United States/Health",
          "United States/Fintech",
          "China/Artificial intelligence",
          "United States/Artificial intelligence",
          "United States/Internet software & services",
          "South Korea/E-commerce & direct-to-consumer",
          "United States/Fintech",
          "Brazil/E-commerce & direct-to-consumer",
          "China/Travel",
          "United States/Hardware",
          "China/Mobile & telecommunications",
          "India/E-commerce & direct-to-consumer",
          "Netherlands/Fintech",
          "United States/Health",
          "China/Other",
          "France/E-commerce & direct-to-consumer",
          "United Kingdom/Fintech",
          "United States/Edtech",
          "United States/Fintech",
          "United Kingdom/Data management & analytics",
          "Singapore/Dragonfly Captial, Qiming Venture Partners, DST Global",
          "United States/Health",
          "United States/Internet software & services",
          "United States/Internet software & services",
          "China/Health",
          "France/Artificial intelligence",
          "India/Internet software & services",
          "China/Mobile & telecommunications",
          "China/Hardware",
          "United States/Fintech",
          "India/Other",
          "Mexico/E-commerce & direct-to-consumer",
          "United States/Fintech",
          "Netherlands/Mobile & telecommunications",
          "China/E-commerce & direct-to-consumer",
          "China/E-commerce & direct-to-consumer",
          "Switzerland/Health",
          "United States/Internet software & services",
          "China/Artificial intelligence",
          "United States/Data management & analytics",
          "France/E-commerce & direct-to-consumer",
          "United States/Internet software & services",
          "United States/E-commerce & direct-to-consumer",
          "United States/Internet software & services",
          "Vietnam/Fintech",
          "India/Fintech",
          "India/Internet software & services",
          "United States/Fintech",
          "China/Consumer & retail",
          "United States/Health",
          "United States/Fintech",
          "United States/Health",
          "China/E-commerce & direct-to-consumer",
          "Singapore/Jungle Ventures, Accel, Venture Highway",
          "China/Internet software & services",
          "Netherlands/Fintech",
          "China/Artificial intelligence",
          "United Kingdom/Fintech",
          "Israel/Mobile & telecommunications",
          "United States/Fintech",
          "United States/Internet software & services",
          "United Kingdom/E-commerce & direct-to-consumer",
          "United States/Artificial intelligence",
          "Brazil/Mobile & telecommunications",
          "United States/Data management & analytics",
          "United States/Internet software & services",
          "India/E-commerce & direct-to-consumer",
          "Philippines/Fintech",
          "United States/Internet software & services",
          "Germany/Fintech",
          "Singapore/Vertex Ventures SE Asia, Global Founders Capital, Visa Ventures",
          "India/Fintech",
          "United States/Other",
          "United States/Data management & analytics",
          "Brazil/Fintech",
          "United States/Internet software & services",
          "United States/Cybersecurity",
          "China/E-commerce & direct-to-consumer",
          "United States/Internet software & services",
          "United States/Internet software & services",
          "Canada/Other",
          "United States/Fintech",
          "Israel/Hardware",
          "Switzerland/Data management & analytics",
          "United States/Internet software & services",
          "United States/Mobile & telecommunications",
          "Singapore/B Capital Group, Monk's Hill Ventures, Dynamic Parcel Distribution",
          "India/Internet software & services",
          "United States/Cybersecurity",
          "United States/Health",
          "Sweden/Other",
          "Chile/Artificial Intelligence",
          "United States/Internet software & services",
          "Germany/Other",
          "Switzerland/Fintech",
          "United States/Auto & transportation",
          "Brazil/E-commerce & direct-to-consumer",
          "China/Internet software & services",
          "Luxembourg/Other",
          "Singapore/Temasek, Guggenheim Investments, Qatar Investment Authority",
          "France/Other",
          "United Kingdom/Other",
          "India/Travel",
          "United Kingdom/Fintech",
          "Norway/E-commerce & direct-to-consumer",
          "Belgium/Internet software & services",
          "India/E-commerce & direct-to-consumer",
          "United States/Internet software & services",
          "India/Auto & transportation",
          "India/Auto & transportation",
          "Brazil/E-commerce & direct-to-consumer",
          "United States/Internet software & services",
          "United States/Health",
          "Germany/Travel",
          "United States/Internet software & services",
          "Nigeria/Fintech",
          "United States/Artificial intelligence",
          "United States/E-commerce & direct-to-consumer",
          "United States/Internet software & services",
          "United States/Hardware",
          "Israel/Artificial intelligence",
          "China/Hardware",
          "United States/Health",
          "United States/Cybersecurity",
          "United States/Fintech",
          "Germany/Health",
          "United States/Internet software & services",
          "United States/Internet software & services",
          "United States/Edtech",
          "China/Internet software & services",
          "Indonesia/Fintech",
          "United States/Artificial Intelligence",
          "United States/Data management & analytics",
          "United States/Consumer & retail",
          "United States/Internet software & services",
          "United Kingdom/Fintech",
          "United States/Fintech",
          "Israel/Fintech",
          "United States/Internet software & services",
          "United States/Internet software & services",
          "United States/Cybersecurity",
          "United States/Health",
          "United States/Internet software & services",
          "United States/Internet software & services",
          "United States/Consumer & retail",
          "Singapore/Sequoia Capital China, Shunwei Capital Partners, Qualgro",
          "United States/Internet software & services",
          "United States/Internet software & services",
          "United States/Fintech",
          "United Kingdom/Fintech",
          "United Kingdom/Fintech",
          "United States/Internet software & services",
          "Israel/Cybersecurity",
          "United States/Internet software & services",
          "United States/Cybersecurity",
          "Germany/Internet software & services",
          "Australia/E-commerce & direct-to-consumer",
          "United States/Fintech",
          "United States/E-commerce & direct-to-consumer",
          "United States/Internet software & services",
          "United States/Mobile & telecommunications",
          "United States/Fintech",
          "India/Fintech",
          "China/Edtech",
          "United States/Fintech",
          "United States/Artificial intelligence",
          "United States/Fintech",
          "Japan/Other",
          "Denmark/Fintech",
          "United States/Internet software & services",
          "United States/Internet software & services",
          "Canada/Internet software & services",
          "China/Mobile & telecommunications",
          "India/Fintech",
          "United States/Artificial intelligence",
          "United States/Internet software & services",
          "Japan/Artificial intelligence",
          "United States/Health",
          "United States/Other",
          "India/Health",
          "United States/Internet software & services",
          "United States/Supply chain, logistics, & delivery",
          "South Africa/Consumer & retail",
          "United States/Hardware",
          "United States/Fintech",
          "China/Internet software & services",
          "France/Fintech",
          "United States/Fintech",
          "United States/Data management & analytics",
          "Brazil/E-commerce & direct-to-consumer",
          "United States/Edtech",
          "United States/Data management & analytics",
          "United States/Internet software & services",
          "United States/Supply chain, logistics, & delivery",
          "Finland/Supply chain, logistics, & delivery",
          "South Korea/E-commerce & direct-to-consumer",
          "United States/Health",
          "United Kingdom/Fintech",
          "United States/Fintech",
          "Colombia/Supply chain, logistics, & delivery",
          "United Kingdom/Fintech",
          "Germany/Consumer & retail",
          "India/Fintech",
          "United States/Fintech",
          "India/E-commerce & direct-to-consumer",
          "United States/Artificial intelligence",
          "United States/Internet software & services",
          "United States/Other",
          "United States/Data management & analytics",
          "United States/Other",
          "United States/Health",
          "United States/Internet software & services",
          "United States/Other",
          "United States/Cybersecurity",
          "United States/Data management & analytics",
          "United States/Fintech",
          "United States/Internet software & services",
          "United Kingdom/Fintech",
          "Philippines/Other",
          "United States/Health",
          "United States/Fintech",
          "United States/Internet software & services",
          "India/Supply chain, logistics, & delivery",
          "United States/Health",
          "Czech Republic/Supply chain, logistics, & delivery",
          "United States/Internet software & services",
          "United States/Consumer & retail",
          "United States/Supply chain, logistics, & delivery",
          "China/Hardware",
          "United States/Other",
          "United States/Data management & analytics",
          "China/E-commerce & direct-to-consumer",
          "China/Other",
          "United States/Internet software & services",
          "Canada/E-commerce & direct-to-consumer",
          "United States/Supply chain, logistics, & delivery",
          "China/Auto & transportation",
          "United States/Health",
          "Australia/Internet software & services",
          "United States/Cybersecurity",
          "United Kingdom/Fintech",
          "United States/Data management & analytics",
          "United States/E-commerce & direct-to-consumer",
          "Germany/Fintech",
          "Italy/Fintech",
          "United States/Artificial intelligence",
          "Switzerland/Supply chain, logistics, & delivery",
          "United States/Mobile & telecommunications",
          "United States/Internet software & services",
          "United States/Internet software & services",
          "Germany/E-commerce & direct-to-consumer",
          "United States/Mobile & telecommunications",
          "Germany/Supply chain, logistics, & delivery",
          "United States/Other",
          "United States/Internet software & services",
          "India/Internet software & services",
          "United States/Artificial intelligence",
          "France/Artificial intelligence",
          "United States/Supply chain, logistics, & delivery",
          "United States/Supply chain, logistics, & delivery",
          "United States/Internet software & services",
          "United States/Fintech",
          "United States/Artificial intelligence",
          "United States/Fintech",
          "United States/Other",
          "United States/Data management & analytics",
          "United States/E-commerce & direct-to-consumer",
          "Vietnam/Internet software & services",
          "United States/Other",
          "United States/Supply chain, logistics, & delivery",
          "India/Fintech",
          "United States/Fintech",
          "Japan/Fintech",
          "China/Artificial Intelligence",
          "Japan/Mobile & telecommunications",
          "United States/Internet software & services",
          "United States/Internet software & services",
          "India/E-commerce & direct-to-consumer",
          "United States/Fintech",
          "United States/Artificial intelligence",
          "United States/Cybersecurity",
          "South Korea/Auto & transportation",
          "United States/Cybersecurity",
          "United States/Internet software & services",
          "United States/Other",
          "United States/Health",
          "United States/Health",
          "France/E-commerce & direct-to-consumer",
          "China/E-commerce & direct-to-consumer",
          "United States/Artificial intelligence",
          "United States/Internet software & services",
          "United States/Other",
          "United States/Artificial intelligence",
          "France/Fintech",
          "Japan/Other",
          "India/E-commerce & direct-to-consumer",
          "United States/Internet software & services",
          "United States/Fintech",
          "United States/Fintech",
          "United States/Health",
          "United States/Artificial intelligence",
          "China/Auto & transportation",
          "United States/Data management & analytics",
          "Israel/Cybersecurity",
          "United Kingdom/Fintech",
          "United States/Mobile & telecommunications",
          "United States/Fintech",
          "United States/E-commerce & direct-to-consumer",
          "Israel/Other",
          "United States/Internet software & services",
          "United States/Fintech",
          "United States/Cybersecurity",
          "United Kingdom/Fintech",
          "United States/Fintech",
          "India/Supply chain, logistics, & delivery",
          "France/Fintech",
          "United States/Fintech",
          "United States/Cybersecurity",
          "China/Fintech",
          "China/Hardware",
          "China/Artificial Intelligence",
          "United States/Internet software & services",
          "United States/Internet software & services",
          "China/Mobile & telecommunications",
          "United States/Mobile & telecommunications",
          "United States/Cybersecurity",
          "United States/Fintech",
          "United States/Internet software & services",
          "United States/E-commerce & direct-to-consumer",
          "United States/Internet software & services",
          "United States/Internet software & services",
          "United States/Health",
          "Canada/Artificial intelligence",
          "China/Internet software & services",
          "United Kingdom/Fintech",
          "United States/E-commerce & direct-to-consumer",
          "United States/Health",
          "United Kingdom/Fintech",
          "United States/Internet software & services",
          "United States/Other",
          "United States/E-commerce & direct-to-consumer",
          "Germany/Travel",
          "United States/Internet software & services",
          "United States/Fintech",
          "United States/E-commerce & direct-to-consumer",
          "China/Cybersecurity",
          "South Korea/Fintech",
          "United Kingdom/Artificial intelligence",
          "Germany/Fintech",
          "United States/Other",
          "United States/Fintech",
          "United States/Fintech",
          "United States/Health",
          "Israel/Cybersecurity",
          "Spain/Travel",
          "Indonesia/Travel",
          "Singapore/Hopu Investment Management, Boyu Capital, DC Thomson Ventures",
          "Hong Kong/Consumer & retail",
          "United States/Fintech",
          "United States/Health",
          "United States/Travel",
          "United Kingdom/Mobile & telecommunications",
          "United Kingdom/Fintech",
          "United States/Health",
          "Canada/Cybersecurity",
          "United States/Fintech",
          "China/Travel",
          "China/E-commerce & direct-to-consumer",
          "China/Auto & transportation",
          "United States/Internet software & services",
          "China/Hardware",
          "China/Supply chain, logistics, & delivery",
          "Argentina/Fintech",
          "India/Supply chain, logistics, & delivery",
          "India/Edtech",
          "Brazil/Artificial intelligence",
          "United States/Artificial Intelligence",
          "China/Artificial intelligence",
          "United States/Health",
          "China/Health",
          "United States/Fintech",
          "India/Edtech",
          "United States/Fintech",
          "United States/Other",
          "India/Fintech",
          "United States/Artificial intelligence",
          "India/E-commerce & direct-to-consumer",
          "United States/Data management & analytics",
          "China/Edtech",
          "Sweden/Travel",
          "United States/Internet software & services",
          "United States/Internet software & services",
          "United States/Fintech",
          "United States/Artificial intelligence",
          "India/Edtech",
          "France/E-commerce & direct-to-consumer",
          "United States/Internet software & services",
          "United States/Supply chain, logistics, & delivery",
          "United States/Cybersecurity",
          "United States/Artificial intelligence",
          "United States/Internet software & services",
          "Estonia/Artificial intelligence",
          "United States/Cybersecurity",
          "France/E-commerce & direct-to-consumer",
          "United States/Auto & transportation",
          "United States/Internet software & services",
          "United States/Internet software & services",
          "Lithuania/E-commerce & direct-to-consumer",
          "United States/Health",
          "United States/Fintech",
          "Canada/Internet software & services",
          "United Arab Emirates/Other",
          "France/Other",
          "United States/Internet software & services",
          "United States/E-commerce & direct-to-consumer",
          "South Korea/E-commerce & direct-to-consumer",
          "China/Auto & transportation",
          "China/Internet software & services",
          "China/Mobile & telecommunications",
          "United States/Internet software & services",
          "Senegal/Fintech",
          "Ireland/Fintech",
          "China/Health",
          "China/Fintech",
          "Hong Kong/Sequoia Capital China, ING, Alibaba Entrepreneurs Fund",
          "China/Auto & transportation",
          "United States/Internet software & services",
          "United States/Supply chain, logistics, & delivery",
          "China/Consumer & retail",
          "China/Other",
          "United States/E-commerce & direct-to-consumer",
          "United States/E-commerce & direct-to-consumer",
          "Brazil/Other",
          "Israel/Cybersecurity",
          "China/E-commerce & direct-to-consumer",
          "United States/Internet software & services",
          "Ireland/Internet software & services",
          "United States/Internet software & services",
          "United States/Fintech",
          "China/Internet software & services",
          "Indonesia/Fintech",
          "China/Travel",
          "China/Fintech",
          "China/E-commerce & direct-to-consumer",
          "China/Mobile & telecommunications",
          "China/Internet software & services",
          "China/E-commerce & direct-to-consumer",
          "China/E-commerce & direct-to-consumer",
          "India/Supply chain, logistics, & delivery",
          "China/Artificial intelligence",
          "China/Supply chain, logistics, & delivery",
          "China/Artificial intelligence",
          "South Korea/Travel",
          "China/Health",
          "South Korea/Mobile & telecommunications",
          "China/Mobile & telecommunications",
          "China/Supply chain, logistics, & delivery",
          "China/Consumer & retail",
          "China/Supply chain, logistics, & delivery",
          "China/E-commerce & direct-to-consumer",
          "United States/Internet software & services",
          "China/Mobile & telecommunications",
          "France/Other",
          "United States/Internet software & services",
          "United States/Other",
          "China/Auto & transportation",
          "China/Edtech",
          "China/Consumer & retail",
          "United States/Data management & analytics",
          "China/Supply chain, logistics, & delivery",
          "China/Edtech",
          "United Kingdom/Fintech",
          "United States/Internet software & services",
          "United Kingdom/Fintech",
          "United States/Fintech",
          "United States/Internet software & services",
          "United States/Fintech",
          "India/Internet software & services",
          "China/E-commerce & direct-to-consumer",
          "China/E-commerce & direct-to-consumer",
          "China/Internet software & services",
          "China/Consumer & retail",
          "United Kingdom/Fintech",
          "United States/Supply chain, logistics, & delivery",
          "China/E-commerce & direct-to-consumer",
          "United States/Health",
          "China/Auto & transportation",
          "United Kingdom/Fintech",
          "United States/Consumer & retail",
          "China/Edtech",
          "United States/E-commerce & direct-to-consumer",
          "India/Internet software & services",
          "Singapore/Mundi Ventures, Doqling Capital Partners, Activant Capital",
          "United States/Fintech",
          "United States/Data management & analytics",
          "China/E-commerce & direct-to-consumer",
          "Canada/Cybersecurity",
          "United States/Supply chain, logistics, & delivery",
          "United States/E-commerce & direct-to-consumer",
          "United States/Fintech",
          "China/Artificial intelligence",
          "Brazil/Supply chain, logistics, & delivery",
          "United States/Fintech",
          "China/Edtech",
          "United States/Artificial intelligence",
          "United States/Internet software & services",
          "Germany/Fintech",
          "Germany/Fintech",
          "Singapore",
          "Hong Kong",
          "Chile",
          "China",
          "United States",
          "Bermuda",
          "Brazil",
          "Canada",
          "Chile",
          "China",
          "Estonia",
          "France",
          "Israel",
          "Japan",
          "United Kingdom",
          "United States",
          "China",
          "Estonia",
          "France",
          "Germany",
          "India",
          "South Korea",
          "Spain",
          "Sweden",
          "United Kingdom",
          "United States",
          "Singapore",
          "China",
          "Germany",
          "Hong Kong",
          "Indonesia",
          "South Africa",
          "South Korea",
          "United Kingdom",
          "United States",
          "Canada",
          "China",
          "Israel",
          "Switzerland",
          "United States",
          "Belgium",
          "China",
          "Germany",
          "India",
          "Israel",
          "Norway",
          "Switzerland",
          "United Kingdom",
          "United States",
          "Singapore",
          "Australia",
          "Brazil",
          "Canada",
          "China",
          "France",
          "Germany",
          "India",
          "Indonesia",
          "Lithuania",
          "Malaysia",
          "Mexico",
          "Netherlands",
          "Norway",
          "South Korea",
          "Turkey",
          "United Kingdom",
          "United States",
          "Austria",
          "Canada",
          "China",
          "India",
          "Israel",
          "United States",
          "Argentina",
          "Australia",
          "Austria",
          "Belgium",
          "Brazil",
          "Canada",
          "China",
          "Denmark",
          "France",
          "Germany",
          "India",
          "Indonesia",
          "Ireland",
          "Israel",
          "Italy",
          "Japan",
          "Mexico",
          "Netherlands",
          "Nigeria",
          "Philippines",
          "Senegal",
          "South Korea",
          "Sweden",
          "Switzerland",
          "Thailand",
          "United Kingdom",
          "United States",
          "Vietnam",
          "United States",
          "China",
          "France",
          "Germany",
          "Israel",
          "Netherlands",
          "United Kingdom",
          "United States",
          "China",
          "France",
          "Germany",
          "India",
          "Ireland",
          "Israel",
          "South Korea",
          "Sweden",
          "Switzerland",
          "United Kingdom",
          "United States",
          "Singapore",
          "Australia",
          "Belgium",
          "Canada",
          "China",
          "Finland",
          "France",
          "Germany",
          "India",
          "Ireland",
          "Israel",
          "Spain",
          "Sweden",
          "Turkey",
          "United Kingdom",
          "United States",
          "Vietnam",
          "Singapore",
          "Singapore",
          "Brazil",
          "China",
          "Croatia",
          "Finland",
          "India",
          "Israel",
          "Japan",
          "Netherlands",
          "South Africa",
          "South Korea",
          "Turkey",
          "United Kingdom",
          "United States",
          "Singapore",
          "Brazil",
          "Canada",
          "China",
          "Colombia",
          "France",
          "Germany",
          "India",
          "Israel",
          "Japan",
          "Luxembourg",
          "Philippines",
          "South Korea",
          "Sweden",
          "United Arab Emirates",
          "United Kingdom",
          "United States",
          "Hong Kong",
          "Singapore",
          "Bahamas",
          "Singapore",
          "Brazil",
          "Canada",
          "China",
          "Colombia",
          "Czech Republic",
          "Finland",
          "Germany",
          "Hong Kong",
          "India",
          "Indonesia",
          "Israel",
          "South Korea",
          "Switzerland",
          "Thailand",
          "United Arab Emirates",
          "United Kingdom",
          "United States",
          "Singapore",
          "Hong Kong",
          "Canada",
          "China",
          "Germany",
          "Hong Kong",
          "India",
          "Indonesia",
          "South Korea",
          "Spain",
          "Sweden",
          "United States",
          "Singapore",
          "Singapore",
          "",
          "",
          "",
          "",
          "",
          "",
          "",
          "",
          "",
          "",
          "",
          "",
          "",
          "",
          "",
          "",
          "",
          "",
          "",
          "",
          "",
          "",
          "",
          "",
          "",
          "",
          "",
          "",
          "",
          "",
          "",
          "",
          "",
          "",
          "",
          "",
          "",
          "",
          "",
          "",
          "",
          "",
          "",
          "",
          "",
          ""
         ],
         "root": {
          "color": "lightgrey"
         },
         "type": "treemap",
         "values": [
          1.5,
          1,
          6.8,
          2,
          1.08,
          1,
          5.2,
          2.4,
          1.78,
          1.6,
          2.19,
          1.1,
          2.5,
          3,
          1.2,
          2.17,
          2,
          1.6,
          3,
          1.2,
          1,
          1.2,
          1.5,
          1,
          11.7,
          5.5,
          2,
          1,
          2,
          1.68,
          1.2,
          10.2,
          1.9,
          1.45,
          2.25,
          1.35,
          1,
          1.31,
          3,
          1,
          1,
          3,
          1.5,
          4.6,
          2.26,
          1,
          2,
          1.1,
          3.6,
          3,
          2,
          1.04,
          1.73,
          1,
          4.3,
          7.25,
          1.05,
          3.75,
          1.5,
          1,
          1,
          1.4,
          1.35,
          1.5,
          1.32,
          5.99,
          1,
          2.5,
          4,
          6.8,
          1.8,
          2,
          2,
          1.4,
          1,
          1,
          1.2,
          1,
          3,
          21,
          2.5,
          5.7,
          1.55,
          1,
          1,
          2,
          6.1,
          1,
          1,
          6,
          4.7,
          1,
          1.3,
          1.1,
          2.85,
          1.25,
          1.2,
          12,
          2.32,
          1,
          4.11,
          2.4,
          12,
          2.2,
          2,
          2,
          6.1,
          1,
          1.01,
          3.25,
          3,
          5.2,
          3.2,
          2.2,
          1,
          1,
          8.4,
          11,
          1,
          1.48,
          2.35,
          2.3,
          4,
          1.24,
          12.3,
          1,
          4,
          1.5,
          2,
          140,
          1,
          5.05,
          1,
          1.85,
          1,
          3,
          4.01,
          1.4,
          1,
          3,
          2,
          1.5,
          1,
          40,
          1.6,
          1,
          1.25,
          1.2,
          2.4,
          3,
          1,
          7.83,
          1.1,
          1,
          3.3,
          1.7,
          1,
          7.4,
          1.52,
          2.5,
          1.3,
          3.2,
          1,
          11,
          3.5,
          4.8,
          4,
          2.41,
          4.2,
          1.5,
          3.5,
          40,
          4.6,
          9,
          25,
          1,
          4.73,
          2,
          1,
          1,
          3,
          1.7,
          5.7,
          1,
          2.6,
          1,
          2,
          1,
          2,
          4,
          1.6,
          2,
          1.15,
          2.15,
          2,
          3.32,
          4,
          3.5,
          5,
          1.4,
          1.5,
          3.7,
          1.1,
          1.5,
          1.9,
          1.3,
          1.5,
          5.25,
          4.6,
          3.5,
          3.2,
          2.8,
          3,
          1,
          2.75,
          1.45,
          1.2,
          3.6,
          4.8,
          1.5,
          1.5,
          2.2,
          2.44,
          15,
          1.5,
          3.24,
          1.1,
          3.1,
          1.2,
          7.6,
          1,
          6.3,
          38,
          4.6,
          4.1,
          1.7,
          5.5,
          1.35,
          1.4,
          1.4,
          3,
          1.4,
          2,
          1.05,
          1,
          1.5,
          12.6,
          2.2,
          1.8,
          1,
          3.5,
          10,
          7,
          1.7,
          1.3,
          2,
          1.14,
          1.3,
          1.7,
          1,
          2.75,
          8,
          2,
          1,
          2.85,
          2,
          1,
          1,
          3.75,
          1,
          1,
          3.31,
          1.85,
          1.23,
          2,
          5.78,
          1.1,
          1,
          2.1,
          1.44,
          1.5,
          1.15,
          1,
          1.24,
          1.1,
          1.4,
          42,
          1.4,
          1.35,
          3.2,
          1,
          2.7,
          2,
          1.3,
          1,
          2.4,
          2,
          1,
          1.6,
          32,
          1,
          1.5,
          1,
          1.2,
          12.4,
          3.75,
          27,
          4,
          1,
          1.95,
          1,
          1,
          10,
          1.4,
          8,
          1.4,
          1.1,
          2.1,
          1,
          1.4,
          5.6,
          1,
          1,
          8,
          2.85,
          1.32,
          1.25,
          3,
          1.2,
          1.3,
          3.5,
          3,
          2,
          1,
          3,
          1.2,
          1,
          1,
          1.8,
          1.1,
          1.1,
          2.2,
          1,
          3.7,
          1.32,
          1.22,
          1.1,
          1,
          1,
          1.2,
          7.1,
          1.1,
          7.5,
          1.5,
          11.1,
          1.1,
          1,
          4.2,
          1.2,
          2.1,
          3.5,
          7.25,
          12,
          3.1,
          1.7,
          3,
          13,
          2.77,
          2.3,
          4,
          1,
          1.32,
          3,
          1.2,
          1.15,
          3.75,
          2,
          1.4,
          10,
          2.2,
          1.45,
          1.7,
          1,
          9.28,
          1,
          1,
          3.5,
          1,
          1.15,
          1.7,
          1.7,
          1,
          1.3,
          1.2,
          5,
          2.18,
          1,
          1.65,
          3.1,
          3.5,
          6.2,
          2,
          1.4,
          1.6,
          1.1,
          1.25,
          7.75,
          5,
          5,
          1,
          1,
          4,
          5,
          3.95,
          1,
          2.19,
          2,
          1,
          1.28,
          1,
          3.5,
          1,
          1.5,
          1.17,
          2,
          1,
          5,
          1.5,
          2.75,
          1.55,
          1.5,
          4,
          2,
          1,
          1,
          1.3,
          1.9,
          1.2,
          1.25,
          3.5,
          1.6,
          1,
          2.5,
          1,
          3.2,
          1.22,
          1.05,
          39,
          3.8,
          1,
          1.28,
          1,
          3,
          1,
          3.2,
          2,
          1.1,
          20,
          1.5,
          12,
          1,
          1.05,
          2.35,
          1.2,
          1,
          1.1,
          1.45,
          2.62,
          1.62,
          1.43,
          1.5,
          3,
          2,
          2,
          1.1,
          2,
          8.7,
          1,
          2,
          2.3,
          1,
          1,
          45.6,
          9.2,
          1.35,
          1,
          3.3,
          1.3,
          1.4,
          1,
          1.4,
          2.92,
          1,
          1.25,
          2,
          3.3,
          1.19,
          1.1,
          2,
          8.3,
          10,
          1,
          3,
          3,
          1.01,
          1.5,
          2.5,
          1,
          1,
          5.77,
          1,
          1.15,
          1.8,
          1,
          1,
          1,
          1.2,
          1.3,
          1,
          2.9,
          2,
          1,
          1.53,
          3,
          1.3,
          1,
          1.18,
          1.5,
          1,
          5.85,
          1.45,
          4,
          1.5,
          2,
          2.2,
          1.9,
          1,
          2,
          2,
          1,
          1.07,
          5.5,
          1,
          1.3,
          2.6,
          1.25,
          2.75,
          1,
          1.5,
          1.05,
          1,
          2.1,
          1,
          3.92,
          1,
          4.9,
          2.8,
          4.58,
          4,
          1,
          1.2,
          1.6,
          3.8,
          1,
          4.25,
          1,
          1.2,
          1.19,
          1,
          3.5,
          17.5,
          2,
          1.05,
          2.27,
          1,
          2.45,
          1,
          1,
          1.17,
          2,
          1,
          1.5,
          2.6,
          1,
          6.5,
          1,
          4.5,
          5,
          3.4,
          1,
          1.33,
          2.1,
          1,
          1.5,
          1,
          1.2,
          2,
          1.25,
          9.23,
          1,
          6.5,
          1,
          2.15,
          1.38,
          2,
          7.5,
          1,
          1,
          1,
          1.23,
          4,
          1.5,
          1.1,
          2.7,
          9,
          1,
          1,
          1,
          3.7,
          9.08,
          1.5,
          10,
          2.2,
          1,
          8.6,
          3.1,
          1.08,
          2,
          1,
          1.1,
          1.28,
          9.6,
          5,
          1.2,
          2.3,
          5,
          1.2,
          7.5,
          5,
          1.5,
          4,
          1,
          1,
          5.1,
          2,
          2.92,
          13.3,
          1,
          1.8,
          1.03,
          1,
          1,
          1.8,
          1,
          3.52,
          9.5,
          4.4,
          3,
          1.45,
          2.9,
          1,
          3.35,
          1.7,
          1,
          1,
          1.5,
          2,
          1,
          1,
          1.4,
          1.4,
          3.7,
          1.5,
          1,
          1,
          4,
          2.25,
          2.4,
          2.1,
          1,
          2.6,
          1,
          1.1,
          1.5,
          6.3,
          1,
          1.2,
          1.1,
          1.4,
          1,
          1.2,
          6,
          1.2,
          2,
          1,
          13.4,
          1,
          4.7,
          2.6,
          3,
          4,
          1,
          2.4,
          5.3,
          5.6,
          2,
          1.2,
          1,
          1.4,
          1.7,
          2.62,
          1.59,
          3.15,
          1.2,
          1.1,
          5,
          1,
          1,
          5.1,
          1,
          1.2,
          2,
          1,
          5.7,
          1.33,
          4,
          1.07,
          8,
          5.25,
          8.75,
          1,
          7.5,
          2.1,
          1.4,
          1.15,
          3.5,
          1,
          2,
          3.7,
          2.2,
          3.6,
          4.2,
          1,
          1.7,
          1,
          1.85,
          33,
          1,
          1.1,
          15,
          6.5,
          1.07,
          7,
          1.2,
          1.95,
          1,
          1.25,
          6,
          1.07,
          4,
          15,
          1,
          1,
          4.15,
          1.13,
          1.16,
          2,
          1.6,
          1.4,
          1,
          5,
          1.2,
          1.4,
          1,
          7.3,
          1,
          3.3,
          1.2,
          3,
          1,
          1.05,
          1.1,
          1,
          9.5,
          3.7,
          1,
          1,
          1,
          1,
          2.5,
          1,
          1,
          1.34,
          3.3,
          1.1,
          3.2,
          3,
          2.3,
          1,
          1,
          1,
          1.6,
          1.2,
          2,
          1.5,
          1,
          1,
          1.5,
          1,
          8.6,
          1,
          4.5,
          1,
          1.5,
          2.5,
          1.42,
          4.3,
          3,
          2.1,
          2.62,
          100.3,
          1.4,
          1.5,
          1.22,
          1.75,
          1,
          3.15,
          1.7,
          2,
          1,
          2.41,
          3.35,
          2,
          1.95,
          1.29,
          1.4,
          3.8,
          1.5,
          1.5,
          95,
          1,
          1,
          1.1,
          10.7,
          1,
          1.4,
          2.5,
          1.12,
          1,
          1.3,
          1.25,
          10,
          1.3,
          1.1,
          9,
          1.5,
          1.2,
          1,
          3.5,
          1.5,
          8.1,
          1,
          1,
          1.1,
          1,
          1,
          1,
          4.2,
          10,
          3.2,
          2,
          1,
          8.3,
          1.6,
          1.32,
          7.4,
          1,
          5.3,
          1.63,
          2.7,
          3,
          1.62,
          2.74,
          1.3,
          3,
          1.3,
          2,
          1,
          1,
          7.25,
          1.4,
          1,
          1.6,
          1.75,
          2.4,
          1.5,
          2,
          1.16,
          1.1,
          4.58,
          1.08,
          2.45,
          3.1,
          3.44,
          1,
          2.5,
          1.31,
          1.7,
          5,
          2,
          1.2,
          6.28,
          1.5,
          3.4,
          2.3,
          2.1,
          3.7,
          4.5,
          1,
          1,
          1,
          2.5,
          1.2,
          1,
          1.38,
          1,
          1.5,
          1.15,
          2,
          2.5,
          1.5,
          1.6,
          1.7,
          3.3,
          5.7,
          1.4,
          4.53,
          2,
          1,
          1,
          2.5,
          2.31,
          1,
          4,
          2.34,
          5,
          1.27,
          1,
          1,
          1.7,
          1.6,
          7,
          1,
          1,
          4.4,
          2.1,
          4.1,
          10.88,
          1.55,
          1.5,
          3.6,
          3,
          6,
          1,
          5.7,
          1.2,
          2.9,
          1,
          1,
          1,
          1.5,
          1,
          20,
          1.52,
          2,
          8,
          2,
          1.2,
          2,
          1,
          2.17,
          1,
          1.35,
          4,
          1.4,
          1.2,
          1.5,
          1.17,
          1.49,
          1,
          3,
          1,
          1.4,
          1.3,
          3.35,
          15.5,
          15,
          1.3,
          1.5,
          1,
          5,
          4,
          1.1,
          1.7,
          1.5,
          1.45,
          2.5,
          1,
          1,
          1.61,
          1,
          2,
          2.8,
          6.6,
          1.8,
          11.4,
          1,
          2.25,
          3,
          1,
          1.1,
          1,
          1.5,
          4.2,
          1.9,
          1.1,
          1.6,
          15,
          6,
          1,
          1,
          1.3,
          1,
          2.7,
          10,
          1.65,
          1.65,
          1.1,
          1,
          1.5,
          3.5,
          4.5,
          1.6,
          1,
          2.2,
          1,
          170.72,
          1.5,
          2,
          3.83,
          2,
          4.77,
          117.77,
          52.36,
          8.4,
          2,
          3,
          12.5,
          1,
          1.4,
          1.44,
          1.5,
          13.1,
          1,
          38.160000000000004,
          1,
          2,
          1,
          1.59,
          1.19,
          1.24,
          28.95,
          9.65,
          1.32,
          15.24,
          2.5,
          93.99,
          5.25,
          3.12,
          11,
          1,
          1.4,
          2.5,
          1.1,
          1.5,
          108.97,
          1.05,
          1,
          13.6,
          4.15,
          101.08,
          21.44,
          7.95,
          30.12,
          2,
          4.53,
          1.7,
          9.899999999999999,
          1,
          2.2,
          5.87,
          7.5,
          2.7800000000000002,
          108.57000000000001,
          3.5,
          3,
          33.83,
          30.94,
          1,
          18.5,
          2.45,
          5.5,
          4.11,
          1.4,
          14.379999999999999,
          13.8,
          10.36,
          5.7,
          10.18,
          19.23,
          45.26,
          4.9,
          1.6,
          4,
          1,
          2.6,
          6.5,
          14,
          2,
          2,
          1.7,
          8.4,
          45.6,
          1,
          1.5,
          130.47,
          422.91,
          2.27,
          10,
          60.55,
          3.5,
          1,
          1.5,
          1,
          11.1,
          22.5,
          21.32,
          2.1399999999999997,
          3.52,
          2.9,
          1,
          1.3,
          1.04,
          2,
          1,
          3,
          143.3,
          1.3,
          44.1,
          2.3,
          9,
          17.76,
          2,
          4.199999999999999,
          10.4,
          28.75,
          6.45,
          2.65,
          2.35,
          1.4,
          1.22,
          7.75,
          412.8,
          3,
          2.6,
          3.5,
          1,
          22.16,
          1,
          1,
          1,
          5,
          2,
          3.8,
          1,
          4,
          2.75,
          1.4,
          35.63,
          1,
          3,
          1.23,
          16.37,
          1.15,
          4.41,
          3.2,
          2.4,
          1.5,
          2.2199999999999998,
          2,
          1,
          1.32,
          9.08,
          3.5,
          10.47,
          202.35,
          1,
          1,
          32,
          1,
          4,
          1,
          15.08,
          5.25,
          1.2,
          5.7,
          2.3,
          10,
          22.58,
          20,
          1,
          3.3,
          1,
          1,
          1,
          1.7,
          78.65,
          1,
          3,
          5,
          5,
          4.1,
          1.35,
          9.6,
          3,
          1,
          1.3,
          1,
          7.25,
          1,
          2,
          2.45,
          50.6,
          7.61,
          32,
          8.95,
          1.6,
          36.98,
          49.03,
          2.5,
          572.69,
          6.4,
          1,
          1.2,
          5.7,
          9.9,
          8.7,
          49.87,
          66.7,
          18.35,
          187.05,
          30.9,
          9.05,
          38.42,
          1,
          8.82,
          4.53,
          2,
          1.7,
          16.4,
          19.8,
          2,
          4.7,
          3,
          1.7,
          17.55,
          2.59,
          27.12,
          5.05,
          60.52,
          6.6,
          2.5,
          11.47,
          4.5,
          177.68,
          1829.74,
          5.27
         ]
        }
       ],
       "layout": {
        "legend": {
         "tracegroupgap": 0
        },
        "margin": {
         "b": 25,
         "l": 25,
         "r": 25,
         "t": 50
        },
        "template": {
         "data": {
          "bar": [
           {
            "error_x": {
             "color": "#2a3f5f"
            },
            "error_y": {
             "color": "#2a3f5f"
            },
            "marker": {
             "line": {
              "color": "#E5ECF6",
              "width": 0.5
             },
             "pattern": {
              "fillmode": "overlay",
              "size": 10,
              "solidity": 0.2
             }
            },
            "type": "bar"
           }
          ],
          "barpolar": [
           {
            "marker": {
             "line": {
              "color": "#E5ECF6",
              "width": 0.5
             },
             "pattern": {
              "fillmode": "overlay",
              "size": 10,
              "solidity": 0.2
             }
            },
            "type": "barpolar"
           }
          ],
          "carpet": [
           {
            "aaxis": {
             "endlinecolor": "#2a3f5f",
             "gridcolor": "white",
             "linecolor": "white",
             "minorgridcolor": "white",
             "startlinecolor": "#2a3f5f"
            },
            "baxis": {
             "endlinecolor": "#2a3f5f",
             "gridcolor": "white",
             "linecolor": "white",
             "minorgridcolor": "white",
             "startlinecolor": "#2a3f5f"
            },
            "type": "carpet"
           }
          ],
          "choropleth": [
           {
            "colorbar": {
             "outlinewidth": 0,
             "ticks": ""
            },
            "type": "choropleth"
           }
          ],
          "contour": [
           {
            "colorbar": {
             "outlinewidth": 0,
             "ticks": ""
            },
            "colorscale": [
             [
              0,
              "#0d0887"
             ],
             [
              0.1111111111111111,
              "#46039f"
             ],
             [
              0.2222222222222222,
              "#7201a8"
             ],
             [
              0.3333333333333333,
              "#9c179e"
             ],
             [
              0.4444444444444444,
              "#bd3786"
             ],
             [
              0.5555555555555556,
              "#d8576b"
             ],
             [
              0.6666666666666666,
              "#ed7953"
             ],
             [
              0.7777777777777778,
              "#fb9f3a"
             ],
             [
              0.8888888888888888,
              "#fdca26"
             ],
             [
              1,
              "#f0f921"
             ]
            ],
            "type": "contour"
           }
          ],
          "contourcarpet": [
           {
            "colorbar": {
             "outlinewidth": 0,
             "ticks": ""
            },
            "type": "contourcarpet"
           }
          ],
          "heatmap": [
           {
            "colorbar": {
             "outlinewidth": 0,
             "ticks": ""
            },
            "colorscale": [
             [
              0,
              "#0d0887"
             ],
             [
              0.1111111111111111,
              "#46039f"
             ],
             [
              0.2222222222222222,
              "#7201a8"
             ],
             [
              0.3333333333333333,
              "#9c179e"
             ],
             [
              0.4444444444444444,
              "#bd3786"
             ],
             [
              0.5555555555555556,
              "#d8576b"
             ],
             [
              0.6666666666666666,
              "#ed7953"
             ],
             [
              0.7777777777777778,
              "#fb9f3a"
             ],
             [
              0.8888888888888888,
              "#fdca26"
             ],
             [
              1,
              "#f0f921"
             ]
            ],
            "type": "heatmap"
           }
          ],
          "heatmapgl": [
           {
            "colorbar": {
             "outlinewidth": 0,
             "ticks": ""
            },
            "colorscale": [
             [
              0,
              "#0d0887"
             ],
             [
              0.1111111111111111,
              "#46039f"
             ],
             [
              0.2222222222222222,
              "#7201a8"
             ],
             [
              0.3333333333333333,
              "#9c179e"
             ],
             [
              0.4444444444444444,
              "#bd3786"
             ],
             [
              0.5555555555555556,
              "#d8576b"
             ],
             [
              0.6666666666666666,
              "#ed7953"
             ],
             [
              0.7777777777777778,
              "#fb9f3a"
             ],
             [
              0.8888888888888888,
              "#fdca26"
             ],
             [
              1,
              "#f0f921"
             ]
            ],
            "type": "heatmapgl"
           }
          ],
          "histogram": [
           {
            "marker": {
             "pattern": {
              "fillmode": "overlay",
              "size": 10,
              "solidity": 0.2
             }
            },
            "type": "histogram"
           }
          ],
          "histogram2d": [
           {
            "colorbar": {
             "outlinewidth": 0,
             "ticks": ""
            },
            "colorscale": [
             [
              0,
              "#0d0887"
             ],
             [
              0.1111111111111111,
              "#46039f"
             ],
             [
              0.2222222222222222,
              "#7201a8"
             ],
             [
              0.3333333333333333,
              "#9c179e"
             ],
             [
              0.4444444444444444,
              "#bd3786"
             ],
             [
              0.5555555555555556,
              "#d8576b"
             ],
             [
              0.6666666666666666,
              "#ed7953"
             ],
             [
              0.7777777777777778,
              "#fb9f3a"
             ],
             [
              0.8888888888888888,
              "#fdca26"
             ],
             [
              1,
              "#f0f921"
             ]
            ],
            "type": "histogram2d"
           }
          ],
          "histogram2dcontour": [
           {
            "colorbar": {
             "outlinewidth": 0,
             "ticks": ""
            },
            "colorscale": [
             [
              0,
              "#0d0887"
             ],
             [
              0.1111111111111111,
              "#46039f"
             ],
             [
              0.2222222222222222,
              "#7201a8"
             ],
             [
              0.3333333333333333,
              "#9c179e"
             ],
             [
              0.4444444444444444,
              "#bd3786"
             ],
             [
              0.5555555555555556,
              "#d8576b"
             ],
             [
              0.6666666666666666,
              "#ed7953"
             ],
             [
              0.7777777777777778,
              "#fb9f3a"
             ],
             [
              0.8888888888888888,
              "#fdca26"
             ],
             [
              1,
              "#f0f921"
             ]
            ],
            "type": "histogram2dcontour"
           }
          ],
          "mesh3d": [
           {
            "colorbar": {
             "outlinewidth": 0,
             "ticks": ""
            },
            "type": "mesh3d"
           }
          ],
          "parcoords": [
           {
            "line": {
             "colorbar": {
              "outlinewidth": 0,
              "ticks": ""
             }
            },
            "type": "parcoords"
           }
          ],
          "pie": [
           {
            "automargin": true,
            "type": "pie"
           }
          ],
          "scatter": [
           {
            "marker": {
             "colorbar": {
              "outlinewidth": 0,
              "ticks": ""
             }
            },
            "type": "scatter"
           }
          ],
          "scatter3d": [
           {
            "line": {
             "colorbar": {
              "outlinewidth": 0,
              "ticks": ""
             }
            },
            "marker": {
             "colorbar": {
              "outlinewidth": 0,
              "ticks": ""
             }
            },
            "type": "scatter3d"
           }
          ],
          "scattercarpet": [
           {
            "marker": {
             "colorbar": {
              "outlinewidth": 0,
              "ticks": ""
             }
            },
            "type": "scattercarpet"
           }
          ],
          "scattergeo": [
           {
            "marker": {
             "colorbar": {
              "outlinewidth": 0,
              "ticks": ""
             }
            },
            "type": "scattergeo"
           }
          ],
          "scattergl": [
           {
            "marker": {
             "colorbar": {
              "outlinewidth": 0,
              "ticks": ""
             }
            },
            "type": "scattergl"
           }
          ],
          "scattermapbox": [
           {
            "marker": {
             "colorbar": {
              "outlinewidth": 0,
              "ticks": ""
             }
            },
            "type": "scattermapbox"
           }
          ],
          "scatterpolar": [
           {
            "marker": {
             "colorbar": {
              "outlinewidth": 0,
              "ticks": ""
             }
            },
            "type": "scatterpolar"
           }
          ],
          "scatterpolargl": [
           {
            "marker": {
             "colorbar": {
              "outlinewidth": 0,
              "ticks": ""
             }
            },
            "type": "scatterpolargl"
           }
          ],
          "scatterternary": [
           {
            "marker": {
             "colorbar": {
              "outlinewidth": 0,
              "ticks": ""
             }
            },
            "type": "scatterternary"
           }
          ],
          "surface": [
           {
            "colorbar": {
             "outlinewidth": 0,
             "ticks": ""
            },
            "colorscale": [
             [
              0,
              "#0d0887"
             ],
             [
              0.1111111111111111,
              "#46039f"
             ],
             [
              0.2222222222222222,
              "#7201a8"
             ],
             [
              0.3333333333333333,
              "#9c179e"
             ],
             [
              0.4444444444444444,
              "#bd3786"
             ],
             [
              0.5555555555555556,
              "#d8576b"
             ],
             [
              0.6666666666666666,
              "#ed7953"
             ],
             [
              0.7777777777777778,
              "#fb9f3a"
             ],
             [
              0.8888888888888888,
              "#fdca26"
             ],
             [
              1,
              "#f0f921"
             ]
            ],
            "type": "surface"
           }
          ],
          "table": [
           {
            "cells": {
             "fill": {
              "color": "#EBF0F8"
             },
             "line": {
              "color": "white"
             }
            },
            "header": {
             "fill": {
              "color": "#C8D4E3"
             },
             "line": {
              "color": "white"
             }
            },
            "type": "table"
           }
          ]
         },
         "layout": {
          "annotationdefaults": {
           "arrowcolor": "#2a3f5f",
           "arrowhead": 0,
           "arrowwidth": 1
          },
          "autotypenumbers": "strict",
          "coloraxis": {
           "colorbar": {
            "outlinewidth": 0,
            "ticks": ""
           }
          },
          "colorscale": {
           "diverging": [
            [
             0,
             "#8e0152"
            ],
            [
             0.1,
             "#c51b7d"
            ],
            [
             0.2,
             "#de77ae"
            ],
            [
             0.3,
             "#f1b6da"
            ],
            [
             0.4,
             "#fde0ef"
            ],
            [
             0.5,
             "#f7f7f7"
            ],
            [
             0.6,
             "#e6f5d0"
            ],
            [
             0.7,
             "#b8e186"
            ],
            [
             0.8,
             "#7fbc41"
            ],
            [
             0.9,
             "#4d9221"
            ],
            [
             1,
             "#276419"
            ]
           ],
           "sequential": [
            [
             0,
             "#0d0887"
            ],
            [
             0.1111111111111111,
             "#46039f"
            ],
            [
             0.2222222222222222,
             "#7201a8"
            ],
            [
             0.3333333333333333,
             "#9c179e"
            ],
            [
             0.4444444444444444,
             "#bd3786"
            ],
            [
             0.5555555555555556,
             "#d8576b"
            ],
            [
             0.6666666666666666,
             "#ed7953"
            ],
            [
             0.7777777777777778,
             "#fb9f3a"
            ],
            [
             0.8888888888888888,
             "#fdca26"
            ],
            [
             1,
             "#f0f921"
            ]
           ],
           "sequentialminus": [
            [
             0,
             "#0d0887"
            ],
            [
             0.1111111111111111,
             "#46039f"
            ],
            [
             0.2222222222222222,
             "#7201a8"
            ],
            [
             0.3333333333333333,
             "#9c179e"
            ],
            [
             0.4444444444444444,
             "#bd3786"
            ],
            [
             0.5555555555555556,
             "#d8576b"
            ],
            [
             0.6666666666666666,
             "#ed7953"
            ],
            [
             0.7777777777777778,
             "#fb9f3a"
            ],
            [
             0.8888888888888888,
             "#fdca26"
            ],
            [
             1,
             "#f0f921"
            ]
           ]
          },
          "colorway": [
           "#636efa",
           "#EF553B",
           "#00cc96",
           "#ab63fa",
           "#FFA15A",
           "#19d3f3",
           "#FF6692",
           "#B6E880",
           "#FF97FF",
           "#FECB52"
          ],
          "font": {
           "color": "#2a3f5f"
          },
          "geo": {
           "bgcolor": "white",
           "lakecolor": "white",
           "landcolor": "#E5ECF6",
           "showlakes": true,
           "showland": true,
           "subunitcolor": "white"
          },
          "hoverlabel": {
           "align": "left"
          },
          "hovermode": "closest",
          "mapbox": {
           "style": "light"
          },
          "paper_bgcolor": "white",
          "plot_bgcolor": "#E5ECF6",
          "polar": {
           "angularaxis": {
            "gridcolor": "white",
            "linecolor": "white",
            "ticks": ""
           },
           "bgcolor": "#E5ECF6",
           "radialaxis": {
            "gridcolor": "white",
            "linecolor": "white",
            "ticks": ""
           }
          },
          "scene": {
           "xaxis": {
            "backgroundcolor": "#E5ECF6",
            "gridcolor": "white",
            "gridwidth": 2,
            "linecolor": "white",
            "showbackground": true,
            "ticks": "",
            "zerolinecolor": "white"
           },
           "yaxis": {
            "backgroundcolor": "#E5ECF6",
            "gridcolor": "white",
            "gridwidth": 2,
            "linecolor": "white",
            "showbackground": true,
            "ticks": "",
            "zerolinecolor": "white"
           },
           "zaxis": {
            "backgroundcolor": "#E5ECF6",
            "gridcolor": "white",
            "gridwidth": 2,
            "linecolor": "white",
            "showbackground": true,
            "ticks": "",
            "zerolinecolor": "white"
           }
          },
          "shapedefaults": {
           "line": {
            "color": "#2a3f5f"
           }
          },
          "ternary": {
           "aaxis": {
            "gridcolor": "white",
            "linecolor": "white",
            "ticks": ""
           },
           "baxis": {
            "gridcolor": "white",
            "linecolor": "white",
            "ticks": ""
           },
           "bgcolor": "#E5ECF6",
           "caxis": {
            "gridcolor": "white",
            "linecolor": "white",
            "ticks": ""
           }
          },
          "title": {
           "x": 0.05
          },
          "xaxis": {
           "automargin": true,
           "gridcolor": "white",
           "linecolor": "white",
           "ticks": "",
           "title": {
            "standoff": 15
           },
           "zerolinecolor": "white",
           "zerolinewidth": 2
          },
          "yaxis": {
           "automargin": true,
           "gridcolor": "white",
           "linecolor": "white",
           "ticks": "",
           "title": {
            "standoff": 15
           },
           "zerolinecolor": "white",
           "zerolinewidth": 2
          }
         }
        },
        "treemapcolorway": [
         "rgb(102, 197, 204)",
         "rgb(246, 207, 113)",
         "rgb(248, 156, 116)",
         "rgb(220, 176, 242)",
         "rgb(135, 197, 95)",
         "rgb(158, 185, 243)",
         "rgb(254, 136, 177)",
         "rgb(201, 219, 116)",
         "rgb(139, 224, 164)",
         "rgb(180, 151, 231)",
         "rgb(179, 179, 179)"
        ]
       }
      }
     },
     "metadata": {},
     "output_type": "display_data"
    }
   ],
   "source": [
    "# Basic Overview of Data before data cleaning.\n",
    "# Doing it here because I added a nonetype later\n",
    "\n",
    "fig = px.treemap(unicorn_master,path= [\"Country\",\"Industry\", \"Company\"],\n",
    "            values=\"Valuation ($B)\", color_discrete_sequence=px.colors.qualitative.Pastel)\n",
    "\n",
    "fig.update_traces(root_color=\"lightgrey\")\n",
    "fig.update_layout(margin = dict(t=50, l=25, r=25, b=25))"
   ]
  },
  {
   "cell_type": "code",
   "execution_count": 6,
   "metadata": {
    "pycharm": {
     "name": "#%%\n"
    }
   },
   "outputs": [
    {
     "data": {
      "text/html": [
       "<div>\n",
       "<style scoped>\n",
       "    .dataframe tbody tr th:only-of-type {\n",
       "        vertical-align: middle;\n",
       "    }\n",
       "\n",
       "    .dataframe tbody tr th {\n",
       "        vertical-align: top;\n",
       "    }\n",
       "\n",
       "    .dataframe thead th {\n",
       "        text-align: right;\n",
       "    }\n",
       "</style>\n",
       "<table border=\"1\" class=\"dataframe\">\n",
       "  <thead>\n",
       "    <tr style=\"text-align: right;\">\n",
       "      <th></th>\n",
       "      <th>Company</th>\n",
       "      <th>Valuation ($B)</th>\n",
       "      <th>Date Joined</th>\n",
       "      <th>Country</th>\n",
       "      <th>City</th>\n",
       "      <th>Industry</th>\n",
       "      <th>Select Inverstors</th>\n",
       "      <th>Founded Year</th>\n",
       "      <th>Total Raised</th>\n",
       "      <th>Financial Stage</th>\n",
       "      <th>Investors Count</th>\n",
       "      <th>Deal Terms</th>\n",
       "      <th>Portfolio Exits</th>\n",
       "    </tr>\n",
       "  </thead>\n",
       "  <tbody>\n",
       "    <tr>\n",
       "      <th>0</th>\n",
       "      <td>Bytedance</td>\n",
       "      <td>140.0</td>\n",
       "      <td>4/7/2017</td>\n",
       "      <td>China</td>\n",
       "      <td>Beijing</td>\n",
       "      <td>Artificial intelligence</td>\n",
       "      <td>Sequoia Capital China, SIG Asia Investments, S...</td>\n",
       "      <td>2012</td>\n",
       "      <td>7.440</td>\n",
       "      <td>IPO</td>\n",
       "      <td>28</td>\n",
       "      <td>8</td>\n",
       "      <td>5</td>\n",
       "    </tr>\n",
       "    <tr>\n",
       "      <th>1</th>\n",
       "      <td>SpaceX</td>\n",
       "      <td>100.3</td>\n",
       "      <td>12/1/2012</td>\n",
       "      <td>United States</td>\n",
       "      <td>Hawthorne</td>\n",
       "      <td>Other</td>\n",
       "      <td>Founders Fund, Draper Fisher Jurvetson, Rothen...</td>\n",
       "      <td>2002</td>\n",
       "      <td>6.874</td>\n",
       "      <td>None</td>\n",
       "      <td>29</td>\n",
       "      <td>12</td>\n",
       "      <td>None</td>\n",
       "    </tr>\n",
       "    <tr>\n",
       "      <th>2</th>\n",
       "      <td>Stripe</td>\n",
       "      <td>95.0</td>\n",
       "      <td>1/23/2014</td>\n",
       "      <td>United States</td>\n",
       "      <td>San Francisco</td>\n",
       "      <td>Fintech</td>\n",
       "      <td>Khosla Ventures, LowercaseCapital, capitalG</td>\n",
       "      <td>2010</td>\n",
       "      <td>2.901</td>\n",
       "      <td>Asset</td>\n",
       "      <td>39</td>\n",
       "      <td>12</td>\n",
       "      <td>1</td>\n",
       "    </tr>\n",
       "    <tr>\n",
       "      <th>3</th>\n",
       "      <td>Klarna</td>\n",
       "      <td>45.6</td>\n",
       "      <td>12/12/2011</td>\n",
       "      <td>Sweden</td>\n",
       "      <td>Stockholm</td>\n",
       "      <td>Fintech</td>\n",
       "      <td>Institutional Venture Partners, Sequoia Capita...</td>\n",
       "      <td>2005</td>\n",
       "      <td>3.472</td>\n",
       "      <td>Acquired</td>\n",
       "      <td>56</td>\n",
       "      <td>13</td>\n",
       "      <td>1</td>\n",
       "    </tr>\n",
       "    <tr>\n",
       "      <th>4</th>\n",
       "      <td>Epic Games</td>\n",
       "      <td>42.0</td>\n",
       "      <td>10/26/2018</td>\n",
       "      <td>United States</td>\n",
       "      <td>Cary</td>\n",
       "      <td>Other</td>\n",
       "      <td>Tencent Holdings, KKR, Smash Ventures</td>\n",
       "      <td>1991</td>\n",
       "      <td>4.377</td>\n",
       "      <td>Acquired</td>\n",
       "      <td>25</td>\n",
       "      <td>5</td>\n",
       "      <td>2</td>\n",
       "    </tr>\n",
       "  </tbody>\n",
       "</table>\n",
       "</div>"
      ],
      "text/plain": [
       "      Company  Valuation ($B) Date Joined        Country           City  \\\n",
       "0   Bytedance           140.0    4/7/2017          China        Beijing   \n",
       "1      SpaceX           100.3   12/1/2012  United States      Hawthorne   \n",
       "2      Stripe            95.0   1/23/2014  United States  San Francisco   \n",
       "3      Klarna            45.6  12/12/2011         Sweden      Stockholm   \n",
       "4  Epic Games            42.0  10/26/2018  United States           Cary   \n",
       "\n",
       "                  Industry                                  Select Inverstors  \\\n",
       "0  Artificial intelligence  Sequoia Capital China, SIG Asia Investments, S...   \n",
       "1                    Other  Founders Fund, Draper Fisher Jurvetson, Rothen...   \n",
       "2                  Fintech        Khosla Ventures, LowercaseCapital, capitalG   \n",
       "3                  Fintech  Institutional Venture Partners, Sequoia Capita...   \n",
       "4                    Other              Tencent Holdings, KKR, Smash Ventures   \n",
       "\n",
       "  Founded Year  Total Raised Financial Stage Investors Count Deal Terms  \\\n",
       "0         2012         7.440             IPO              28          8   \n",
       "1         2002         6.874            None              29         12   \n",
       "2         2010         2.901           Asset              39         12   \n",
       "3         2005         3.472        Acquired              56         13   \n",
       "4         1991         4.377        Acquired              25          5   \n",
       "\n",
       "  Portfolio Exits  \n",
       "0               5  \n",
       "1            None  \n",
       "2               1  \n",
       "3               1  \n",
       "4               2  "
      ]
     },
     "execution_count": 6,
     "metadata": {},
     "output_type": "execute_result"
    }
   ],
   "source": [
    "# Converting Total Raised\n",
    "\n",
    "# new column to separate billions, mil and thousands.\n",
    "unicorn_master[\"Total Raised Unit\"] = unicorn_master[\"Total Raised\"].str[-1]\n",
    "unicorn_master[\"Total Raised\"] = unicorn_master[\"Total Raised\"].replace({\"\\$\": \"\", \"B$\": \"\", \"M$\": \"\", \n",
    "                \"None\": np.nan, \"K$\": \"\"}, regex=True)\n",
    "unicorn_master[\"Total Raised\"] = unicorn_master[\"Total Raised\"].astype(float)\n",
    "\n",
    "# used a loop here (might be a better way to do it)\n",
    "for raised, row in unicorn_master.iterrows():\n",
    "    if row[\"Total Raised Unit\"] == \"B\":\n",
    "        unicorn_master.loc[raised, \"Total Raised\"] = row[\"Total Raised\"] * 1000000000\n",
    "    elif row[\"Total Raised Unit\"] == \"M\":\n",
    "        unicorn_master.loc[raised, \"Total Raised\"] = row[\"Total Raised\"] * 1000000\n",
    "    elif row[\"Total Raised Unit\"] == \"K\":\n",
    "        unicorn_master.loc[raised, \"Total Raised\"] = row[\"Total Raised\"] * 1000\n",
    "\n",
    "# remove added column, add total raised column\n",
    "# divide by 1 bil to match it to valuation column\n",
    "unicorn_master = unicorn_master.drop(\"Total Raised Unit\", axis=1)\n",
    "unicorn_master[\"Total Raised\"] = unicorn_master[\"Total Raised\"].values/1000000000\n",
    "unicorn_master.head()\n"
   ]
  },
  {
   "cell_type": "code",
   "execution_count": 7,
   "metadata": {
    "pycharm": {
     "name": "#%%\n"
    }
   },
   "outputs": [],
   "source": [
    "# Convert Dates for \"Joining\" and \"Date Founded\"\n",
    "\n",
    "unicorn_master[\"Date Joined\"] = pd.to_datetime(unicorn_master[\"Date Joined\"])\n",
    "unicorn_master[unicorn_master[\"Founded Year\"] == \"None\"] = None\n",
    "unicorn_master[\"Founded Year\"] = pd.to_datetime(unicorn_master[\"Founded Year\"])"
   ]
  },
  {
   "cell_type": "code",
   "execution_count": 8,
   "metadata": {
    "pycharm": {
     "name": "#%%\n"
    }
   },
   "outputs": [],
   "source": [
    "# Converting Number of Investors from Object to float\n",
    "unicorn_master['Investors Count'] = unicorn_master['Investors Count'].replace({'None': '0'}, regex=True)\n",
    "unicorn_master['Investors Count'] = unicorn_master['Investors Count'].astype(float)"
   ]
  },
  {
   "cell_type": "code",
   "execution_count": 9,
   "metadata": {
    "pycharm": {
     "name": "#%%\n"
    }
   },
   "outputs": [
    {
     "name": "stdout",
     "output_type": "stream",
     "text": [
      "True\n",
      "True\n"
     ]
    }
   ],
   "source": [
    "# Duplicates and NAN values check\n",
    "print(unicorn_master.isna().values.any())\n",
    "print(unicorn_master.duplicated().values.any())\n",
    "\n",
    "# couldn't find duplicates so didn't drop them yet.\n"
   ]
  },
  {
   "cell_type": "code",
   "execution_count": 10,
   "metadata": {
    "pycharm": {
     "name": "#%%\n"
    }
   },
   "outputs": [
    {
     "name": "stderr",
     "output_type": "stream",
     "text": [
      "/var/folders/96/xt6vg1d14yn8wz_b2vvjzwb00000gn/T/ipykernel_32856/736549190.py:4: SettingWithCopyWarning:\n",
      "\n",
      "\n",
      "A value is trying to be set on a copy of a slice from a DataFrame.\n",
      "Try using .loc[row_indexer,col_indexer] = value instead\n",
      "\n",
      "See the caveats in the documentation: https://pandas.pydata.org/pandas-docs/stable/user_guide/indexing.html#returning-a-view-versus-a-copy\n",
      "\n"
     ]
    }
   ],
   "source": [
    "# Financial Stage comparison wrt Valuation,\n",
    "# Dropped \"none\" values here, so only companies with valid financial stage are shown.\n",
    "Financial_St = unicorn_master[unicorn_master[\"Financial Stage\"] != \"None\"]\n",
    "Financial_St[\"Financial Stage\"] = Financial_St['Financial Stage'].replace({\"Acq\": \"Acquired\"})\n",
    "Financial_St = Financial_St.dropna()"
   ]
  },
  {
   "cell_type": "code",
   "execution_count": 15,
   "metadata": {
    "pycharm": {
     "name": "#%%\n"
    }
   },
   "outputs": [
    {
     "data": {
      "application/vnd.plotly.v1+json": {
       "config": {
        "plotlyServerURL": "https://plot.ly"
       },
       "data": [
        {
         "alignmentgroup": "True",
         "hovertemplate": "Country=China<br>Financial Stage=%{x}<br>Valuation ($B)=%{y}<extra></extra>",
         "legendgroup": "China",
         "marker": {
          "color": "rgb(102, 197, 204)",
          "pattern": {
           "shape": ""
          }
         },
         "name": "China",
         "offsetgroup": "China",
         "orientation": "v",
         "showlegend": true,
         "textposition": "auto",
         "type": "bar",
         "x": [
          "IPO",
          "Acquired",
          "IPO",
          "IPO",
          "IPO",
          "IPO",
          "IPO",
          "Divestiture",
          "Acquired",
          "Acquired",
          "Corporate"
         ],
         "xaxis": "x",
         "y": [
          140,
          15.5,
          5.78,
          5.77,
          4.58,
          4.58,
          2,
          2.17,
          1.5,
          1,
          1
         ],
         "yaxis": "y"
        },
        {
         "alignmentgroup": "True",
         "hovertemplate": "Country=United States<br>Financial Stage=%{x}<br>Valuation ($B)=%{y}<extra></extra>",
         "legendgroup": "United States",
         "marker": {
          "color": "rgb(246, 207, 113)",
          "pattern": {
           "shape": ""
          }
         },
         "name": "United States",
         "offsetgroup": "United States",
         "orientation": "v",
         "showlegend": true,
         "textposition": "auto",
         "type": "bar",
         "x": [
          "Asset",
          "Acquired",
          "Divestiture",
          "Acquired",
          "Acquired",
          "Acquired",
          "Acquired",
          "Acquired",
          "Acquired",
          "Acquired",
          "Divestiture",
          "Acquired",
          "Divestiture",
          "Reverse",
          "Acquired",
          "Acquired"
         ],
         "xaxis": "x",
         "y": [
          95,
          42,
          25,
          15,
          10,
          10,
          10,
          7.4,
          5.7,
          4,
          4,
          3.3,
          3,
          1.7,
          1.1,
          1.1
         ],
         "yaxis": "y"
        },
        {
         "alignmentgroup": "True",
         "hovertemplate": "Country=Sweden<br>Financial Stage=%{x}<br>Valuation ($B)=%{y}<extra></extra>",
         "legendgroup": "Sweden",
         "marker": {
          "color": "rgb(248, 156, 116)",
          "pattern": {
           "shape": ""
          }
         },
         "name": "Sweden",
         "offsetgroup": "Sweden",
         "orientation": "v",
         "showlegend": true,
         "textposition": "auto",
         "type": "bar",
         "x": [
          "Acquired"
         ],
         "xaxis": "x",
         "y": [
          45.6
         ],
         "yaxis": "y"
        },
        {
         "alignmentgroup": "True",
         "hovertemplate": "Country=Bahamas<br>Financial Stage=%{x}<br>Valuation ($B)=%{y}<extra></extra>",
         "legendgroup": "Bahamas",
         "marker": {
          "color": "rgb(220, 176, 242)",
          "pattern": {
           "shape": ""
          }
         },
         "name": "Bahamas",
         "offsetgroup": "Bahamas",
         "orientation": "v",
         "showlegend": true,
         "textposition": "auto",
         "type": "bar",
         "x": [
          "Acquired"
         ],
         "xaxis": "x",
         "y": [
          32
         ],
         "yaxis": "y"
        },
        {
         "alignmentgroup": "True",
         "hovertemplate": "Country=India<br>Financial Stage=%{x}<br>Valuation ($B)=%{y}<extra></extra>",
         "legendgroup": "India",
         "marker": {
          "color": "rgb(135, 197, 95)",
          "pattern": {
           "shape": ""
          }
         },
         "name": "India",
         "offsetgroup": "India",
         "orientation": "v",
         "showlegend": true,
         "textposition": "auto",
         "type": "bar",
         "x": [
          "Acquired",
          "IPO",
          "Acquired",
          "Divestiture"
         ],
         "xaxis": "x",
         "y": [
          10.7,
          6.5,
          2.5,
          1
         ],
         "yaxis": "y"
        },
        {
         "alignmentgroup": "True",
         "hovertemplate": "Country=United Kingdom<br>Financial Stage=%{x}<br>Valuation ($B)=%{y}<extra></extra>",
         "legendgroup": "United Kingdom",
         "marker": {
          "color": "rgb(158, 185, 243)",
          "pattern": {
           "shape": ""
          }
         },
         "name": "United Kingdom",
         "offsetgroup": "United Kingdom",
         "orientation": "v",
         "showlegend": true,
         "textposition": "auto",
         "type": "bar",
         "x": [
          "Acquired",
          "Take",
          "Acquired",
          "Management",
          "Divestiture",
          "Acquired"
         ],
         "xaxis": "x",
         "y": [
          5.2,
          5,
          5,
          4,
          3,
          1
         ],
         "yaxis": "y"
        },
        {
         "alignmentgroup": "True",
         "hovertemplate": "Country=Israel<br>Financial Stage=%{x}<br>Valuation ($B)=%{y}<extra></extra>",
         "legendgroup": "Israel",
         "marker": {
          "color": "rgb(254, 136, 177)",
          "pattern": {
           "shape": ""
          }
         },
         "name": "Israel",
         "offsetgroup": "Israel",
         "orientation": "v",
         "showlegend": true,
         "textposition": "auto",
         "type": "bar",
         "x": [
          "Acquired"
         ],
         "xaxis": "x",
         "y": [
          5
         ],
         "yaxis": "y"
        },
        {
         "alignmentgroup": "True",
         "hovertemplate": "Country=Brazil<br>Financial Stage=%{x}<br>Valuation ($B)=%{y}<extra></extra>",
         "legendgroup": "Brazil",
         "marker": {
          "color": "rgb(201, 219, 116)",
          "pattern": {
           "shape": ""
          }
         },
         "name": "Brazil",
         "offsetgroup": "Brazil",
         "orientation": "v",
         "showlegend": true,
         "textposition": "auto",
         "type": "bar",
         "x": [
          "Acquired",
          "Acquired"
         ],
         "xaxis": "x",
         "y": [
          4.8,
          1
         ],
         "yaxis": "y"
        },
        {
         "alignmentgroup": "True",
         "hovertemplate": "Country=South Korea<br>Financial Stage=%{x}<br>Valuation ($B)=%{y}<extra></extra>",
         "legendgroup": "South Korea",
         "marker": {
          "color": "rgb(139, 224, 164)",
          "pattern": {
           "shape": ""
          }
         },
         "name": "South Korea",
         "offsetgroup": "South Korea",
         "orientation": "v",
         "showlegend": true,
         "textposition": "auto",
         "type": "bar",
         "x": [
          "Divestiture"
         ],
         "xaxis": "x",
         "y": [
          4
         ],
         "yaxis": "y"
        },
        {
         "alignmentgroup": "True",
         "hovertemplate": "Country=Indonesia<br>Financial Stage=%{x}<br>Valuation ($B)=%{y}<extra></extra>",
         "legendgroup": "Indonesia",
         "marker": {
          "color": "rgb(180, 151, 231)",
          "pattern": {
           "shape": ""
          }
         },
         "name": "Indonesia",
         "offsetgroup": "Indonesia",
         "orientation": "v",
         "showlegend": true,
         "textposition": "auto",
         "type": "bar",
         "x": [
          "Acquired"
         ],
         "xaxis": "x",
         "y": [
          2.9
         ],
         "yaxis": "y"
        },
        {
         "alignmentgroup": "True",
         "hovertemplate": "Country=Germany<br>Financial Stage=%{x}<br>Valuation ($B)=%{y}<extra></extra>",
         "legendgroup": "Germany",
         "marker": {
          "color": "rgb(179, 179, 179)",
          "pattern": {
           "shape": ""
          }
         },
         "name": "Germany",
         "offsetgroup": "Germany",
         "orientation": "v",
         "showlegend": true,
         "textposition": "auto",
         "type": "bar",
         "x": [
          "Divestiture"
         ],
         "xaxis": "x",
         "y": [
          1.65
         ],
         "yaxis": "y"
        },
        {
         "alignmentgroup": "True",
         "hovertemplate": "Country=France<br>Financial Stage=%{x}<br>Valuation ($B)=%{y}<extra></extra>",
         "legendgroup": "France",
         "marker": {
          "color": "rgb(102, 197, 204)",
          "pattern": {
           "shape": ""
          }
         },
         "name": "France",
         "offsetgroup": "France",
         "orientation": "v",
         "showlegend": true,
         "textposition": "auto",
         "type": "bar",
         "x": [
          "Acquired"
         ],
         "xaxis": "x",
         "y": [
          1.4
         ],
         "yaxis": "y"
        },
        {
         "alignmentgroup": "True",
         "hovertemplate": "Country=Netherlands<br>Financial Stage=%{x}<br>Valuation ($B)=%{y}<extra></extra>",
         "legendgroup": "Netherlands",
         "marker": {
          "color": "rgb(246, 207, 113)",
          "pattern": {
           "shape": ""
          }
         },
         "name": "Netherlands",
         "offsetgroup": "Netherlands",
         "orientation": "v",
         "showlegend": true,
         "textposition": "auto",
         "type": "bar",
         "x": [
          "Acquired",
          "Acquired"
         ],
         "xaxis": "x",
         "y": [
          1,
          1
         ],
         "yaxis": "y"
        }
       ],
       "layout": {
        "barmode": "relative",
        "legend": {
         "title": {
          "text": "Country"
         },
         "tracegroupgap": 0
        },
        "margin": {
         "t": 60
        },
        "template": {
         "data": {
          "bar": [
           {
            "error_x": {
             "color": "#2a3f5f"
            },
            "error_y": {
             "color": "#2a3f5f"
            },
            "marker": {
             "line": {
              "color": "#E5ECF6",
              "width": 0.5
             },
             "pattern": {
              "fillmode": "overlay",
              "size": 10,
              "solidity": 0.2
             }
            },
            "type": "bar"
           }
          ],
          "barpolar": [
           {
            "marker": {
             "line": {
              "color": "#E5ECF6",
              "width": 0.5
             },
             "pattern": {
              "fillmode": "overlay",
              "size": 10,
              "solidity": 0.2
             }
            },
            "type": "barpolar"
           }
          ],
          "carpet": [
           {
            "aaxis": {
             "endlinecolor": "#2a3f5f",
             "gridcolor": "white",
             "linecolor": "white",
             "minorgridcolor": "white",
             "startlinecolor": "#2a3f5f"
            },
            "baxis": {
             "endlinecolor": "#2a3f5f",
             "gridcolor": "white",
             "linecolor": "white",
             "minorgridcolor": "white",
             "startlinecolor": "#2a3f5f"
            },
            "type": "carpet"
           }
          ],
          "choropleth": [
           {
            "colorbar": {
             "outlinewidth": 0,
             "ticks": ""
            },
            "type": "choropleth"
           }
          ],
          "contour": [
           {
            "colorbar": {
             "outlinewidth": 0,
             "ticks": ""
            },
            "colorscale": [
             [
              0,
              "#0d0887"
             ],
             [
              0.1111111111111111,
              "#46039f"
             ],
             [
              0.2222222222222222,
              "#7201a8"
             ],
             [
              0.3333333333333333,
              "#9c179e"
             ],
             [
              0.4444444444444444,
              "#bd3786"
             ],
             [
              0.5555555555555556,
              "#d8576b"
             ],
             [
              0.6666666666666666,
              "#ed7953"
             ],
             [
              0.7777777777777778,
              "#fb9f3a"
             ],
             [
              0.8888888888888888,
              "#fdca26"
             ],
             [
              1,
              "#f0f921"
             ]
            ],
            "type": "contour"
           }
          ],
          "contourcarpet": [
           {
            "colorbar": {
             "outlinewidth": 0,
             "ticks": ""
            },
            "type": "contourcarpet"
           }
          ],
          "heatmap": [
           {
            "colorbar": {
             "outlinewidth": 0,
             "ticks": ""
            },
            "colorscale": [
             [
              0,
              "#0d0887"
             ],
             [
              0.1111111111111111,
              "#46039f"
             ],
             [
              0.2222222222222222,
              "#7201a8"
             ],
             [
              0.3333333333333333,
              "#9c179e"
             ],
             [
              0.4444444444444444,
              "#bd3786"
             ],
             [
              0.5555555555555556,
              "#d8576b"
             ],
             [
              0.6666666666666666,
              "#ed7953"
             ],
             [
              0.7777777777777778,
              "#fb9f3a"
             ],
             [
              0.8888888888888888,
              "#fdca26"
             ],
             [
              1,
              "#f0f921"
             ]
            ],
            "type": "heatmap"
           }
          ],
          "heatmapgl": [
           {
            "colorbar": {
             "outlinewidth": 0,
             "ticks": ""
            },
            "colorscale": [
             [
              0,
              "#0d0887"
             ],
             [
              0.1111111111111111,
              "#46039f"
             ],
             [
              0.2222222222222222,
              "#7201a8"
             ],
             [
              0.3333333333333333,
              "#9c179e"
             ],
             [
              0.4444444444444444,
              "#bd3786"
             ],
             [
              0.5555555555555556,
              "#d8576b"
             ],
             [
              0.6666666666666666,
              "#ed7953"
             ],
             [
              0.7777777777777778,
              "#fb9f3a"
             ],
             [
              0.8888888888888888,
              "#fdca26"
             ],
             [
              1,
              "#f0f921"
             ]
            ],
            "type": "heatmapgl"
           }
          ],
          "histogram": [
           {
            "marker": {
             "pattern": {
              "fillmode": "overlay",
              "size": 10,
              "solidity": 0.2
             }
            },
            "type": "histogram"
           }
          ],
          "histogram2d": [
           {
            "colorbar": {
             "outlinewidth": 0,
             "ticks": ""
            },
            "colorscale": [
             [
              0,
              "#0d0887"
             ],
             [
              0.1111111111111111,
              "#46039f"
             ],
             [
              0.2222222222222222,
              "#7201a8"
             ],
             [
              0.3333333333333333,
              "#9c179e"
             ],
             [
              0.4444444444444444,
              "#bd3786"
             ],
             [
              0.5555555555555556,
              "#d8576b"
             ],
             [
              0.6666666666666666,
              "#ed7953"
             ],
             [
              0.7777777777777778,
              "#fb9f3a"
             ],
             [
              0.8888888888888888,
              "#fdca26"
             ],
             [
              1,
              "#f0f921"
             ]
            ],
            "type": "histogram2d"
           }
          ],
          "histogram2dcontour": [
           {
            "colorbar": {
             "outlinewidth": 0,
             "ticks": ""
            },
            "colorscale": [
             [
              0,
              "#0d0887"
             ],
             [
              0.1111111111111111,
              "#46039f"
             ],
             [
              0.2222222222222222,
              "#7201a8"
             ],
             [
              0.3333333333333333,
              "#9c179e"
             ],
             [
              0.4444444444444444,
              "#bd3786"
             ],
             [
              0.5555555555555556,
              "#d8576b"
             ],
             [
              0.6666666666666666,
              "#ed7953"
             ],
             [
              0.7777777777777778,
              "#fb9f3a"
             ],
             [
              0.8888888888888888,
              "#fdca26"
             ],
             [
              1,
              "#f0f921"
             ]
            ],
            "type": "histogram2dcontour"
           }
          ],
          "mesh3d": [
           {
            "colorbar": {
             "outlinewidth": 0,
             "ticks": ""
            },
            "type": "mesh3d"
           }
          ],
          "parcoords": [
           {
            "line": {
             "colorbar": {
              "outlinewidth": 0,
              "ticks": ""
             }
            },
            "type": "parcoords"
           }
          ],
          "pie": [
           {
            "automargin": true,
            "type": "pie"
           }
          ],
          "scatter": [
           {
            "marker": {
             "colorbar": {
              "outlinewidth": 0,
              "ticks": ""
             }
            },
            "type": "scatter"
           }
          ],
          "scatter3d": [
           {
            "line": {
             "colorbar": {
              "outlinewidth": 0,
              "ticks": ""
             }
            },
            "marker": {
             "colorbar": {
              "outlinewidth": 0,
              "ticks": ""
             }
            },
            "type": "scatter3d"
           }
          ],
          "scattercarpet": [
           {
            "marker": {
             "colorbar": {
              "outlinewidth": 0,
              "ticks": ""
             }
            },
            "type": "scattercarpet"
           }
          ],
          "scattergeo": [
           {
            "marker": {
             "colorbar": {
              "outlinewidth": 0,
              "ticks": ""
             }
            },
            "type": "scattergeo"
           }
          ],
          "scattergl": [
           {
            "marker": {
             "colorbar": {
              "outlinewidth": 0,
              "ticks": ""
             }
            },
            "type": "scattergl"
           }
          ],
          "scattermapbox": [
           {
            "marker": {
             "colorbar": {
              "outlinewidth": 0,
              "ticks": ""
             }
            },
            "type": "scattermapbox"
           }
          ],
          "scatterpolar": [
           {
            "marker": {
             "colorbar": {
              "outlinewidth": 0,
              "ticks": ""
             }
            },
            "type": "scatterpolar"
           }
          ],
          "scatterpolargl": [
           {
            "marker": {
             "colorbar": {
              "outlinewidth": 0,
              "ticks": ""
             }
            },
            "type": "scatterpolargl"
           }
          ],
          "scatterternary": [
           {
            "marker": {
             "colorbar": {
              "outlinewidth": 0,
              "ticks": ""
             }
            },
            "type": "scatterternary"
           }
          ],
          "surface": [
           {
            "colorbar": {
             "outlinewidth": 0,
             "ticks": ""
            },
            "colorscale": [
             [
              0,
              "#0d0887"
             ],
             [
              0.1111111111111111,
              "#46039f"
             ],
             [
              0.2222222222222222,
              "#7201a8"
             ],
             [
              0.3333333333333333,
              "#9c179e"
             ],
             [
              0.4444444444444444,
              "#bd3786"
             ],
             [
              0.5555555555555556,
              "#d8576b"
             ],
             [
              0.6666666666666666,
              "#ed7953"
             ],
             [
              0.7777777777777778,
              "#fb9f3a"
             ],
             [
              0.8888888888888888,
              "#fdca26"
             ],
             [
              1,
              "#f0f921"
             ]
            ],
            "type": "surface"
           }
          ],
          "table": [
           {
            "cells": {
             "fill": {
              "color": "#EBF0F8"
             },
             "line": {
              "color": "white"
             }
            },
            "header": {
             "fill": {
              "color": "#C8D4E3"
             },
             "line": {
              "color": "white"
             }
            },
            "type": "table"
           }
          ]
         },
         "layout": {
          "annotationdefaults": {
           "arrowcolor": "#2a3f5f",
           "arrowhead": 0,
           "arrowwidth": 1
          },
          "autotypenumbers": "strict",
          "coloraxis": {
           "colorbar": {
            "outlinewidth": 0,
            "ticks": ""
           }
          },
          "colorscale": {
           "diverging": [
            [
             0,
             "#8e0152"
            ],
            [
             0.1,
             "#c51b7d"
            ],
            [
             0.2,
             "#de77ae"
            ],
            [
             0.3,
             "#f1b6da"
            ],
            [
             0.4,
             "#fde0ef"
            ],
            [
             0.5,
             "#f7f7f7"
            ],
            [
             0.6,
             "#e6f5d0"
            ],
            [
             0.7,
             "#b8e186"
            ],
            [
             0.8,
             "#7fbc41"
            ],
            [
             0.9,
             "#4d9221"
            ],
            [
             1,
             "#276419"
            ]
           ],
           "sequential": [
            [
             0,
             "#0d0887"
            ],
            [
             0.1111111111111111,
             "#46039f"
            ],
            [
             0.2222222222222222,
             "#7201a8"
            ],
            [
             0.3333333333333333,
             "#9c179e"
            ],
            [
             0.4444444444444444,
             "#bd3786"
            ],
            [
             0.5555555555555556,
             "#d8576b"
            ],
            [
             0.6666666666666666,
             "#ed7953"
            ],
            [
             0.7777777777777778,
             "#fb9f3a"
            ],
            [
             0.8888888888888888,
             "#fdca26"
            ],
            [
             1,
             "#f0f921"
            ]
           ],
           "sequentialminus": [
            [
             0,
             "#0d0887"
            ],
            [
             0.1111111111111111,
             "#46039f"
            ],
            [
             0.2222222222222222,
             "#7201a8"
            ],
            [
             0.3333333333333333,
             "#9c179e"
            ],
            [
             0.4444444444444444,
             "#bd3786"
            ],
            [
             0.5555555555555556,
             "#d8576b"
            ],
            [
             0.6666666666666666,
             "#ed7953"
            ],
            [
             0.7777777777777778,
             "#fb9f3a"
            ],
            [
             0.8888888888888888,
             "#fdca26"
            ],
            [
             1,
             "#f0f921"
            ]
           ]
          },
          "colorway": [
           "#636efa",
           "#EF553B",
           "#00cc96",
           "#ab63fa",
           "#FFA15A",
           "#19d3f3",
           "#FF6692",
           "#B6E880",
           "#FF97FF",
           "#FECB52"
          ],
          "font": {
           "color": "#2a3f5f"
          },
          "geo": {
           "bgcolor": "white",
           "lakecolor": "white",
           "landcolor": "#E5ECF6",
           "showlakes": true,
           "showland": true,
           "subunitcolor": "white"
          },
          "hoverlabel": {
           "align": "left"
          },
          "hovermode": "closest",
          "mapbox": {
           "style": "light"
          },
          "paper_bgcolor": "white",
          "plot_bgcolor": "#E5ECF6",
          "polar": {
           "angularaxis": {
            "gridcolor": "white",
            "linecolor": "white",
            "ticks": ""
           },
           "bgcolor": "#E5ECF6",
           "radialaxis": {
            "gridcolor": "white",
            "linecolor": "white",
            "ticks": ""
           }
          },
          "scene": {
           "xaxis": {
            "backgroundcolor": "#E5ECF6",
            "gridcolor": "white",
            "gridwidth": 2,
            "linecolor": "white",
            "showbackground": true,
            "ticks": "",
            "zerolinecolor": "white"
           },
           "yaxis": {
            "backgroundcolor": "#E5ECF6",
            "gridcolor": "white",
            "gridwidth": 2,
            "linecolor": "white",
            "showbackground": true,
            "ticks": "",
            "zerolinecolor": "white"
           },
           "zaxis": {
            "backgroundcolor": "#E5ECF6",
            "gridcolor": "white",
            "gridwidth": 2,
            "linecolor": "white",
            "showbackground": true,
            "ticks": "",
            "zerolinecolor": "white"
           }
          },
          "shapedefaults": {
           "line": {
            "color": "#2a3f5f"
           }
          },
          "ternary": {
           "aaxis": {
            "gridcolor": "white",
            "linecolor": "white",
            "ticks": ""
           },
           "baxis": {
            "gridcolor": "white",
            "linecolor": "white",
            "ticks": ""
           },
           "bgcolor": "#E5ECF6",
           "caxis": {
            "gridcolor": "white",
            "linecolor": "white",
            "ticks": ""
           }
          },
          "title": {
           "x": 0.05
          },
          "xaxis": {
           "automargin": true,
           "gridcolor": "white",
           "linecolor": "white",
           "ticks": "",
           "title": {
            "standoff": 15
           },
           "zerolinecolor": "white",
           "zerolinewidth": 2
          },
          "yaxis": {
           "automargin": true,
           "gridcolor": "white",
           "linecolor": "white",
           "ticks": "",
           "title": {
            "standoff": 15
           },
           "zerolinecolor": "white",
           "zerolinewidth": 2
          }
         }
        },
        "xaxis": {
         "anchor": "y",
         "domain": [
          0,
          1
         ],
         "title": {
          "text": "Financial Stage"
         }
        },
        "yaxis": {
         "anchor": "x",
         "domain": [
          0,
          1
         ],
         "title": {
          "text": "Valuation ($B)"
         }
        }
       }
      }
     },
     "metadata": {},
     "output_type": "display_data"
    }
   ],
   "source": [
    "fig = px.bar(data_frame=Financial_St, x=\"Financial Stage\", y=\"Valuation ($B)\", color=\"Country\", color_discrete_sequence=px.colors.qualitative.Pastel)\n",
    "fig.show()"
   ]
  },
  {
   "cell_type": "code",
   "execution_count": 16,
   "metadata": {
    "pycharm": {
     "name": "#%%\n"
    }
   },
   "outputs": [
    {
     "data": {
      "application/vnd.plotly.v1+json": {
       "config": {
        "plotlyServerURL": "https://plot.ly"
       },
       "data": [
        {
         "alignmentgroup": "True",
         "hovertemplate": "Country=China<br>Industry=Artificial intelligence<br>Financial Stage=%{x}<br>Valuation ($B)=%{y}<extra></extra>",
         "legendgroup": "China",
         "marker": {
          "color": "rgb(102, 197, 204)",
          "pattern": {
           "shape": ""
          }
         },
         "name": "China",
         "offsetgroup": "China",
         "orientation": "v",
         "showlegend": true,
         "textposition": "auto",
         "type": "bar",
         "x": [
          "IPO",
          "Divestiture",
          "Acquired"
         ],
         "xaxis": "x13",
         "y": [
          140,
          2.17,
          1
         ],
         "yaxis": "y13"
        },
        {
         "alignmentgroup": "True",
         "hovertemplate": "Country=China<br>Industry=Edtech<br>Financial Stage=%{x}<br>Valuation ($B)=%{y}<extra></extra>",
         "legendgroup": "China",
         "marker": {
          "color": "rgb(102, 197, 204)",
          "pattern": {
           "shape": ""
          }
         },
         "name": "China",
         "offsetgroup": "China",
         "orientation": "v",
         "showlegend": false,
         "textposition": "auto",
         "type": "bar",
         "x": [
          "Acquired"
         ],
         "xaxis": "x11",
         "y": [
          15.5
         ],
         "yaxis": "y11"
        },
        {
         "alignmentgroup": "True",
         "hovertemplate": "Country=China<br>Industry=Internet software & services<br>Financial Stage=%{x}<br>Valuation ($B)=%{y}<extra></extra>",
         "legendgroup": "China",
         "marker": {
          "color": "rgb(102, 197, 204)",
          "pattern": {
           "shape": ""
          }
         },
         "name": "China",
         "offsetgroup": "China",
         "orientation": "v",
         "showlegend": false,
         "textposition": "auto",
         "type": "bar",
         "x": [
          "IPO"
         ],
         "xaxis": "x7",
         "y": [
          2
         ],
         "yaxis": "y7"
        },
        {
         "alignmentgroup": "True",
         "hovertemplate": "Country=China<br>Industry=Consumer & retail<br>Financial Stage=%{x}<br>Valuation ($B)=%{y}<extra></extra>",
         "legendgroup": "China",
         "marker": {
          "color": "rgb(102, 197, 204)",
          "pattern": {
           "shape": ""
          }
         },
         "name": "China",
         "offsetgroup": "China",
         "orientation": "v",
         "showlegend": false,
         "textposition": "auto",
         "type": "bar",
         "x": [
          "IPO"
         ],
         "xaxis": "x9",
         "y": [
          5.78
         ],
         "yaxis": "y9"
        },
        {
         "alignmentgroup": "True",
         "hovertemplate": "Country=China<br>Industry=E-commerce & direct-to-consumer<br>Financial Stage=%{x}<br>Valuation ($B)=%{y}<extra></extra>",
         "legendgroup": "China",
         "marker": {
          "color": "rgb(102, 197, 204)",
          "pattern": {
           "shape": ""
          }
         },
         "name": "China",
         "offsetgroup": "China",
         "orientation": "v",
         "showlegend": false,
         "textposition": "auto",
         "type": "bar",
         "x": [
          "IPO"
         ],
         "xaxis": "x4",
         "y": [
          5.77
         ],
         "yaxis": "y4"
        },
        {
         "alignmentgroup": "True",
         "hovertemplate": "Country=China<br>Industry=Mobile & telecommunications<br>Financial Stage=%{x}<br>Valuation ($B)=%{y}<extra></extra>",
         "legendgroup": "China",
         "marker": {
          "color": "rgb(102, 197, 204)",
          "pattern": {
           "shape": ""
          }
         },
         "name": "China",
         "offsetgroup": "China",
         "orientation": "v",
         "showlegend": false,
         "textposition": "auto",
         "type": "bar",
         "x": [
          "Corporate"
         ],
         "xaxis": "x5",
         "y": [
          1
         ],
         "yaxis": "y5"
        },
        {
         "alignmentgroup": "True",
         "hovertemplate": "Country=China<br>Industry=Hardware<br>Financial Stage=%{x}<br>Valuation ($B)=%{y}<extra></extra>",
         "legendgroup": "China",
         "marker": {
          "color": "rgb(102, 197, 204)",
          "pattern": {
           "shape": ""
          }
         },
         "name": "China",
         "offsetgroup": "China",
         "orientation": "v",
         "showlegend": false,
         "textposition": "auto",
         "type": "bar",
         "x": [
          "IPO",
          "IPO"
         ],
         "xaxis": "x6",
         "y": [
          4.58,
          4.58
         ],
         "yaxis": "y6"
        },
        {
         "alignmentgroup": "True",
         "hovertemplate": "Country=China<br>Industry=Travel<br>Financial Stage=%{x}<br>Valuation ($B)=%{y}<extra></extra>",
         "legendgroup": "China",
         "marker": {
          "color": "rgb(102, 197, 204)",
          "pattern": {
           "shape": ""
          }
         },
         "name": "China",
         "offsetgroup": "China",
         "orientation": "v",
         "showlegend": false,
         "textposition": "auto",
         "type": "bar",
         "x": [
          "Acquired"
         ],
         "xaxis": "x",
         "y": [
          1.5
         ],
         "yaxis": "y"
        },
        {
         "alignmentgroup": "True",
         "hovertemplate": "Country=United States<br>Industry=Fintech<br>Financial Stage=%{x}<br>Valuation ($B)=%{y}<extra></extra>",
         "legendgroup": "United States",
         "marker": {
          "color": "rgb(246, 207, 113)",
          "pattern": {
           "shape": ""
          }
         },
         "name": "United States",
         "offsetgroup": "United States",
         "orientation": "v",
         "showlegend": true,
         "textposition": "auto",
         "type": "bar",
         "x": [
          "Asset",
          "Divestiture",
          "Acquired",
          "Acquired",
          "Divestiture",
          "Acquired"
         ],
         "xaxis": "x14",
         "y": [
          95,
          25,
          15,
          7.4,
          3,
          1.1
         ],
         "yaxis": "y14"
        },
        {
         "alignmentgroup": "True",
         "hovertemplate": "Country=United States<br>Industry=Other<br>Financial Stage=%{x}<br>Valuation ($B)=%{y}<extra></extra>",
         "legendgroup": "United States",
         "marker": {
          "color": "rgb(246, 207, 113)",
          "pattern": {
           "shape": ""
          }
         },
         "name": "United States",
         "offsetgroup": "United States",
         "orientation": "v",
         "showlegend": false,
         "textposition": "auto",
         "type": "bar",
         "x": [
          "Acquired",
          "Acquired"
         ],
         "xaxis": "x15",
         "y": [
          42,
          10
         ],
         "yaxis": "y15"
        },
        {
         "alignmentgroup": "True",
         "hovertemplate": "Country=United States<br>Industry=Internet software & services<br>Financial Stage=%{x}<br>Valuation ($B)=%{y}<extra></extra>",
         "legendgroup": "United States",
         "marker": {
          "color": "rgb(246, 207, 113)",
          "pattern": {
           "shape": ""
          }
         },
         "name": "United States",
         "offsetgroup": "United States",
         "orientation": "v",
         "showlegend": false,
         "textposition": "auto",
         "type": "bar",
         "x": [
          "Acquired",
          "Acquired",
          "Acquired",
          "Divestiture"
         ],
         "xaxis": "x7",
         "y": [
          10,
          5.7,
          4,
          4
         ],
         "yaxis": "y7"
        },
        {
         "alignmentgroup": "True",
         "hovertemplate": "Country=United States<br>Industry=Finttech<br>Financial Stage=%{x}<br>Valuation ($B)=%{y}<extra></extra>",
         "legendgroup": "United States",
         "marker": {
          "color": "rgb(246, 207, 113)",
          "pattern": {
           "shape": ""
          }
         },
         "name": "United States",
         "offsetgroup": "United States",
         "orientation": "v",
         "showlegend": false,
         "textposition": "auto",
         "type": "bar",
         "x": [
          "Acquired"
         ],
         "xaxis": "x8",
         "y": [
          10
         ],
         "yaxis": "y8"
        },
        {
         "alignmentgroup": "True",
         "hovertemplate": "Country=United States<br>Industry=Consumer & retail<br>Financial Stage=%{x}<br>Valuation ($B)=%{y}<extra></extra>",
         "legendgroup": "United States",
         "marker": {
          "color": "rgb(246, 207, 113)",
          "pattern": {
           "shape": ""
          }
         },
         "name": "United States",
         "offsetgroup": "United States",
         "orientation": "v",
         "showlegend": false,
         "textposition": "auto",
         "type": "bar",
         "x": [
          "Reverse"
         ],
         "xaxis": "x9",
         "y": [
          1.7
         ],
         "yaxis": "y9"
        },
        {
         "alignmentgroup": "True",
         "hovertemplate": "Country=United States<br>Industry=E-commerce & direct-to-consumer<br>Financial Stage=%{x}<br>Valuation ($B)=%{y}<extra></extra>",
         "legendgroup": "United States",
         "marker": {
          "color": "rgb(246, 207, 113)",
          "pattern": {
           "shape": ""
          }
         },
         "name": "United States",
         "offsetgroup": "United States",
         "orientation": "v",
         "showlegend": false,
         "textposition": "auto",
         "type": "bar",
         "x": [
          "Acquired"
         ],
         "xaxis": "x4",
         "y": [
          1.1
         ],
         "yaxis": "y4"
        },
        {
         "alignmentgroup": "True",
         "hovertemplate": "Country=United States<br>Industry=Mobile & telecommunications<br>Financial Stage=%{x}<br>Valuation ($B)=%{y}<extra></extra>",
         "legendgroup": "United States",
         "marker": {
          "color": "rgb(246, 207, 113)",
          "pattern": {
           "shape": ""
          }
         },
         "name": "United States",
         "offsetgroup": "United States",
         "orientation": "v",
         "showlegend": false,
         "textposition": "auto",
         "type": "bar",
         "x": [
          "Acquired"
         ],
         "xaxis": "x5",
         "y": [
          3.3
         ],
         "yaxis": "y5"
        },
        {
         "alignmentgroup": "True",
         "hovertemplate": "Country=Sweden<br>Industry=Fintech<br>Financial Stage=%{x}<br>Valuation ($B)=%{y}<extra></extra>",
         "legendgroup": "Sweden",
         "marker": {
          "color": "rgb(248, 156, 116)",
          "pattern": {
           "shape": ""
          }
         },
         "name": "Sweden",
         "offsetgroup": "Sweden",
         "orientation": "v",
         "showlegend": true,
         "textposition": "auto",
         "type": "bar",
         "x": [
          "Acquired"
         ],
         "xaxis": "x14",
         "y": [
          45.6
         ],
         "yaxis": "y14"
        },
        {
         "alignmentgroup": "True",
         "hovertemplate": "Country=Bahamas<br>Industry=Sequoia Capital, Thoma Bravo, Softbank<br>Financial Stage=%{x}<br>Valuation ($B)=%{y}<extra></extra>",
         "legendgroup": "Bahamas",
         "marker": {
          "color": "rgb(220, 176, 242)",
          "pattern": {
           "shape": ""
          }
         },
         "name": "Bahamas",
         "offsetgroup": "Bahamas",
         "orientation": "v",
         "showlegend": true,
         "textposition": "auto",
         "type": "bar",
         "x": [
          "Acquired"
         ],
         "xaxis": "x10",
         "y": [
          32
         ],
         "yaxis": "y10"
        },
        {
         "alignmentgroup": "True",
         "hovertemplate": "Country=India<br>Industry=Fintech<br>Financial Stage=%{x}<br>Valuation ($B)=%{y}<extra></extra>",
         "legendgroup": "India",
         "marker": {
          "color": "rgb(135, 197, 95)",
          "pattern": {
           "shape": ""
          }
         },
         "name": "India",
         "offsetgroup": "India",
         "orientation": "v",
         "showlegend": true,
         "textposition": "auto",
         "type": "bar",
         "x": [
          "IPO"
         ],
         "xaxis": "x14",
         "y": [
          6.5
         ],
         "yaxis": "y14"
        },
        {
         "alignmentgroup": "True",
         "hovertemplate": "Country=India<br>Industry=Supply chain, logistics, & delivery<br>Financial Stage=%{x}<br>Valuation ($B)=%{y}<extra></extra>",
         "legendgroup": "India",
         "marker": {
          "color": "rgb(135, 197, 95)",
          "pattern": {
           "shape": ""
          }
         },
         "name": "India",
         "offsetgroup": "India",
         "orientation": "v",
         "showlegend": false,
         "textposition": "auto",
         "type": "bar",
         "x": [
          "Acquired"
         ],
         "xaxis": "x12",
         "y": [
          10.7
         ],
         "yaxis": "y12"
        },
        {
         "alignmentgroup": "True",
         "hovertemplate": "Country=India<br>Industry=E-commerce & direct-to-consumer<br>Financial Stage=%{x}<br>Valuation ($B)=%{y}<extra></extra>",
         "legendgroup": "India",
         "marker": {
          "color": "rgb(135, 197, 95)",
          "pattern": {
           "shape": ""
          }
         },
         "name": "India",
         "offsetgroup": "India",
         "orientation": "v",
         "showlegend": false,
         "textposition": "auto",
         "type": "bar",
         "x": [
          "Acquired",
          "Divestiture"
         ],
         "xaxis": "x4",
         "y": [
          2.5,
          1
         ],
         "yaxis": "y4"
        },
        {
         "alignmentgroup": "True",
         "hovertemplate": "Country=United Kingdom<br>Industry=Fintech<br>Financial Stage=%{x}<br>Valuation ($B)=%{y}<extra></extra>",
         "legendgroup": "United Kingdom",
         "marker": {
          "color": "rgb(158, 185, 243)",
          "pattern": {
           "shape": ""
          }
         },
         "name": "United Kingdom",
         "offsetgroup": "United Kingdom",
         "orientation": "v",
         "showlegend": true,
         "textposition": "auto",
         "type": "bar",
         "x": [
          "Acquired",
          "Acquired",
          "Management",
          "Divestiture",
          "Acquired"
         ],
         "xaxis": "x14",
         "y": [
          5.2,
          5,
          4,
          3,
          1
         ],
         "yaxis": "y14"
        },
        {
         "alignmentgroup": "True",
         "hovertemplate": "Country=United Kingdom<br>Industry=Other<br>Financial Stage=%{x}<br>Valuation ($B)=%{y}<extra></extra>",
         "legendgroup": "United Kingdom",
         "marker": {
          "color": "rgb(158, 185, 243)",
          "pattern": {
           "shape": ""
          }
         },
         "name": "United Kingdom",
         "offsetgroup": "United Kingdom",
         "orientation": "v",
         "showlegend": false,
         "textposition": "auto",
         "type": "bar",
         "x": [
          "Take"
         ],
         "xaxis": "x15",
         "y": [
          5
         ],
         "yaxis": "y15"
        },
        {
         "alignmentgroup": "True",
         "hovertemplate": "Country=Israel<br>Industry=Mobile & telecommunications<br>Financial Stage=%{x}<br>Valuation ($B)=%{y}<extra></extra>",
         "legendgroup": "Israel",
         "marker": {
          "color": "rgb(254, 136, 177)",
          "pattern": {
           "shape": ""
          }
         },
         "name": "Israel",
         "offsetgroup": "Israel",
         "orientation": "v",
         "showlegend": true,
         "textposition": "auto",
         "type": "bar",
         "x": [
          "Acquired"
         ],
         "xaxis": "x5",
         "y": [
          5
         ],
         "yaxis": "y5"
        },
        {
         "alignmentgroup": "True",
         "hovertemplate": "Country=Brazil<br>Industry=Fintech<br>Financial Stage=%{x}<br>Valuation ($B)=%{y}<extra></extra>",
         "legendgroup": "Brazil",
         "marker": {
          "color": "rgb(201, 219, 116)",
          "pattern": {
           "shape": ""
          }
         },
         "name": "Brazil",
         "offsetgroup": "Brazil",
         "orientation": "v",
         "showlegend": true,
         "textposition": "auto",
         "type": "bar",
         "x": [
          "Acquired"
         ],
         "xaxis": "x14",
         "y": [
          4.8
         ],
         "yaxis": "y14"
        },
        {
         "alignmentgroup": "True",
         "hovertemplate": "Country=Brazil<br>Industry=Mobile & telecommunications<br>Financial Stage=%{x}<br>Valuation ($B)=%{y}<extra></extra>",
         "legendgroup": "Brazil",
         "marker": {
          "color": "rgb(201, 219, 116)",
          "pattern": {
           "shape": ""
          }
         },
         "name": "Brazil",
         "offsetgroup": "Brazil",
         "orientation": "v",
         "showlegend": false,
         "textposition": "auto",
         "type": "bar",
         "x": [
          "Acquired"
         ],
         "xaxis": "x5",
         "y": [
          1
         ],
         "yaxis": "y5"
        },
        {
         "alignmentgroup": "True",
         "hovertemplate": "Country=South Korea<br>Industry=Mobile & telecommunications<br>Financial Stage=%{x}<br>Valuation ($B)=%{y}<extra></extra>",
         "legendgroup": "South Korea",
         "marker": {
          "color": "rgb(139, 224, 164)",
          "pattern": {
           "shape": ""
          }
         },
         "name": "South Korea",
         "offsetgroup": "South Korea",
         "orientation": "v",
         "showlegend": true,
         "textposition": "auto",
         "type": "bar",
         "x": [
          "Divestiture"
         ],
         "xaxis": "x5",
         "y": [
          4
         ],
         "yaxis": "y5"
        },
        {
         "alignmentgroup": "True",
         "hovertemplate": "Country=Indonesia<br>Industry=Fintech<br>Financial Stage=%{x}<br>Valuation ($B)=%{y}<extra></extra>",
         "legendgroup": "Indonesia",
         "marker": {
          "color": "rgb(180, 151, 231)",
          "pattern": {
           "shape": ""
          }
         },
         "name": "Indonesia",
         "offsetgroup": "Indonesia",
         "orientation": "v",
         "showlegend": true,
         "textposition": "auto",
         "type": "bar",
         "x": [
          "Acquired"
         ],
         "xaxis": "x14",
         "y": [
          2.9
         ],
         "yaxis": "y14"
        },
        {
         "alignmentgroup": "True",
         "hovertemplate": "Country=Germany<br>Industry=Fintech<br>Financial Stage=%{x}<br>Valuation ($B)=%{y}<extra></extra>",
         "legendgroup": "Germany",
         "marker": {
          "color": "rgb(179, 179, 179)",
          "pattern": {
           "shape": ""
          }
         },
         "name": "Germany",
         "offsetgroup": "Germany",
         "orientation": "v",
         "showlegend": true,
         "textposition": "auto",
         "type": "bar",
         "x": [
          "Divestiture"
         ],
         "xaxis": "x14",
         "y": [
          1.65
         ],
         "yaxis": "y14"
        },
        {
         "alignmentgroup": "True",
         "hovertemplate": "Country=France<br>Industry=Internet software & services<br>Financial Stage=%{x}<br>Valuation ($B)=%{y}<extra></extra>",
         "legendgroup": "France",
         "marker": {
          "color": "rgb(102, 197, 204)",
          "pattern": {
           "shape": ""
          }
         },
         "name": "France",
         "offsetgroup": "France",
         "orientation": "v",
         "showlegend": true,
         "textposition": "auto",
         "type": "bar",
         "x": [
          "Acquired"
         ],
         "xaxis": "x7",
         "y": [
          1.4
         ],
         "yaxis": "y7"
        },
        {
         "alignmentgroup": "True",
         "hovertemplate": "Country=Netherlands<br>Industry=E-commerce & direct-to-consumer<br>Financial Stage=%{x}<br>Valuation ($B)=%{y}<extra></extra>",
         "legendgroup": "Netherlands",
         "marker": {
          "color": "rgb(246, 207, 113)",
          "pattern": {
           "shape": ""
          }
         },
         "name": "Netherlands",
         "offsetgroup": "Netherlands",
         "orientation": "v",
         "showlegend": true,
         "textposition": "auto",
         "type": "bar",
         "x": [
          "Acquired"
         ],
         "xaxis": "x4",
         "y": [
          1
         ],
         "yaxis": "y4"
        },
        {
         "alignmentgroup": "True",
         "hovertemplate": "Country=Netherlands<br>Industry=Hardware<br>Financial Stage=%{x}<br>Valuation ($B)=%{y}<extra></extra>",
         "legendgroup": "Netherlands",
         "marker": {
          "color": "rgb(246, 207, 113)",
          "pattern": {
           "shape": ""
          }
         },
         "name": "Netherlands",
         "offsetgroup": "Netherlands",
         "orientation": "v",
         "showlegend": false,
         "textposition": "auto",
         "type": "bar",
         "x": [
          "Acquired"
         ],
         "xaxis": "x6",
         "y": [
          1
         ],
         "yaxis": "y6"
        }
       ],
       "layout": {
        "annotations": [
         {
          "showarrow": false,
          "text": "Industry=Travel",
          "x": 0.15999999999999998,
          "xanchor": "center",
          "xref": "paper",
          "y": 0.144,
          "yanchor": "bottom",
          "yref": "paper"
         },
         {
          "showarrow": false,
          "text": "Industry=E-commerce & direct-to-consumer",
          "x": 0.15999999999999998,
          "xanchor": "center",
          "xref": "paper",
          "y": 0.358,
          "yanchor": "bottom",
          "yref": "paper"
         },
         {
          "showarrow": false,
          "text": "Industry=Mobile & telecommunications",
          "x": 0.49999999999999994,
          "xanchor": "center",
          "xref": "paper",
          "y": 0.358,
          "yanchor": "bottom",
          "yref": "paper"
         },
         {
          "showarrow": false,
          "text": "Industry=Hardware",
          "x": 0.8399999999999999,
          "xanchor": "center",
          "xref": "paper",
          "y": 0.358,
          "yanchor": "bottom",
          "yref": "paper"
         },
         {
          "showarrow": false,
          "text": "Industry=Internet software & services",
          "x": 0.15999999999999998,
          "xanchor": "center",
          "xref": "paper",
          "y": 0.572,
          "yanchor": "bottom",
          "yref": "paper"
         },
         {
          "showarrow": false,
          "text": "Industry=Finttech",
          "x": 0.49999999999999994,
          "xanchor": "center",
          "xref": "paper",
          "y": 0.572,
          "yanchor": "bottom",
          "yref": "paper"
         },
         {
          "showarrow": false,
          "text": "Industry=Consumer & retail",
          "x": 0.8399999999999999,
          "xanchor": "center",
          "xref": "paper",
          "y": 0.572,
          "yanchor": "bottom",
          "yref": "paper"
         },
         {
          "showarrow": false,
          "text": "Industry=Sequoia Capital, Thoma Bravo, Softbank",
          "x": 0.15999999999999998,
          "xanchor": "center",
          "xref": "paper",
          "y": 0.7859999999999999,
          "yanchor": "bottom",
          "yref": "paper"
         },
         {
          "showarrow": false,
          "text": "Industry=Edtech",
          "x": 0.49999999999999994,
          "xanchor": "center",
          "xref": "paper",
          "y": 0.7859999999999999,
          "yanchor": "bottom",
          "yref": "paper"
         },
         {
          "showarrow": false,
          "text": "Industry=Supply chain, logistics, & delivery",
          "x": 0.8399999999999999,
          "xanchor": "center",
          "xref": "paper",
          "y": 0.7859999999999999,
          "yanchor": "bottom",
          "yref": "paper"
         },
         {
          "showarrow": false,
          "text": "Industry=Artificial intelligence",
          "x": 0.15999999999999998,
          "xanchor": "center",
          "xref": "paper",
          "y": 1,
          "yanchor": "bottom",
          "yref": "paper"
         },
         {
          "showarrow": false,
          "text": "Industry=Fintech",
          "x": 0.49999999999999994,
          "xanchor": "center",
          "xref": "paper",
          "y": 1,
          "yanchor": "bottom",
          "yref": "paper"
         },
         {
          "showarrow": false,
          "text": "Industry=Other",
          "x": 0.8399999999999999,
          "xanchor": "center",
          "xref": "paper",
          "y": 1,
          "yanchor": "bottom",
          "yref": "paper"
         },
         {
          "text": "Valuation (in $B)",
          "textangle": -90,
          "x": -2,
          "xref": "paper",
          "y": 0.5,
          "yref": "paper"
         }
        ],
        "barmode": "relative",
        "legend": {
         "title": {
          "text": "Country"
         },
         "tracegroupgap": 0
        },
        "margin": {
         "t": 60
        },
        "template": {
         "data": {
          "bar": [
           {
            "error_x": {
             "color": "#2a3f5f"
            },
            "error_y": {
             "color": "#2a3f5f"
            },
            "marker": {
             "line": {
              "color": "#E5ECF6",
              "width": 0.5
             },
             "pattern": {
              "fillmode": "overlay",
              "size": 10,
              "solidity": 0.2
             }
            },
            "type": "bar"
           }
          ],
          "barpolar": [
           {
            "marker": {
             "line": {
              "color": "#E5ECF6",
              "width": 0.5
             },
             "pattern": {
              "fillmode": "overlay",
              "size": 10,
              "solidity": 0.2
             }
            },
            "type": "barpolar"
           }
          ],
          "carpet": [
           {
            "aaxis": {
             "endlinecolor": "#2a3f5f",
             "gridcolor": "white",
             "linecolor": "white",
             "minorgridcolor": "white",
             "startlinecolor": "#2a3f5f"
            },
            "baxis": {
             "endlinecolor": "#2a3f5f",
             "gridcolor": "white",
             "linecolor": "white",
             "minorgridcolor": "white",
             "startlinecolor": "#2a3f5f"
            },
            "type": "carpet"
           }
          ],
          "choropleth": [
           {
            "colorbar": {
             "outlinewidth": 0,
             "ticks": ""
            },
            "type": "choropleth"
           }
          ],
          "contour": [
           {
            "colorbar": {
             "outlinewidth": 0,
             "ticks": ""
            },
            "colorscale": [
             [
              0,
              "#0d0887"
             ],
             [
              0.1111111111111111,
              "#46039f"
             ],
             [
              0.2222222222222222,
              "#7201a8"
             ],
             [
              0.3333333333333333,
              "#9c179e"
             ],
             [
              0.4444444444444444,
              "#bd3786"
             ],
             [
              0.5555555555555556,
              "#d8576b"
             ],
             [
              0.6666666666666666,
              "#ed7953"
             ],
             [
              0.7777777777777778,
              "#fb9f3a"
             ],
             [
              0.8888888888888888,
              "#fdca26"
             ],
             [
              1,
              "#f0f921"
             ]
            ],
            "type": "contour"
           }
          ],
          "contourcarpet": [
           {
            "colorbar": {
             "outlinewidth": 0,
             "ticks": ""
            },
            "type": "contourcarpet"
           }
          ],
          "heatmap": [
           {
            "colorbar": {
             "outlinewidth": 0,
             "ticks": ""
            },
            "colorscale": [
             [
              0,
              "#0d0887"
             ],
             [
              0.1111111111111111,
              "#46039f"
             ],
             [
              0.2222222222222222,
              "#7201a8"
             ],
             [
              0.3333333333333333,
              "#9c179e"
             ],
             [
              0.4444444444444444,
              "#bd3786"
             ],
             [
              0.5555555555555556,
              "#d8576b"
             ],
             [
              0.6666666666666666,
              "#ed7953"
             ],
             [
              0.7777777777777778,
              "#fb9f3a"
             ],
             [
              0.8888888888888888,
              "#fdca26"
             ],
             [
              1,
              "#f0f921"
             ]
            ],
            "type": "heatmap"
           }
          ],
          "heatmapgl": [
           {
            "colorbar": {
             "outlinewidth": 0,
             "ticks": ""
            },
            "colorscale": [
             [
              0,
              "#0d0887"
             ],
             [
              0.1111111111111111,
              "#46039f"
             ],
             [
              0.2222222222222222,
              "#7201a8"
             ],
             [
              0.3333333333333333,
              "#9c179e"
             ],
             [
              0.4444444444444444,
              "#bd3786"
             ],
             [
              0.5555555555555556,
              "#d8576b"
             ],
             [
              0.6666666666666666,
              "#ed7953"
             ],
             [
              0.7777777777777778,
              "#fb9f3a"
             ],
             [
              0.8888888888888888,
              "#fdca26"
             ],
             [
              1,
              "#f0f921"
             ]
            ],
            "type": "heatmapgl"
           }
          ],
          "histogram": [
           {
            "marker": {
             "pattern": {
              "fillmode": "overlay",
              "size": 10,
              "solidity": 0.2
             }
            },
            "type": "histogram"
           }
          ],
          "histogram2d": [
           {
            "colorbar": {
             "outlinewidth": 0,
             "ticks": ""
            },
            "colorscale": [
             [
              0,
              "#0d0887"
             ],
             [
              0.1111111111111111,
              "#46039f"
             ],
             [
              0.2222222222222222,
              "#7201a8"
             ],
             [
              0.3333333333333333,
              "#9c179e"
             ],
             [
              0.4444444444444444,
              "#bd3786"
             ],
             [
              0.5555555555555556,
              "#d8576b"
             ],
             [
              0.6666666666666666,
              "#ed7953"
             ],
             [
              0.7777777777777778,
              "#fb9f3a"
             ],
             [
              0.8888888888888888,
              "#fdca26"
             ],
             [
              1,
              "#f0f921"
             ]
            ],
            "type": "histogram2d"
           }
          ],
          "histogram2dcontour": [
           {
            "colorbar": {
             "outlinewidth": 0,
             "ticks": ""
            },
            "colorscale": [
             [
              0,
              "#0d0887"
             ],
             [
              0.1111111111111111,
              "#46039f"
             ],
             [
              0.2222222222222222,
              "#7201a8"
             ],
             [
              0.3333333333333333,
              "#9c179e"
             ],
             [
              0.4444444444444444,
              "#bd3786"
             ],
             [
              0.5555555555555556,
              "#d8576b"
             ],
             [
              0.6666666666666666,
              "#ed7953"
             ],
             [
              0.7777777777777778,
              "#fb9f3a"
             ],
             [
              0.8888888888888888,
              "#fdca26"
             ],
             [
              1,
              "#f0f921"
             ]
            ],
            "type": "histogram2dcontour"
           }
          ],
          "mesh3d": [
           {
            "colorbar": {
             "outlinewidth": 0,
             "ticks": ""
            },
            "type": "mesh3d"
           }
          ],
          "parcoords": [
           {
            "line": {
             "colorbar": {
              "outlinewidth": 0,
              "ticks": ""
             }
            },
            "type": "parcoords"
           }
          ],
          "pie": [
           {
            "automargin": true,
            "type": "pie"
           }
          ],
          "scatter": [
           {
            "marker": {
             "colorbar": {
              "outlinewidth": 0,
              "ticks": ""
             }
            },
            "type": "scatter"
           }
          ],
          "scatter3d": [
           {
            "line": {
             "colorbar": {
              "outlinewidth": 0,
              "ticks": ""
             }
            },
            "marker": {
             "colorbar": {
              "outlinewidth": 0,
              "ticks": ""
             }
            },
            "type": "scatter3d"
           }
          ],
          "scattercarpet": [
           {
            "marker": {
             "colorbar": {
              "outlinewidth": 0,
              "ticks": ""
             }
            },
            "type": "scattercarpet"
           }
          ],
          "scattergeo": [
           {
            "marker": {
             "colorbar": {
              "outlinewidth": 0,
              "ticks": ""
             }
            },
            "type": "scattergeo"
           }
          ],
          "scattergl": [
           {
            "marker": {
             "colorbar": {
              "outlinewidth": 0,
              "ticks": ""
             }
            },
            "type": "scattergl"
           }
          ],
          "scattermapbox": [
           {
            "marker": {
             "colorbar": {
              "outlinewidth": 0,
              "ticks": ""
             }
            },
            "type": "scattermapbox"
           }
          ],
          "scatterpolar": [
           {
            "marker": {
             "colorbar": {
              "outlinewidth": 0,
              "ticks": ""
             }
            },
            "type": "scatterpolar"
           }
          ],
          "scatterpolargl": [
           {
            "marker": {
             "colorbar": {
              "outlinewidth": 0,
              "ticks": ""
             }
            },
            "type": "scatterpolargl"
           }
          ],
          "scatterternary": [
           {
            "marker": {
             "colorbar": {
              "outlinewidth": 0,
              "ticks": ""
             }
            },
            "type": "scatterternary"
           }
          ],
          "surface": [
           {
            "colorbar": {
             "outlinewidth": 0,
             "ticks": ""
            },
            "colorscale": [
             [
              0,
              "#0d0887"
             ],
             [
              0.1111111111111111,
              "#46039f"
             ],
             [
              0.2222222222222222,
              "#7201a8"
             ],
             [
              0.3333333333333333,
              "#9c179e"
             ],
             [
              0.4444444444444444,
              "#bd3786"
             ],
             [
              0.5555555555555556,
              "#d8576b"
             ],
             [
              0.6666666666666666,
              "#ed7953"
             ],
             [
              0.7777777777777778,
              "#fb9f3a"
             ],
             [
              0.8888888888888888,
              "#fdca26"
             ],
             [
              1,
              "#f0f921"
             ]
            ],
            "type": "surface"
           }
          ],
          "table": [
           {
            "cells": {
             "fill": {
              "color": "#EBF0F8"
             },
             "line": {
              "color": "white"
             }
            },
            "header": {
             "fill": {
              "color": "#C8D4E3"
             },
             "line": {
              "color": "white"
             }
            },
            "type": "table"
           }
          ]
         },
         "layout": {
          "annotationdefaults": {
           "arrowcolor": "#2a3f5f",
           "arrowhead": 0,
           "arrowwidth": 1
          },
          "autotypenumbers": "strict",
          "coloraxis": {
           "colorbar": {
            "outlinewidth": 0,
            "ticks": ""
           }
          },
          "colorscale": {
           "diverging": [
            [
             0,
             "#8e0152"
            ],
            [
             0.1,
             "#c51b7d"
            ],
            [
             0.2,
             "#de77ae"
            ],
            [
             0.3,
             "#f1b6da"
            ],
            [
             0.4,
             "#fde0ef"
            ],
            [
             0.5,
             "#f7f7f7"
            ],
            [
             0.6,
             "#e6f5d0"
            ],
            [
             0.7,
             "#b8e186"
            ],
            [
             0.8,
             "#7fbc41"
            ],
            [
             0.9,
             "#4d9221"
            ],
            [
             1,
             "#276419"
            ]
           ],
           "sequential": [
            [
             0,
             "#0d0887"
            ],
            [
             0.1111111111111111,
             "#46039f"
            ],
            [
             0.2222222222222222,
             "#7201a8"
            ],
            [
             0.3333333333333333,
             "#9c179e"
            ],
            [
             0.4444444444444444,
             "#bd3786"
            ],
            [
             0.5555555555555556,
             "#d8576b"
            ],
            [
             0.6666666666666666,
             "#ed7953"
            ],
            [
             0.7777777777777778,
             "#fb9f3a"
            ],
            [
             0.8888888888888888,
             "#fdca26"
            ],
            [
             1,
             "#f0f921"
            ]
           ],
           "sequentialminus": [
            [
             0,
             "#0d0887"
            ],
            [
             0.1111111111111111,
             "#46039f"
            ],
            [
             0.2222222222222222,
             "#7201a8"
            ],
            [
             0.3333333333333333,
             "#9c179e"
            ],
            [
             0.4444444444444444,
             "#bd3786"
            ],
            [
             0.5555555555555556,
             "#d8576b"
            ],
            [
             0.6666666666666666,
             "#ed7953"
            ],
            [
             0.7777777777777778,
             "#fb9f3a"
            ],
            [
             0.8888888888888888,
             "#fdca26"
            ],
            [
             1,
             "#f0f921"
            ]
           ]
          },
          "colorway": [
           "#636efa",
           "#EF553B",
           "#00cc96",
           "#ab63fa",
           "#FFA15A",
           "#19d3f3",
           "#FF6692",
           "#B6E880",
           "#FF97FF",
           "#FECB52"
          ],
          "font": {
           "color": "#2a3f5f"
          },
          "geo": {
           "bgcolor": "white",
           "lakecolor": "white",
           "landcolor": "#E5ECF6",
           "showlakes": true,
           "showland": true,
           "subunitcolor": "white"
          },
          "hoverlabel": {
           "align": "left"
          },
          "hovermode": "closest",
          "mapbox": {
           "style": "light"
          },
          "paper_bgcolor": "white",
          "plot_bgcolor": "#E5ECF6",
          "polar": {
           "angularaxis": {
            "gridcolor": "white",
            "linecolor": "white",
            "ticks": ""
           },
           "bgcolor": "#E5ECF6",
           "radialaxis": {
            "gridcolor": "white",
            "linecolor": "white",
            "ticks": ""
           }
          },
          "scene": {
           "xaxis": {
            "backgroundcolor": "#E5ECF6",
            "gridcolor": "white",
            "gridwidth": 2,
            "linecolor": "white",
            "showbackground": true,
            "ticks": "",
            "zerolinecolor": "white"
           },
           "yaxis": {
            "backgroundcolor": "#E5ECF6",
            "gridcolor": "white",
            "gridwidth": 2,
            "linecolor": "white",
            "showbackground": true,
            "ticks": "",
            "zerolinecolor": "white"
           },
           "zaxis": {
            "backgroundcolor": "#E5ECF6",
            "gridcolor": "white",
            "gridwidth": 2,
            "linecolor": "white",
            "showbackground": true,
            "ticks": "",
            "zerolinecolor": "white"
           }
          },
          "shapedefaults": {
           "line": {
            "color": "#2a3f5f"
           }
          },
          "ternary": {
           "aaxis": {
            "gridcolor": "white",
            "linecolor": "white",
            "ticks": ""
           },
           "baxis": {
            "gridcolor": "white",
            "linecolor": "white",
            "ticks": ""
           },
           "bgcolor": "#E5ECF6",
           "caxis": {
            "gridcolor": "white",
            "linecolor": "white",
            "ticks": ""
           }
          },
          "title": {
           "x": 0.05
          },
          "xaxis": {
           "automargin": true,
           "gridcolor": "white",
           "linecolor": "white",
           "ticks": "",
           "title": {
            "standoff": 15
           },
           "zerolinecolor": "white",
           "zerolinewidth": 2
          },
          "yaxis": {
           "automargin": true,
           "gridcolor": "white",
           "linecolor": "white",
           "ticks": "",
           "title": {
            "standoff": 15
           },
           "zerolinecolor": "white",
           "zerolinewidth": 2
          }
         }
        },
        "xaxis": {
         "anchor": "y",
         "domain": [
          0,
          0.31999999999999995
         ],
         "title": {
          "text": "Financial Stage"
         }
        },
        "xaxis10": {
         "anchor": "y10",
         "domain": [
          0,
          0.31999999999999995
         ],
         "matches": "x",
         "showticklabels": false
        },
        "xaxis11": {
         "anchor": "y11",
         "domain": [
          0.33999999999999997,
          0.6599999999999999
         ],
         "matches": "x",
         "showticklabels": false
        },
        "xaxis12": {
         "anchor": "y12",
         "domain": [
          0.6799999999999999,
          0.9999999999999999
         ],
         "matches": "x",
         "showticklabels": false
        },
        "xaxis13": {
         "anchor": "y13",
         "domain": [
          0,
          0.31999999999999995
         ],
         "matches": "x",
         "showticklabels": false
        },
        "xaxis14": {
         "anchor": "y14",
         "domain": [
          0.33999999999999997,
          0.6599999999999999
         ],
         "matches": "x",
         "showticklabels": false
        },
        "xaxis15": {
         "anchor": "y15",
         "domain": [
          0.6799999999999999,
          0.9999999999999999
         ],
         "matches": "x",
         "showticklabels": false
        },
        "xaxis2": {
         "anchor": "y2",
         "domain": [
          0.33999999999999997,
          0.6599999999999999
         ],
         "matches": "x",
         "title": {
          "text": "Financial Stage"
         }
        },
        "xaxis3": {
         "anchor": "y3",
         "domain": [
          0.6799999999999999,
          0.9999999999999999
         ],
         "matches": "x",
         "title": {
          "text": "Financial Stage"
         }
        },
        "xaxis4": {
         "anchor": "y4",
         "domain": [
          0,
          0.31999999999999995
         ],
         "matches": "x",
         "showticklabels": false
        },
        "xaxis5": {
         "anchor": "y5",
         "domain": [
          0.33999999999999997,
          0.6599999999999999
         ],
         "matches": "x",
         "showticklabels": false
        },
        "xaxis6": {
         "anchor": "y6",
         "domain": [
          0.6799999999999999,
          0.9999999999999999
         ],
         "matches": "x",
         "showticklabels": false
        },
        "xaxis7": {
         "anchor": "y7",
         "domain": [
          0,
          0.31999999999999995
         ],
         "matches": "x",
         "showticklabels": false
        },
        "xaxis8": {
         "anchor": "y8",
         "domain": [
          0.33999999999999997,
          0.6599999999999999
         ],
         "matches": "x",
         "showticklabels": false
        },
        "xaxis9": {
         "anchor": "y9",
         "domain": [
          0.6799999999999999,
          0.9999999999999999
         ],
         "matches": "x",
         "showticklabels": false
        },
        "yaxis": {
         "anchor": "x",
         "domain": [
          0,
          0.144
         ],
         "title": {
          "text": ""
         }
        },
        "yaxis10": {
         "anchor": "x10",
         "domain": [
          0.6419999999999999,
          0.7859999999999999
         ],
         "title": {
          "text": ""
         }
        },
        "yaxis11": {
         "anchor": "x11",
         "domain": [
          0.6419999999999999,
          0.7859999999999999
         ],
         "showticklabels": false,
         "title": {
          "text": ""
         }
        },
        "yaxis12": {
         "anchor": "x12",
         "domain": [
          0.6419999999999999,
          0.7859999999999999
         ],
         "showticklabels": false,
         "title": {
          "text": ""
         }
        },
        "yaxis13": {
         "anchor": "x13",
         "domain": [
          0.856,
          1
         ],
         "title": {
          "text": ""
         }
        },
        "yaxis14": {
         "anchor": "x14",
         "domain": [
          0.856,
          1
         ],
         "showticklabels": false,
         "title": {
          "text": ""
         }
        },
        "yaxis15": {
         "anchor": "x15",
         "domain": [
          0.856,
          1
         ],
         "showticklabels": false,
         "title": {
          "text": ""
         }
        },
        "yaxis2": {
         "anchor": "x2",
         "domain": [
          0,
          0.144
         ],
         "showticklabels": false,
         "title": {
          "text": ""
         }
        },
        "yaxis3": {
         "anchor": "x3",
         "domain": [
          0,
          0.144
         ],
         "showticklabels": false,
         "title": {
          "text": ""
         }
        },
        "yaxis4": {
         "anchor": "x4",
         "domain": [
          0.214,
          0.358
         ],
         "title": {
          "text": ""
         }
        },
        "yaxis5": {
         "anchor": "x5",
         "domain": [
          0.214,
          0.358
         ],
         "showticklabels": false,
         "title": {
          "text": ""
         }
        },
        "yaxis6": {
         "anchor": "x6",
         "domain": [
          0.214,
          0.358
         ],
         "showticklabels": false,
         "title": {
          "text": ""
         }
        },
        "yaxis7": {
         "anchor": "x7",
         "domain": [
          0.428,
          0.572
         ],
         "title": {
          "text": ""
         }
        },
        "yaxis8": {
         "anchor": "x8",
         "domain": [
          0.428,
          0.572
         ],
         "showticklabels": false,
         "title": {
          "text": ""
         }
        },
        "yaxis9": {
         "anchor": "x9",
         "domain": [
          0.428,
          0.572
         ],
         "showticklabels": false,
         "title": {
          "text": ""
         }
        }
       }
      }
     },
     "metadata": {},
     "output_type": "display_data"
    }
   ],
   "source": [
    "fig = px.bar(data_frame=Financial_St, x=\"Financial Stage\", y=\"Valuation ($B)\", color=\"Country\", facet_col=\"Industry\", facet_col_wrap=3,\n",
    "color_discrete_sequence=px.colors.qualitative.Pastel)\n",
    "fig.update_yaxes(matches=None)\n",
    "fig.for_each_yaxis(lambda y: y.update(title = ''))\n",
    "fig.add_annotation(x=-2,y=0.5,\n",
    "                   text=\"Valuation (in $B)\", textangle=-90,\n",
    "                    xref=\"paper\", yref=\"paper\")\n",
    "fig.show()\n"
   ]
  },
  {
   "cell_type": "code",
   "execution_count": 13,
   "metadata": {
    "pycharm": {
     "name": "#%%\n"
    }
   },
   "outputs": [
    {
     "data": {
      "text/html": [
       "<div>\n",
       "<style scoped>\n",
       "    .dataframe tbody tr th:only-of-type {\n",
       "        vertical-align: middle;\n",
       "    }\n",
       "\n",
       "    .dataframe tbody tr th {\n",
       "        vertical-align: top;\n",
       "    }\n",
       "\n",
       "    .dataframe thead th {\n",
       "        text-align: right;\n",
       "    }\n",
       "</style>\n",
       "<table border=\"1\" class=\"dataframe\">\n",
       "  <thead>\n",
       "    <tr style=\"text-align: right;\">\n",
       "      <th></th>\n",
       "      <th>Company</th>\n",
       "      <th>Valuation ($B)</th>\n",
       "      <th>Date Joined</th>\n",
       "      <th>Country</th>\n",
       "      <th>City</th>\n",
       "      <th>Industry</th>\n",
       "      <th>Select Inverstors</th>\n",
       "      <th>Founded Year</th>\n",
       "      <th>Total Raised</th>\n",
       "      <th>Financial Stage</th>\n",
       "      <th>Investors Count</th>\n",
       "      <th>Deal Terms</th>\n",
       "      <th>Portfolio Exits</th>\n",
       "    </tr>\n",
       "  </thead>\n",
       "  <tbody>\n",
       "    <tr>\n",
       "      <th>0</th>\n",
       "      <td>Bytedance</td>\n",
       "      <td>140.0</td>\n",
       "      <td>2017-04-07</td>\n",
       "      <td>China</td>\n",
       "      <td>Beijing</td>\n",
       "      <td>Artificial intelligence</td>\n",
       "      <td>Sequoia Capital China, SIG Asia Investments, S...</td>\n",
       "      <td>2012-01-01</td>\n",
       "      <td>7.44000</td>\n",
       "      <td>IPO</td>\n",
       "      <td>28.0</td>\n",
       "      <td>8</td>\n",
       "      <td>5</td>\n",
       "    </tr>\n",
       "    <tr>\n",
       "      <th>1</th>\n",
       "      <td>SpaceX</td>\n",
       "      <td>100.3</td>\n",
       "      <td>2012-12-01</td>\n",
       "      <td>United States</td>\n",
       "      <td>Hawthorne</td>\n",
       "      <td>Other</td>\n",
       "      <td>Founders Fund, Draper Fisher Jurvetson, Rothen...</td>\n",
       "      <td>2002-01-01</td>\n",
       "      <td>6.87400</td>\n",
       "      <td>None</td>\n",
       "      <td>29.0</td>\n",
       "      <td>12</td>\n",
       "      <td>None</td>\n",
       "    </tr>\n",
       "    <tr>\n",
       "      <th>2</th>\n",
       "      <td>Stripe</td>\n",
       "      <td>95.0</td>\n",
       "      <td>2014-01-23</td>\n",
       "      <td>United States</td>\n",
       "      <td>San Francisco</td>\n",
       "      <td>Fintech</td>\n",
       "      <td>Khosla Ventures, LowercaseCapital, capitalG</td>\n",
       "      <td>2010-01-01</td>\n",
       "      <td>2.90100</td>\n",
       "      <td>Asset</td>\n",
       "      <td>39.0</td>\n",
       "      <td>12</td>\n",
       "      <td>1</td>\n",
       "    </tr>\n",
       "    <tr>\n",
       "      <th>3</th>\n",
       "      <td>Klarna</td>\n",
       "      <td>45.6</td>\n",
       "      <td>2011-12-12</td>\n",
       "      <td>Sweden</td>\n",
       "      <td>Stockholm</td>\n",
       "      <td>Fintech</td>\n",
       "      <td>Institutional Venture Partners, Sequoia Capita...</td>\n",
       "      <td>2005-01-01</td>\n",
       "      <td>3.47200</td>\n",
       "      <td>Acquired</td>\n",
       "      <td>56.0</td>\n",
       "      <td>13</td>\n",
       "      <td>1</td>\n",
       "    </tr>\n",
       "    <tr>\n",
       "      <th>4</th>\n",
       "      <td>Epic Games</td>\n",
       "      <td>42.0</td>\n",
       "      <td>2018-10-26</td>\n",
       "      <td>United States</td>\n",
       "      <td>Cary</td>\n",
       "      <td>Other</td>\n",
       "      <td>Tencent Holdings, KKR, Smash Ventures</td>\n",
       "      <td>1991-01-01</td>\n",
       "      <td>4.37700</td>\n",
       "      <td>Acquired</td>\n",
       "      <td>25.0</td>\n",
       "      <td>5</td>\n",
       "      <td>2</td>\n",
       "    </tr>\n",
       "    <tr>\n",
       "      <th>5</th>\n",
       "      <td>Canva</td>\n",
       "      <td>40.0</td>\n",
       "      <td>2018-01-08</td>\n",
       "      <td>Australia</td>\n",
       "      <td>Surry Hills</td>\n",
       "      <td>Internet software &amp; services</td>\n",
       "      <td>Sequoia Capital China, Blackbird Ventures, Mat...</td>\n",
       "      <td>2012-01-01</td>\n",
       "      <td>0.57126</td>\n",
       "      <td>None</td>\n",
       "      <td>26.0</td>\n",
       "      <td>8</td>\n",
       "      <td>None</td>\n",
       "    </tr>\n",
       "    <tr>\n",
       "      <th>6</th>\n",
       "      <td>Checkout.com</td>\n",
       "      <td>40.0</td>\n",
       "      <td>2019-05-02</td>\n",
       "      <td>United Kingdom</td>\n",
       "      <td>London</td>\n",
       "      <td>Fintech</td>\n",
       "      <td>Tiger Global Management, Insight Partners, DST...</td>\n",
       "      <td>2012-01-01</td>\n",
       "      <td>1.83000</td>\n",
       "      <td>None</td>\n",
       "      <td>15.0</td>\n",
       "      <td>4</td>\n",
       "      <td>None</td>\n",
       "    </tr>\n",
       "    <tr>\n",
       "      <th>7</th>\n",
       "      <td>Instacart</td>\n",
       "      <td>39.0</td>\n",
       "      <td>2014-12-30</td>\n",
       "      <td>United States</td>\n",
       "      <td>San Francisco</td>\n",
       "      <td>Supply chain, logistics, &amp; delivery</td>\n",
       "      <td>Khosla Ventures, Kleiner Perkins Caufield &amp; By...</td>\n",
       "      <td>2012-01-01</td>\n",
       "      <td>2.68600</td>\n",
       "      <td>None</td>\n",
       "      <td>29.0</td>\n",
       "      <td>12</td>\n",
       "      <td>None</td>\n",
       "    </tr>\n",
       "    <tr>\n",
       "      <th>8</th>\n",
       "      <td>Databricks</td>\n",
       "      <td>38.0</td>\n",
       "      <td>2019-02-05</td>\n",
       "      <td>United States</td>\n",
       "      <td>San Francisco</td>\n",
       "      <td>Data management &amp; analytics</td>\n",
       "      <td>Andreessen Horowitz, New Enterprise Associates...</td>\n",
       "      <td>2013-01-01</td>\n",
       "      <td>3.49700</td>\n",
       "      <td>None</td>\n",
       "      <td>29.0</td>\n",
       "      <td>8</td>\n",
       "      <td>None</td>\n",
       "    </tr>\n",
       "    <tr>\n",
       "      <th>9</th>\n",
       "      <td>Revolut</td>\n",
       "      <td>33.0</td>\n",
       "      <td>2018-04-26</td>\n",
       "      <td>United Kingdom</td>\n",
       "      <td>London</td>\n",
       "      <td>Fintech</td>\n",
       "      <td>index Ventures, DST Global, Ribbit Capital</td>\n",
       "      <td>2015-01-01</td>\n",
       "      <td>1.71600</td>\n",
       "      <td>None</td>\n",
       "      <td>31.0</td>\n",
       "      <td>6</td>\n",
       "      <td>None</td>\n",
       "    </tr>\n",
       "  </tbody>\n",
       "</table>\n",
       "</div>"
      ],
      "text/plain": [
       "        Company  Valuation ($B) Date Joined         Country           City  \\\n",
       "0     Bytedance           140.0  2017-04-07           China        Beijing   \n",
       "1        SpaceX           100.3  2012-12-01   United States      Hawthorne   \n",
       "2        Stripe            95.0  2014-01-23   United States  San Francisco   \n",
       "3        Klarna            45.6  2011-12-12          Sweden      Stockholm   \n",
       "4    Epic Games            42.0  2018-10-26   United States           Cary   \n",
       "5         Canva            40.0  2018-01-08       Australia    Surry Hills   \n",
       "6  Checkout.com            40.0  2019-05-02  United Kingdom         London   \n",
       "7     Instacart            39.0  2014-12-30   United States  San Francisco   \n",
       "8    Databricks            38.0  2019-02-05   United States  San Francisco   \n",
       "9       Revolut            33.0  2018-04-26  United Kingdom         London   \n",
       "\n",
       "                              Industry  \\\n",
       "0              Artificial intelligence   \n",
       "1                                Other   \n",
       "2                              Fintech   \n",
       "3                              Fintech   \n",
       "4                                Other   \n",
       "5         Internet software & services   \n",
       "6                              Fintech   \n",
       "7  Supply chain, logistics, & delivery   \n",
       "8          Data management & analytics   \n",
       "9                              Fintech   \n",
       "\n",
       "                                   Select Inverstors Founded Year  \\\n",
       "0  Sequoia Capital China, SIG Asia Investments, S...   2012-01-01   \n",
       "1  Founders Fund, Draper Fisher Jurvetson, Rothen...   2002-01-01   \n",
       "2        Khosla Ventures, LowercaseCapital, capitalG   2010-01-01   \n",
       "3  Institutional Venture Partners, Sequoia Capita...   2005-01-01   \n",
       "4              Tencent Holdings, KKR, Smash Ventures   1991-01-01   \n",
       "5  Sequoia Capital China, Blackbird Ventures, Mat...   2012-01-01   \n",
       "6  Tiger Global Management, Insight Partners, DST...   2012-01-01   \n",
       "7  Khosla Ventures, Kleiner Perkins Caufield & By...   2012-01-01   \n",
       "8  Andreessen Horowitz, New Enterprise Associates...   2013-01-01   \n",
       "9         index Ventures, DST Global, Ribbit Capital   2015-01-01   \n",
       "\n",
       "   Total Raised Financial Stage  Investors Count Deal Terms Portfolio Exits  \n",
       "0       7.44000             IPO             28.0          8               5  \n",
       "1       6.87400            None             29.0         12            None  \n",
       "2       2.90100           Asset             39.0         12               1  \n",
       "3       3.47200        Acquired             56.0         13               1  \n",
       "4       4.37700        Acquired             25.0          5               2  \n",
       "5       0.57126            None             26.0          8            None  \n",
       "6       1.83000            None             15.0          4            None  \n",
       "7       2.68600            None             29.0         12            None  \n",
       "8       3.49700            None             29.0          8            None  \n",
       "9       1.71600            None             31.0          6            None  "
      ]
     },
     "execution_count": 13,
     "metadata": {},
     "output_type": "execute_result"
    }
   ],
   "source": [
    "#biggest companies\n",
    "top_10_companies = unicorn_master.sort_values(\"Valuation ($B)\", ascending=False)[:10]\n",
    "top_10_companies"
   ]
  },
  {
   "cell_type": "code",
   "execution_count": 17,
   "metadata": {
    "pycharm": {
     "name": "#%%\n"
    }
   },
   "outputs": [
    {
     "data": {
      "application/vnd.plotly.v1+json": {
       "config": {
        "plotlyServerURL": "https://plot.ly"
       },
       "data": [
        {
         "alignmentgroup": "True",
         "hovertemplate": "variable=Total Raised<br>Company=%{x}<br>value=%{y}<extra></extra>",
         "legendgroup": "Total Raised",
         "marker": {
          "color": "rgb(127, 60, 141)",
          "opacity": 0.5,
          "pattern": {
           "shape": ""
          }
         },
         "name": "Total Raised",
         "offsetgroup": "Total Raised",
         "orientation": "v",
         "showlegend": true,
         "textposition": "auto",
         "type": "bar",
         "x": [
          "Bytedance",
          "SpaceX",
          "Stripe",
          "Klarna",
          "Epic Games",
          "Canva",
          "Checkout.com",
          "Instacart",
          "Databricks",
          "Revolut"
         ],
         "xaxis": "x",
         "y": [
          7.44,
          6.874,
          2.901,
          3.472,
          4.377,
          0.57126,
          1.83,
          2.686,
          3.497,
          1.716
         ],
         "yaxis": "y"
        },
        {
         "alignmentgroup": "True",
         "hovertemplate": "variable=Valuation ($B)<br>Company=%{x}<br>value=%{y}<extra></extra>",
         "legendgroup": "Valuation ($B)",
         "marker": {
          "color": "rgb(17, 165, 121)",
          "opacity": 0.5,
          "pattern": {
           "shape": ""
          }
         },
         "name": "Valuation ($B)",
         "offsetgroup": "Valuation ($B)",
         "orientation": "v",
         "showlegend": true,
         "textposition": "auto",
         "type": "bar",
         "x": [
          "Bytedance",
          "SpaceX",
          "Stripe",
          "Klarna",
          "Epic Games",
          "Canva",
          "Checkout.com",
          "Instacart",
          "Databricks",
          "Revolut"
         ],
         "xaxis": "x",
         "y": [
          140,
          100.3,
          95,
          45.6,
          42,
          40,
          40,
          39,
          38,
          33
         ],
         "yaxis": "y"
        }
       ],
       "layout": {
        "barmode": "group",
        "legend": {
         "title": {
          "text": "variable"
         },
         "tracegroupgap": 0
        },
        "margin": {
         "t": 60
        },
        "template": {
         "data": {
          "bar": [
           {
            "error_x": {
             "color": "#2a3f5f"
            },
            "error_y": {
             "color": "#2a3f5f"
            },
            "marker": {
             "line": {
              "color": "#E5ECF6",
              "width": 0.5
             },
             "pattern": {
              "fillmode": "overlay",
              "size": 10,
              "solidity": 0.2
             }
            },
            "type": "bar"
           }
          ],
          "barpolar": [
           {
            "marker": {
             "line": {
              "color": "#E5ECF6",
              "width": 0.5
             },
             "pattern": {
              "fillmode": "overlay",
              "size": 10,
              "solidity": 0.2
             }
            },
            "type": "barpolar"
           }
          ],
          "carpet": [
           {
            "aaxis": {
             "endlinecolor": "#2a3f5f",
             "gridcolor": "white",
             "linecolor": "white",
             "minorgridcolor": "white",
             "startlinecolor": "#2a3f5f"
            },
            "baxis": {
             "endlinecolor": "#2a3f5f",
             "gridcolor": "white",
             "linecolor": "white",
             "minorgridcolor": "white",
             "startlinecolor": "#2a3f5f"
            },
            "type": "carpet"
           }
          ],
          "choropleth": [
           {
            "colorbar": {
             "outlinewidth": 0,
             "ticks": ""
            },
            "type": "choropleth"
           }
          ],
          "contour": [
           {
            "colorbar": {
             "outlinewidth": 0,
             "ticks": ""
            },
            "colorscale": [
             [
              0,
              "#0d0887"
             ],
             [
              0.1111111111111111,
              "#46039f"
             ],
             [
              0.2222222222222222,
              "#7201a8"
             ],
             [
              0.3333333333333333,
              "#9c179e"
             ],
             [
              0.4444444444444444,
              "#bd3786"
             ],
             [
              0.5555555555555556,
              "#d8576b"
             ],
             [
              0.6666666666666666,
              "#ed7953"
             ],
             [
              0.7777777777777778,
              "#fb9f3a"
             ],
             [
              0.8888888888888888,
              "#fdca26"
             ],
             [
              1,
              "#f0f921"
             ]
            ],
            "type": "contour"
           }
          ],
          "contourcarpet": [
           {
            "colorbar": {
             "outlinewidth": 0,
             "ticks": ""
            },
            "type": "contourcarpet"
           }
          ],
          "heatmap": [
           {
            "colorbar": {
             "outlinewidth": 0,
             "ticks": ""
            },
            "colorscale": [
             [
              0,
              "#0d0887"
             ],
             [
              0.1111111111111111,
              "#46039f"
             ],
             [
              0.2222222222222222,
              "#7201a8"
             ],
             [
              0.3333333333333333,
              "#9c179e"
             ],
             [
              0.4444444444444444,
              "#bd3786"
             ],
             [
              0.5555555555555556,
              "#d8576b"
             ],
             [
              0.6666666666666666,
              "#ed7953"
             ],
             [
              0.7777777777777778,
              "#fb9f3a"
             ],
             [
              0.8888888888888888,
              "#fdca26"
             ],
             [
              1,
              "#f0f921"
             ]
            ],
            "type": "heatmap"
           }
          ],
          "heatmapgl": [
           {
            "colorbar": {
             "outlinewidth": 0,
             "ticks": ""
            },
            "colorscale": [
             [
              0,
              "#0d0887"
             ],
             [
              0.1111111111111111,
              "#46039f"
             ],
             [
              0.2222222222222222,
              "#7201a8"
             ],
             [
              0.3333333333333333,
              "#9c179e"
             ],
             [
              0.4444444444444444,
              "#bd3786"
             ],
             [
              0.5555555555555556,
              "#d8576b"
             ],
             [
              0.6666666666666666,
              "#ed7953"
             ],
             [
              0.7777777777777778,
              "#fb9f3a"
             ],
             [
              0.8888888888888888,
              "#fdca26"
             ],
             [
              1,
              "#f0f921"
             ]
            ],
            "type": "heatmapgl"
           }
          ],
          "histogram": [
           {
            "marker": {
             "pattern": {
              "fillmode": "overlay",
              "size": 10,
              "solidity": 0.2
             }
            },
            "type": "histogram"
           }
          ],
          "histogram2d": [
           {
            "colorbar": {
             "outlinewidth": 0,
             "ticks": ""
            },
            "colorscale": [
             [
              0,
              "#0d0887"
             ],
             [
              0.1111111111111111,
              "#46039f"
             ],
             [
              0.2222222222222222,
              "#7201a8"
             ],
             [
              0.3333333333333333,
              "#9c179e"
             ],
             [
              0.4444444444444444,
              "#bd3786"
             ],
             [
              0.5555555555555556,
              "#d8576b"
             ],
             [
              0.6666666666666666,
              "#ed7953"
             ],
             [
              0.7777777777777778,
              "#fb9f3a"
             ],
             [
              0.8888888888888888,
              "#fdca26"
             ],
             [
              1,
              "#f0f921"
             ]
            ],
            "type": "histogram2d"
           }
          ],
          "histogram2dcontour": [
           {
            "colorbar": {
             "outlinewidth": 0,
             "ticks": ""
            },
            "colorscale": [
             [
              0,
              "#0d0887"
             ],
             [
              0.1111111111111111,
              "#46039f"
             ],
             [
              0.2222222222222222,
              "#7201a8"
             ],
             [
              0.3333333333333333,
              "#9c179e"
             ],
             [
              0.4444444444444444,
              "#bd3786"
             ],
             [
              0.5555555555555556,
              "#d8576b"
             ],
             [
              0.6666666666666666,
              "#ed7953"
             ],
             [
              0.7777777777777778,
              "#fb9f3a"
             ],
             [
              0.8888888888888888,
              "#fdca26"
             ],
             [
              1,
              "#f0f921"
             ]
            ],
            "type": "histogram2dcontour"
           }
          ],
          "mesh3d": [
           {
            "colorbar": {
             "outlinewidth": 0,
             "ticks": ""
            },
            "type": "mesh3d"
           }
          ],
          "parcoords": [
           {
            "line": {
             "colorbar": {
              "outlinewidth": 0,
              "ticks": ""
             }
            },
            "type": "parcoords"
           }
          ],
          "pie": [
           {
            "automargin": true,
            "type": "pie"
           }
          ],
          "scatter": [
           {
            "marker": {
             "colorbar": {
              "outlinewidth": 0,
              "ticks": ""
             }
            },
            "type": "scatter"
           }
          ],
          "scatter3d": [
           {
            "line": {
             "colorbar": {
              "outlinewidth": 0,
              "ticks": ""
             }
            },
            "marker": {
             "colorbar": {
              "outlinewidth": 0,
              "ticks": ""
             }
            },
            "type": "scatter3d"
           }
          ],
          "scattercarpet": [
           {
            "marker": {
             "colorbar": {
              "outlinewidth": 0,
              "ticks": ""
             }
            },
            "type": "scattercarpet"
           }
          ],
          "scattergeo": [
           {
            "marker": {
             "colorbar": {
              "outlinewidth": 0,
              "ticks": ""
             }
            },
            "type": "scattergeo"
           }
          ],
          "scattergl": [
           {
            "marker": {
             "colorbar": {
              "outlinewidth": 0,
              "ticks": ""
             }
            },
            "type": "scattergl"
           }
          ],
          "scattermapbox": [
           {
            "marker": {
             "colorbar": {
              "outlinewidth": 0,
              "ticks": ""
             }
            },
            "type": "scattermapbox"
           }
          ],
          "scatterpolar": [
           {
            "marker": {
             "colorbar": {
              "outlinewidth": 0,
              "ticks": ""
             }
            },
            "type": "scatterpolar"
           }
          ],
          "scatterpolargl": [
           {
            "marker": {
             "colorbar": {
              "outlinewidth": 0,
              "ticks": ""
             }
            },
            "type": "scatterpolargl"
           }
          ],
          "scatterternary": [
           {
            "marker": {
             "colorbar": {
              "outlinewidth": 0,
              "ticks": ""
             }
            },
            "type": "scatterternary"
           }
          ],
          "surface": [
           {
            "colorbar": {
             "outlinewidth": 0,
             "ticks": ""
            },
            "colorscale": [
             [
              0,
              "#0d0887"
             ],
             [
              0.1111111111111111,
              "#46039f"
             ],
             [
              0.2222222222222222,
              "#7201a8"
             ],
             [
              0.3333333333333333,
              "#9c179e"
             ],
             [
              0.4444444444444444,
              "#bd3786"
             ],
             [
              0.5555555555555556,
              "#d8576b"
             ],
             [
              0.6666666666666666,
              "#ed7953"
             ],
             [
              0.7777777777777778,
              "#fb9f3a"
             ],
             [
              0.8888888888888888,
              "#fdca26"
             ],
             [
              1,
              "#f0f921"
             ]
            ],
            "type": "surface"
           }
          ],
          "table": [
           {
            "cells": {
             "fill": {
              "color": "#EBF0F8"
             },
             "line": {
              "color": "white"
             }
            },
            "header": {
             "fill": {
              "color": "#C8D4E3"
             },
             "line": {
              "color": "white"
             }
            },
            "type": "table"
           }
          ]
         },
         "layout": {
          "annotationdefaults": {
           "arrowcolor": "#2a3f5f",
           "arrowhead": 0,
           "arrowwidth": 1
          },
          "autotypenumbers": "strict",
          "coloraxis": {
           "colorbar": {
            "outlinewidth": 0,
            "ticks": ""
           }
          },
          "colorscale": {
           "diverging": [
            [
             0,
             "#8e0152"
            ],
            [
             0.1,
             "#c51b7d"
            ],
            [
             0.2,
             "#de77ae"
            ],
            [
             0.3,
             "#f1b6da"
            ],
            [
             0.4,
             "#fde0ef"
            ],
            [
             0.5,
             "#f7f7f7"
            ],
            [
             0.6,
             "#e6f5d0"
            ],
            [
             0.7,
             "#b8e186"
            ],
            [
             0.8,
             "#7fbc41"
            ],
            [
             0.9,
             "#4d9221"
            ],
            [
             1,
             "#276419"
            ]
           ],
           "sequential": [
            [
             0,
             "#0d0887"
            ],
            [
             0.1111111111111111,
             "#46039f"
            ],
            [
             0.2222222222222222,
             "#7201a8"
            ],
            [
             0.3333333333333333,
             "#9c179e"
            ],
            [
             0.4444444444444444,
             "#bd3786"
            ],
            [
             0.5555555555555556,
             "#d8576b"
            ],
            [
             0.6666666666666666,
             "#ed7953"
            ],
            [
             0.7777777777777778,
             "#fb9f3a"
            ],
            [
             0.8888888888888888,
             "#fdca26"
            ],
            [
             1,
             "#f0f921"
            ]
           ],
           "sequentialminus": [
            [
             0,
             "#0d0887"
            ],
            [
             0.1111111111111111,
             "#46039f"
            ],
            [
             0.2222222222222222,
             "#7201a8"
            ],
            [
             0.3333333333333333,
             "#9c179e"
            ],
            [
             0.4444444444444444,
             "#bd3786"
            ],
            [
             0.5555555555555556,
             "#d8576b"
            ],
            [
             0.6666666666666666,
             "#ed7953"
            ],
            [
             0.7777777777777778,
             "#fb9f3a"
            ],
            [
             0.8888888888888888,
             "#fdca26"
            ],
            [
             1,
             "#f0f921"
            ]
           ]
          },
          "colorway": [
           "#636efa",
           "#EF553B",
           "#00cc96",
           "#ab63fa",
           "#FFA15A",
           "#19d3f3",
           "#FF6692",
           "#B6E880",
           "#FF97FF",
           "#FECB52"
          ],
          "font": {
           "color": "#2a3f5f"
          },
          "geo": {
           "bgcolor": "white",
           "lakecolor": "white",
           "landcolor": "#E5ECF6",
           "showlakes": true,
           "showland": true,
           "subunitcolor": "white"
          },
          "hoverlabel": {
           "align": "left"
          },
          "hovermode": "closest",
          "mapbox": {
           "style": "light"
          },
          "paper_bgcolor": "white",
          "plot_bgcolor": "#E5ECF6",
          "polar": {
           "angularaxis": {
            "gridcolor": "white",
            "linecolor": "white",
            "ticks": ""
           },
           "bgcolor": "#E5ECF6",
           "radialaxis": {
            "gridcolor": "white",
            "linecolor": "white",
            "ticks": ""
           }
          },
          "scene": {
           "xaxis": {
            "backgroundcolor": "#E5ECF6",
            "gridcolor": "white",
            "gridwidth": 2,
            "linecolor": "white",
            "showbackground": true,
            "ticks": "",
            "zerolinecolor": "white"
           },
           "yaxis": {
            "backgroundcolor": "#E5ECF6",
            "gridcolor": "white",
            "gridwidth": 2,
            "linecolor": "white",
            "showbackground": true,
            "ticks": "",
            "zerolinecolor": "white"
           },
           "zaxis": {
            "backgroundcolor": "#E5ECF6",
            "gridcolor": "white",
            "gridwidth": 2,
            "linecolor": "white",
            "showbackground": true,
            "ticks": "",
            "zerolinecolor": "white"
           }
          },
          "shapedefaults": {
           "line": {
            "color": "#2a3f5f"
           }
          },
          "ternary": {
           "aaxis": {
            "gridcolor": "white",
            "linecolor": "white",
            "ticks": ""
           },
           "baxis": {
            "gridcolor": "white",
            "linecolor": "white",
            "ticks": ""
           },
           "bgcolor": "#E5ECF6",
           "caxis": {
            "gridcolor": "white",
            "linecolor": "white",
            "ticks": ""
           }
          },
          "title": {
           "x": 0.05
          },
          "xaxis": {
           "automargin": true,
           "gridcolor": "white",
           "linecolor": "white",
           "ticks": "",
           "title": {
            "standoff": 15
           },
           "zerolinecolor": "white",
           "zerolinewidth": 2
          },
          "yaxis": {
           "automargin": true,
           "gridcolor": "white",
           "linecolor": "white",
           "ticks": "",
           "title": {
            "standoff": 15
           },
           "zerolinecolor": "white",
           "zerolinewidth": 2
          }
         }
        },
        "xaxis": {
         "anchor": "y",
         "domain": [
          0,
          1
         ],
         "title": {
          "text": "Company"
         }
        },
        "yaxis": {
         "anchor": "x",
         "domain": [
          0,
          1
         ],
         "title": {
          "text": "value"
         }
        }
       }
      }
     },
     "metadata": {},
     "output_type": "display_data"
    }
   ],
   "source": [
    "px.bar(top_10_companies,x=\"Company\", y=[\"Total Raised\", \"Valuation ($B)\"],opacity = 0.5,\n",
    "orientation = \"v\", barmode=\"group\",color_discrete_sequence=px.colors.qualitative.Bold)"
   ]
  },
  {
   "cell_type": "code",
   "execution_count": 75,
   "metadata": {
    "pycharm": {
     "name": "#%%\n"
    }
   },
   "outputs": [
    {
     "data": {
      "text/plain": [
       "Country\n",
       "United States     1793.64\n",
       "China              542.10\n",
       "India              175.54\n",
       "United Kingdom     168.93\n",
       "Germany             66.70\n",
       "Name: Valuation ($B), dtype: float64"
      ]
     },
     "execution_count": 75,
     "metadata": {},
     "output_type": "execute_result"
    }
   ],
   "source": [
    "# Top 5 countries\n",
    "country_unicorns = unicorn_master.groupby(\"Country\")\n",
    "top5Countries = country_unicorns['Valuation ($B)'].sum().sort_values(ascending=False)[:5]\n",
    "top5Countries"
   ]
  },
  {
   "cell_type": "code",
   "execution_count": 76,
   "metadata": {
    "pycharm": {
     "name": "#%%\n"
    }
   },
   "outputs": [
    {
     "data": {
      "application/vnd.plotly.v1+json": {
       "config": {
        "plotlyServerURL": "https://plot.ly"
       },
       "data": [
        {
         "alignmentgroup": "True",
         "hovertemplate": "variable=Valuation ($B)<br>Country=%{x}<br>value=%{y}<extra></extra>",
         "legendgroup": "Valuation ($B)",
         "marker": {
          "color": "#636efa",
          "pattern": {
           "shape": ""
          }
         },
         "name": "Valuation ($B)",
         "offsetgroup": "Valuation ($B)",
         "orientation": "v",
         "showlegend": true,
         "textposition": "auto",
         "type": "bar",
         "x": [
          "United States",
          "China",
          "India",
          "United Kingdom",
          "Germany"
         ],
         "xaxis": "x",
         "y": [
          1793.64,
          542.1,
          175.54,
          168.93,
          66.7
         ],
         "yaxis": "y"
        }
       ],
       "layout": {
        "barmode": "relative",
        "legend": {
         "title": {
          "text": "variable"
         },
         "tracegroupgap": 0
        },
        "margin": {
         "t": 60
        },
        "template": {
         "data": {
          "bar": [
           {
            "error_x": {
             "color": "#2a3f5f"
            },
            "error_y": {
             "color": "#2a3f5f"
            },
            "marker": {
             "line": {
              "color": "#E5ECF6",
              "width": 0.5
             },
             "pattern": {
              "fillmode": "overlay",
              "size": 10,
              "solidity": 0.2
             }
            },
            "type": "bar"
           }
          ],
          "barpolar": [
           {
            "marker": {
             "line": {
              "color": "#E5ECF6",
              "width": 0.5
             },
             "pattern": {
              "fillmode": "overlay",
              "size": 10,
              "solidity": 0.2
             }
            },
            "type": "barpolar"
           }
          ],
          "carpet": [
           {
            "aaxis": {
             "endlinecolor": "#2a3f5f",
             "gridcolor": "white",
             "linecolor": "white",
             "minorgridcolor": "white",
             "startlinecolor": "#2a3f5f"
            },
            "baxis": {
             "endlinecolor": "#2a3f5f",
             "gridcolor": "white",
             "linecolor": "white",
             "minorgridcolor": "white",
             "startlinecolor": "#2a3f5f"
            },
            "type": "carpet"
           }
          ],
          "choropleth": [
           {
            "colorbar": {
             "outlinewidth": 0,
             "ticks": ""
            },
            "type": "choropleth"
           }
          ],
          "contour": [
           {
            "colorbar": {
             "outlinewidth": 0,
             "ticks": ""
            },
            "colorscale": [
             [
              0,
              "#0d0887"
             ],
             [
              0.1111111111111111,
              "#46039f"
             ],
             [
              0.2222222222222222,
              "#7201a8"
             ],
             [
              0.3333333333333333,
              "#9c179e"
             ],
             [
              0.4444444444444444,
              "#bd3786"
             ],
             [
              0.5555555555555556,
              "#d8576b"
             ],
             [
              0.6666666666666666,
              "#ed7953"
             ],
             [
              0.7777777777777778,
              "#fb9f3a"
             ],
             [
              0.8888888888888888,
              "#fdca26"
             ],
             [
              1,
              "#f0f921"
             ]
            ],
            "type": "contour"
           }
          ],
          "contourcarpet": [
           {
            "colorbar": {
             "outlinewidth": 0,
             "ticks": ""
            },
            "type": "contourcarpet"
           }
          ],
          "heatmap": [
           {
            "colorbar": {
             "outlinewidth": 0,
             "ticks": ""
            },
            "colorscale": [
             [
              0,
              "#0d0887"
             ],
             [
              0.1111111111111111,
              "#46039f"
             ],
             [
              0.2222222222222222,
              "#7201a8"
             ],
             [
              0.3333333333333333,
              "#9c179e"
             ],
             [
              0.4444444444444444,
              "#bd3786"
             ],
             [
              0.5555555555555556,
              "#d8576b"
             ],
             [
              0.6666666666666666,
              "#ed7953"
             ],
             [
              0.7777777777777778,
              "#fb9f3a"
             ],
             [
              0.8888888888888888,
              "#fdca26"
             ],
             [
              1,
              "#f0f921"
             ]
            ],
            "type": "heatmap"
           }
          ],
          "heatmapgl": [
           {
            "colorbar": {
             "outlinewidth": 0,
             "ticks": ""
            },
            "colorscale": [
             [
              0,
              "#0d0887"
             ],
             [
              0.1111111111111111,
              "#46039f"
             ],
             [
              0.2222222222222222,
              "#7201a8"
             ],
             [
              0.3333333333333333,
              "#9c179e"
             ],
             [
              0.4444444444444444,
              "#bd3786"
             ],
             [
              0.5555555555555556,
              "#d8576b"
             ],
             [
              0.6666666666666666,
              "#ed7953"
             ],
             [
              0.7777777777777778,
              "#fb9f3a"
             ],
             [
              0.8888888888888888,
              "#fdca26"
             ],
             [
              1,
              "#f0f921"
             ]
            ],
            "type": "heatmapgl"
           }
          ],
          "histogram": [
           {
            "marker": {
             "pattern": {
              "fillmode": "overlay",
              "size": 10,
              "solidity": 0.2
             }
            },
            "type": "histogram"
           }
          ],
          "histogram2d": [
           {
            "colorbar": {
             "outlinewidth": 0,
             "ticks": ""
            },
            "colorscale": [
             [
              0,
              "#0d0887"
             ],
             [
              0.1111111111111111,
              "#46039f"
             ],
             [
              0.2222222222222222,
              "#7201a8"
             ],
             [
              0.3333333333333333,
              "#9c179e"
             ],
             [
              0.4444444444444444,
              "#bd3786"
             ],
             [
              0.5555555555555556,
              "#d8576b"
             ],
             [
              0.6666666666666666,
              "#ed7953"
             ],
             [
              0.7777777777777778,
              "#fb9f3a"
             ],
             [
              0.8888888888888888,
              "#fdca26"
             ],
             [
              1,
              "#f0f921"
             ]
            ],
            "type": "histogram2d"
           }
          ],
          "histogram2dcontour": [
           {
            "colorbar": {
             "outlinewidth": 0,
             "ticks": ""
            },
            "colorscale": [
             [
              0,
              "#0d0887"
             ],
             [
              0.1111111111111111,
              "#46039f"
             ],
             [
              0.2222222222222222,
              "#7201a8"
             ],
             [
              0.3333333333333333,
              "#9c179e"
             ],
             [
              0.4444444444444444,
              "#bd3786"
             ],
             [
              0.5555555555555556,
              "#d8576b"
             ],
             [
              0.6666666666666666,
              "#ed7953"
             ],
             [
              0.7777777777777778,
              "#fb9f3a"
             ],
             [
              0.8888888888888888,
              "#fdca26"
             ],
             [
              1,
              "#f0f921"
             ]
            ],
            "type": "histogram2dcontour"
           }
          ],
          "mesh3d": [
           {
            "colorbar": {
             "outlinewidth": 0,
             "ticks": ""
            },
            "type": "mesh3d"
           }
          ],
          "parcoords": [
           {
            "line": {
             "colorbar": {
              "outlinewidth": 0,
              "ticks": ""
             }
            },
            "type": "parcoords"
           }
          ],
          "pie": [
           {
            "automargin": true,
            "type": "pie"
           }
          ],
          "scatter": [
           {
            "marker": {
             "colorbar": {
              "outlinewidth": 0,
              "ticks": ""
             }
            },
            "type": "scatter"
           }
          ],
          "scatter3d": [
           {
            "line": {
             "colorbar": {
              "outlinewidth": 0,
              "ticks": ""
             }
            },
            "marker": {
             "colorbar": {
              "outlinewidth": 0,
              "ticks": ""
             }
            },
            "type": "scatter3d"
           }
          ],
          "scattercarpet": [
           {
            "marker": {
             "colorbar": {
              "outlinewidth": 0,
              "ticks": ""
             }
            },
            "type": "scattercarpet"
           }
          ],
          "scattergeo": [
           {
            "marker": {
             "colorbar": {
              "outlinewidth": 0,
              "ticks": ""
             }
            },
            "type": "scattergeo"
           }
          ],
          "scattergl": [
           {
            "marker": {
             "colorbar": {
              "outlinewidth": 0,
              "ticks": ""
             }
            },
            "type": "scattergl"
           }
          ],
          "scattermapbox": [
           {
            "marker": {
             "colorbar": {
              "outlinewidth": 0,
              "ticks": ""
             }
            },
            "type": "scattermapbox"
           }
          ],
          "scatterpolar": [
           {
            "marker": {
             "colorbar": {
              "outlinewidth": 0,
              "ticks": ""
             }
            },
            "type": "scatterpolar"
           }
          ],
          "scatterpolargl": [
           {
            "marker": {
             "colorbar": {
              "outlinewidth": 0,
              "ticks": ""
             }
            },
            "type": "scatterpolargl"
           }
          ],
          "scatterternary": [
           {
            "marker": {
             "colorbar": {
              "outlinewidth": 0,
              "ticks": ""
             }
            },
            "type": "scatterternary"
           }
          ],
          "surface": [
           {
            "colorbar": {
             "outlinewidth": 0,
             "ticks": ""
            },
            "colorscale": [
             [
              0,
              "#0d0887"
             ],
             [
              0.1111111111111111,
              "#46039f"
             ],
             [
              0.2222222222222222,
              "#7201a8"
             ],
             [
              0.3333333333333333,
              "#9c179e"
             ],
             [
              0.4444444444444444,
              "#bd3786"
             ],
             [
              0.5555555555555556,
              "#d8576b"
             ],
             [
              0.6666666666666666,
              "#ed7953"
             ],
             [
              0.7777777777777778,
              "#fb9f3a"
             ],
             [
              0.8888888888888888,
              "#fdca26"
             ],
             [
              1,
              "#f0f921"
             ]
            ],
            "type": "surface"
           }
          ],
          "table": [
           {
            "cells": {
             "fill": {
              "color": "#EBF0F8"
             },
             "line": {
              "color": "white"
             }
            },
            "header": {
             "fill": {
              "color": "#C8D4E3"
             },
             "line": {
              "color": "white"
             }
            },
            "type": "table"
           }
          ]
         },
         "layout": {
          "annotationdefaults": {
           "arrowcolor": "#2a3f5f",
           "arrowhead": 0,
           "arrowwidth": 1
          },
          "autotypenumbers": "strict",
          "coloraxis": {
           "colorbar": {
            "outlinewidth": 0,
            "ticks": ""
           }
          },
          "colorscale": {
           "diverging": [
            [
             0,
             "#8e0152"
            ],
            [
             0.1,
             "#c51b7d"
            ],
            [
             0.2,
             "#de77ae"
            ],
            [
             0.3,
             "#f1b6da"
            ],
            [
             0.4,
             "#fde0ef"
            ],
            [
             0.5,
             "#f7f7f7"
            ],
            [
             0.6,
             "#e6f5d0"
            ],
            [
             0.7,
             "#b8e186"
            ],
            [
             0.8,
             "#7fbc41"
            ],
            [
             0.9,
             "#4d9221"
            ],
            [
             1,
             "#276419"
            ]
           ],
           "sequential": [
            [
             0,
             "#0d0887"
            ],
            [
             0.1111111111111111,
             "#46039f"
            ],
            [
             0.2222222222222222,
             "#7201a8"
            ],
            [
             0.3333333333333333,
             "#9c179e"
            ],
            [
             0.4444444444444444,
             "#bd3786"
            ],
            [
             0.5555555555555556,
             "#d8576b"
            ],
            [
             0.6666666666666666,
             "#ed7953"
            ],
            [
             0.7777777777777778,
             "#fb9f3a"
            ],
            [
             0.8888888888888888,
             "#fdca26"
            ],
            [
             1,
             "#f0f921"
            ]
           ],
           "sequentialminus": [
            [
             0,
             "#0d0887"
            ],
            [
             0.1111111111111111,
             "#46039f"
            ],
            [
             0.2222222222222222,
             "#7201a8"
            ],
            [
             0.3333333333333333,
             "#9c179e"
            ],
            [
             0.4444444444444444,
             "#bd3786"
            ],
            [
             0.5555555555555556,
             "#d8576b"
            ],
            [
             0.6666666666666666,
             "#ed7953"
            ],
            [
             0.7777777777777778,
             "#fb9f3a"
            ],
            [
             0.8888888888888888,
             "#fdca26"
            ],
            [
             1,
             "#f0f921"
            ]
           ]
          },
          "colorway": [
           "#636efa",
           "#EF553B",
           "#00cc96",
           "#ab63fa",
           "#FFA15A",
           "#19d3f3",
           "#FF6692",
           "#B6E880",
           "#FF97FF",
           "#FECB52"
          ],
          "font": {
           "color": "#2a3f5f"
          },
          "geo": {
           "bgcolor": "white",
           "lakecolor": "white",
           "landcolor": "#E5ECF6",
           "showlakes": true,
           "showland": true,
           "subunitcolor": "white"
          },
          "hoverlabel": {
           "align": "left"
          },
          "hovermode": "closest",
          "mapbox": {
           "style": "light"
          },
          "paper_bgcolor": "white",
          "plot_bgcolor": "#E5ECF6",
          "polar": {
           "angularaxis": {
            "gridcolor": "white",
            "linecolor": "white",
            "ticks": ""
           },
           "bgcolor": "#E5ECF6",
           "radialaxis": {
            "gridcolor": "white",
            "linecolor": "white",
            "ticks": ""
           }
          },
          "scene": {
           "xaxis": {
            "backgroundcolor": "#E5ECF6",
            "gridcolor": "white",
            "gridwidth": 2,
            "linecolor": "white",
            "showbackground": true,
            "ticks": "",
            "zerolinecolor": "white"
           },
           "yaxis": {
            "backgroundcolor": "#E5ECF6",
            "gridcolor": "white",
            "gridwidth": 2,
            "linecolor": "white",
            "showbackground": true,
            "ticks": "",
            "zerolinecolor": "white"
           },
           "zaxis": {
            "backgroundcolor": "#E5ECF6",
            "gridcolor": "white",
            "gridwidth": 2,
            "linecolor": "white",
            "showbackground": true,
            "ticks": "",
            "zerolinecolor": "white"
           }
          },
          "shapedefaults": {
           "line": {
            "color": "#2a3f5f"
           }
          },
          "ternary": {
           "aaxis": {
            "gridcolor": "white",
            "linecolor": "white",
            "ticks": ""
           },
           "baxis": {
            "gridcolor": "white",
            "linecolor": "white",
            "ticks": ""
           },
           "bgcolor": "#E5ECF6",
           "caxis": {
            "gridcolor": "white",
            "linecolor": "white",
            "ticks": ""
           }
          },
          "title": {
           "x": 0.05
          },
          "xaxis": {
           "automargin": true,
           "gridcolor": "white",
           "linecolor": "white",
           "ticks": "",
           "title": {
            "standoff": 15
           },
           "zerolinecolor": "white",
           "zerolinewidth": 2
          },
          "yaxis": {
           "automargin": true,
           "gridcolor": "white",
           "linecolor": "white",
           "ticks": "",
           "title": {
            "standoff": 15
           },
           "zerolinecolor": "white",
           "zerolinewidth": 2
          }
         }
        },
        "xaxis": {
         "anchor": "y",
         "domain": [
          0,
          1
         ],
         "title": {
          "text": "Country"
         }
        },
        "yaxis": {
         "anchor": "x",
         "domain": [
          0,
          1
         ],
         "title": {
          "text": "value"
         }
        }
       }
      }
     },
     "metadata": {},
     "output_type": "display_data"
    }
   ],
   "source": [
    "px.bar(top5Countries)"
   ]
  },
  {
   "cell_type": "code",
   "execution_count": 104,
   "metadata": {
    "pycharm": {
     "name": "#%%\n"
    }
   },
   "outputs": [],
   "source": [
    "industry_total = unicorn_master['Industry'].value_counts()\n",
    "industry_top_5 = industry_total.head()"
   ]
  },
  {
   "cell_type": "code",
   "execution_count": 107,
   "metadata": {
    "pycharm": {
     "name": "#%%\n"
    }
   },
   "outputs": [
    {
     "data": {
      "application/vnd.plotly.v1+json": {
       "config": {
        "plotlyServerURL": "https://plot.ly"
       },
       "data": [
        {
         "alignmentgroup": "True",
         "hovertemplate": "variable=Industry<br>index=%{x}<br>value=%{y}<extra></extra>",
         "legendgroup": "Industry",
         "marker": {
          "color": "rgb(102, 197, 204)",
          "pattern": {
           "shape": ""
          }
         },
         "name": "Industry",
         "offsetgroup": "Industry",
         "orientation": "v",
         "showlegend": true,
         "textposition": "auto",
         "type": "bar",
         "x": [
          "Fintech",
          "Internet software & services",
          "E-commerce & direct-to-consumer",
          "Artificial intelligence",
          "Health"
         ],
         "xaxis": "x",
         "y": [
          193,
          184,
          102,
          69,
          67
         ],
         "yaxis": "y"
        }
       ],
       "layout": {
        "barmode": "relative",
        "legend": {
         "title": {
          "text": "variable"
         },
         "tracegroupgap": 0
        },
        "margin": {
         "t": 60
        },
        "template": {
         "data": {
          "bar": [
           {
            "error_x": {
             "color": "#2a3f5f"
            },
            "error_y": {
             "color": "#2a3f5f"
            },
            "marker": {
             "line": {
              "color": "#E5ECF6",
              "width": 0.5
             },
             "pattern": {
              "fillmode": "overlay",
              "size": 10,
              "solidity": 0.2
             }
            },
            "type": "bar"
           }
          ],
          "barpolar": [
           {
            "marker": {
             "line": {
              "color": "#E5ECF6",
              "width": 0.5
             },
             "pattern": {
              "fillmode": "overlay",
              "size": 10,
              "solidity": 0.2
             }
            },
            "type": "barpolar"
           }
          ],
          "carpet": [
           {
            "aaxis": {
             "endlinecolor": "#2a3f5f",
             "gridcolor": "white",
             "linecolor": "white",
             "minorgridcolor": "white",
             "startlinecolor": "#2a3f5f"
            },
            "baxis": {
             "endlinecolor": "#2a3f5f",
             "gridcolor": "white",
             "linecolor": "white",
             "minorgridcolor": "white",
             "startlinecolor": "#2a3f5f"
            },
            "type": "carpet"
           }
          ],
          "choropleth": [
           {
            "colorbar": {
             "outlinewidth": 0,
             "ticks": ""
            },
            "type": "choropleth"
           }
          ],
          "contour": [
           {
            "colorbar": {
             "outlinewidth": 0,
             "ticks": ""
            },
            "colorscale": [
             [
              0,
              "#0d0887"
             ],
             [
              0.1111111111111111,
              "#46039f"
             ],
             [
              0.2222222222222222,
              "#7201a8"
             ],
             [
              0.3333333333333333,
              "#9c179e"
             ],
             [
              0.4444444444444444,
              "#bd3786"
             ],
             [
              0.5555555555555556,
              "#d8576b"
             ],
             [
              0.6666666666666666,
              "#ed7953"
             ],
             [
              0.7777777777777778,
              "#fb9f3a"
             ],
             [
              0.8888888888888888,
              "#fdca26"
             ],
             [
              1,
              "#f0f921"
             ]
            ],
            "type": "contour"
           }
          ],
          "contourcarpet": [
           {
            "colorbar": {
             "outlinewidth": 0,
             "ticks": ""
            },
            "type": "contourcarpet"
           }
          ],
          "heatmap": [
           {
            "colorbar": {
             "outlinewidth": 0,
             "ticks": ""
            },
            "colorscale": [
             [
              0,
              "#0d0887"
             ],
             [
              0.1111111111111111,
              "#46039f"
             ],
             [
              0.2222222222222222,
              "#7201a8"
             ],
             [
              0.3333333333333333,
              "#9c179e"
             ],
             [
              0.4444444444444444,
              "#bd3786"
             ],
             [
              0.5555555555555556,
              "#d8576b"
             ],
             [
              0.6666666666666666,
              "#ed7953"
             ],
             [
              0.7777777777777778,
              "#fb9f3a"
             ],
             [
              0.8888888888888888,
              "#fdca26"
             ],
             [
              1,
              "#f0f921"
             ]
            ],
            "type": "heatmap"
           }
          ],
          "heatmapgl": [
           {
            "colorbar": {
             "outlinewidth": 0,
             "ticks": ""
            },
            "colorscale": [
             [
              0,
              "#0d0887"
             ],
             [
              0.1111111111111111,
              "#46039f"
             ],
             [
              0.2222222222222222,
              "#7201a8"
             ],
             [
              0.3333333333333333,
              "#9c179e"
             ],
             [
              0.4444444444444444,
              "#bd3786"
             ],
             [
              0.5555555555555556,
              "#d8576b"
             ],
             [
              0.6666666666666666,
              "#ed7953"
             ],
             [
              0.7777777777777778,
              "#fb9f3a"
             ],
             [
              0.8888888888888888,
              "#fdca26"
             ],
             [
              1,
              "#f0f921"
             ]
            ],
            "type": "heatmapgl"
           }
          ],
          "histogram": [
           {
            "marker": {
             "pattern": {
              "fillmode": "overlay",
              "size": 10,
              "solidity": 0.2
             }
            },
            "type": "histogram"
           }
          ],
          "histogram2d": [
           {
            "colorbar": {
             "outlinewidth": 0,
             "ticks": ""
            },
            "colorscale": [
             [
              0,
              "#0d0887"
             ],
             [
              0.1111111111111111,
              "#46039f"
             ],
             [
              0.2222222222222222,
              "#7201a8"
             ],
             [
              0.3333333333333333,
              "#9c179e"
             ],
             [
              0.4444444444444444,
              "#bd3786"
             ],
             [
              0.5555555555555556,
              "#d8576b"
             ],
             [
              0.6666666666666666,
              "#ed7953"
             ],
             [
              0.7777777777777778,
              "#fb9f3a"
             ],
             [
              0.8888888888888888,
              "#fdca26"
             ],
             [
              1,
              "#f0f921"
             ]
            ],
            "type": "histogram2d"
           }
          ],
          "histogram2dcontour": [
           {
            "colorbar": {
             "outlinewidth": 0,
             "ticks": ""
            },
            "colorscale": [
             [
              0,
              "#0d0887"
             ],
             [
              0.1111111111111111,
              "#46039f"
             ],
             [
              0.2222222222222222,
              "#7201a8"
             ],
             [
              0.3333333333333333,
              "#9c179e"
             ],
             [
              0.4444444444444444,
              "#bd3786"
             ],
             [
              0.5555555555555556,
              "#d8576b"
             ],
             [
              0.6666666666666666,
              "#ed7953"
             ],
             [
              0.7777777777777778,
              "#fb9f3a"
             ],
             [
              0.8888888888888888,
              "#fdca26"
             ],
             [
              1,
              "#f0f921"
             ]
            ],
            "type": "histogram2dcontour"
           }
          ],
          "mesh3d": [
           {
            "colorbar": {
             "outlinewidth": 0,
             "ticks": ""
            },
            "type": "mesh3d"
           }
          ],
          "parcoords": [
           {
            "line": {
             "colorbar": {
              "outlinewidth": 0,
              "ticks": ""
             }
            },
            "type": "parcoords"
           }
          ],
          "pie": [
           {
            "automargin": true,
            "type": "pie"
           }
          ],
          "scatter": [
           {
            "marker": {
             "colorbar": {
              "outlinewidth": 0,
              "ticks": ""
             }
            },
            "type": "scatter"
           }
          ],
          "scatter3d": [
           {
            "line": {
             "colorbar": {
              "outlinewidth": 0,
              "ticks": ""
             }
            },
            "marker": {
             "colorbar": {
              "outlinewidth": 0,
              "ticks": ""
             }
            },
            "type": "scatter3d"
           }
          ],
          "scattercarpet": [
           {
            "marker": {
             "colorbar": {
              "outlinewidth": 0,
              "ticks": ""
             }
            },
            "type": "scattercarpet"
           }
          ],
          "scattergeo": [
           {
            "marker": {
             "colorbar": {
              "outlinewidth": 0,
              "ticks": ""
             }
            },
            "type": "scattergeo"
           }
          ],
          "scattergl": [
           {
            "marker": {
             "colorbar": {
              "outlinewidth": 0,
              "ticks": ""
             }
            },
            "type": "scattergl"
           }
          ],
          "scattermapbox": [
           {
            "marker": {
             "colorbar": {
              "outlinewidth": 0,
              "ticks": ""
             }
            },
            "type": "scattermapbox"
           }
          ],
          "scatterpolar": [
           {
            "marker": {
             "colorbar": {
              "outlinewidth": 0,
              "ticks": ""
             }
            },
            "type": "scatterpolar"
           }
          ],
          "scatterpolargl": [
           {
            "marker": {
             "colorbar": {
              "outlinewidth": 0,
              "ticks": ""
             }
            },
            "type": "scatterpolargl"
           }
          ],
          "scatterternary": [
           {
            "marker": {
             "colorbar": {
              "outlinewidth": 0,
              "ticks": ""
             }
            },
            "type": "scatterternary"
           }
          ],
          "surface": [
           {
            "colorbar": {
             "outlinewidth": 0,
             "ticks": ""
            },
            "colorscale": [
             [
              0,
              "#0d0887"
             ],
             [
              0.1111111111111111,
              "#46039f"
             ],
             [
              0.2222222222222222,
              "#7201a8"
             ],
             [
              0.3333333333333333,
              "#9c179e"
             ],
             [
              0.4444444444444444,
              "#bd3786"
             ],
             [
              0.5555555555555556,
              "#d8576b"
             ],
             [
              0.6666666666666666,
              "#ed7953"
             ],
             [
              0.7777777777777778,
              "#fb9f3a"
             ],
             [
              0.8888888888888888,
              "#fdca26"
             ],
             [
              1,
              "#f0f921"
             ]
            ],
            "type": "surface"
           }
          ],
          "table": [
           {
            "cells": {
             "fill": {
              "color": "#EBF0F8"
             },
             "line": {
              "color": "white"
             }
            },
            "header": {
             "fill": {
              "color": "#C8D4E3"
             },
             "line": {
              "color": "white"
             }
            },
            "type": "table"
           }
          ]
         },
         "layout": {
          "annotationdefaults": {
           "arrowcolor": "#2a3f5f",
           "arrowhead": 0,
           "arrowwidth": 1
          },
          "autotypenumbers": "strict",
          "coloraxis": {
           "colorbar": {
            "outlinewidth": 0,
            "ticks": ""
           }
          },
          "colorscale": {
           "diverging": [
            [
             0,
             "#8e0152"
            ],
            [
             0.1,
             "#c51b7d"
            ],
            [
             0.2,
             "#de77ae"
            ],
            [
             0.3,
             "#f1b6da"
            ],
            [
             0.4,
             "#fde0ef"
            ],
            [
             0.5,
             "#f7f7f7"
            ],
            [
             0.6,
             "#e6f5d0"
            ],
            [
             0.7,
             "#b8e186"
            ],
            [
             0.8,
             "#7fbc41"
            ],
            [
             0.9,
             "#4d9221"
            ],
            [
             1,
             "#276419"
            ]
           ],
           "sequential": [
            [
             0,
             "#0d0887"
            ],
            [
             0.1111111111111111,
             "#46039f"
            ],
            [
             0.2222222222222222,
             "#7201a8"
            ],
            [
             0.3333333333333333,
             "#9c179e"
            ],
            [
             0.4444444444444444,
             "#bd3786"
            ],
            [
             0.5555555555555556,
             "#d8576b"
            ],
            [
             0.6666666666666666,
             "#ed7953"
            ],
            [
             0.7777777777777778,
             "#fb9f3a"
            ],
            [
             0.8888888888888888,
             "#fdca26"
            ],
            [
             1,
             "#f0f921"
            ]
           ],
           "sequentialminus": [
            [
             0,
             "#0d0887"
            ],
            [
             0.1111111111111111,
             "#46039f"
            ],
            [
             0.2222222222222222,
             "#7201a8"
            ],
            [
             0.3333333333333333,
             "#9c179e"
            ],
            [
             0.4444444444444444,
             "#bd3786"
            ],
            [
             0.5555555555555556,
             "#d8576b"
            ],
            [
             0.6666666666666666,
             "#ed7953"
            ],
            [
             0.7777777777777778,
             "#fb9f3a"
            ],
            [
             0.8888888888888888,
             "#fdca26"
            ],
            [
             1,
             "#f0f921"
            ]
           ]
          },
          "colorway": [
           "#636efa",
           "#EF553B",
           "#00cc96",
           "#ab63fa",
           "#FFA15A",
           "#19d3f3",
           "#FF6692",
           "#B6E880",
           "#FF97FF",
           "#FECB52"
          ],
          "font": {
           "color": "#2a3f5f"
          },
          "geo": {
           "bgcolor": "white",
           "lakecolor": "white",
           "landcolor": "#E5ECF6",
           "showlakes": true,
           "showland": true,
           "subunitcolor": "white"
          },
          "hoverlabel": {
           "align": "left"
          },
          "hovermode": "closest",
          "mapbox": {
           "style": "light"
          },
          "paper_bgcolor": "white",
          "plot_bgcolor": "#E5ECF6",
          "polar": {
           "angularaxis": {
            "gridcolor": "white",
            "linecolor": "white",
            "ticks": ""
           },
           "bgcolor": "#E5ECF6",
           "radialaxis": {
            "gridcolor": "white",
            "linecolor": "white",
            "ticks": ""
           }
          },
          "scene": {
           "xaxis": {
            "backgroundcolor": "#E5ECF6",
            "gridcolor": "white",
            "gridwidth": 2,
            "linecolor": "white",
            "showbackground": true,
            "ticks": "",
            "zerolinecolor": "white"
           },
           "yaxis": {
            "backgroundcolor": "#E5ECF6",
            "gridcolor": "white",
            "gridwidth": 2,
            "linecolor": "white",
            "showbackground": true,
            "ticks": "",
            "zerolinecolor": "white"
           },
           "zaxis": {
            "backgroundcolor": "#E5ECF6",
            "gridcolor": "white",
            "gridwidth": 2,
            "linecolor": "white",
            "showbackground": true,
            "ticks": "",
            "zerolinecolor": "white"
           }
          },
          "shapedefaults": {
           "line": {
            "color": "#2a3f5f"
           }
          },
          "ternary": {
           "aaxis": {
            "gridcolor": "white",
            "linecolor": "white",
            "ticks": ""
           },
           "baxis": {
            "gridcolor": "white",
            "linecolor": "white",
            "ticks": ""
           },
           "bgcolor": "#E5ECF6",
           "caxis": {
            "gridcolor": "white",
            "linecolor": "white",
            "ticks": ""
           }
          },
          "title": {
           "x": 0.05
          },
          "xaxis": {
           "automargin": true,
           "gridcolor": "white",
           "linecolor": "white",
           "ticks": "",
           "title": {
            "standoff": 15
           },
           "zerolinecolor": "white",
           "zerolinewidth": 2
          },
          "yaxis": {
           "automargin": true,
           "gridcolor": "white",
           "linecolor": "white",
           "ticks": "",
           "title": {
            "standoff": 15
           },
           "zerolinecolor": "white",
           "zerolinewidth": 2
          }
         }
        },
        "xaxis": {
         "anchor": "y",
         "domain": [
          0,
          1
         ],
         "title": {
          "text": "index"
         }
        },
        "yaxis": {
         "anchor": "x",
         "domain": [
          0,
          1
         ],
         "title": {
          "text": "value"
         }
        }
       }
      }
     },
     "metadata": {},
     "output_type": "display_data"
    }
   ],
   "source": [
    "px.bar(industry_top_5, color_discrete_sequence=px.colors.qualitative.Pastel)"
   ]
  },
  {
   "cell_type": "code",
   "execution_count": 111,
   "metadata": {
    "pycharm": {
     "name": "#%%\n"
    }
   },
   "outputs": [
    {
     "data": {
      "application/vnd.plotly.v1+json": {
       "config": {
        "plotlyServerURL": "https://plot.ly"
       },
       "data": [
        {
         "hovertemplate": "x=%{x}<br>y=%{y}<br>color=%{marker.color}<extra></extra>",
         "legendgroup": "",
         "marker": {
          "color": [
           28,
           29,
           39,
           56,
           25,
           26,
           15,
           29,
           29,
           31,
           40,
           21,
           24,
           45,
           9,
           9,
           18,
           18,
           7,
           8,
           16,
           13,
           34,
           24,
           26,
           8,
           16,
           14,
           28,
           28,
           28,
           10,
           8,
           41,
           19,
           6,
           13,
           37,
           27,
           null,
           36,
           15,
           20,
           70,
           33,
           19,
           17,
           22,
           22,
           13,
           16,
           13,
           21,
           15,
           54,
           15,
           35,
           22,
           20,
           21,
           16,
           26,
           11,
           28,
           19,
           10,
           10,
           14,
           15,
           27,
           18,
           28,
           17,
           85,
           null,
           15,
           13,
           24,
           17,
           32,
           1,
           null,
           13,
           13,
           15,
           16,
           28,
           27,
           8,
           30,
           12,
           7,
           12,
           15,
           null,
           36,
           17,
           23,
           13,
           1
          ],
          "coloraxis": "coloraxis",
          "symbol": "circle"
         },
         "mode": "markers",
         "name": "",
         "orientation": "v",
         "showlegend": false,
         "type": "scatter",
         "x": [
          "Bytedance",
          "SpaceX",
          "Stripe",
          "Klarna",
          "Epic Games",
          "Canva",
          "Checkout.com",
          "Instacart",
          "Databricks",
          "Revolut",
          "FTX",
          "Fanatics",
          "Chime",
          "BYJU's",
          "Xiaohongshu",
          "J&T Express",
          "Miro",
          "Yuanfudao",
          "DJI Innovations",
          "SHEIN",
          "goPuff",
          "Yuanqi Senlin",
          "Ripple",
          "Plaid",
          "OpenSea",
          "Grammarly",
          "Devoted Health",
          "Faire",
          "Brex",
          "JUUL Labs",
          "Bitmain Technologies",
          "Biosplice Therapeutics",
          "GoodLeap",
          "Airtable",
          "ZongMu Technology",
          "Global Switch",
          "Celonis",
          "Bolt",
          "Alchemy",
          null,
          "Swiggy",
          "Lalamove",
          "Figma",
          "Gusto",
          "reddit",
          "Talkdesk",
          "Notion Labs",
          "Thrasio",
          "Digital Currency Group",
          "OutSystems",
          "ServiceTitan",
          "HEYTEA",
          "N26",
          "Klaviyo",
          "Northvolt",
          "Tanium",
          "Chehaoduo",
          "Niantic",
          "OYO Rooms",
          "Rapyd",
          "Kavak",
          "Snyk",
          "Nuro",
          "Bolt",
          "Lacework",
          "Tipalti",
          "Tempus",
          "Xingsheng Selected",
          "Dream11",
          "Fireblocks",
          "Ramp",
          "Flexport",
          "Caris Life Sciences",
          "Dapper Labs",
          null,
          "Getir",
          "Netskope",
          "Razorpay",
          "Toss",
          "Carta",
          "Scale AI",
          null,
          "Gong",
          "TripActions",
          "Gemini",
          "We Doctor",
          "Discord",
          "Ro",
          "Automation Anywhere",
          "1Password",
          "Ziroom",
          "National Stock Exchange of India",
          "Mollie",
          "Rippling",
          null,
          "DataRobot",
          "Personio",
          "Upgrade",
          "Hinge Health",
          "Black Unicorn Factory"
         ],
         "xaxis": "x",
         "y": [
          140,
          100.3,
          95,
          45.6,
          42,
          40,
          40,
          39,
          38,
          33,
          32,
          27,
          25,
          21,
          20,
          20,
          17.5,
          15.5,
          15,
          15,
          15,
          15,
          15,
          13.4,
          13.3,
          13,
          12.6,
          12.4,
          12.3,
          12,
          12,
          12,
          12,
          11.7,
          11.4,
          11.1,
          11,
          11,
          10.2,
          null,
          10.7,
          10,
          10,
          10,
          10,
          10,
          10,
          10,
          10,
          9.5,
          9.5,
          9.28,
          9.23,
          9.2,
          9.08,
          9,
          9,
          9,
          9.6,
          8.75,
          8.7,
          8.6,
          8.6,
          8.4,
          8.3,
          8.3,
          8.1,
          8,
          8,
          8,
          8,
          8,
          7.83,
          7.6,
          null,
          7.5,
          7.5,
          7.5,
          7.4,
          7.4,
          7.3,
          null,
          7.25,
          7.25,
          7.1,
          7,
          7,
          7,
          6.8,
          6.8,
          6.6,
          6.5,
          6.5,
          6.5,
          null,
          6.3,
          6.3,
          6.28,
          6.2,
          6.1
         ],
         "yaxis": "y"
        }
       ],
       "layout": {
        "coloraxis": {
         "colorbar": {
          "title": {
           "text": "color"
          }
         },
         "colorscale": [
          [
           0,
           "#f884f7"
          ],
          [
           0.0625,
           "#f968c4"
          ],
          [
           0.125,
           "#ea4388"
          ],
          [
           0.1875,
           "#cf244b"
          ],
          [
           0.25,
           "#b51a15"
          ],
          [
           0.3125,
           "#bd4304"
          ],
          [
           0.375,
           "#cc6904"
          ],
          [
           0.4375,
           "#d58f04"
          ],
          [
           0.5,
           "#cfaa27"
          ],
          [
           0.5625,
           "#a19f62"
          ],
          [
           0.625,
           "#588a93"
          ],
          [
           0.6875,
           "#2269c4"
          ],
          [
           0.75,
           "#3e3ef0"
          ],
          [
           0.8125,
           "#6b4ef9"
          ],
          [
           0.875,
           "#956bfa"
          ],
          [
           0.9375,
           "#cd7dfe"
          ],
          [
           1,
           "#f884f7"
          ]
         ]
        },
        "legend": {
         "tracegroupgap": 0
        },
        "margin": {
         "t": 60
        },
        "template": {
         "data": {
          "bar": [
           {
            "error_x": {
             "color": "#2a3f5f"
            },
            "error_y": {
             "color": "#2a3f5f"
            },
            "marker": {
             "line": {
              "color": "#E5ECF6",
              "width": 0.5
             },
             "pattern": {
              "fillmode": "overlay",
              "size": 10,
              "solidity": 0.2
             }
            },
            "type": "bar"
           }
          ],
          "barpolar": [
           {
            "marker": {
             "line": {
              "color": "#E5ECF6",
              "width": 0.5
             },
             "pattern": {
              "fillmode": "overlay",
              "size": 10,
              "solidity": 0.2
             }
            },
            "type": "barpolar"
           }
          ],
          "carpet": [
           {
            "aaxis": {
             "endlinecolor": "#2a3f5f",
             "gridcolor": "white",
             "linecolor": "white",
             "minorgridcolor": "white",
             "startlinecolor": "#2a3f5f"
            },
            "baxis": {
             "endlinecolor": "#2a3f5f",
             "gridcolor": "white",
             "linecolor": "white",
             "minorgridcolor": "white",
             "startlinecolor": "#2a3f5f"
            },
            "type": "carpet"
           }
          ],
          "choropleth": [
           {
            "colorbar": {
             "outlinewidth": 0,
             "ticks": ""
            },
            "type": "choropleth"
           }
          ],
          "contour": [
           {
            "colorbar": {
             "outlinewidth": 0,
             "ticks": ""
            },
            "colorscale": [
             [
              0,
              "#0d0887"
             ],
             [
              0.1111111111111111,
              "#46039f"
             ],
             [
              0.2222222222222222,
              "#7201a8"
             ],
             [
              0.3333333333333333,
              "#9c179e"
             ],
             [
              0.4444444444444444,
              "#bd3786"
             ],
             [
              0.5555555555555556,
              "#d8576b"
             ],
             [
              0.6666666666666666,
              "#ed7953"
             ],
             [
              0.7777777777777778,
              "#fb9f3a"
             ],
             [
              0.8888888888888888,
              "#fdca26"
             ],
             [
              1,
              "#f0f921"
             ]
            ],
            "type": "contour"
           }
          ],
          "contourcarpet": [
           {
            "colorbar": {
             "outlinewidth": 0,
             "ticks": ""
            },
            "type": "contourcarpet"
           }
          ],
          "heatmap": [
           {
            "colorbar": {
             "outlinewidth": 0,
             "ticks": ""
            },
            "colorscale": [
             [
              0,
              "#0d0887"
             ],
             [
              0.1111111111111111,
              "#46039f"
             ],
             [
              0.2222222222222222,
              "#7201a8"
             ],
             [
              0.3333333333333333,
              "#9c179e"
             ],
             [
              0.4444444444444444,
              "#bd3786"
             ],
             [
              0.5555555555555556,
              "#d8576b"
             ],
             [
              0.6666666666666666,
              "#ed7953"
             ],
             [
              0.7777777777777778,
              "#fb9f3a"
             ],
             [
              0.8888888888888888,
              "#fdca26"
             ],
             [
              1,
              "#f0f921"
             ]
            ],
            "type": "heatmap"
           }
          ],
          "heatmapgl": [
           {
            "colorbar": {
             "outlinewidth": 0,
             "ticks": ""
            },
            "colorscale": [
             [
              0,
              "#0d0887"
             ],
             [
              0.1111111111111111,
              "#46039f"
             ],
             [
              0.2222222222222222,
              "#7201a8"
             ],
             [
              0.3333333333333333,
              "#9c179e"
             ],
             [
              0.4444444444444444,
              "#bd3786"
             ],
             [
              0.5555555555555556,
              "#d8576b"
             ],
             [
              0.6666666666666666,
              "#ed7953"
             ],
             [
              0.7777777777777778,
              "#fb9f3a"
             ],
             [
              0.8888888888888888,
              "#fdca26"
             ],
             [
              1,
              "#f0f921"
             ]
            ],
            "type": "heatmapgl"
           }
          ],
          "histogram": [
           {
            "marker": {
             "pattern": {
              "fillmode": "overlay",
              "size": 10,
              "solidity": 0.2
             }
            },
            "type": "histogram"
           }
          ],
          "histogram2d": [
           {
            "colorbar": {
             "outlinewidth": 0,
             "ticks": ""
            },
            "colorscale": [
             [
              0,
              "#0d0887"
             ],
             [
              0.1111111111111111,
              "#46039f"
             ],
             [
              0.2222222222222222,
              "#7201a8"
             ],
             [
              0.3333333333333333,
              "#9c179e"
             ],
             [
              0.4444444444444444,
              "#bd3786"
             ],
             [
              0.5555555555555556,
              "#d8576b"
             ],
             [
              0.6666666666666666,
              "#ed7953"
             ],
             [
              0.7777777777777778,
              "#fb9f3a"
             ],
             [
              0.8888888888888888,
              "#fdca26"
             ],
             [
              1,
              "#f0f921"
             ]
            ],
            "type": "histogram2d"
           }
          ],
          "histogram2dcontour": [
           {
            "colorbar": {
             "outlinewidth": 0,
             "ticks": ""
            },
            "colorscale": [
             [
              0,
              "#0d0887"
             ],
             [
              0.1111111111111111,
              "#46039f"
             ],
             [
              0.2222222222222222,
              "#7201a8"
             ],
             [
              0.3333333333333333,
              "#9c179e"
             ],
             [
              0.4444444444444444,
              "#bd3786"
             ],
             [
              0.5555555555555556,
              "#d8576b"
             ],
             [
              0.6666666666666666,
              "#ed7953"
             ],
             [
              0.7777777777777778,
              "#fb9f3a"
             ],
             [
              0.8888888888888888,
              "#fdca26"
             ],
             [
              1,
              "#f0f921"
             ]
            ],
            "type": "histogram2dcontour"
           }
          ],
          "mesh3d": [
           {
            "colorbar": {
             "outlinewidth": 0,
             "ticks": ""
            },
            "type": "mesh3d"
           }
          ],
          "parcoords": [
           {
            "line": {
             "colorbar": {
              "outlinewidth": 0,
              "ticks": ""
             }
            },
            "type": "parcoords"
           }
          ],
          "pie": [
           {
            "automargin": true,
            "type": "pie"
           }
          ],
          "scatter": [
           {
            "marker": {
             "colorbar": {
              "outlinewidth": 0,
              "ticks": ""
             }
            },
            "type": "scatter"
           }
          ],
          "scatter3d": [
           {
            "line": {
             "colorbar": {
              "outlinewidth": 0,
              "ticks": ""
             }
            },
            "marker": {
             "colorbar": {
              "outlinewidth": 0,
              "ticks": ""
             }
            },
            "type": "scatter3d"
           }
          ],
          "scattercarpet": [
           {
            "marker": {
             "colorbar": {
              "outlinewidth": 0,
              "ticks": ""
             }
            },
            "type": "scattercarpet"
           }
          ],
          "scattergeo": [
           {
            "marker": {
             "colorbar": {
              "outlinewidth": 0,
              "ticks": ""
             }
            },
            "type": "scattergeo"
           }
          ],
          "scattergl": [
           {
            "marker": {
             "colorbar": {
              "outlinewidth": 0,
              "ticks": ""
             }
            },
            "type": "scattergl"
           }
          ],
          "scattermapbox": [
           {
            "marker": {
             "colorbar": {
              "outlinewidth": 0,
              "ticks": ""
             }
            },
            "type": "scattermapbox"
           }
          ],
          "scatterpolar": [
           {
            "marker": {
             "colorbar": {
              "outlinewidth": 0,
              "ticks": ""
             }
            },
            "type": "scatterpolar"
           }
          ],
          "scatterpolargl": [
           {
            "marker": {
             "colorbar": {
              "outlinewidth": 0,
              "ticks": ""
             }
            },
            "type": "scatterpolargl"
           }
          ],
          "scatterternary": [
           {
            "marker": {
             "colorbar": {
              "outlinewidth": 0,
              "ticks": ""
             }
            },
            "type": "scatterternary"
           }
          ],
          "surface": [
           {
            "colorbar": {
             "outlinewidth": 0,
             "ticks": ""
            },
            "colorscale": [
             [
              0,
              "#0d0887"
             ],
             [
              0.1111111111111111,
              "#46039f"
             ],
             [
              0.2222222222222222,
              "#7201a8"
             ],
             [
              0.3333333333333333,
              "#9c179e"
             ],
             [
              0.4444444444444444,
              "#bd3786"
             ],
             [
              0.5555555555555556,
              "#d8576b"
             ],
             [
              0.6666666666666666,
              "#ed7953"
             ],
             [
              0.7777777777777778,
              "#fb9f3a"
             ],
             [
              0.8888888888888888,
              "#fdca26"
             ],
             [
              1,
              "#f0f921"
             ]
            ],
            "type": "surface"
           }
          ],
          "table": [
           {
            "cells": {
             "fill": {
              "color": "#EBF0F8"
             },
             "line": {
              "color": "white"
             }
            },
            "header": {
             "fill": {
              "color": "#C8D4E3"
             },
             "line": {
              "color": "white"
             }
            },
            "type": "table"
           }
          ]
         },
         "layout": {
          "annotationdefaults": {
           "arrowcolor": "#2a3f5f",
           "arrowhead": 0,
           "arrowwidth": 1
          },
          "autotypenumbers": "strict",
          "coloraxis": {
           "colorbar": {
            "outlinewidth": 0,
            "ticks": ""
           }
          },
          "colorscale": {
           "diverging": [
            [
             0,
             "#8e0152"
            ],
            [
             0.1,
             "#c51b7d"
            ],
            [
             0.2,
             "#de77ae"
            ],
            [
             0.3,
             "#f1b6da"
            ],
            [
             0.4,
             "#fde0ef"
            ],
            [
             0.5,
             "#f7f7f7"
            ],
            [
             0.6,
             "#e6f5d0"
            ],
            [
             0.7,
             "#b8e186"
            ],
            [
             0.8,
             "#7fbc41"
            ],
            [
             0.9,
             "#4d9221"
            ],
            [
             1,
             "#276419"
            ]
           ],
           "sequential": [
            [
             0,
             "#0d0887"
            ],
            [
             0.1111111111111111,
             "#46039f"
            ],
            [
             0.2222222222222222,
             "#7201a8"
            ],
            [
             0.3333333333333333,
             "#9c179e"
            ],
            [
             0.4444444444444444,
             "#bd3786"
            ],
            [
             0.5555555555555556,
             "#d8576b"
            ],
            [
             0.6666666666666666,
             "#ed7953"
            ],
            [
             0.7777777777777778,
             "#fb9f3a"
            ],
            [
             0.8888888888888888,
             "#fdca26"
            ],
            [
             1,
             "#f0f921"
            ]
           ],
           "sequentialminus": [
            [
             0,
             "#0d0887"
            ],
            [
             0.1111111111111111,
             "#46039f"
            ],
            [
             0.2222222222222222,
             "#7201a8"
            ],
            [
             0.3333333333333333,
             "#9c179e"
            ],
            [
             0.4444444444444444,
             "#bd3786"
            ],
            [
             0.5555555555555556,
             "#d8576b"
            ],
            [
             0.6666666666666666,
             "#ed7953"
            ],
            [
             0.7777777777777778,
             "#fb9f3a"
            ],
            [
             0.8888888888888888,
             "#fdca26"
            ],
            [
             1,
             "#f0f921"
            ]
           ]
          },
          "colorway": [
           "#636efa",
           "#EF553B",
           "#00cc96",
           "#ab63fa",
           "#FFA15A",
           "#19d3f3",
           "#FF6692",
           "#B6E880",
           "#FF97FF",
           "#FECB52"
          ],
          "font": {
           "color": "#2a3f5f"
          },
          "geo": {
           "bgcolor": "white",
           "lakecolor": "white",
           "landcolor": "#E5ECF6",
           "showlakes": true,
           "showland": true,
           "subunitcolor": "white"
          },
          "hoverlabel": {
           "align": "left"
          },
          "hovermode": "closest",
          "mapbox": {
           "style": "light"
          },
          "paper_bgcolor": "white",
          "plot_bgcolor": "#E5ECF6",
          "polar": {
           "angularaxis": {
            "gridcolor": "white",
            "linecolor": "white",
            "ticks": ""
           },
           "bgcolor": "#E5ECF6",
           "radialaxis": {
            "gridcolor": "white",
            "linecolor": "white",
            "ticks": ""
           }
          },
          "scene": {
           "xaxis": {
            "backgroundcolor": "#E5ECF6",
            "gridcolor": "white",
            "gridwidth": 2,
            "linecolor": "white",
            "showbackground": true,
            "ticks": "",
            "zerolinecolor": "white"
           },
           "yaxis": {
            "backgroundcolor": "#E5ECF6",
            "gridcolor": "white",
            "gridwidth": 2,
            "linecolor": "white",
            "showbackground": true,
            "ticks": "",
            "zerolinecolor": "white"
           },
           "zaxis": {
            "backgroundcolor": "#E5ECF6",
            "gridcolor": "white",
            "gridwidth": 2,
            "linecolor": "white",
            "showbackground": true,
            "ticks": "",
            "zerolinecolor": "white"
           }
          },
          "shapedefaults": {
           "line": {
            "color": "#2a3f5f"
           }
          },
          "ternary": {
           "aaxis": {
            "gridcolor": "white",
            "linecolor": "white",
            "ticks": ""
           },
           "baxis": {
            "gridcolor": "white",
            "linecolor": "white",
            "ticks": ""
           },
           "bgcolor": "#E5ECF6",
           "caxis": {
            "gridcolor": "white",
            "linecolor": "white",
            "ticks": ""
           }
          },
          "title": {
           "x": 0.05
          },
          "xaxis": {
           "automargin": true,
           "gridcolor": "white",
           "linecolor": "white",
           "ticks": "",
           "title": {
            "standoff": 15
           },
           "zerolinecolor": "white",
           "zerolinewidth": 2
          },
          "yaxis": {
           "automargin": true,
           "gridcolor": "white",
           "linecolor": "white",
           "ticks": "",
           "title": {
            "standoff": 15
           },
           "zerolinecolor": "white",
           "zerolinewidth": 2
          }
         }
        },
        "xaxis": {
         "anchor": "y",
         "domain": [
          0,
          1
         ],
         "title": {
          "text": "x"
         }
        },
        "yaxis": {
         "anchor": "x",
         "domain": [
          0,
          1
         ],
         "title": {
          "text": "y"
         }
        }
       }
      }
     },
     "metadata": {},
     "output_type": "display_data"
    }
   ],
   "source": [
    "# Total Investors\n",
    "fig = px.scatter(unicorn_master, x=unicorn_master[\"Company\"][:100], y=unicorn_master[\"Valuation ($B)\"][:100], color=unicorn_master[\"Investors Count\"][:100],\n",
    "color_continuous_scale=px.colors.cyclical.mrybm)\n",
    "\n",
    "fig.show()"
   ]
  }
 ],
 "metadata": {
  "interpreter": {
   "hash": "aee8b7b246df8f9039afb4144a1f6fd8d2ca17a180786b69acc140d282b71a49"
  },
  "kernelspec": {
   "display_name": "Python 3.9.2 64-bit",
   "language": "python",
   "name": "python3"
  },
  "language_info": {
   "codemirror_mode": {
    "name": "ipython",
    "version": 3
   },
   "file_extension": ".py",
   "mimetype": "text/x-python",
   "name": "python",
   "nbconvert_exporter": "python",
   "pygments_lexer": "ipython3",
   "version": "3.9.2"
  },
  "orig_nbformat": 4
 },
 "nbformat": 4,
 "nbformat_minor": 2
}