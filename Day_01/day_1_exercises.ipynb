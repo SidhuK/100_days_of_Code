{
 "cells": [
  {
   "cell_type": "markdown",
   "metadata": {},
   "source": [
    "# Basics of Python"
   ]
  },
  {
   "cell_type": "markdown",
   "metadata": {},
   "source": [
    "- Today I will set up my environment, start with some basics and learn what all I did long time ago.\n",
    "- Figure out a plan for the next 5 to 6 days"
   ]
  },
  {
   "cell_type": "code",
   "execution_count": 24,
   "metadata": {},
   "outputs": [
    {
     "name": "stdout",
     "output_type": "stream",
     "text": [
      "Hello World\n"
     ]
    },
    {
     "data": {
      "text/plain": [
       "str"
      ]
     },
     "execution_count": 24,
     "metadata": {},
     "output_type": "execute_result"
    }
   ],
   "source": [
    "x = \"Hello World\"\n",
    "print (x)\n",
    "type(x)"
   ]
  },
  {
   "cell_type": "markdown",
   "metadata": {},
   "source": [
    "### Band Name Generator Exercise\n",
    "\n",
    "Used input command"
   ]
  },
  {
   "cell_type": "code",
   "execution_count": 25,
   "metadata": {},
   "outputs": [
    {
     "name": "stdout",
     "output_type": "stream",
     "text": [
      "Welcome to the band name generator\n",
      "Your band name could be karat kk ss kickers\n"
     ]
    }
   ],
   "source": [
    "print(\"Welcome to the band name generator\")\n",
    "\n",
    "# Ask the user what city they grew up in\n",
    "\n",
    "city = input(\"Whats the name of the city you grew up in?\\n\")\n",
    "\n",
    "# Ask their favorite food\n",
    "\n",
    "food_choice = input(\"Whats the name of your favorite food?\\n\")\n",
    "\n",
    "# Ask an obscure occupation\n",
    "\n",
    "occupation = input(\"What is the strangest occupation you can think of?\\n\")\n",
    "\n",
    "\n",
    "# combine all 3 and tell them this could be their band name\n",
    "\n",
    "\n",
    "print(\"Your band name could be \" + city + \" \" + food_choice + \" \" + occupation + \" kickers\")"
   ]
  },
  {
   "cell_type": "markdown",
   "metadata": {},
   "source": [
    "### Some contatenation strings for Python"
   ]
  },
  {
   "cell_type": "code",
   "execution_count": 26,
   "metadata": {},
   "outputs": [
    {
     "name": "stdout",
     "output_type": "stream",
     "text": [
      "Cake & Cookies\n"
     ]
    },
    {
     "data": {
      "text/plain": [
       "str"
      ]
     },
     "execution_count": 26,
     "metadata": {},
     "output_type": "execute_result"
    }
   ],
   "source": [
    "x = \"Cake\"\n",
    "y = \"Cookies\"\n",
    "print (x + \" & \" + y)\n",
    "type (x)"
   ]
  },
  {
   "cell_type": "code",
   "execution_count": 27,
   "metadata": {},
   "outputs": [
    {
     "name": "stdout",
     "output_type": "stream",
     "text": [
      "Hello World\n",
      "Hello World\n",
      "1\n"
     ]
    }
   ],
   "source": [
    "print(\"Hello World\\nHello World\")\n",
    "# \\n makes it print to another line\n",
    "# Input function\n",
    "print(len(input(\"What is your name?\\n\")))"
   ]
  },
  {
   "cell_type": "markdown",
   "metadata": {},
   "source": [
    "### Data Types"
   ]
  },
  {
   "cell_type": "code",
   "execution_count": 28,
   "metadata": {},
   "outputs": [
    {
     "name": "stdout",
     "output_type": "stream",
     "text": [
      "5\n",
      "l\n"
     ]
    },
    {
     "data": {
      "text/plain": [
       "int"
      ]
     },
     "execution_count": 28,
     "metadata": {},
     "output_type": "execute_result"
    }
   ],
   "source": [
    "# check lenght of a string\n",
    "print(len(\"23456\"))\n",
    "# pulling  anumber from a string\n",
    "\n",
    "# Python prints the from the 4th position since python starts from 0\n",
    "print(\"Hello\"[3])\n",
    "123 + 233\n",
    "\n",
    "# Integer data type print withoot the \"\"\n",
    "# 123,456 can be written as 123_456\n",
    "# Float is basically a 3.1414\n",
    "# Boolean is True or False\n",
    "\n",
    "# convert integer into string\n",
    "\n",
    "num_char = len(input(\"What is your name?\"))\n",
    "# this is a integer, to convert it into a string, you do this:\n",
    "new_num_char = str(num_char)\n",
    "# same for float or int.\n",
    "\n",
    "a = 123\n",
    "type(a) \n",
    "# type function can be used to convert to check and convert different data types\n"
   ]
  },
  {
   "cell_type": "code",
   "execution_count": 42,
   "metadata": {},
   "outputs": [
    {
     "name": "stdout",
     "output_type": "stream",
     "text": [
      "6\n"
     ]
    }
   ],
   "source": [
    "# Data type challenge\n",
    "\n",
    "number = input(\"Enter a two digit number:\")\n",
    "\n",
    "string_number = (number)\n",
    "string_number1 = int((string_number[0]))\n",
    "string_number2 = int((string_number[1]))\n",
    "print(string_number1 + string_number1)\n"
   ]
  },
  {
   "cell_type": "code",
   "execution_count": 46,
   "metadata": {},
   "outputs": [
    {
     "name": "stdout",
     "output_type": "stream",
     "text": [
      "25.061260859879702\n"
     ]
    }
   ],
   "source": [
    "# BMI Calculator\n",
    "\n",
    "# 🚨 Don't change the code below 👇\n",
    "height = input(\"enter your height in m: \")\n",
    "weight = input(\"enter your weight in kg: \")\n",
    "# 🚨 Don't change the code above 👆\n",
    "#Write your code below this line 👇\n",
    "weight2 = int(weight)\n",
    "height2 = float(height)\n",
    "BodyMassIndex = weight2 / height2 ** 2\n",
    "print(BodyMassIndex)"
   ]
  },
  {
   "cell_type": "markdown",
   "metadata": {},
   "source": [
    "### F Strings and Data Manipulation"
   ]
  },
  {
   "cell_type": "code",
   "execution_count": 51,
   "metadata": {},
   "outputs": [
    {
     "name": "stdout",
     "output_type": "stream",
     "text": [
      "<class 'int'>\n"
     ]
    }
   ],
   "source": [
    "round(8/3, 4)\n",
    "#round to how many places or use:\n",
    "print(type(8//3))\n",
    "# use +=  or -= for add or sub, similarly for divide and multiply.\n",
    "\n",
    "\n",
    "\n",
    "## F strings\n",
    "# fstring is print(f\"your are {add variable here}, your next step is {another variable}\") for attaching it all.\n",
    "\n",
    "\n"
   ]
  },
  {
   "cell_type": "code",
   "execution_count": 52,
   "metadata": {},
   "outputs": [
    {
     "name": "stdout",
     "output_type": "stream",
     "text": [
      "Welcome to the tip calculator!\n",
      "Each person should pay: $51.29\n"
     ]
    }
   ],
   "source": [
    "# Tip Calculator\n",
    "\n",
    "#If the bill was $150.00, split between 5 people, with 12% tip. \n",
    "#Each person should pay (150.00 / 5) * 1.12 = 33.6\n",
    "#Round the result to 2 decimal places.\n",
    "print(\"Welcome to the tip calculator!\")\n",
    "bill = float(input(\"What was the total bill? $\"))\n",
    "tip = int(input(\"How much tip would you like to give? 10, 12, or 15? \"))\n",
    "people = int(input(\"How many people to split the bill?\"))\n",
    "\n",
    "tip_as_percent = tip / 100\n",
    "total_tip_amount = bill * tip_as_percent\n",
    "total_bill = bill + total_tip_amount\n",
    "bill_per_person = total_bill / people\n",
    "final_amount = round(bill_per_person, 2)\n",
    "\n",
    "# FAQ: How to round to 2 decimal places?\n",
    "# Find the answer in the Q&A here: https://www.udemy.com/course/100-days-of-code/learn/lecture/17965132#questions/13315048\n",
    "\n",
    "print(f\"Each person should pay: ${final_amount}\")"
   ]
  },
  {
   "cell_type": "markdown",
   "metadata": {},
   "source": [
    "### Conditional Statements"
   ]
  },
  {
   "cell_type": "code",
   "execution_count": 4,
   "metadata": {},
   "outputs": [
    {
     "name": "stdout",
     "output_type": "stream",
     "text": [
      "Sorry no rollercoasrer for you\n",
      "Your BMI is 6, you are underweight.\n"
     ]
    }
   ],
   "source": [
    "height = 115\n",
    "\n",
    "if height > 120:\n",
    "    print(\"You can ride the rollercoaster\")\n",
    "else:\n",
    "    print(\"Sorry no rollercoasrer for you\")\n",
    "\n",
    "\n",
    "# 🚨 Don't change the code below 👇\n",
    "height = float(input(\"enter your height in m: \"))\n",
    "weight = float(input(\"enter your weight in kg: \"))\n",
    "# 🚨 Don't change the code above 👆\n",
    "\n",
    "#Write your code below this line 👇\n",
    "\n",
    "bmi = round(weight / height ** 2)\n",
    "if bmi < 18.5:\n",
    "  print(f\"Your BMI is {bmi}, you are underweight.\")\n",
    "elif bmi < 25:\n",
    "  print(f\"Your BMI is {bmi}, you have a normal weight.\")\n",
    "elif bmi < 30:\n",
    "  print(f\"Your BMI is {bmi}, you are slightly overweight.\")\n",
    "elif bmi < 35:\n",
    "  print(f\"Your BMI is {bmi}, you are obese.\")\n",
    "else:\n",
    "  print(f\"Your BMI is {bmi}, you are clinically obese.\")\n",
    "\n",
    "\n",
    "\n",
    "\n",
    "# 🚨 Don't change the code below 👇\n",
    "print(\"Welcome to Python Pizza Deliveries!\")\n",
    "size = input(\"What size pizza do you want? S, M, or L \")\n",
    "add_pepperoni = input(\"Do you want pepperoni? Y or N \")\n",
    "extra_cheese = input(\"Do you want extra cheese? Y or N \")\n",
    "# 🚨 Don't change the code above 👆\n",
    "\n",
    "#Write your code below this line 👇\n",
    "\n",
    "bill = 0\n",
    "if size == \"S\":\n",
    "  bill += 15\n",
    "elif size == \"M\":\n",
    "  bill += 20\n",
    "else:\n",
    "  bill += 25\n",
    "\n",
    "if add_pepperoni == \"Y\":\n",
    "  if size == \"S\":\n",
    "    bill += 2\n",
    "  else:\n",
    "    bill += 3\n",
    "    \n",
    "if extra_cheese == \"Y\":\n",
    "  bill += 1\n",
    "  \n",
    "print(f\"Your final bill is: ${bill}.\")\n"
   ]
  },
  {
   "cell_type": "markdown",
   "metadata": {},
   "source": [
    "### Random Module"
   ]
  },
  {
   "cell_type": "code",
   "execution_count": 19,
   "metadata": {},
   "outputs": [
    {
     "name": "stdout",
     "output_type": "stream",
     "text": [
      "3.141516732\n",
      "4.0201288552993235\n"
     ]
    }
   ],
   "source": [
    "import random\n",
    "# importing a random integer\n",
    "random.randint(99,1405)\n",
    "\n",
    "import my_module\n",
    "\n",
    "print(my_module.pi)\n",
    "random_float = random.random()\n",
    "# get a random number between 0 and 1\n",
    "print(random_float*5)"
   ]
  },
  {
   "cell_type": "code",
   "execution_count": 27,
   "metadata": {},
   "outputs": [
    {
     "name": "stdout",
     "output_type": "stream",
     "text": [
      "Your love score is 63\n"
     ]
    }
   ],
   "source": [
    "love_score = random.randint(1,100)\n",
    "print(f\"Your love score is {love_score}\")"
   ]
  },
  {
   "cell_type": "code",
   "execution_count": 31,
   "metadata": {},
   "outputs": [
    {
     "name": "stdout",
     "output_type": "stream",
     "text": [
      "Heads\n"
     ]
    }
   ],
   "source": [
    "random_integer = random.randint(0,1)\n",
    "\n",
    "if random_integer == 0:\n",
    "    print(\"Heads\")\n",
    "else:\n",
    "    print(\"Tails\")"
   ]
  },
  {
   "cell_type": "markdown",
   "metadata": {},
   "source": [
    "### Lists and Data Structures"
   ]
  },
  {
   "cell_type": "code",
   "execution_count": 32,
   "metadata": {},
   "outputs": [
    {
     "name": "stdout",
     "output_type": "stream",
     "text": [
      "mama is going to buy the meal today!\n"
     ]
    }
   ],
   "source": [
    "# syntax a = [b,c]\n",
    "# print (a[0]) to get b\n",
    "# print (a[-1]) to get c because its from behind 0, also [2] would be b\n",
    "# append a.append(xyz)\n",
    "# and a bunch of different fuctions can be used.\n",
    "\n",
    "import random\n",
    "# Split string method\n",
    "names_string = input(\"Give me everybody's names, seperated by a comma. \")\n",
    "names = names_string.split(\", \")\n",
    "#Write your code below this line 👇\n",
    "#Get the total number of items in list.\n",
    "num_items = len(names)\n",
    "#Generate random numbers between 0 and the last index. \n",
    "random_choice = random.randint(0, num_items - 1)\n",
    "#Pick out random person from list of names using the random number.\n",
    "person_who_will_pay = names[random_choice]\n",
    "\n",
    "print(person_who_will_pay + \" is going to buy the meal today!\")\n"
   ]
  },
  {
   "cell_type": "code",
   "execution_count": 34,
   "metadata": {},
   "outputs": [
    {
     "ename": "IndexError",
     "evalue": "list index out of range",
     "output_type": "error",
     "traceback": [
      "\u001b[0;31m---------------------------------------------------------------------------\u001b[0m",
      "\u001b[0;31mIndexError\u001b[0m                                Traceback (most recent call last)",
      "\u001b[0;32m/var/folders/96/xt6vg1d14yn8wz_b2vvjzwb00000gn/T/ipykernel_32710/1410820940.py\u001b[0m in \u001b[0;36m<module>\u001b[0;34m\u001b[0m\n\u001b[1;32m     31\u001b[0m \u001b[0;34m\u001b[0m\u001b[0m\n\u001b[1;32m     32\u001b[0m \u001b[0muser_choice\u001b[0m \u001b[0;34m=\u001b[0m \u001b[0mint\u001b[0m\u001b[0;34m(\u001b[0m\u001b[0minput\u001b[0m\u001b[0;34m(\u001b[0m\u001b[0;34m\"What do you choose? Type 0 for Rock, 1 for Paper or 2 for Scissors.\\n\"\u001b[0m\u001b[0;34m)\u001b[0m\u001b[0;34m)\u001b[0m\u001b[0;34m\u001b[0m\u001b[0;34m\u001b[0m\u001b[0m\n\u001b[0;32m---> 33\u001b[0;31m \u001b[0mprint\u001b[0m\u001b[0;34m(\u001b[0m\u001b[0mgame_images\u001b[0m\u001b[0;34m[\u001b[0m\u001b[0muser_choice\u001b[0m\u001b[0;34m]\u001b[0m\u001b[0;34m)\u001b[0m\u001b[0;34m\u001b[0m\u001b[0;34m\u001b[0m\u001b[0m\n\u001b[0m\u001b[1;32m     34\u001b[0m \u001b[0;34m\u001b[0m\u001b[0m\n\u001b[1;32m     35\u001b[0m \u001b[0mcomputer_choice\u001b[0m \u001b[0;34m=\u001b[0m \u001b[0mrandom\u001b[0m\u001b[0;34m.\u001b[0m\u001b[0mrandint\u001b[0m\u001b[0;34m(\u001b[0m\u001b[0;36m0\u001b[0m\u001b[0;34m,\u001b[0m \u001b[0;36m2\u001b[0m\u001b[0;34m)\u001b[0m\u001b[0;34m\u001b[0m\u001b[0;34m\u001b[0m\u001b[0m\n",
      "\u001b[0;31mIndexError\u001b[0m: list index out of range"
     ]
    }
   ],
   "source": [
    "import random\n",
    "\n",
    "rock = '''\n",
    "    _______\n",
    "---'   ____)\n",
    "      (_____)\n",
    "      (_____)\n",
    "      (____)\n",
    "---.__(___)\n",
    "'''\n",
    "\n",
    "paper = '''\n",
    "    _______\n",
    "---'   ____)____\n",
    "          ______)\n",
    "          _______)\n",
    "         _______)\n",
    "---.__________)\n",
    "'''\n",
    "\n",
    "scissors = '''\n",
    "    _______\n",
    "---'   ____)____\n",
    "          ______)\n",
    "       __________)\n",
    "      (____)\n",
    "---.__(___)\n",
    "'''\n",
    "\n",
    "game_images = [rock, paper, scissors]\n",
    "\n",
    "user_choice = int(input(\"What do you choose? Type 0 for Rock, 1 for Paper or 2 for Scissors.\\n\"))\n",
    "print(game_images[user_choice])\n",
    "\n",
    "computer_choice = random.randint(0, 2)\n",
    "print(\"Computer chose:\")\n",
    "print(game_images[computer_choice])\n",
    "\n",
    "if user_choice >= 3 or user_choice < 0: \n",
    "  print(\"You typed an invalid number, you lose!\") \n",
    "elif user_choice == 0 and computer_choice == 2:\n",
    "  print(\"You win!\")\n",
    "elif computer_choice == 0 and user_choice == 2:\n",
    "  print(\"You lose\")\n",
    "elif computer_choice > user_choice:\n",
    "  print(\"You lose\")\n",
    "elif user_choice > computer_choice:\n",
    "  print(\"You win!\")\n",
    "elif computer_choice == user_choice:\n",
    "  print(\"It's a draw\")\n"
   ]
  }
 ],
 "metadata": {
  "interpreter": {
   "hash": "5743a20d5aa3d0ec54e1b717054526f649e2314e23700b66ea7912ba48125050"
  },
  "kernelspec": {
   "display_name": "Python 3.8.12 ('base')",
   "language": "python",
   "name": "python3"
  },
  "language_info": {
   "codemirror_mode": {
    "name": "ipython",
    "version": 3
   },
   "file_extension": ".py",
   "mimetype": "text/x-python",
   "name": "python",
   "nbconvert_exporter": "python",
   "pygments_lexer": "ipython3",
   "version": "3.8.12"
  },
  "orig_nbformat": 4
 },
 "nbformat": 4,
 "nbformat_minor": 2
}
